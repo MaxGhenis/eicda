{
 "cells": [
  {
   "cell_type": "markdown",
   "source": [
    "The International Monetary Fund [estimates](https://www.imf.org/en/Publications/WP/Issues/2019/05/02/Global-Fossil-Fuel-Subsidies-Remain-Large-An-Update-Based-on-Country-Level-Estimates-46509) that the United States subsidized $649 billion of fossil fuels in 2015.\n",
    "Meanwhile, the Environmental and Energy Study Institute (EASE) [estimates](https://www.eesi.org/papers/view/fact-sheet-fossil-fuel-subsidies-a-closer-look-at-tax-breaks-and-societal-costs) that only about $20 billion of that is in the form of direct subsidies.\n",
    "The remainder is the _implicit_ subsidy of misaligning the price of fossil fuels with their societal harms like air pollution and climate change.\n",
    "That is, the vast majority of fossil fuel subsidies is the _absence of carbon pricing_.\n",
    "\n",
    "All developed countries except the [US and Australia](https://citizensclimatelobby.org/laser-talks/carbon-prices-around-world/) cut down on fossil fuel subsidies by pricing carbon emissions.\n",
    "Experts including [scientists](https://academic.oup.com/bioscience/advance-article/doi/10.1093/biosci/biab079/6325731) and the [vast majority](https://www.igmchicago.org/surveys/carbon-taxes-ii/) of [leading economists](http://econstatement.org) have called on the US to follow suit.\n",
    "To offset higher prices consumers would face as a result of carbon pricing (or other climate measures), many of these experts suggest rebating the revenue to all Americans as a dividend.\n",
    "[Two thirds](https://clcouncil.org/morning-consult-poll.pdf) of American voters support this policy, and as of this writing, 80 House Democrats have cosponsored the [Energy Innovation and Carbon Dividend Act](https://energyinnovationact.org/) (EICDA) which would make it a reality in the US.\n",
    "\n",
    "Beyond the climate impacts of carbon dividend---policies like the EICDA are [projected](https://www.nature.com/articles/s41558-020-0880-3) to meet the IPCC's goal of net zero emissions by 2050 and [avert 295,000 deaths](https://www.nature.com/articles/nclimate2935) from air pollution in the first decade---many economists have [documented the](https://www.energypolicy.columbia.edu/sites/default/files/pictures/CGEP_Distributional_Implications_CarbonTax.pdf) [progressive](https://taxfoundation.org/carbon-tax/) [distributional](https://www.rff.org/publications/data-tools/carbon-pricing-calculator/) [impacts](https://www.peoplespolicyproject.org/wp-content/uploads/2018/09/CarbonTax.pdf) of carbon dividends.\n",
    "As one example, University of Pennsylvania researcher [Kevin Ummel found](https://citizensclimatelobby.org/household-impact-study/) found that that EICDA would benefit 96% of households in the bottom consumption quintile and 12% in the top quintile, after considering effects on prices, capital income, and the dividend.\n",
    "\n",
    "Using Kevin Ummel's data[^ummel] and the 2018 American Community Survey,[^acsspm] I extend this research to estimate the poverty impacts of a carbon dividend[^cpsp] across a range of prices.\n",
    "I find that carbon dividends reduce poverty roughly linearly with respect to the price, for example by 15% at $100 per ton, though the effects are larger for both child poverty and deep poverty, and especially deep child poverty.\n",
    "\n",
    "[^ummel]: I'm grateful to Kevin Ummel for sharing and explaining his data and for his permission to use it in this post.\n",
    "\n",
    "[^acsspm]: I use the [American Community Survey Supplemental Poverty Measure research file](https://www.census.gov/data/datasets/time-series/demo/supplemental-poverty-measure/acs-research-files.html), which estimates the poverty measure inclusive of taxes, transfers, and housing costs, historically only available in the [Current Population Survey](https://www.census.gov/library/publications/2020/demo/p60-272.html).\n",
    "\n",
    "[^cpsp]: The only other study I'm aware of that estimates the impact of a carbon dividend on poverty is from the [Columbia Center on Poverty and Social Policy](https://www.povertycenter.columbia.edu/news-internal/carbontax). They found that a carbon dividend of $42 per ton would reduce poverty by 1.1% and child poverty by 4.6%, where I found effects of 4% and 8%, respectively, for a $40 carbon dividend. Our analyses differed in terms of carbon footprint estimation in the Consumer Expenditure Survey (CPSP only considered direct energy consumption, where Ummel's data considered all consumption categories), poverty dataset (CPSP used the Current Population Survey where I used the American Community Survey), and other factors (e.g., CPSP imputed receipt of underreported benefits with the TRIM3 program, where I did not).\n",
    "\n",
    "\n",
    "# How big would the dividend be?\n",
    "\n",
    "Carbon pricing proposals vary in their initial price and the rate at which they increase over time, though they do all increase in some way.\n",
    "The EICDA starts at $15 per metric ton in 2021 and rises by $10 per year, while the Senate's [Save Our Future Act](https://www.whitehouse.senate.gov/news/release/whitehouse-and-schatz-introduce-save-our-future-act-to-charge-big-polluters-for-emissions-redirect-trillions-to-american-families-and-communities-harmed-by-pollution) starts at $54 per ton in 2023 and rises by an inflation-adjusted 6% per year (about $4 in the first year).\n",
    "Since American households currently emit about 5 billion metric tons of carbon per year, amounting to about 15 tons per person, each $10 carbon price would translate to a monthly dividend of 15 tons * $10 / 12 months = **$13**."
   ],
   "metadata": {}
  },
  {
   "cell_type": "code",
   "execution_count": 1,
   "source": [
    "import pandas as pd\n",
    "import plotly.express as px\n",
    "from ubicenter import format_fig\n",
    "\n",
    "# Remove when exporting and creating in vscode.\n",
    "# import plotly.io as pio\n",
    "\n",
    "# pio.renderers.default = \"notebook\"\n",
    "\n",
    "# Use same sources from script.\n",
    "# Adjust population and CO2 to match administrative sources for 2021.\n",
    "# Source: https://www.macrotrends.net/countries/USA/united-states/population\n",
    "TRUE_POP = 332_915_073\n",
    "# https://data.census.gov/cedsci/table?q=us%20population%20by%20age&tid=ACSST1Y2019.S0101\n",
    "TRUE_KID_SHARE = 72_967_785 / 328_239_523\n",
    "# Source: https://www.rff.org/publications/data-tools/carbon-pricing-calculator\n",
    "TRUE_CO2 = 5.05e9\n",
    "total_kids = TRUE_POP * TRUE_KID_SHARE\n",
    "total_adults = TRUE_POP - total_kids\n",
    "total_shares = total_adults + total_kids * 0.5\n",
    "co2_per_share = TRUE_CO2 / total_shares\n",
    "\n",
    "# Define colors from material design.\n",
    "BLUE = \"#2196F3\"\n",
    "DARK_BLUE = \"#0D47A1\"  # 900\n",
    "LIGHT_BLUE = \"#90CAF9\"\n",
    "GRAY = \"#BDBDBD\"\n",
    "\n",
    "LABELS = dict(\n",
    "    price=\"Carbon price\",\n",
    "    poverty_chg=\"Change to poverty rate\",\n",
    "    deep_poverty_chg=\"Change to deep poverty rate\",\n",
    "    age_group=\"Age group\",\n",
    "    state=\"State\",\n",
    "    poverty_str=\"\",\n",
    "    deep_poverty_str=\"\",\n",
    "    base_poverty=\"Current poverty rate\",\n",
    "    base_deep_poverty=\"Current deep poverty rate\",\n",
    "    poverty=\"Reform poverty rate\",\n",
    "    deep_poverty=\"Reform deep poverty rate\",\n",
    "    metric=\"Metric\",\n",
    "    impact=\"Poverty impact\",\n",
    "    monthly_dividend=\"Monthly dividend\",\n",
    ")\n",
    "\n",
    "# Chart of dividend by carbon price.\n",
    "dividend_by_carbon_price = pd.DataFrame(dict(price=range(0, 105, 5)))\n",
    "dividend_by_carbon_price[\"monthly_dividend\"] = (\n",
    "    co2_per_share * dividend_by_carbon_price.price / 12\n",
    ").round(2)\n",
    "fig = px.line(\n",
    "    dividend_by_carbon_price,\n",
    "    \"price\",\n",
    "    \"monthly_dividend\",\n",
    "    title=\"Monthly carbon dividend per adult by per-ton carbon price\",\n",
    "    labels=LABELS,\n",
    "    color_discrete_sequence=[DARK_BLUE],\n",
    "    hover_data=dict(monthly_dividend=\":$.0f\"),\n",
    ")\n",
    "fig.update_layout(xaxis_tickformat=\"$\", yaxis_tickformat=\"$\")\n",
    "format_fig(fig)"
   ],
   "outputs": [
    {
     "output_type": "display_data",
     "data": {
      "application/vnd.plotly.v1+json": {
       "config": {
        "displayModeBar": false,
        "plotlyServerURL": "https://plot.ly"
       },
       "data": [
        {
         "hovertemplate": "Carbon price=%{x}<br>Monthly dividend=%{y:$.0f}<extra></extra>",
         "legendgroup": "",
         "line": {
          "color": "#0D47A1",
          "dash": "solid"
         },
         "marker": {
          "symbol": "circle"
         },
         "mode": "lines",
         "name": "",
         "orientation": "v",
         "showlegend": false,
         "type": "scatter",
         "x": [
          0,
          5,
          10,
          15,
          20,
          25,
          30,
          35,
          40,
          45,
          50,
          55,
          60,
          65,
          70,
          75,
          80,
          85,
          90,
          95,
          100
         ],
         "xaxis": "x",
         "y": [
          0,
          7.11,
          14.22,
          21.33,
          28.44,
          35.55,
          42.66,
          49.78,
          56.89,
          64,
          71.11,
          78.22,
          85.33,
          92.44,
          99.55,
          106.66,
          113.77,
          120.88,
          127.99,
          135.11,
          142.22
         ],
         "yaxis": "y"
        }
       ],
       "layout": {
        "font": {
         "family": "Roboto"
        },
        "height": 600,
        "hoverlabel": {
         "align": "right"
        },
        "images": [
         {
          "sizex": 0.12,
          "sizey": 0.12,
          "source": "https://raw.githubusercontent.com/UBICenter/ubicenter.org/master/assets/images/logos/wide-blue.jpg",
          "x": 0.98,
          "xanchor": "right",
          "xref": "paper",
          "y": -0.12,
          "yanchor": "bottom",
          "yref": "paper"
         }
        ],
        "legend": {
         "tracegroupgap": 0
        },
        "paper_bgcolor": "white",
        "plot_bgcolor": "white",
        "template": {
         "data": {
          "bar": [
           {
            "error_x": {
             "color": "#2a3f5f"
            },
            "error_y": {
             "color": "#2a3f5f"
            },
            "marker": {
             "line": {
              "color": "#E5ECF6",
              "width": 0.5
             },
             "pattern": {
              "fillmode": "overlay",
              "size": 10,
              "solidity": 0.2
             }
            },
            "type": "bar"
           }
          ],
          "barpolar": [
           {
            "marker": {
             "line": {
              "color": "#E5ECF6",
              "width": 0.5
             },
             "pattern": {
              "fillmode": "overlay",
              "size": 10,
              "solidity": 0.2
             }
            },
            "type": "barpolar"
           }
          ],
          "carpet": [
           {
            "aaxis": {
             "endlinecolor": "#2a3f5f",
             "gridcolor": "white",
             "linecolor": "white",
             "minorgridcolor": "white",
             "startlinecolor": "#2a3f5f"
            },
            "baxis": {
             "endlinecolor": "#2a3f5f",
             "gridcolor": "white",
             "linecolor": "white",
             "minorgridcolor": "white",
             "startlinecolor": "#2a3f5f"
            },
            "type": "carpet"
           }
          ],
          "choropleth": [
           {
            "colorbar": {
             "outlinewidth": 0,
             "ticks": ""
            },
            "type": "choropleth"
           }
          ],
          "contour": [
           {
            "colorbar": {
             "outlinewidth": 0,
             "ticks": ""
            },
            "colorscale": [
             [
              0,
              "#0d0887"
             ],
             [
              0.1111111111111111,
              "#46039f"
             ],
             [
              0.2222222222222222,
              "#7201a8"
             ],
             [
              0.3333333333333333,
              "#9c179e"
             ],
             [
              0.4444444444444444,
              "#bd3786"
             ],
             [
              0.5555555555555556,
              "#d8576b"
             ],
             [
              0.6666666666666666,
              "#ed7953"
             ],
             [
              0.7777777777777778,
              "#fb9f3a"
             ],
             [
              0.8888888888888888,
              "#fdca26"
             ],
             [
              1,
              "#f0f921"
             ]
            ],
            "type": "contour"
           }
          ],
          "contourcarpet": [
           {
            "colorbar": {
             "outlinewidth": 0,
             "ticks": ""
            },
            "type": "contourcarpet"
           }
          ],
          "heatmap": [
           {
            "colorbar": {
             "outlinewidth": 0,
             "ticks": ""
            },
            "colorscale": [
             [
              0,
              "#0d0887"
             ],
             [
              0.1111111111111111,
              "#46039f"
             ],
             [
              0.2222222222222222,
              "#7201a8"
             ],
             [
              0.3333333333333333,
              "#9c179e"
             ],
             [
              0.4444444444444444,
              "#bd3786"
             ],
             [
              0.5555555555555556,
              "#d8576b"
             ],
             [
              0.6666666666666666,
              "#ed7953"
             ],
             [
              0.7777777777777778,
              "#fb9f3a"
             ],
             [
              0.8888888888888888,
              "#fdca26"
             ],
             [
              1,
              "#f0f921"
             ]
            ],
            "type": "heatmap"
           }
          ],
          "heatmapgl": [
           {
            "colorbar": {
             "outlinewidth": 0,
             "ticks": ""
            },
            "colorscale": [
             [
              0,
              "#0d0887"
             ],
             [
              0.1111111111111111,
              "#46039f"
             ],
             [
              0.2222222222222222,
              "#7201a8"
             ],
             [
              0.3333333333333333,
              "#9c179e"
             ],
             [
              0.4444444444444444,
              "#bd3786"
             ],
             [
              0.5555555555555556,
              "#d8576b"
             ],
             [
              0.6666666666666666,
              "#ed7953"
             ],
             [
              0.7777777777777778,
              "#fb9f3a"
             ],
             [
              0.8888888888888888,
              "#fdca26"
             ],
             [
              1,
              "#f0f921"
             ]
            ],
            "type": "heatmapgl"
           }
          ],
          "histogram": [
           {
            "marker": {
             "pattern": {
              "fillmode": "overlay",
              "size": 10,
              "solidity": 0.2
             }
            },
            "type": "histogram"
           }
          ],
          "histogram2d": [
           {
            "colorbar": {
             "outlinewidth": 0,
             "ticks": ""
            },
            "colorscale": [
             [
              0,
              "#0d0887"
             ],
             [
              0.1111111111111111,
              "#46039f"
             ],
             [
              0.2222222222222222,
              "#7201a8"
             ],
             [
              0.3333333333333333,
              "#9c179e"
             ],
             [
              0.4444444444444444,
              "#bd3786"
             ],
             [
              0.5555555555555556,
              "#d8576b"
             ],
             [
              0.6666666666666666,
              "#ed7953"
             ],
             [
              0.7777777777777778,
              "#fb9f3a"
             ],
             [
              0.8888888888888888,
              "#fdca26"
             ],
             [
              1,
              "#f0f921"
             ]
            ],
            "type": "histogram2d"
           }
          ],
          "histogram2dcontour": [
           {
            "colorbar": {
             "outlinewidth": 0,
             "ticks": ""
            },
            "colorscale": [
             [
              0,
              "#0d0887"
             ],
             [
              0.1111111111111111,
              "#46039f"
             ],
             [
              0.2222222222222222,
              "#7201a8"
             ],
             [
              0.3333333333333333,
              "#9c179e"
             ],
             [
              0.4444444444444444,
              "#bd3786"
             ],
             [
              0.5555555555555556,
              "#d8576b"
             ],
             [
              0.6666666666666666,
              "#ed7953"
             ],
             [
              0.7777777777777778,
              "#fb9f3a"
             ],
             [
              0.8888888888888888,
              "#fdca26"
             ],
             [
              1,
              "#f0f921"
             ]
            ],
            "type": "histogram2dcontour"
           }
          ],
          "mesh3d": [
           {
            "colorbar": {
             "outlinewidth": 0,
             "ticks": ""
            },
            "type": "mesh3d"
           }
          ],
          "parcoords": [
           {
            "line": {
             "colorbar": {
              "outlinewidth": 0,
              "ticks": ""
             }
            },
            "type": "parcoords"
           }
          ],
          "pie": [
           {
            "automargin": true,
            "type": "pie"
           }
          ],
          "scatter": [
           {
            "marker": {
             "colorbar": {
              "outlinewidth": 0,
              "ticks": ""
             }
            },
            "type": "scatter"
           }
          ],
          "scatter3d": [
           {
            "line": {
             "colorbar": {
              "outlinewidth": 0,
              "ticks": ""
             }
            },
            "marker": {
             "colorbar": {
              "outlinewidth": 0,
              "ticks": ""
             }
            },
            "type": "scatter3d"
           }
          ],
          "scattercarpet": [
           {
            "marker": {
             "colorbar": {
              "outlinewidth": 0,
              "ticks": ""
             }
            },
            "type": "scattercarpet"
           }
          ],
          "scattergeo": [
           {
            "marker": {
             "colorbar": {
              "outlinewidth": 0,
              "ticks": ""
             }
            },
            "type": "scattergeo"
           }
          ],
          "scattergl": [
           {
            "marker": {
             "colorbar": {
              "outlinewidth": 0,
              "ticks": ""
             }
            },
            "type": "scattergl"
           }
          ],
          "scattermapbox": [
           {
            "marker": {
             "colorbar": {
              "outlinewidth": 0,
              "ticks": ""
             }
            },
            "type": "scattermapbox"
           }
          ],
          "scatterpolar": [
           {
            "marker": {
             "colorbar": {
              "outlinewidth": 0,
              "ticks": ""
             }
            },
            "type": "scatterpolar"
           }
          ],
          "scatterpolargl": [
           {
            "marker": {
             "colorbar": {
              "outlinewidth": 0,
              "ticks": ""
             }
            },
            "type": "scatterpolargl"
           }
          ],
          "scatterternary": [
           {
            "marker": {
             "colorbar": {
              "outlinewidth": 0,
              "ticks": ""
             }
            },
            "type": "scatterternary"
           }
          ],
          "surface": [
           {
            "colorbar": {
             "outlinewidth": 0,
             "ticks": ""
            },
            "colorscale": [
             [
              0,
              "#0d0887"
             ],
             [
              0.1111111111111111,
              "#46039f"
             ],
             [
              0.2222222222222222,
              "#7201a8"
             ],
             [
              0.3333333333333333,
              "#9c179e"
             ],
             [
              0.4444444444444444,
              "#bd3786"
             ],
             [
              0.5555555555555556,
              "#d8576b"
             ],
             [
              0.6666666666666666,
              "#ed7953"
             ],
             [
              0.7777777777777778,
              "#fb9f3a"
             ],
             [
              0.8888888888888888,
              "#fdca26"
             ],
             [
              1,
              "#f0f921"
             ]
            ],
            "type": "surface"
           }
          ],
          "table": [
           {
            "cells": {
             "fill": {
              "color": "#EBF0F8"
             },
             "line": {
              "color": "white"
             }
            },
            "header": {
             "fill": {
              "color": "#C8D4E3"
             },
             "line": {
              "color": "white"
             }
            },
            "type": "table"
           }
          ]
         },
         "layout": {
          "annotationdefaults": {
           "arrowcolor": "#2a3f5f",
           "arrowhead": 0,
           "arrowwidth": 1
          },
          "autotypenumbers": "strict",
          "coloraxis": {
           "colorbar": {
            "outlinewidth": 0,
            "ticks": ""
           }
          },
          "colorscale": {
           "diverging": [
            [
             0,
             "#8e0152"
            ],
            [
             0.1,
             "#c51b7d"
            ],
            [
             0.2,
             "#de77ae"
            ],
            [
             0.3,
             "#f1b6da"
            ],
            [
             0.4,
             "#fde0ef"
            ],
            [
             0.5,
             "#f7f7f7"
            ],
            [
             0.6,
             "#e6f5d0"
            ],
            [
             0.7,
             "#b8e186"
            ],
            [
             0.8,
             "#7fbc41"
            ],
            [
             0.9,
             "#4d9221"
            ],
            [
             1,
             "#276419"
            ]
           ],
           "sequential": [
            [
             0,
             "#0d0887"
            ],
            [
             0.1111111111111111,
             "#46039f"
            ],
            [
             0.2222222222222222,
             "#7201a8"
            ],
            [
             0.3333333333333333,
             "#9c179e"
            ],
            [
             0.4444444444444444,
             "#bd3786"
            ],
            [
             0.5555555555555556,
             "#d8576b"
            ],
            [
             0.6666666666666666,
             "#ed7953"
            ],
            [
             0.7777777777777778,
             "#fb9f3a"
            ],
            [
             0.8888888888888888,
             "#fdca26"
            ],
            [
             1,
             "#f0f921"
            ]
           ],
           "sequentialminus": [
            [
             0,
             "#0d0887"
            ],
            [
             0.1111111111111111,
             "#46039f"
            ],
            [
             0.2222222222222222,
             "#7201a8"
            ],
            [
             0.3333333333333333,
             "#9c179e"
            ],
            [
             0.4444444444444444,
             "#bd3786"
            ],
            [
             0.5555555555555556,
             "#d8576b"
            ],
            [
             0.6666666666666666,
             "#ed7953"
            ],
            [
             0.7777777777777778,
             "#fb9f3a"
            ],
            [
             0.8888888888888888,
             "#fdca26"
            ],
            [
             1,
             "#f0f921"
            ]
           ]
          },
          "colorway": [
           "#636efa",
           "#EF553B",
           "#00cc96",
           "#ab63fa",
           "#FFA15A",
           "#19d3f3",
           "#FF6692",
           "#B6E880",
           "#FF97FF",
           "#FECB52"
          ],
          "font": {
           "color": "#2a3f5f"
          },
          "geo": {
           "bgcolor": "white",
           "lakecolor": "white",
           "landcolor": "#E5ECF6",
           "showlakes": true,
           "showland": true,
           "subunitcolor": "white"
          },
          "hoverlabel": {
           "align": "left"
          },
          "hovermode": "closest",
          "mapbox": {
           "style": "light"
          },
          "paper_bgcolor": "white",
          "plot_bgcolor": "#E5ECF6",
          "polar": {
           "angularaxis": {
            "gridcolor": "white",
            "linecolor": "white",
            "ticks": ""
           },
           "bgcolor": "#E5ECF6",
           "radialaxis": {
            "gridcolor": "white",
            "linecolor": "white",
            "ticks": ""
           }
          },
          "scene": {
           "xaxis": {
            "backgroundcolor": "#E5ECF6",
            "gridcolor": "white",
            "gridwidth": 2,
            "linecolor": "white",
            "showbackground": true,
            "ticks": "",
            "zerolinecolor": "white"
           },
           "yaxis": {
            "backgroundcolor": "#E5ECF6",
            "gridcolor": "white",
            "gridwidth": 2,
            "linecolor": "white",
            "showbackground": true,
            "ticks": "",
            "zerolinecolor": "white"
           },
           "zaxis": {
            "backgroundcolor": "#E5ECF6",
            "gridcolor": "white",
            "gridwidth": 2,
            "linecolor": "white",
            "showbackground": true,
            "ticks": "",
            "zerolinecolor": "white"
           }
          },
          "shapedefaults": {
           "line": {
            "color": "#2a3f5f"
           }
          },
          "ternary": {
           "aaxis": {
            "gridcolor": "white",
            "linecolor": "white",
            "ticks": ""
           },
           "baxis": {
            "gridcolor": "white",
            "linecolor": "white",
            "ticks": ""
           },
           "bgcolor": "#E5ECF6",
           "caxis": {
            "gridcolor": "white",
            "linecolor": "white",
            "ticks": ""
           }
          },
          "title": {
           "x": 0.05
          },
          "xaxis": {
           "automargin": true,
           "gridcolor": "white",
           "linecolor": "white",
           "ticks": "",
           "title": {
            "standoff": 15
           },
           "zerolinecolor": "white",
           "zerolinewidth": 2
          },
          "yaxis": {
           "automargin": true,
           "gridcolor": "white",
           "linecolor": "white",
           "ticks": "",
           "title": {
            "standoff": 15
           },
           "zerolinecolor": "white",
           "zerolinewidth": 2
          }
         }
        },
        "title": {
         "font": {
          "size": 20
         },
         "text": "Monthly carbon dividend per adult by per-ton carbon price"
        },
        "width": 800,
        "xaxis": {
         "anchor": "y",
         "domain": [
          0,
          1
         ],
         "tickfont": {
          "size": 14
         },
         "tickformat": "$",
         "title": {
          "font": {
           "color": "black",
           "size": 16
          },
          "text": "Carbon price"
         }
        },
        "yaxis": {
         "anchor": "x",
         "domain": [
          0,
          1
         ],
         "tickfont": {
          "size": 14
         },
         "tickformat": "$",
         "title": {
          "font": {
           "color": "black",
           "size": 16
          },
          "text": "Monthly dividend"
         }
        }
       }
      }
     },
     "metadata": {}
    }
   ],
   "metadata": {}
  },
  {
   "cell_type": "markdown",
   "source": [
    "# How would the carbon dividend affect overall poverty?\n",
    "\n",
    "Poverty and deep poverty (the population share with income below half their poverty threshold) fall roughly linearly with respect to the carbon price: each $10 carbon price would reduce poverty by 1% and deep poverty by 1.2%. A carbon dividend of $100 per ton would reduce poverty by 10% and deep poverty by 12%."
   ],
   "metadata": {}
  },
  {
   "cell_type": "code",
   "execution_count": 2,
   "source": [
    "carbon_price = pd.read_csv(\"../data/carbon_price_half_kids.csv\")\n",
    "# For now stick to prices up to $100.\n",
    "carbon_price = carbon_price[carbon_price.price <= 100]\n",
    "\n",
    "carbon_price_long_us = carbon_price[carbon_price.state_abbr == \"US\"].melt(\n",
    "    [\"age_group\", \"price\"],\n",
    "    [\"poverty_chg\", \"deep_poverty_chg\"],\n",
    "    var_name=\"metric\",\n",
    "    value_name=\"impact\",\n",
    ")\n",
    "carbon_price_long_us.metric = carbon_price_long_us.metric.map(\n",
    "    dict(poverty_chg=\"Poverty\", deep_poverty_chg=\"Deep poverty\")\n",
    ")\n",
    "\n",
    "# Overall poverty and deep poverty.\n",
    "fig = px.line(\n",
    "    carbon_price_long_us[carbon_price_long_us.age_group == \"All\"],\n",
    "    \"price\",\n",
    "    \"impact\",\n",
    "    color=\"metric\",\n",
    "    title=\"Carbon dividend poverty impact by carbon price\",\n",
    "    labels=LABELS,\n",
    "    color_discrete_map={\"Poverty\": BLUE, \"Deep poverty\": DARK_BLUE},\n",
    ")\n",
    "fig.update_layout(xaxis_tickformat=\"$\", yaxis_tickformat=\"%\", legend_title=None)\n",
    "format_fig(fig)"
   ],
   "outputs": [
    {
     "output_type": "display_data",
     "data": {
      "application/vnd.plotly.v1+json": {
       "config": {
        "displayModeBar": false,
        "plotlyServerURL": "https://plot.ly"
       },
       "data": [
        {
         "hovertemplate": "Metric=Poverty<br>Carbon price=%{x}<br>Poverty impact=%{y}<extra></extra>",
         "legendgroup": "Poverty",
         "line": {
          "color": "#2196F3",
          "dash": "solid"
         },
         "marker": {
          "symbol": "circle"
         },
         "mode": "lines",
         "name": "Poverty",
         "orientation": "v",
         "showlegend": true,
         "type": "scatter",
         "x": [
          0,
          5,
          10,
          15,
          20,
          25,
          30,
          35,
          40,
          45,
          50,
          55,
          60,
          65,
          70,
          75,
          80,
          85,
          90,
          95,
          100
         ],
         "xaxis": "x",
         "y": [
          0,
          -0.0030458566874705,
          -0.0065747945545374,
          -0.0103160771452923,
          -0.0139557057820531,
          -0.0177821225370111,
          -0.0216126692394181,
          -0.0249494009879239,
          -0.0286844068763699,
          -0.0316225986962364,
          -0.0347990394151134,
          -0.0376174218684477,
          -0.0410162868362171,
          -0.0443402198366928,
          -0.0479786830922441,
          -0.0515174346958189,
          -0.0552860117412357,
          -0.058260596167319,
          -0.0617614831042012,
          -0.0649947617136854,
          -0.0683126020194123
         ],
         "yaxis": "y"
        },
        {
         "hovertemplate": "Metric=Deep poverty<br>Carbon price=%{x}<br>Poverty impact=%{y}<extra></extra>",
         "legendgroup": "Deep poverty",
         "line": {
          "color": "#0D47A1",
          "dash": "solid"
         },
         "marker": {
          "symbol": "circle"
         },
         "mode": "lines",
         "name": "Deep poverty",
         "orientation": "v",
         "showlegend": true,
         "type": "scatter",
         "x": [
          0,
          5,
          10,
          15,
          20,
          25,
          30,
          35,
          40,
          45,
          50,
          55,
          60,
          65,
          70,
          75,
          80,
          85,
          90,
          95,
          100
         ],
         "xaxis": "x",
         "y": [
          0,
          -0.0049283365664275,
          -0.0100951374558672,
          -0.0146403128953389,
          -0.0188964826540065,
          -0.0232109523122335,
          -0.0273249190839518,
          -0.0318484814427868,
          -0.0360955626239557,
          -0.0400347959514592,
          -0.044418815394808,
          -0.0477252842230935,
          -0.0516958288084398,
          -0.0559526635849727,
          -0.0594495491954716,
          -0.0633932159754134,
          -0.0678881825660248,
          -0.0716444805623044,
          -0.0746281386349443,
          -0.0782662851237494,
          -0.0810177965431038
         ],
         "yaxis": "y"
        }
       ],
       "layout": {
        "font": {
         "family": "Roboto"
        },
        "height": 600,
        "hoverlabel": {
         "align": "right"
        },
        "images": [
         {
          "sizex": 0.12,
          "sizey": 0.12,
          "source": "https://raw.githubusercontent.com/UBICenter/ubicenter.org/master/assets/images/logos/wide-blue.jpg",
          "x": 0.98,
          "xanchor": "right",
          "xref": "paper",
          "y": -0.12,
          "yanchor": "bottom",
          "yref": "paper"
         }
        ],
        "legend": {
         "title": {},
         "tracegroupgap": 0
        },
        "paper_bgcolor": "white",
        "plot_bgcolor": "white",
        "template": {
         "data": {
          "bar": [
           {
            "error_x": {
             "color": "#2a3f5f"
            },
            "error_y": {
             "color": "#2a3f5f"
            },
            "marker": {
             "line": {
              "color": "#E5ECF6",
              "width": 0.5
             },
             "pattern": {
              "fillmode": "overlay",
              "size": 10,
              "solidity": 0.2
             }
            },
            "type": "bar"
           }
          ],
          "barpolar": [
           {
            "marker": {
             "line": {
              "color": "#E5ECF6",
              "width": 0.5
             },
             "pattern": {
              "fillmode": "overlay",
              "size": 10,
              "solidity": 0.2
             }
            },
            "type": "barpolar"
           }
          ],
          "carpet": [
           {
            "aaxis": {
             "endlinecolor": "#2a3f5f",
             "gridcolor": "white",
             "linecolor": "white",
             "minorgridcolor": "white",
             "startlinecolor": "#2a3f5f"
            },
            "baxis": {
             "endlinecolor": "#2a3f5f",
             "gridcolor": "white",
             "linecolor": "white",
             "minorgridcolor": "white",
             "startlinecolor": "#2a3f5f"
            },
            "type": "carpet"
           }
          ],
          "choropleth": [
           {
            "colorbar": {
             "outlinewidth": 0,
             "ticks": ""
            },
            "type": "choropleth"
           }
          ],
          "contour": [
           {
            "colorbar": {
             "outlinewidth": 0,
             "ticks": ""
            },
            "colorscale": [
             [
              0,
              "#0d0887"
             ],
             [
              0.1111111111111111,
              "#46039f"
             ],
             [
              0.2222222222222222,
              "#7201a8"
             ],
             [
              0.3333333333333333,
              "#9c179e"
             ],
             [
              0.4444444444444444,
              "#bd3786"
             ],
             [
              0.5555555555555556,
              "#d8576b"
             ],
             [
              0.6666666666666666,
              "#ed7953"
             ],
             [
              0.7777777777777778,
              "#fb9f3a"
             ],
             [
              0.8888888888888888,
              "#fdca26"
             ],
             [
              1,
              "#f0f921"
             ]
            ],
            "type": "contour"
           }
          ],
          "contourcarpet": [
           {
            "colorbar": {
             "outlinewidth": 0,
             "ticks": ""
            },
            "type": "contourcarpet"
           }
          ],
          "heatmap": [
           {
            "colorbar": {
             "outlinewidth": 0,
             "ticks": ""
            },
            "colorscale": [
             [
              0,
              "#0d0887"
             ],
             [
              0.1111111111111111,
              "#46039f"
             ],
             [
              0.2222222222222222,
              "#7201a8"
             ],
             [
              0.3333333333333333,
              "#9c179e"
             ],
             [
              0.4444444444444444,
              "#bd3786"
             ],
             [
              0.5555555555555556,
              "#d8576b"
             ],
             [
              0.6666666666666666,
              "#ed7953"
             ],
             [
              0.7777777777777778,
              "#fb9f3a"
             ],
             [
              0.8888888888888888,
              "#fdca26"
             ],
             [
              1,
              "#f0f921"
             ]
            ],
            "type": "heatmap"
           }
          ],
          "heatmapgl": [
           {
            "colorbar": {
             "outlinewidth": 0,
             "ticks": ""
            },
            "colorscale": [
             [
              0,
              "#0d0887"
             ],
             [
              0.1111111111111111,
              "#46039f"
             ],
             [
              0.2222222222222222,
              "#7201a8"
             ],
             [
              0.3333333333333333,
              "#9c179e"
             ],
             [
              0.4444444444444444,
              "#bd3786"
             ],
             [
              0.5555555555555556,
              "#d8576b"
             ],
             [
              0.6666666666666666,
              "#ed7953"
             ],
             [
              0.7777777777777778,
              "#fb9f3a"
             ],
             [
              0.8888888888888888,
              "#fdca26"
             ],
             [
              1,
              "#f0f921"
             ]
            ],
            "type": "heatmapgl"
           }
          ],
          "histogram": [
           {
            "marker": {
             "pattern": {
              "fillmode": "overlay",
              "size": 10,
              "solidity": 0.2
             }
            },
            "type": "histogram"
           }
          ],
          "histogram2d": [
           {
            "colorbar": {
             "outlinewidth": 0,
             "ticks": ""
            },
            "colorscale": [
             [
              0,
              "#0d0887"
             ],
             [
              0.1111111111111111,
              "#46039f"
             ],
             [
              0.2222222222222222,
              "#7201a8"
             ],
             [
              0.3333333333333333,
              "#9c179e"
             ],
             [
              0.4444444444444444,
              "#bd3786"
             ],
             [
              0.5555555555555556,
              "#d8576b"
             ],
             [
              0.6666666666666666,
              "#ed7953"
             ],
             [
              0.7777777777777778,
              "#fb9f3a"
             ],
             [
              0.8888888888888888,
              "#fdca26"
             ],
             [
              1,
              "#f0f921"
             ]
            ],
            "type": "histogram2d"
           }
          ],
          "histogram2dcontour": [
           {
            "colorbar": {
             "outlinewidth": 0,
             "ticks": ""
            },
            "colorscale": [
             [
              0,
              "#0d0887"
             ],
             [
              0.1111111111111111,
              "#46039f"
             ],
             [
              0.2222222222222222,
              "#7201a8"
             ],
             [
              0.3333333333333333,
              "#9c179e"
             ],
             [
              0.4444444444444444,
              "#bd3786"
             ],
             [
              0.5555555555555556,
              "#d8576b"
             ],
             [
              0.6666666666666666,
              "#ed7953"
             ],
             [
              0.7777777777777778,
              "#fb9f3a"
             ],
             [
              0.8888888888888888,
              "#fdca26"
             ],
             [
              1,
              "#f0f921"
             ]
            ],
            "type": "histogram2dcontour"
           }
          ],
          "mesh3d": [
           {
            "colorbar": {
             "outlinewidth": 0,
             "ticks": ""
            },
            "type": "mesh3d"
           }
          ],
          "parcoords": [
           {
            "line": {
             "colorbar": {
              "outlinewidth": 0,
              "ticks": ""
             }
            },
            "type": "parcoords"
           }
          ],
          "pie": [
           {
            "automargin": true,
            "type": "pie"
           }
          ],
          "scatter": [
           {
            "marker": {
             "colorbar": {
              "outlinewidth": 0,
              "ticks": ""
             }
            },
            "type": "scatter"
           }
          ],
          "scatter3d": [
           {
            "line": {
             "colorbar": {
              "outlinewidth": 0,
              "ticks": ""
             }
            },
            "marker": {
             "colorbar": {
              "outlinewidth": 0,
              "ticks": ""
             }
            },
            "type": "scatter3d"
           }
          ],
          "scattercarpet": [
           {
            "marker": {
             "colorbar": {
              "outlinewidth": 0,
              "ticks": ""
             }
            },
            "type": "scattercarpet"
           }
          ],
          "scattergeo": [
           {
            "marker": {
             "colorbar": {
              "outlinewidth": 0,
              "ticks": ""
             }
            },
            "type": "scattergeo"
           }
          ],
          "scattergl": [
           {
            "marker": {
             "colorbar": {
              "outlinewidth": 0,
              "ticks": ""
             }
            },
            "type": "scattergl"
           }
          ],
          "scattermapbox": [
           {
            "marker": {
             "colorbar": {
              "outlinewidth": 0,
              "ticks": ""
             }
            },
            "type": "scattermapbox"
           }
          ],
          "scatterpolar": [
           {
            "marker": {
             "colorbar": {
              "outlinewidth": 0,
              "ticks": ""
             }
            },
            "type": "scatterpolar"
           }
          ],
          "scatterpolargl": [
           {
            "marker": {
             "colorbar": {
              "outlinewidth": 0,
              "ticks": ""
             }
            },
            "type": "scatterpolargl"
           }
          ],
          "scatterternary": [
           {
            "marker": {
             "colorbar": {
              "outlinewidth": 0,
              "ticks": ""
             }
            },
            "type": "scatterternary"
           }
          ],
          "surface": [
           {
            "colorbar": {
             "outlinewidth": 0,
             "ticks": ""
            },
            "colorscale": [
             [
              0,
              "#0d0887"
             ],
             [
              0.1111111111111111,
              "#46039f"
             ],
             [
              0.2222222222222222,
              "#7201a8"
             ],
             [
              0.3333333333333333,
              "#9c179e"
             ],
             [
              0.4444444444444444,
              "#bd3786"
             ],
             [
              0.5555555555555556,
              "#d8576b"
             ],
             [
              0.6666666666666666,
              "#ed7953"
             ],
             [
              0.7777777777777778,
              "#fb9f3a"
             ],
             [
              0.8888888888888888,
              "#fdca26"
             ],
             [
              1,
              "#f0f921"
             ]
            ],
            "type": "surface"
           }
          ],
          "table": [
           {
            "cells": {
             "fill": {
              "color": "#EBF0F8"
             },
             "line": {
              "color": "white"
             }
            },
            "header": {
             "fill": {
              "color": "#C8D4E3"
             },
             "line": {
              "color": "white"
             }
            },
            "type": "table"
           }
          ]
         },
         "layout": {
          "annotationdefaults": {
           "arrowcolor": "#2a3f5f",
           "arrowhead": 0,
           "arrowwidth": 1
          },
          "autotypenumbers": "strict",
          "coloraxis": {
           "colorbar": {
            "outlinewidth": 0,
            "ticks": ""
           }
          },
          "colorscale": {
           "diverging": [
            [
             0,
             "#8e0152"
            ],
            [
             0.1,
             "#c51b7d"
            ],
            [
             0.2,
             "#de77ae"
            ],
            [
             0.3,
             "#f1b6da"
            ],
            [
             0.4,
             "#fde0ef"
            ],
            [
             0.5,
             "#f7f7f7"
            ],
            [
             0.6,
             "#e6f5d0"
            ],
            [
             0.7,
             "#b8e186"
            ],
            [
             0.8,
             "#7fbc41"
            ],
            [
             0.9,
             "#4d9221"
            ],
            [
             1,
             "#276419"
            ]
           ],
           "sequential": [
            [
             0,
             "#0d0887"
            ],
            [
             0.1111111111111111,
             "#46039f"
            ],
            [
             0.2222222222222222,
             "#7201a8"
            ],
            [
             0.3333333333333333,
             "#9c179e"
            ],
            [
             0.4444444444444444,
             "#bd3786"
            ],
            [
             0.5555555555555556,
             "#d8576b"
            ],
            [
             0.6666666666666666,
             "#ed7953"
            ],
            [
             0.7777777777777778,
             "#fb9f3a"
            ],
            [
             0.8888888888888888,
             "#fdca26"
            ],
            [
             1,
             "#f0f921"
            ]
           ],
           "sequentialminus": [
            [
             0,
             "#0d0887"
            ],
            [
             0.1111111111111111,
             "#46039f"
            ],
            [
             0.2222222222222222,
             "#7201a8"
            ],
            [
             0.3333333333333333,
             "#9c179e"
            ],
            [
             0.4444444444444444,
             "#bd3786"
            ],
            [
             0.5555555555555556,
             "#d8576b"
            ],
            [
             0.6666666666666666,
             "#ed7953"
            ],
            [
             0.7777777777777778,
             "#fb9f3a"
            ],
            [
             0.8888888888888888,
             "#fdca26"
            ],
            [
             1,
             "#f0f921"
            ]
           ]
          },
          "colorway": [
           "#636efa",
           "#EF553B",
           "#00cc96",
           "#ab63fa",
           "#FFA15A",
           "#19d3f3",
           "#FF6692",
           "#B6E880",
           "#FF97FF",
           "#FECB52"
          ],
          "font": {
           "color": "#2a3f5f"
          },
          "geo": {
           "bgcolor": "white",
           "lakecolor": "white",
           "landcolor": "#E5ECF6",
           "showlakes": true,
           "showland": true,
           "subunitcolor": "white"
          },
          "hoverlabel": {
           "align": "left"
          },
          "hovermode": "closest",
          "mapbox": {
           "style": "light"
          },
          "paper_bgcolor": "white",
          "plot_bgcolor": "#E5ECF6",
          "polar": {
           "angularaxis": {
            "gridcolor": "white",
            "linecolor": "white",
            "ticks": ""
           },
           "bgcolor": "#E5ECF6",
           "radialaxis": {
            "gridcolor": "white",
            "linecolor": "white",
            "ticks": ""
           }
          },
          "scene": {
           "xaxis": {
            "backgroundcolor": "#E5ECF6",
            "gridcolor": "white",
            "gridwidth": 2,
            "linecolor": "white",
            "showbackground": true,
            "ticks": "",
            "zerolinecolor": "white"
           },
           "yaxis": {
            "backgroundcolor": "#E5ECF6",
            "gridcolor": "white",
            "gridwidth": 2,
            "linecolor": "white",
            "showbackground": true,
            "ticks": "",
            "zerolinecolor": "white"
           },
           "zaxis": {
            "backgroundcolor": "#E5ECF6",
            "gridcolor": "white",
            "gridwidth": 2,
            "linecolor": "white",
            "showbackground": true,
            "ticks": "",
            "zerolinecolor": "white"
           }
          },
          "shapedefaults": {
           "line": {
            "color": "#2a3f5f"
           }
          },
          "ternary": {
           "aaxis": {
            "gridcolor": "white",
            "linecolor": "white",
            "ticks": ""
           },
           "baxis": {
            "gridcolor": "white",
            "linecolor": "white",
            "ticks": ""
           },
           "bgcolor": "#E5ECF6",
           "caxis": {
            "gridcolor": "white",
            "linecolor": "white",
            "ticks": ""
           }
          },
          "title": {
           "x": 0.05
          },
          "xaxis": {
           "automargin": true,
           "gridcolor": "white",
           "linecolor": "white",
           "ticks": "",
           "title": {
            "standoff": 15
           },
           "zerolinecolor": "white",
           "zerolinewidth": 2
          },
          "yaxis": {
           "automargin": true,
           "gridcolor": "white",
           "linecolor": "white",
           "ticks": "",
           "title": {
            "standoff": 15
           },
           "zerolinecolor": "white",
           "zerolinewidth": 2
          }
         }
        },
        "title": {
         "font": {
          "size": 20
         },
         "text": "Carbon dividend poverty impact by carbon price"
        },
        "width": 800,
        "xaxis": {
         "anchor": "y",
         "domain": [
          0,
          1
         ],
         "tickfont": {
          "size": 14
         },
         "tickformat": "$",
         "title": {
          "font": {
           "color": "black",
           "size": 16
          },
          "text": "Carbon price"
         }
        },
        "yaxis": {
         "anchor": "x",
         "domain": [
          0,
          1
         ],
         "tickfont": {
          "size": 14
         },
         "tickformat": "%",
         "title": {
          "font": {
           "color": "black",
           "size": 16
          },
          "text": "Poverty impact"
         }
        }
       }
      }
     },
     "metadata": {}
    }
   ],
   "metadata": {}
  },
  {
   "cell_type": "markdown",
   "source": [
    "# How would the carbon dividend affect poverty by age?\n",
    "\n",
    "Child and adult poverty also fall linearly with the carbon price, but child poverty falls about three times as much. A $100 carbon price would reduce child poverty by 19% and deep child poverty by 27%."
   ],
   "metadata": {}
  },
  {
   "cell_type": "code",
   "execution_count": 3,
   "source": [
    "fig = px.bar(\n",
    "    carbon_price_long_us[carbon_price_long_us.price > 5],\n",
    "    \"age_group\",\n",
    "    \"impact\",\n",
    "    color=\"metric\",\n",
    "    animation_frame=\"price\",\n",
    "    title=\"Carbon dividend poverty impact by age group\",\n",
    "    labels=LABELS,\n",
    "    color_discrete_map={\"Poverty\": BLUE, \"Deep poverty\": DARK_BLUE},\n",
    ")\n",
    "fig.update_layout(\n",
    "    yaxis_tickformat=\"%\",\n",
    "    barmode=\"group\",\n",
    "    yaxis_range=[carbon_price_long_us.impact.min() * 1.1, 0],\n",
    "    legend_title=None,\n",
    ")\n",
    "format_fig(fig)"
   ],
   "outputs": [
    {
     "output_type": "display_data",
     "data": {
      "application/vnd.plotly.v1+json": {
       "config": {
        "displayModeBar": false,
        "plotlyServerURL": "https://plot.ly"
       },
       "data": [
        {
         "alignmentgroup": "True",
         "hovertemplate": "Metric=Poverty<br>Carbon price=10<br>Age group=%{x}<br>Poverty impact=%{y}<extra></extra>",
         "legendgroup": "Poverty",
         "marker": {
          "color": "#2196F3",
          "pattern": {
           "shape": ""
          }
         },
         "name": "Poverty",
         "offsetgroup": "Poverty",
         "orientation": "v",
         "showlegend": true,
         "textposition": "auto",
         "type": "bar",
         "x": [
          "All",
          "Adult",
          "Child"
         ],
         "xaxis": "x",
         "y": [
          -0.0065747945545374,
          -0.0069030547501952,
          -0.0056362773774986
         ],
         "yaxis": "y"
        },
        {
         "alignmentgroup": "True",
         "hovertemplate": "Metric=Deep poverty<br>Carbon price=10<br>Age group=%{x}<br>Poverty impact=%{y}<extra></extra>",
         "legendgroup": "Deep poverty",
         "marker": {
          "color": "#0D47A1",
          "pattern": {
           "shape": ""
          }
         },
         "name": "Deep poverty",
         "offsetgroup": "Deep poverty",
         "orientation": "v",
         "showlegend": true,
         "textposition": "auto",
         "type": "bar",
         "x": [
          "All",
          "Adult",
          "Child"
         ],
         "xaxis": "x",
         "y": [
          -0.0100951374558672,
          -0.0099650314690896,
          -0.0105317817098912
         ],
         "yaxis": "y"
        }
       ],
       "frames": [
        {
         "data": [
          {
           "alignmentgroup": "True",
           "hovertemplate": "Metric=Poverty<br>Carbon price=10<br>Age group=%{x}<br>Poverty impact=%{y}<extra></extra>",
           "legendgroup": "Poverty",
           "marker": {
            "color": "#2196F3",
            "pattern": {
             "shape": ""
            }
           },
           "name": "Poverty",
           "offsetgroup": "Poverty",
           "orientation": "v",
           "showlegend": true,
           "textposition": "auto",
           "type": "bar",
           "x": [
            "All",
            "Adult",
            "Child"
           ],
           "xaxis": "x",
           "y": [
            -0.0065747945545374,
            -0.0069030547501952,
            -0.0056362773774986
           ],
           "yaxis": "y"
          },
          {
           "alignmentgroup": "True",
           "hovertemplate": "Metric=Deep poverty<br>Carbon price=10<br>Age group=%{x}<br>Poverty impact=%{y}<extra></extra>",
           "legendgroup": "Deep poverty",
           "marker": {
            "color": "#0D47A1",
            "pattern": {
             "shape": ""
            }
           },
           "name": "Deep poverty",
           "offsetgroup": "Deep poverty",
           "orientation": "v",
           "showlegend": true,
           "textposition": "auto",
           "type": "bar",
           "x": [
            "All",
            "Adult",
            "Child"
           ],
           "xaxis": "x",
           "y": [
            -0.0100951374558672,
            -0.0099650314690896,
            -0.0105317817098912
           ],
           "yaxis": "y"
          }
         ],
         "name": "10"
        },
        {
         "data": [
          {
           "alignmentgroup": "True",
           "hovertemplate": "Metric=Poverty<br>Carbon price=15<br>Age group=%{x}<br>Poverty impact=%{y}<extra></extra>",
           "legendgroup": "Poverty",
           "marker": {
            "color": "#2196F3",
            "pattern": {
             "shape": ""
            }
           },
           "name": "Poverty",
           "offsetgroup": "Poverty",
           "orientation": "v",
           "showlegend": true,
           "textposition": "auto",
           "type": "bar",
           "x": [
            "All",
            "Adult",
            "Child"
           ],
           "xaxis": "x",
           "y": [
            -0.0103160771452923,
            -0.0107155144405897,
            -0.0091740600267173
           ],
           "yaxis": "y"
          },
          {
           "alignmentgroup": "True",
           "hovertemplate": "Metric=Deep poverty<br>Carbon price=15<br>Age group=%{x}<br>Poverty impact=%{y}<extra></extra>",
           "legendgroup": "Deep poverty",
           "marker": {
            "color": "#0D47A1",
            "pattern": {
             "shape": ""
            }
           },
           "name": "Deep poverty",
           "offsetgroup": "Deep poverty",
           "orientation": "v",
           "showlegend": true,
           "textposition": "auto",
           "type": "bar",
           "x": [
            "All",
            "Adult",
            "Child"
           ],
           "xaxis": "x",
           "y": [
            -0.0146403128953389,
            -0.0145472512507728,
            -0.0149526338989771
           ],
           "yaxis": "y"
          }
         ],
         "name": "15"
        },
        {
         "data": [
          {
           "alignmentgroup": "True",
           "hovertemplate": "Metric=Poverty<br>Carbon price=20<br>Age group=%{x}<br>Poverty impact=%{y}<extra></extra>",
           "legendgroup": "Poverty",
           "marker": {
            "color": "#2196F3",
            "pattern": {
             "shape": ""
            }
           },
           "name": "Poverty",
           "offsetgroup": "Poverty",
           "orientation": "v",
           "showlegend": true,
           "textposition": "auto",
           "type": "bar",
           "x": [
            "All",
            "Adult",
            "Child"
           ],
           "xaxis": "x",
           "y": [
            -0.0139557057820531,
            -0.0145527556295053,
            -0.0122487015677289
           ],
           "yaxis": "y"
          },
          {
           "alignmentgroup": "True",
           "hovertemplate": "Metric=Deep poverty<br>Carbon price=20<br>Age group=%{x}<br>Poverty impact=%{y}<extra></extra>",
           "legendgroup": "Deep poverty",
           "marker": {
            "color": "#0D47A1",
            "pattern": {
             "shape": ""
            }
           },
           "name": "Deep poverty",
           "offsetgroup": "Deep poverty",
           "orientation": "v",
           "showlegend": true,
           "textposition": "auto",
           "type": "bar",
           "x": [
            "All",
            "Adult",
            "Child"
           ],
           "xaxis": "x",
           "y": [
            -0.0188964826540065,
            -0.018859801755318,
            -0.0190195861640093
           ],
           "yaxis": "y"
          }
         ],
         "name": "20"
        },
        {
         "data": [
          {
           "alignmentgroup": "True",
           "hovertemplate": "Metric=Poverty<br>Carbon price=25<br>Age group=%{x}<br>Poverty impact=%{y}<extra></extra>",
           "legendgroup": "Poverty",
           "marker": {
            "color": "#2196F3",
            "pattern": {
             "shape": ""
            }
           },
           "name": "Poverty",
           "offsetgroup": "Poverty",
           "orientation": "v",
           "showlegend": true,
           "textposition": "auto",
           "type": "bar",
           "x": [
            "All",
            "Adult",
            "Child"
           ],
           "xaxis": "x",
           "y": [
            -0.0177821225370111,
            -0.0184410500169293,
            -0.0158982061605974
           ],
           "yaxis": "y"
          },
          {
           "alignmentgroup": "True",
           "hovertemplate": "Metric=Deep poverty<br>Carbon price=25<br>Age group=%{x}<br>Poverty impact=%{y}<extra></extra>",
           "legendgroup": "Deep poverty",
           "marker": {
            "color": "#0D47A1",
            "pattern": {
             "shape": ""
            }
           },
           "name": "Deep poverty",
           "offsetgroup": "Deep poverty",
           "orientation": "v",
           "showlegend": true,
           "textposition": "auto",
           "type": "bar",
           "x": [
            "All",
            "Adult",
            "Child"
           ],
           "xaxis": "x",
           "y": [
            -0.0232109523122335,
            -0.023626884178304,
            -0.02181505759685
           ],
           "yaxis": "y"
          }
         ],
         "name": "25"
        },
        {
         "data": [
          {
           "alignmentgroup": "True",
           "hovertemplate": "Metric=Poverty<br>Carbon price=30<br>Age group=%{x}<br>Poverty impact=%{y}<extra></extra>",
           "legendgroup": "Poverty",
           "marker": {
            "color": "#2196F3",
            "pattern": {
             "shape": ""
            }
           },
           "name": "Poverty",
           "offsetgroup": "Poverty",
           "orientation": "v",
           "showlegend": true,
           "textposition": "auto",
           "type": "bar",
           "x": [
            "All",
            "Adult",
            "Child"
           ],
           "xaxis": "x",
           "y": [
            -0.0216126692394181,
            -0.0224185909146105,
            -0.0193084869306234
           ],
           "yaxis": "y"
          },
          {
           "alignmentgroup": "True",
           "hovertemplate": "Metric=Deep poverty<br>Carbon price=30<br>Age group=%{x}<br>Poverty impact=%{y}<extra></extra>",
           "legendgroup": "Deep poverty",
           "marker": {
            "color": "#0D47A1",
            "pattern": {
             "shape": ""
            }
           },
           "name": "Deep poverty",
           "offsetgroup": "Deep poverty",
           "orientation": "v",
           "showlegend": true,
           "textposition": "auto",
           "type": "bar",
           "x": [
            "All",
            "Adult",
            "Child"
           ],
           "xaxis": "x",
           "y": [
            -0.0273249190839518,
            -0.0281535732366083,
            -0.0245439012131568
           ],
           "yaxis": "y"
          }
         ],
         "name": "30"
        },
        {
         "data": [
          {
           "alignmentgroup": "True",
           "hovertemplate": "Metric=Poverty<br>Carbon price=35<br>Age group=%{x}<br>Poverty impact=%{y}<extra></extra>",
           "legendgroup": "Poverty",
           "marker": {
            "color": "#2196F3",
            "pattern": {
             "shape": ""
            }
           },
           "name": "Poverty",
           "offsetgroup": "Poverty",
           "orientation": "v",
           "showlegend": true,
           "textposition": "auto",
           "type": "bar",
           "x": [
            "All",
            "Adult",
            "Child"
           ],
           "xaxis": "x",
           "y": [
            -0.0249494009879239,
            -0.0260242161602359,
            -0.0218764347413276
           ],
           "yaxis": "y"
          },
          {
           "alignmentgroup": "True",
           "hovertemplate": "Metric=Deep poverty<br>Carbon price=35<br>Age group=%{x}<br>Poverty impact=%{y}<extra></extra>",
           "legendgroup": "Deep poverty",
           "marker": {
            "color": "#0D47A1",
            "pattern": {
             "shape": ""
            }
           },
           "name": "Deep poverty",
           "offsetgroup": "Deep poverty",
           "orientation": "v",
           "showlegend": true,
           "textposition": "auto",
           "type": "bar",
           "x": [
            "All",
            "Adult",
            "Child"
           ],
           "xaxis": "x",
           "y": [
            -0.0318484814427868,
            -0.0329448244718429,
            -0.0281690820859525
           ],
           "yaxis": "y"
          }
         ],
         "name": "35"
        },
        {
         "data": [
          {
           "alignmentgroup": "True",
           "hovertemplate": "Metric=Poverty<br>Carbon price=40<br>Age group=%{x}<br>Poverty impact=%{y}<extra></extra>",
           "legendgroup": "Poverty",
           "marker": {
            "color": "#2196F3",
            "pattern": {
             "shape": ""
            }
           },
           "name": "Poverty",
           "offsetgroup": "Poverty",
           "orientation": "v",
           "showlegend": true,
           "textposition": "auto",
           "type": "bar",
           "x": [
            "All",
            "Adult",
            "Child"
           ],
           "xaxis": "x",
           "y": [
            -0.0286844068763699,
            -0.0298308806226922,
            -0.025406564121808
           ],
           "yaxis": "y"
          },
          {
           "alignmentgroup": "True",
           "hovertemplate": "Metric=Deep poverty<br>Carbon price=40<br>Age group=%{x}<br>Poverty impact=%{y}<extra></extra>",
           "legendgroup": "Deep poverty",
           "marker": {
            "color": "#0D47A1",
            "pattern": {
             "shape": ""
            }
           },
           "name": "Deep poverty",
           "offsetgroup": "Deep poverty",
           "orientation": "v",
           "showlegend": true,
           "textposition": "auto",
           "type": "bar",
           "x": [
            "All",
            "Adult",
            "Child"
           ],
           "xaxis": "x",
           "y": [
            -0.0360955626239557,
            -0.037203210941798,
            -0.0323782219739503
           ],
           "yaxis": "y"
          }
         ],
         "name": "40"
        },
        {
         "data": [
          {
           "alignmentgroup": "True",
           "hovertemplate": "Metric=Poverty<br>Carbon price=45<br>Age group=%{x}<br>Poverty impact=%{y}<extra></extra>",
           "legendgroup": "Poverty",
           "marker": {
            "color": "#2196F3",
            "pattern": {
             "shape": ""
            }
           },
           "name": "Poverty",
           "offsetgroup": "Poverty",
           "orientation": "v",
           "showlegend": true,
           "textposition": "auto",
           "type": "bar",
           "x": [
            "All",
            "Adult",
            "Child"
           ],
           "xaxis": "x",
           "y": [
            -0.0316225986962364,
            -0.0330515095589105,
            -0.0275372499185964
           ],
           "yaxis": "y"
          },
          {
           "alignmentgroup": "True",
           "hovertemplate": "Metric=Deep poverty<br>Carbon price=45<br>Age group=%{x}<br>Poverty impact=%{y}<extra></extra>",
           "legendgroup": "Deep poverty",
           "marker": {
            "color": "#0D47A1",
            "pattern": {
             "shape": ""
            }
           },
           "name": "Deep poverty",
           "offsetgroup": "Deep poverty",
           "orientation": "v",
           "showlegend": true,
           "textposition": "auto",
           "type": "bar",
           "x": [
            "All",
            "Adult",
            "Child"
           ],
           "xaxis": "x",
           "y": [
            -0.0400347959514592,
            -0.0412323533503377,
            -0.0360157145084963
           ],
           "yaxis": "y"
          }
         ],
         "name": "45"
        },
        {
         "data": [
          {
           "alignmentgroup": "True",
           "hovertemplate": "Metric=Poverty<br>Carbon price=50<br>Age group=%{x}<br>Poverty impact=%{y}<extra></extra>",
           "legendgroup": "Poverty",
           "marker": {
            "color": "#2196F3",
            "pattern": {
             "shape": ""
            }
           },
           "name": "Poverty",
           "offsetgroup": "Poverty",
           "orientation": "v",
           "showlegend": true,
           "textposition": "auto",
           "type": "bar",
           "x": [
            "All",
            "Adult",
            "Child"
           ],
           "xaxis": "x",
           "y": [
            -0.0347990394151134,
            -0.036614691658964,
            -0.0296079719603175
           ],
           "yaxis": "y"
          },
          {
           "alignmentgroup": "True",
           "hovertemplate": "Metric=Deep poverty<br>Carbon price=50<br>Age group=%{x}<br>Poverty impact=%{y}<extra></extra>",
           "legendgroup": "Deep poverty",
           "marker": {
            "color": "#0D47A1",
            "pattern": {
             "shape": ""
            }
           },
           "name": "Deep poverty",
           "offsetgroup": "Deep poverty",
           "orientation": "v",
           "showlegend": true,
           "textposition": "auto",
           "type": "bar",
           "x": [
            "All",
            "Adult",
            "Child"
           ],
           "xaxis": "x",
           "y": [
            -0.044418815394808,
            -0.0456405001390431,
            -0.0403187609929857
           ],
           "yaxis": "y"
          }
         ],
         "name": "50"
        },
        {
         "data": [
          {
           "alignmentgroup": "True",
           "hovertemplate": "Metric=Poverty<br>Carbon price=55<br>Age group=%{x}<br>Poverty impact=%{y}<extra></extra>",
           "legendgroup": "Poverty",
           "marker": {
            "color": "#2196F3",
            "pattern": {
             "shape": ""
            }
           },
           "name": "Poverty",
           "offsetgroup": "Poverty",
           "orientation": "v",
           "showlegend": true,
           "textposition": "auto",
           "type": "bar",
           "x": [
            "All",
            "Adult",
            "Child"
           ],
           "xaxis": "x",
           "y": [
            -0.0376174218684477,
            -0.039827096890775,
            -0.0312998177496346
           ],
           "yaxis": "y"
          },
          {
           "alignmentgroup": "True",
           "hovertemplate": "Metric=Deep poverty<br>Carbon price=55<br>Age group=%{x}<br>Poverty impact=%{y}<extra></extra>",
           "legendgroup": "Deep poverty",
           "marker": {
            "color": "#0D47A1",
            "pattern": {
             "shape": ""
            }
           },
           "name": "Deep poverty",
           "offsetgroup": "Deep poverty",
           "orientation": "v",
           "showlegend": true,
           "textposition": "auto",
           "type": "bar",
           "x": [
            "All",
            "Adult",
            "Child"
           ],
           "xaxis": "x",
           "y": [
            -0.0477252842230935,
            -0.049143323502286,
            -0.0429662510796837
           ],
           "yaxis": "y"
          }
         ],
         "name": "55"
        },
        {
         "data": [
          {
           "alignmentgroup": "True",
           "hovertemplate": "Metric=Poverty<br>Carbon price=60<br>Age group=%{x}<br>Poverty impact=%{y}<extra></extra>",
           "legendgroup": "Poverty",
           "marker": {
            "color": "#2196F3",
            "pattern": {
             "shape": ""
            }
           },
           "name": "Poverty",
           "offsetgroup": "Poverty",
           "orientation": "v",
           "showlegend": true,
           "textposition": "auto",
           "type": "bar",
           "x": [
            "All",
            "Adult",
            "Child"
           ],
           "xaxis": "x",
           "y": [
            -0.0410162868362171,
            -0.0434207729283155,
            -0.0341417052413765
           ],
           "yaxis": "y"
          },
          {
           "alignmentgroup": "True",
           "hovertemplate": "Metric=Deep poverty<br>Carbon price=60<br>Age group=%{x}<br>Poverty impact=%{y}<extra></extra>",
           "legendgroup": "Deep poverty",
           "marker": {
            "color": "#0D47A1",
            "pattern": {
             "shape": ""
            }
           },
           "name": "Deep poverty",
           "offsetgroup": "Deep poverty",
           "orientation": "v",
           "showlegend": true,
           "textposition": "auto",
           "type": "bar",
           "x": [
            "All",
            "Adult",
            "Child"
           ],
           "xaxis": "x",
           "y": [
            -0.0516958288084398,
            -0.0529451639861118,
            -0.0475029777323071
           ],
           "yaxis": "y"
          }
         ],
         "name": "60"
        },
        {
         "data": [
          {
           "alignmentgroup": "True",
           "hovertemplate": "Metric=Poverty<br>Carbon price=65<br>Age group=%{x}<br>Poverty impact=%{y}<extra></extra>",
           "legendgroup": "Poverty",
           "marker": {
            "color": "#2196F3",
            "pattern": {
             "shape": ""
            }
           },
           "name": "Poverty",
           "offsetgroup": "Poverty",
           "orientation": "v",
           "showlegend": true,
           "textposition": "auto",
           "type": "bar",
           "x": [
            "All",
            "Adult",
            "Child"
           ],
           "xaxis": "x",
           "y": [
            -0.0443402198366928,
            -0.0469308321055959,
            -0.0369334914377675
           ],
           "yaxis": "y"
          },
          {
           "alignmentgroup": "True",
           "hovertemplate": "Metric=Deep poverty<br>Carbon price=65<br>Age group=%{x}<br>Poverty impact=%{y}<extra></extra>",
           "legendgroup": "Deep poverty",
           "marker": {
            "color": "#0D47A1",
            "pattern": {
             "shape": ""
            }
           },
           "name": "Deep poverty",
           "offsetgroup": "Deep poverty",
           "orientation": "v",
           "showlegend": true,
           "textposition": "auto",
           "type": "bar",
           "x": [
            "All",
            "Adult",
            "Child"
           ],
           "xaxis": "x",
           "y": [
            -0.0559526635849727,
            -0.0569896276952727,
            -0.0524725437872697
           ],
           "yaxis": "y"
          }
         ],
         "name": "65"
        },
        {
         "data": [
          {
           "alignmentgroup": "True",
           "hovertemplate": "Metric=Poverty<br>Carbon price=70<br>Age group=%{x}<br>Poverty impact=%{y}<extra></extra>",
           "legendgroup": "Poverty",
           "marker": {
            "color": "#2196F3",
            "pattern": {
             "shape": ""
            }
           },
           "name": "Poverty",
           "offsetgroup": "Poverty",
           "orientation": "v",
           "showlegend": true,
           "textposition": "auto",
           "type": "bar",
           "x": [
            "All",
            "Adult",
            "Child"
           ],
           "xaxis": "x",
           "y": [
            -0.0479786830922441,
            -0.050572442957088,
            -0.0405629555124964
           ],
           "yaxis": "y"
          },
          {
           "alignmentgroup": "True",
           "hovertemplate": "Metric=Deep poverty<br>Carbon price=70<br>Age group=%{x}<br>Poverty impact=%{y}<extra></extra>",
           "legendgroup": "Deep poverty",
           "marker": {
            "color": "#0D47A1",
            "pattern": {
             "shape": ""
            }
           },
           "name": "Deep poverty",
           "offsetgroup": "Deep poverty",
           "orientation": "v",
           "showlegend": true,
           "textposition": "auto",
           "type": "bar",
           "x": [
            "All",
            "Adult",
            "Child"
           ],
           "xaxis": "x",
           "y": [
            -0.0594495491954716,
            -0.0608266424326366,
            -0.0548279336638007
           ],
           "yaxis": "y"
          }
         ],
         "name": "70"
        },
        {
         "data": [
          {
           "alignmentgroup": "True",
           "hovertemplate": "Metric=Poverty<br>Carbon price=75<br>Age group=%{x}<br>Poverty impact=%{y}<extra></extra>",
           "legendgroup": "Poverty",
           "marker": {
            "color": "#2196F3",
            "pattern": {
             "shape": ""
            }
           },
           "name": "Poverty",
           "offsetgroup": "Poverty",
           "orientation": "v",
           "showlegend": true,
           "textposition": "auto",
           "type": "bar",
           "x": [
            "All",
            "Adult",
            "Child"
           ],
           "xaxis": "x",
           "y": [
            -0.0515174346958189,
            -0.054327557487212,
            -0.0434831114845344
           ],
           "yaxis": "y"
          },
          {
           "alignmentgroup": "True",
           "hovertemplate": "Metric=Deep poverty<br>Carbon price=75<br>Age group=%{x}<br>Poverty impact=%{y}<extra></extra>",
           "legendgroup": "Deep poverty",
           "marker": {
            "color": "#0D47A1",
            "pattern": {
             "shape": ""
            }
           },
           "name": "Deep poverty",
           "offsetgroup": "Deep poverty",
           "orientation": "v",
           "showlegend": true,
           "textposition": "auto",
           "type": "bar",
           "x": [
            "All",
            "Adult",
            "Child"
           ],
           "xaxis": "x",
           "y": [
            -0.0633932159754134,
            -0.0647783151662031,
            -0.0587447319364986
           ],
           "yaxis": "y"
          }
         ],
         "name": "75"
        },
        {
         "data": [
          {
           "alignmentgroup": "True",
           "hovertemplate": "Metric=Poverty<br>Carbon price=80<br>Age group=%{x}<br>Poverty impact=%{y}<extra></extra>",
           "legendgroup": "Poverty",
           "marker": {
            "color": "#2196F3",
            "pattern": {
             "shape": ""
            }
           },
           "name": "Poverty",
           "offsetgroup": "Poverty",
           "orientation": "v",
           "showlegend": true,
           "textposition": "auto",
           "type": "bar",
           "x": [
            "All",
            "Adult",
            "Child"
           ],
           "xaxis": "x",
           "y": [
            -0.0552860117412357,
            -0.0580915304371854,
            -0.0472648519372593
           ],
           "yaxis": "y"
          },
          {
           "alignmentgroup": "True",
           "hovertemplate": "Metric=Deep poverty<br>Carbon price=80<br>Age group=%{x}<br>Poverty impact=%{y}<extra></extra>",
           "legendgroup": "Deep poverty",
           "marker": {
            "color": "#0D47A1",
            "pattern": {
             "shape": ""
            }
           },
           "name": "Deep poverty",
           "offsetgroup": "Deep poverty",
           "orientation": "v",
           "showlegend": true,
           "textposition": "auto",
           "type": "bar",
           "x": [
            "All",
            "Adult",
            "Child"
           ],
           "xaxis": "x",
           "y": [
            -0.0678881825660248,
            -0.0692786774825933,
            -0.0632215901162941
           ],
           "yaxis": "y"
          }
         ],
         "name": "80"
        },
        {
         "data": [
          {
           "alignmentgroup": "True",
           "hovertemplate": "Metric=Poverty<br>Carbon price=85<br>Age group=%{x}<br>Poverty impact=%{y}<extra></extra>",
           "legendgroup": "Poverty",
           "marker": {
            "color": "#2196F3",
            "pattern": {
             "shape": ""
            }
           },
           "name": "Poverty",
           "offsetgroup": "Poverty",
           "orientation": "v",
           "showlegend": true,
           "textposition": "auto",
           "type": "bar",
           "x": [
            "All",
            "Adult",
            "Child"
           ],
           "xaxis": "x",
           "y": [
            -0.058260596167319,
            -0.0613217352976653,
            -0.0495086009722179
           ],
           "yaxis": "y"
          },
          {
           "alignmentgroup": "True",
           "hovertemplate": "Metric=Deep poverty<br>Carbon price=85<br>Age group=%{x}<br>Poverty impact=%{y}<extra></extra>",
           "legendgroup": "Deep poverty",
           "marker": {
            "color": "#0D47A1",
            "pattern": {
             "shape": ""
            }
           },
           "name": "Deep poverty",
           "offsetgroup": "Deep poverty",
           "orientation": "v",
           "showlegend": true,
           "textposition": "auto",
           "type": "bar",
           "x": [
            "All",
            "Adult",
            "Child"
           ],
           "xaxis": "x",
           "y": [
            -0.0716444805623044,
            -0.0729173784837431,
            -0.0673725513673906
           ],
           "yaxis": "y"
          }
         ],
         "name": "85"
        },
        {
         "data": [
          {
           "alignmentgroup": "True",
           "hovertemplate": "Metric=Poverty<br>Carbon price=90<br>Age group=%{x}<br>Poverty impact=%{y}<extra></extra>",
           "legendgroup": "Poverty",
           "marker": {
            "color": "#2196F3",
            "pattern": {
             "shape": ""
            }
           },
           "name": "Poverty",
           "offsetgroup": "Poverty",
           "orientation": "v",
           "showlegend": true,
           "textposition": "auto",
           "type": "bar",
           "x": [
            "All",
            "Adult",
            "Child"
           ],
           "xaxis": "x",
           "y": [
            -0.0617614831042012,
            -0.0650563181630908,
            -0.0523413361013452
           ],
           "yaxis": "y"
          },
          {
           "alignmentgroup": "True",
           "hovertemplate": "Metric=Deep poverty<br>Carbon price=90<br>Age group=%{x}<br>Poverty impact=%{y}<extra></extra>",
           "legendgroup": "Deep poverty",
           "marker": {
            "color": "#0D47A1",
            "pattern": {
             "shape": ""
            }
           },
           "name": "Deep poverty",
           "offsetgroup": "Deep poverty",
           "orientation": "v",
           "showlegend": true,
           "textposition": "auto",
           "type": "bar",
           "x": [
            "All",
            "Adult",
            "Child"
           ],
           "xaxis": "x",
           "y": [
            -0.0746281386349443,
            -0.0763848118004799,
            -0.0687326278831615
           ],
           "yaxis": "y"
          }
         ],
         "name": "90"
        },
        {
         "data": [
          {
           "alignmentgroup": "True",
           "hovertemplate": "Metric=Poverty<br>Carbon price=95<br>Age group=%{x}<br>Poverty impact=%{y}<extra></extra>",
           "legendgroup": "Poverty",
           "marker": {
            "color": "#2196F3",
            "pattern": {
             "shape": ""
            }
           },
           "name": "Poverty",
           "offsetgroup": "Poverty",
           "orientation": "v",
           "showlegend": true,
           "textposition": "auto",
           "type": "bar",
           "x": [
            "All",
            "Adult",
            "Child"
           ],
           "xaxis": "x",
           "y": [
            -0.0649947617136854,
            -0.0685469219322908,
            -0.0548389053995234
           ],
           "yaxis": "y"
          },
          {
           "alignmentgroup": "True",
           "hovertemplate": "Metric=Deep poverty<br>Carbon price=95<br>Age group=%{x}<br>Poverty impact=%{y}<extra></extra>",
           "legendgroup": "Deep poverty",
           "marker": {
            "color": "#0D47A1",
            "pattern": {
             "shape": ""
            }
           },
           "name": "Deep poverty",
           "offsetgroup": "Deep poverty",
           "orientation": "v",
           "showlegend": true,
           "textposition": "auto",
           "type": "bar",
           "x": [
            "All",
            "Adult",
            "Child"
           ],
           "xaxis": "x",
           "y": [
            -0.0782662851237494,
            -0.0799238164511063,
            -0.0727035009055104
           ],
           "yaxis": "y"
          }
         ],
         "name": "95"
        },
        {
         "data": [
          {
           "alignmentgroup": "True",
           "hovertemplate": "Metric=Poverty<br>Carbon price=100<br>Age group=%{x}<br>Poverty impact=%{y}<extra></extra>",
           "legendgroup": "Poverty",
           "marker": {
            "color": "#2196F3",
            "pattern": {
             "shape": ""
            }
           },
           "name": "Poverty",
           "offsetgroup": "Poverty",
           "orientation": "v",
           "showlegend": true,
           "textposition": "auto",
           "type": "bar",
           "x": [
            "All",
            "Adult",
            "Child"
           ],
           "xaxis": "x",
           "y": [
            -0.0683126020194123,
            -0.0719921849419494,
            -0.0577924359352374
           ],
           "yaxis": "y"
          },
          {
           "alignmentgroup": "True",
           "hovertemplate": "Metric=Deep poverty<br>Carbon price=100<br>Age group=%{x}<br>Poverty impact=%{y}<extra></extra>",
           "legendgroup": "Deep poverty",
           "marker": {
            "color": "#0D47A1",
            "pattern": {
             "shape": ""
            }
           },
           "name": "Deep poverty",
           "offsetgroup": "Deep poverty",
           "orientation": "v",
           "showlegend": true,
           "textposition": "auto",
           "type": "bar",
           "x": [
            "All",
            "Adult",
            "Child"
           ],
           "xaxis": "x",
           "y": [
            -0.0810177965431038,
            -0.0831066188450273,
            -0.074007571430571
           ],
           "yaxis": "y"
          }
         ],
         "name": "100"
        }
       ],
       "layout": {
        "barmode": "group",
        "font": {
         "family": "Roboto"
        },
        "height": 600,
        "hoverlabel": {
         "align": "right"
        },
        "images": [
         {
          "sizex": 0.12,
          "sizey": 0.12,
          "source": "https://raw.githubusercontent.com/UBICenter/ubicenter.org/master/assets/images/logos/wide-blue.jpg",
          "x": 0.98,
          "xanchor": "right",
          "xref": "paper",
          "y": -0.12,
          "yanchor": "bottom",
          "yref": "paper"
         }
        ],
        "legend": {
         "title": {},
         "tracegroupgap": 0
        },
        "paper_bgcolor": "white",
        "plot_bgcolor": "white",
        "sliders": [
         {
          "active": 0,
          "currentvalue": {
           "prefix": "Carbon price="
          },
          "len": 0.9,
          "pad": {
           "b": 10,
           "t": 60
          },
          "steps": [
           {
            "args": [
             [
              "10"
             ],
             {
              "frame": {
               "duration": 0,
               "redraw": true
              },
              "fromcurrent": true,
              "mode": "immediate",
              "transition": {
               "duration": 0,
               "easing": "linear"
              }
             }
            ],
            "label": "10",
            "method": "animate"
           },
           {
            "args": [
             [
              "15"
             ],
             {
              "frame": {
               "duration": 0,
               "redraw": true
              },
              "fromcurrent": true,
              "mode": "immediate",
              "transition": {
               "duration": 0,
               "easing": "linear"
              }
             }
            ],
            "label": "15",
            "method": "animate"
           },
           {
            "args": [
             [
              "20"
             ],
             {
              "frame": {
               "duration": 0,
               "redraw": true
              },
              "fromcurrent": true,
              "mode": "immediate",
              "transition": {
               "duration": 0,
               "easing": "linear"
              }
             }
            ],
            "label": "20",
            "method": "animate"
           },
           {
            "args": [
             [
              "25"
             ],
             {
              "frame": {
               "duration": 0,
               "redraw": true
              },
              "fromcurrent": true,
              "mode": "immediate",
              "transition": {
               "duration": 0,
               "easing": "linear"
              }
             }
            ],
            "label": "25",
            "method": "animate"
           },
           {
            "args": [
             [
              "30"
             ],
             {
              "frame": {
               "duration": 0,
               "redraw": true
              },
              "fromcurrent": true,
              "mode": "immediate",
              "transition": {
               "duration": 0,
               "easing": "linear"
              }
             }
            ],
            "label": "30",
            "method": "animate"
           },
           {
            "args": [
             [
              "35"
             ],
             {
              "frame": {
               "duration": 0,
               "redraw": true
              },
              "fromcurrent": true,
              "mode": "immediate",
              "transition": {
               "duration": 0,
               "easing": "linear"
              }
             }
            ],
            "label": "35",
            "method": "animate"
           },
           {
            "args": [
             [
              "40"
             ],
             {
              "frame": {
               "duration": 0,
               "redraw": true
              },
              "fromcurrent": true,
              "mode": "immediate",
              "transition": {
               "duration": 0,
               "easing": "linear"
              }
             }
            ],
            "label": "40",
            "method": "animate"
           },
           {
            "args": [
             [
              "45"
             ],
             {
              "frame": {
               "duration": 0,
               "redraw": true
              },
              "fromcurrent": true,
              "mode": "immediate",
              "transition": {
               "duration": 0,
               "easing": "linear"
              }
             }
            ],
            "label": "45",
            "method": "animate"
           },
           {
            "args": [
             [
              "50"
             ],
             {
              "frame": {
               "duration": 0,
               "redraw": true
              },
              "fromcurrent": true,
              "mode": "immediate",
              "transition": {
               "duration": 0,
               "easing": "linear"
              }
             }
            ],
            "label": "50",
            "method": "animate"
           },
           {
            "args": [
             [
              "55"
             ],
             {
              "frame": {
               "duration": 0,
               "redraw": true
              },
              "fromcurrent": true,
              "mode": "immediate",
              "transition": {
               "duration": 0,
               "easing": "linear"
              }
             }
            ],
            "label": "55",
            "method": "animate"
           },
           {
            "args": [
             [
              "60"
             ],
             {
              "frame": {
               "duration": 0,
               "redraw": true
              },
              "fromcurrent": true,
              "mode": "immediate",
              "transition": {
               "duration": 0,
               "easing": "linear"
              }
             }
            ],
            "label": "60",
            "method": "animate"
           },
           {
            "args": [
             [
              "65"
             ],
             {
              "frame": {
               "duration": 0,
               "redraw": true
              },
              "fromcurrent": true,
              "mode": "immediate",
              "transition": {
               "duration": 0,
               "easing": "linear"
              }
             }
            ],
            "label": "65",
            "method": "animate"
           },
           {
            "args": [
             [
              "70"
             ],
             {
              "frame": {
               "duration": 0,
               "redraw": true
              },
              "fromcurrent": true,
              "mode": "immediate",
              "transition": {
               "duration": 0,
               "easing": "linear"
              }
             }
            ],
            "label": "70",
            "method": "animate"
           },
           {
            "args": [
             [
              "75"
             ],
             {
              "frame": {
               "duration": 0,
               "redraw": true
              },
              "fromcurrent": true,
              "mode": "immediate",
              "transition": {
               "duration": 0,
               "easing": "linear"
              }
             }
            ],
            "label": "75",
            "method": "animate"
           },
           {
            "args": [
             [
              "80"
             ],
             {
              "frame": {
               "duration": 0,
               "redraw": true
              },
              "fromcurrent": true,
              "mode": "immediate",
              "transition": {
               "duration": 0,
               "easing": "linear"
              }
             }
            ],
            "label": "80",
            "method": "animate"
           },
           {
            "args": [
             [
              "85"
             ],
             {
              "frame": {
               "duration": 0,
               "redraw": true
              },
              "fromcurrent": true,
              "mode": "immediate",
              "transition": {
               "duration": 0,
               "easing": "linear"
              }
             }
            ],
            "label": "85",
            "method": "animate"
           },
           {
            "args": [
             [
              "90"
             ],
             {
              "frame": {
               "duration": 0,
               "redraw": true
              },
              "fromcurrent": true,
              "mode": "immediate",
              "transition": {
               "duration": 0,
               "easing": "linear"
              }
             }
            ],
            "label": "90",
            "method": "animate"
           },
           {
            "args": [
             [
              "95"
             ],
             {
              "frame": {
               "duration": 0,
               "redraw": true
              },
              "fromcurrent": true,
              "mode": "immediate",
              "transition": {
               "duration": 0,
               "easing": "linear"
              }
             }
            ],
            "label": "95",
            "method": "animate"
           },
           {
            "args": [
             [
              "100"
             ],
             {
              "frame": {
               "duration": 0,
               "redraw": true
              },
              "fromcurrent": true,
              "mode": "immediate",
              "transition": {
               "duration": 0,
               "easing": "linear"
              }
             }
            ],
            "label": "100",
            "method": "animate"
           }
          ],
          "x": 0.1,
          "xanchor": "left",
          "y": 0,
          "yanchor": "top"
         }
        ],
        "template": {
         "data": {
          "bar": [
           {
            "error_x": {
             "color": "#2a3f5f"
            },
            "error_y": {
             "color": "#2a3f5f"
            },
            "marker": {
             "line": {
              "color": "#E5ECF6",
              "width": 0.5
             },
             "pattern": {
              "fillmode": "overlay",
              "size": 10,
              "solidity": 0.2
             }
            },
            "type": "bar"
           }
          ],
          "barpolar": [
           {
            "marker": {
             "line": {
              "color": "#E5ECF6",
              "width": 0.5
             },
             "pattern": {
              "fillmode": "overlay",
              "size": 10,
              "solidity": 0.2
             }
            },
            "type": "barpolar"
           }
          ],
          "carpet": [
           {
            "aaxis": {
             "endlinecolor": "#2a3f5f",
             "gridcolor": "white",
             "linecolor": "white",
             "minorgridcolor": "white",
             "startlinecolor": "#2a3f5f"
            },
            "baxis": {
             "endlinecolor": "#2a3f5f",
             "gridcolor": "white",
             "linecolor": "white",
             "minorgridcolor": "white",
             "startlinecolor": "#2a3f5f"
            },
            "type": "carpet"
           }
          ],
          "choropleth": [
           {
            "colorbar": {
             "outlinewidth": 0,
             "ticks": ""
            },
            "type": "choropleth"
           }
          ],
          "contour": [
           {
            "colorbar": {
             "outlinewidth": 0,
             "ticks": ""
            },
            "colorscale": [
             [
              0,
              "#0d0887"
             ],
             [
              0.1111111111111111,
              "#46039f"
             ],
             [
              0.2222222222222222,
              "#7201a8"
             ],
             [
              0.3333333333333333,
              "#9c179e"
             ],
             [
              0.4444444444444444,
              "#bd3786"
             ],
             [
              0.5555555555555556,
              "#d8576b"
             ],
             [
              0.6666666666666666,
              "#ed7953"
             ],
             [
              0.7777777777777778,
              "#fb9f3a"
             ],
             [
              0.8888888888888888,
              "#fdca26"
             ],
             [
              1,
              "#f0f921"
             ]
            ],
            "type": "contour"
           }
          ],
          "contourcarpet": [
           {
            "colorbar": {
             "outlinewidth": 0,
             "ticks": ""
            },
            "type": "contourcarpet"
           }
          ],
          "heatmap": [
           {
            "colorbar": {
             "outlinewidth": 0,
             "ticks": ""
            },
            "colorscale": [
             [
              0,
              "#0d0887"
             ],
             [
              0.1111111111111111,
              "#46039f"
             ],
             [
              0.2222222222222222,
              "#7201a8"
             ],
             [
              0.3333333333333333,
              "#9c179e"
             ],
             [
              0.4444444444444444,
              "#bd3786"
             ],
             [
              0.5555555555555556,
              "#d8576b"
             ],
             [
              0.6666666666666666,
              "#ed7953"
             ],
             [
              0.7777777777777778,
              "#fb9f3a"
             ],
             [
              0.8888888888888888,
              "#fdca26"
             ],
             [
              1,
              "#f0f921"
             ]
            ],
            "type": "heatmap"
           }
          ],
          "heatmapgl": [
           {
            "colorbar": {
             "outlinewidth": 0,
             "ticks": ""
            },
            "colorscale": [
             [
              0,
              "#0d0887"
             ],
             [
              0.1111111111111111,
              "#46039f"
             ],
             [
              0.2222222222222222,
              "#7201a8"
             ],
             [
              0.3333333333333333,
              "#9c179e"
             ],
             [
              0.4444444444444444,
              "#bd3786"
             ],
             [
              0.5555555555555556,
              "#d8576b"
             ],
             [
              0.6666666666666666,
              "#ed7953"
             ],
             [
              0.7777777777777778,
              "#fb9f3a"
             ],
             [
              0.8888888888888888,
              "#fdca26"
             ],
             [
              1,
              "#f0f921"
             ]
            ],
            "type": "heatmapgl"
           }
          ],
          "histogram": [
           {
            "marker": {
             "pattern": {
              "fillmode": "overlay",
              "size": 10,
              "solidity": 0.2
             }
            },
            "type": "histogram"
           }
          ],
          "histogram2d": [
           {
            "colorbar": {
             "outlinewidth": 0,
             "ticks": ""
            },
            "colorscale": [
             [
              0,
              "#0d0887"
             ],
             [
              0.1111111111111111,
              "#46039f"
             ],
             [
              0.2222222222222222,
              "#7201a8"
             ],
             [
              0.3333333333333333,
              "#9c179e"
             ],
             [
              0.4444444444444444,
              "#bd3786"
             ],
             [
              0.5555555555555556,
              "#d8576b"
             ],
             [
              0.6666666666666666,
              "#ed7953"
             ],
             [
              0.7777777777777778,
              "#fb9f3a"
             ],
             [
              0.8888888888888888,
              "#fdca26"
             ],
             [
              1,
              "#f0f921"
             ]
            ],
            "type": "histogram2d"
           }
          ],
          "histogram2dcontour": [
           {
            "colorbar": {
             "outlinewidth": 0,
             "ticks": ""
            },
            "colorscale": [
             [
              0,
              "#0d0887"
             ],
             [
              0.1111111111111111,
              "#46039f"
             ],
             [
              0.2222222222222222,
              "#7201a8"
             ],
             [
              0.3333333333333333,
              "#9c179e"
             ],
             [
              0.4444444444444444,
              "#bd3786"
             ],
             [
              0.5555555555555556,
              "#d8576b"
             ],
             [
              0.6666666666666666,
              "#ed7953"
             ],
             [
              0.7777777777777778,
              "#fb9f3a"
             ],
             [
              0.8888888888888888,
              "#fdca26"
             ],
             [
              1,
              "#f0f921"
             ]
            ],
            "type": "histogram2dcontour"
           }
          ],
          "mesh3d": [
           {
            "colorbar": {
             "outlinewidth": 0,
             "ticks": ""
            },
            "type": "mesh3d"
           }
          ],
          "parcoords": [
           {
            "line": {
             "colorbar": {
              "outlinewidth": 0,
              "ticks": ""
             }
            },
            "type": "parcoords"
           }
          ],
          "pie": [
           {
            "automargin": true,
            "type": "pie"
           }
          ],
          "scatter": [
           {
            "marker": {
             "colorbar": {
              "outlinewidth": 0,
              "ticks": ""
             }
            },
            "type": "scatter"
           }
          ],
          "scatter3d": [
           {
            "line": {
             "colorbar": {
              "outlinewidth": 0,
              "ticks": ""
             }
            },
            "marker": {
             "colorbar": {
              "outlinewidth": 0,
              "ticks": ""
             }
            },
            "type": "scatter3d"
           }
          ],
          "scattercarpet": [
           {
            "marker": {
             "colorbar": {
              "outlinewidth": 0,
              "ticks": ""
             }
            },
            "type": "scattercarpet"
           }
          ],
          "scattergeo": [
           {
            "marker": {
             "colorbar": {
              "outlinewidth": 0,
              "ticks": ""
             }
            },
            "type": "scattergeo"
           }
          ],
          "scattergl": [
           {
            "marker": {
             "colorbar": {
              "outlinewidth": 0,
              "ticks": ""
             }
            },
            "type": "scattergl"
           }
          ],
          "scattermapbox": [
           {
            "marker": {
             "colorbar": {
              "outlinewidth": 0,
              "ticks": ""
             }
            },
            "type": "scattermapbox"
           }
          ],
          "scatterpolar": [
           {
            "marker": {
             "colorbar": {
              "outlinewidth": 0,
              "ticks": ""
             }
            },
            "type": "scatterpolar"
           }
          ],
          "scatterpolargl": [
           {
            "marker": {
             "colorbar": {
              "outlinewidth": 0,
              "ticks": ""
             }
            },
            "type": "scatterpolargl"
           }
          ],
          "scatterternary": [
           {
            "marker": {
             "colorbar": {
              "outlinewidth": 0,
              "ticks": ""
             }
            },
            "type": "scatterternary"
           }
          ],
          "surface": [
           {
            "colorbar": {
             "outlinewidth": 0,
             "ticks": ""
            },
            "colorscale": [
             [
              0,
              "#0d0887"
             ],
             [
              0.1111111111111111,
              "#46039f"
             ],
             [
              0.2222222222222222,
              "#7201a8"
             ],
             [
              0.3333333333333333,
              "#9c179e"
             ],
             [
              0.4444444444444444,
              "#bd3786"
             ],
             [
              0.5555555555555556,
              "#d8576b"
             ],
             [
              0.6666666666666666,
              "#ed7953"
             ],
             [
              0.7777777777777778,
              "#fb9f3a"
             ],
             [
              0.8888888888888888,
              "#fdca26"
             ],
             [
              1,
              "#f0f921"
             ]
            ],
            "type": "surface"
           }
          ],
          "table": [
           {
            "cells": {
             "fill": {
              "color": "#EBF0F8"
             },
             "line": {
              "color": "white"
             }
            },
            "header": {
             "fill": {
              "color": "#C8D4E3"
             },
             "line": {
              "color": "white"
             }
            },
            "type": "table"
           }
          ]
         },
         "layout": {
          "annotationdefaults": {
           "arrowcolor": "#2a3f5f",
           "arrowhead": 0,
           "arrowwidth": 1
          },
          "autotypenumbers": "strict",
          "coloraxis": {
           "colorbar": {
            "outlinewidth": 0,
            "ticks": ""
           }
          },
          "colorscale": {
           "diverging": [
            [
             0,
             "#8e0152"
            ],
            [
             0.1,
             "#c51b7d"
            ],
            [
             0.2,
             "#de77ae"
            ],
            [
             0.3,
             "#f1b6da"
            ],
            [
             0.4,
             "#fde0ef"
            ],
            [
             0.5,
             "#f7f7f7"
            ],
            [
             0.6,
             "#e6f5d0"
            ],
            [
             0.7,
             "#b8e186"
            ],
            [
             0.8,
             "#7fbc41"
            ],
            [
             0.9,
             "#4d9221"
            ],
            [
             1,
             "#276419"
            ]
           ],
           "sequential": [
            [
             0,
             "#0d0887"
            ],
            [
             0.1111111111111111,
             "#46039f"
            ],
            [
             0.2222222222222222,
             "#7201a8"
            ],
            [
             0.3333333333333333,
             "#9c179e"
            ],
            [
             0.4444444444444444,
             "#bd3786"
            ],
            [
             0.5555555555555556,
             "#d8576b"
            ],
            [
             0.6666666666666666,
             "#ed7953"
            ],
            [
             0.7777777777777778,
             "#fb9f3a"
            ],
            [
             0.8888888888888888,
             "#fdca26"
            ],
            [
             1,
             "#f0f921"
            ]
           ],
           "sequentialminus": [
            [
             0,
             "#0d0887"
            ],
            [
             0.1111111111111111,
             "#46039f"
            ],
            [
             0.2222222222222222,
             "#7201a8"
            ],
            [
             0.3333333333333333,
             "#9c179e"
            ],
            [
             0.4444444444444444,
             "#bd3786"
            ],
            [
             0.5555555555555556,
             "#d8576b"
            ],
            [
             0.6666666666666666,
             "#ed7953"
            ],
            [
             0.7777777777777778,
             "#fb9f3a"
            ],
            [
             0.8888888888888888,
             "#fdca26"
            ],
            [
             1,
             "#f0f921"
            ]
           ]
          },
          "colorway": [
           "#636efa",
           "#EF553B",
           "#00cc96",
           "#ab63fa",
           "#FFA15A",
           "#19d3f3",
           "#FF6692",
           "#B6E880",
           "#FF97FF",
           "#FECB52"
          ],
          "font": {
           "color": "#2a3f5f"
          },
          "geo": {
           "bgcolor": "white",
           "lakecolor": "white",
           "landcolor": "#E5ECF6",
           "showlakes": true,
           "showland": true,
           "subunitcolor": "white"
          },
          "hoverlabel": {
           "align": "left"
          },
          "hovermode": "closest",
          "mapbox": {
           "style": "light"
          },
          "paper_bgcolor": "white",
          "plot_bgcolor": "#E5ECF6",
          "polar": {
           "angularaxis": {
            "gridcolor": "white",
            "linecolor": "white",
            "ticks": ""
           },
           "bgcolor": "#E5ECF6",
           "radialaxis": {
            "gridcolor": "white",
            "linecolor": "white",
            "ticks": ""
           }
          },
          "scene": {
           "xaxis": {
            "backgroundcolor": "#E5ECF6",
            "gridcolor": "white",
            "gridwidth": 2,
            "linecolor": "white",
            "showbackground": true,
            "ticks": "",
            "zerolinecolor": "white"
           },
           "yaxis": {
            "backgroundcolor": "#E5ECF6",
            "gridcolor": "white",
            "gridwidth": 2,
            "linecolor": "white",
            "showbackground": true,
            "ticks": "",
            "zerolinecolor": "white"
           },
           "zaxis": {
            "backgroundcolor": "#E5ECF6",
            "gridcolor": "white",
            "gridwidth": 2,
            "linecolor": "white",
            "showbackground": true,
            "ticks": "",
            "zerolinecolor": "white"
           }
          },
          "shapedefaults": {
           "line": {
            "color": "#2a3f5f"
           }
          },
          "ternary": {
           "aaxis": {
            "gridcolor": "white",
            "linecolor": "white",
            "ticks": ""
           },
           "baxis": {
            "gridcolor": "white",
            "linecolor": "white",
            "ticks": ""
           },
           "bgcolor": "#E5ECF6",
           "caxis": {
            "gridcolor": "white",
            "linecolor": "white",
            "ticks": ""
           }
          },
          "title": {
           "x": 0.05
          },
          "xaxis": {
           "automargin": true,
           "gridcolor": "white",
           "linecolor": "white",
           "ticks": "",
           "title": {
            "standoff": 15
           },
           "zerolinecolor": "white",
           "zerolinewidth": 2
          },
          "yaxis": {
           "automargin": true,
           "gridcolor": "white",
           "linecolor": "white",
           "ticks": "",
           "title": {
            "standoff": 15
           },
           "zerolinecolor": "white",
           "zerolinewidth": 2
          }
         }
        },
        "title": {
         "font": {
          "size": 20
         },
         "text": "Carbon dividend poverty impact by age group"
        },
        "updatemenus": [
         {
          "buttons": [
           {
            "args": [
             null,
             {
              "frame": {
               "duration": 500,
               "redraw": true
              },
              "fromcurrent": true,
              "mode": "immediate",
              "transition": {
               "duration": 500,
               "easing": "linear"
              }
             }
            ],
            "label": "&#9654;",
            "method": "animate"
           },
           {
            "args": [
             [
              null
             ],
             {
              "frame": {
               "duration": 0,
               "redraw": true
              },
              "fromcurrent": true,
              "mode": "immediate",
              "transition": {
               "duration": 0,
               "easing": "linear"
              }
             }
            ],
            "label": "&#9724;",
            "method": "animate"
           }
          ],
          "direction": "left",
          "pad": {
           "r": 10,
           "t": 70
          },
          "showactive": false,
          "type": "buttons",
          "x": 0.1,
          "xanchor": "right",
          "y": 0,
          "yanchor": "top"
         }
        ],
        "width": 800,
        "xaxis": {
         "anchor": "y",
         "domain": [
          0,
          1
         ],
         "tickfont": {
          "size": 14
         },
         "title": {
          "font": {
           "color": "black",
           "size": 16
          },
          "text": "Age group"
         }
        },
        "yaxis": {
         "anchor": "x",
         "domain": [
          0,
          1
         ],
         "range": [
          -0.09141728072953004,
          0
         ],
         "tickfont": {
          "size": 14
         },
         "tickformat": "%",
         "title": {
          "font": {
           "color": "black",
           "size": 16
          },
          "text": "Poverty impact"
         }
        }
       }
      }
     },
     "metadata": {}
    }
   ],
   "metadata": {}
  },
  {
   "cell_type": "markdown",
   "source": [
    "# How would the carbon dividend affect poverty by state?\n",
    "\n",
    "Poverty impacts also vary geographically, largely in line with states' per-capita carbon emissions, which in turn correlate to [cold weather](https://doi.org/10.1016/S0928-7655(00)00027-0) and [low population density](https://www.sciencedirect.com/science/article/abs/pii/S0301421516300167?via%3Dihub). For example, consider the two extremes of how carbon dividends lower poverty:\n",
    "\n",
    "* California ranks [#10 on average temperature](http://www.usa.com/rank/us--average-temperature--state-rank.htm), [#3 on population density](https://skyscraperpage.com/forum/showthread.php?t=211827), [#49 on per-capita carbon emissions](https://www.eia.gov/environment/emissions/state/analysis/), and #1 in terms of poverty reduction from a carbon dividend. A \\$100 per ton carbon dividend would lower poverty in California by 14%, and lower deep child poverty by 30%.\n",
    "* North Dakota ranks #49 on average temperature, #32 on population density, #2 on per-capita carbon emissions, and #50 in terms of poverty reduction from a carbon dividend. In fact, North Dakota is the only state for which a carbon dividend would increase poverty, though only by 3% at $100 per ton; child poverty would still fall, and its poverty rate would remain one of the lowest in the country."
   ],
   "metadata": {}
  },
  {
   "cell_type": "code",
   "execution_count": 4,
   "source": [
    "map_data_all = carbon_price[\n",
    "    (carbon_price.state_abbr != \"US\")\n",
    "    & (carbon_price.age_group == \"All\")\n",
    "    & (carbon_price.price > 5)\n",
    "].copy()\n",
    "map_data_child = (\n",
    "    carbon_price[\n",
    "        (carbon_price.state_abbr != \"US\")\n",
    "        & (carbon_price.age_group == \"Child\")\n",
    "        & (carbon_price.price > 5)\n",
    "    ]\n",
    "    .copy()\n",
    "    .rename(\n",
    "        columns=dict(\n",
    "            base_poverty=\"base_child_poverty\",\n",
    "            poverty=\"child_poverty\",\n",
    "            poverty_chg=\"child_poverty_chg\",\n",
    "            base_deep_poverty=\"base_deep_child_poverty\",\n",
    "            deep_poverty=\"deep_child_poverty\",\n",
    "            deep_poverty_chg=\"deep_child_poverty_chg\",\n",
    "        )\n",
    "    )\n",
    ")\n",
    "map_data = map_data_all.merge(\n",
    "    map_data_child, on=[\"price\", \"state_abbr\", \"state_name\"]\n",
    ")\n",
    "\n",
    "\n",
    "def pov_str(name, base, new):\n",
    "    chg = (new / base) - 1\n",
    "    if chg > 0:\n",
    "        fall_rise = f\"rises {chg:.0%}\"\n",
    "    else:\n",
    "        fall_rise = f\"falls {-chg:.0%}\"\n",
    "    return f\"{name} {fall_rise} from {base:.1%} to {new:.1%}\"\n",
    "\n",
    "\n",
    "map_data[\"poverty_string\"] = map_data.apply(\n",
    "    lambda x: pov_str(\"Poverty\", x.base_poverty, x.poverty), axis=1\n",
    ")\n",
    "map_data[\"deep_poverty_string\"] = map_data.apply(\n",
    "    lambda x: pov_str(\"Deep poverty\", x.base_deep_poverty, x.deep_poverty),\n",
    "    axis=1,\n",
    ")\n",
    "map_data[\"child_poverty_string\"] = map_data.apply(\n",
    "    lambda x: pov_str(\"Child poverty\", x.base_child_poverty, x.child_poverty),\n",
    "    axis=1,\n",
    ")\n",
    "map_data[\"deep_child_poverty_string\"] = map_data.apply(\n",
    "    lambda x: pov_str(\n",
    "        \"Deep child poverty\", x.base_deep_child_poverty, x.deep_child_poverty\n",
    "    ),\n",
    "    axis=1,\n",
    ")\n",
    "map_data[\"poverty_fall\"] = -map_data.poverty_chg\n",
    "fig = px.choropleth(\n",
    "    map_data,\n",
    "    locations=\"state_abbr\",\n",
    "    locationmode=\"USA-states\",\n",
    "    color=\"poverty_fall\",\n",
    "    scope=\"usa\",\n",
    "    animation_frame=\"price\",\n",
    "    title=\"Poverty impact of a carbon dividend by US state and price\",\n",
    "    labels=LABELS,\n",
    "    custom_data=[\"state_name\", \"poverty_string\", \"deep_poverty_string\", \"child_poverty_string\", \"deep_child_poverty_string\"],\n",
    "    color_continuous_scale=px.colors.sequential.Blues,\n",
    "    range_color=[0, map_data.poverty_fall.max()],\n",
    ")\n",
    "CUSTOM_HOVERTEMPLATE = (\n",
    "    \"<b>%{customdata[0]}</b><br>%{customdata[1]}<br>%{customdata[2]}<br>%{customdata[3]}<br>%{customdata[4]}\"\n",
    ")\n",
    "fig.update_traces(hovertemplate=CUSTOM_HOVERTEMPLATE)\n",
    "# See https://github.com/plotly/plotly.py/issues/2722.\n",
    "for frame in fig.frames:\n",
    "    frame.data[0].hovertemplate = CUSTOM_HOVERTEMPLATE\n",
    "fig.update_layout(coloraxis_showscale=False)\n",
    "format_fig(fig)"
   ],
   "outputs": [
    {
     "output_type": "display_data",
     "data": {
      "application/vnd.plotly.v1+json": {
       "config": {
        "displayModeBar": false,
        "plotlyServerURL": "https://plot.ly"
       },
       "data": [
        {
         "coloraxis": "coloraxis",
         "customdata": [
          [
           "Alabama",
           "Poverty falls 0% from 17.1% to 17.0%",
           "Deep poverty falls 1% from 6.9% to 6.9%",
           "Child poverty rises 0% from 20.3% to 20.3%",
           "Deep child poverty falls 1% from 7.7% to 7.6%"
          ],
          [
           "Alaska",
           "Poverty falls 1% from 12.5% to 12.4%",
           "Deep poverty falls 1% from 4.2% to 4.1%",
           "Child poverty falls 1% from 12.6% to 12.5%",
           "Deep child poverty falls 2% from 3.1% to 3.1%"
          ],
          [
           "Arizona",
           "Poverty falls 1% from 15.1% to 14.9%",
           "Deep poverty falls 1% from 5.7% to 5.6%",
           "Child poverty falls 1% from 17.3% to 17.1%",
           "Deep child poverty falls 1% from 5.7% to 5.7%"
          ],
          [
           "Arkansas",
           "Poverty rises 0% from 16.1% to 16.1%",
           "Deep poverty falls 0% from 6.1% to 6.1%",
           "Child poverty rises 1% from 17.9% to 18.0%",
           "Deep child poverty falls 1% from 6.6% to 6.6%"
          ],
          [
           "California",
           "Poverty falls 1% from 20.3% to 20.1%",
           "Deep poverty falls 2% from 6.6% to 6.5%",
           "Child poverty falls 1% from 23.8% to 23.6%",
           "Deep child poverty falls 3% from 6.4% to 6.2%"
          ],
          [
           "Colorado",
           "Poverty falls 0% from 12.8% to 12.7%",
           "Deep poverty falls 1% from 5.0% to 5.0%",
           "Child poverty falls 1% from 13.6% to 13.5%",
           "Deep child poverty falls 1% from 4.3% to 4.3%"
          ],
          [
           "Connecticut",
           "Poverty falls 1% from 12.9% to 12.8%",
           "Deep poverty falls 0% from 4.5% to 4.5%",
           "Child poverty falls 0% from 15.5% to 15.4%",
           "Deep child poverty falls 0% from 4.5% to 4.5%"
          ],
          [
           "Delaware",
           "Poverty falls 0% from 13.6% to 13.5%",
           "Deep poverty falls -0% from 5.1% to 5.1%",
           "Child poverty falls 1% from 16.4% to 16.3%",
           "Deep child poverty falls -0% from 5.4% to 5.4%"
          ],
          [
           "District of Columbia",
           "Poverty falls 1% from 18.9% to 18.7%",
           "Deep poverty falls 1% from 9.4% to 9.3%",
           "Child poverty falls 1% from 27.1% to 26.9%",
           "Deep child poverty falls -0% from 13.5% to 13.5%"
          ],
          [
           "Florida",
           "Poverty falls 1% from 18.1% to 18.0%",
           "Deep poverty falls 1% from 6.4% to 6.4%",
           "Child poverty falls 1% from 21.3% to 21.2%",
           "Deep child poverty falls 2% from 6.7% to 6.6%"
          ],
          [
           "Georgia",
           "Poverty falls 0% from 15.4% to 15.4%",
           "Deep poverty falls 1% from 6.0% to 6.0%",
           "Child poverty falls 0% from 17.8% to 17.7%",
           "Deep child poverty falls 1% from 6.3% to 6.2%"
          ],
          [
           "Hawaii",
           "Poverty falls 1% from 15.1% to 14.9%",
           "Deep poverty falls 0% from 4.4% to 4.4%",
           "Child poverty falls 1% from 18.5% to 18.3%",
           "Deep child poverty falls 0% from 3.4% to 3.4%"
          ],
          [
           "Idaho",
           "Poverty falls 0% from 12.2% to 12.2%",
           "Deep poverty falls 2% from 5.0% to 4.9%",
           "Child poverty falls -0% from 11.8% to 11.8%",
           "Deep child poverty falls 1% from 4.4% to 4.4%"
          ],
          [
           "Illinois",
           "Poverty falls 0% from 13.6% to 13.5%",
           "Deep poverty falls 1% from 4.9% to 4.9%",
           "Child poverty falls 0% from 14.7% to 14.7%",
           "Deep child poverty rises 1% from 4.2% to 4.2%"
          ],
          [
           "Indiana",
           "Poverty falls 0% from 13.3% to 13.3%",
           "Deep poverty falls 1% from 5.5% to 5.5%",
           "Child poverty falls 0% from 14.7% to 14.7%",
           "Deep child poverty falls 1% from 5.5% to 5.4%"
          ],
          [
           "Iowa",
           "Poverty falls 0% from 10.1% to 10.1%",
           "Deep poverty falls 2% from 4.3% to 4.3%",
           "Child poverty falls 1% from 9.0% to 8.9%",
           "Deep child poverty falls 5% from 3.2% to 3.0%"
          ],
          [
           "Kansas",
           "Poverty falls 0% from 11.9% to 11.8%",
           "Deep poverty falls 0% from 4.7% to 4.7%",
           "Child poverty falls 0% from 10.6% to 10.6%",
           "Deep child poverty rises 1% from 3.5% to 3.5%"
          ],
          [
           "Kentucky",
           "Poverty falls 0% from 16.3% to 16.2%",
           "Deep poverty falls 2% from 6.5% to 6.4%",
           "Child poverty rises 0% from 18.4% to 18.4%",
           "Deep child poverty falls 2% from 7.4% to 7.3%"
          ],
          [
           "Louisiana",
           "Poverty falls 1% from 18.5% to 18.4%",
           "Deep poverty falls 1% from 6.9% to 6.9%",
           "Child poverty falls 1% from 21.3% to 21.2%",
           "Deep child poverty rises 1% from 7.5% to 7.6%"
          ],
          [
           "Maine",
           "Poverty falls 2% from 11.2% to 10.9%",
           "Deep poverty falls 1% from 4.6% to 4.5%",
           "Child poverty falls 1% from 10.9% to 10.7%",
           "Deep child poverty falls 3% from 4.5% to 4.4%"
          ],
          [
           "Maryland",
           "Poverty falls 1% from 12.9% to 12.8%",
           "Deep poverty falls 0% from 4.7% to 4.7%",
           "Child poverty falls 2% from 15.2% to 14.9%",
           "Deep child poverty rises 0% from 5.1% to 5.1%"
          ],
          [
           "Massachusetts",
           "Poverty falls 1% from 13.9% to 13.8%",
           "Deep poverty falls 1% from 5.0% to 4.9%",
           "Child poverty falls 1% from 15.7% to 15.6%",
           "Deep child poverty falls 0% from 4.7% to 4.7%"
          ],
          [
           "Michigan",
           "Poverty falls 0% from 14.0% to 13.9%",
           "Deep poverty falls 0% from 5.6% to 5.5%",
           "Child poverty falls 0% from 15.3% to 15.3%",
           "Deep child poverty falls 0% from 5.5% to 5.5%"
          ],
          [
           "Minnesota",
           "Poverty falls 1% from 9.6% to 9.5%",
           "Deep poverty falls 0% from 3.8% to 3.8%",
           "Child poverty falls 2% from 8.3% to 8.1%",
           "Deep child poverty rises 0% from 2.3% to 2.4%"
          ],
          [
           "Mississippi",
           "Poverty falls 1% from 18.1% to 18.0%",
           "Deep poverty falls 1% from 7.5% to 7.4%",
           "Child poverty falls 0% from 20.7% to 20.7%",
           "Deep child poverty falls 2% from 8.4% to 8.3%"
          ],
          [
           "Missouri",
           "Poverty rises 1% from 12.8% to 12.9%",
           "Deep poverty falls 0% from 5.2% to 5.2%",
           "Child poverty rises 1% from 14.4% to 14.6%",
           "Deep child poverty rises 0% from 5.2% to 5.2%"
          ],
          [
           "Montana",
           "Poverty falls 1% from 13.1% to 12.9%",
           "Deep poverty falls 1% from 5.2% to 5.1%",
           "Child poverty falls -0% from 12.8% to 12.8%",
           "Deep child poverty falls 1% from 4.6% to 4.5%"
          ],
          [
           "Nebraska",
           "Poverty falls 0% from 11.2% to 11.2%",
           "Deep poverty rises 0% from 4.5% to 4.5%",
           "Child poverty falls 0% from 9.8% to 9.8%",
           "Deep child poverty falls -0% from 3.8% to 3.8%"
          ],
          [
           "Nevada",
           "Poverty falls 1% from 14.9% to 14.8%",
           "Deep poverty falls 2% from 5.7% to 5.6%",
           "Child poverty falls 1% from 16.2% to 16.1%",
           "Deep child poverty falls 4% from 5.8% to 5.5%"
          ],
          [
           "New Hampshire",
           "Poverty falls 2% from 9.4% to 9.2%",
           "Deep poverty falls -0% from 3.4% to 3.4%",
           "Child poverty falls 4% from 11.2% to 10.8%",
           "Deep child poverty falls -0% from 3.7% to 3.7%"
          ],
          [
           "New Jersey",
           "Poverty falls 1% from 14.0% to 13.9%",
           "Deep poverty falls 1% from 4.6% to 4.6%",
           "Child poverty falls 1% from 17.0% to 16.9%",
           "Deep child poverty falls 0% from 5.4% to 5.3%"
          ],
          [
           "New Mexico",
           "Poverty falls 1% from 18.5% to 18.4%",
           "Deep poverty falls 0% from 7.3% to 7.3%",
           "Child poverty falls 1% from 20.5% to 20.3%",
           "Deep child poverty falls 0% from 7.4% to 7.4%"
          ],
          [
           "New York",
           "Poverty falls 1% from 17.9% to 17.7%",
           "Deep poverty falls 1% from 6.3% to 6.2%",
           "Child poverty falls 1% from 21.4% to 21.3%",
           "Deep child poverty falls 2% from 7.1% to 7.0%"
          ],
          [
           "North Carolina",
           "Poverty falls 0% from 14.3% to 14.3%",
           "Deep poverty falls 1% from 5.6% to 5.6%",
           "Child poverty falls 0% from 16.2% to 16.2%",
           "Deep child poverty falls 2% from 5.9% to 5.8%"
          ],
          [
           "North Dakota",
           "Poverty rises 1% from 9.1% to 9.2%",
           "Deep poverty falls 0% from 4.7% to 4.7%",
           "Child poverty rises 3% from 6.3% to 6.5%",
           "Deep child poverty falls -0% from 2.7% to 2.7%"
          ],
          [
           "Ohio",
           "Poverty falls 0% from 12.5% to 12.5%",
           "Deep poverty falls 0% from 4.8% to 4.8%",
           "Child poverty rises 0% from 14.0% to 14.0%",
           "Deep child poverty rises 0% from 4.9% to 4.9%"
          ],
          [
           "Oklahoma",
           "Poverty falls 1% from 14.2% to 14.1%",
           "Deep poverty rises 0% from 5.5% to 5.5%",
           "Child poverty falls 1% from 15.6% to 15.5%",
           "Deep child poverty rises 1% from 5.4% to 5.4%"
          ],
          [
           "Oregon",
           "Poverty falls 1% from 14.0% to 13.9%",
           "Deep poverty falls 1% from 5.1% to 5.0%",
           "Child poverty falls 1% from 14.3% to 14.3%",
           "Deep child poverty falls 4% from 4.6% to 4.4%"
          ],
          [
           "Pennsylvania",
           "Poverty falls 1% from 13.5% to 13.4%",
           "Deep poverty falls 1% from 5.2% to 5.1%",
           "Child poverty falls 0% from 14.7% to 14.7%",
           "Deep child poverty falls 1% from 5.1% to 5.1%"
          ],
          [
           "Rhode Island",
           "Poverty falls 1% from 12.4% to 12.3%",
           "Deep poverty falls 1% from 4.7% to 4.7%",
           "Child poverty falls 0% from 15.1% to 15.0%",
           "Deep child poverty falls -0% from 5.6% to 5.6%"
          ],
          [
           "South Carolina",
           "Poverty falls 1% from 15.6% to 15.5%",
           "Deep poverty falls 1% from 6.3% to 6.2%",
           "Child poverty falls 1% from 17.9% to 17.8%",
           "Deep child poverty falls 2% from 6.5% to 6.4%"
          ],
          [
           "South Dakota",
           "Poverty rises 0% from 12.0% to 12.1%",
           "Deep poverty falls 3% from 5.7% to 5.5%",
           "Child poverty rises 1% from 11.9% to 12.0%",
           "Deep child poverty falls 4% from 6.0% to 5.8%"
          ],
          [
           "Tennessee",
           "Poverty falls 0% from 15.5% to 15.4%",
           "Deep poverty falls 1% from 6.1% to 6.0%",
           "Child poverty rises 0% from 18.6% to 18.6%",
           "Deep child poverty falls 0% from 7.0% to 7.0%"
          ],
          [
           "Texas",
           "Poverty falls 1% from 16.3% to 16.2%",
           "Deep poverty falls 1% from 6.0% to 5.9%",
           "Child poverty falls 1% from 19.0% to 18.9%",
           "Deep child poverty falls 1% from 6.2% to 6.2%"
          ],
          [
           "Utah",
           "Poverty falls 1% from 10.0% to 10.0%",
           "Deep poverty falls 1% from 4.2% to 4.1%",
           "Child poverty falls 1% from 8.2% to 8.2%",
           "Deep child poverty falls 1% from 2.9% to 2.8%"
          ],
          [
           "Vermont",
           "Poverty rises 0% from 11.6% to 11.7%",
           "Deep poverty falls 1% from 4.7% to 4.6%",
           "Child poverty falls 1% from 10.3% to 10.2%",
           "Deep child poverty falls 1% from 3.8% to 3.7%"
          ],
          [
           "Virginia",
           "Poverty falls 0% from 14.6% to 14.5%",
           "Deep poverty falls 1% from 5.5% to 5.4%",
           "Child poverty falls 0% from 17.1% to 17.1%",
           "Deep child poverty falls 1% from 5.6% to 5.6%"
          ],
          [
           "Washington",
           "Poverty falls 1% from 11.8% to 11.7%",
           "Deep poverty falls 1% from 4.6% to 4.6%",
           "Child poverty falls 1% from 11.9% to 11.8%",
           "Deep child poverty rises 0% from 3.8% to 3.8%"
          ],
          [
           "West Virginia",
           "Poverty falls 1% from 16.1% to 16.0%",
           "Deep poverty falls 2% from 6.2% to 6.1%",
           "Child poverty falls 1% from 17.9% to 17.8%",
           "Deep child poverty falls 1% from 6.2% to 6.2%"
          ],
          [
           "Wisconsin",
           "Poverty rises 0% from 10.6% to 10.6%",
           "Deep poverty rises 0% from 4.2% to 4.2%",
           "Child poverty rises 1% from 10.0% to 10.1%",
           "Deep child poverty rises 3% from 3.3% to 3.4%"
          ],
          [
           "Wyoming",
           "Poverty falls 0% from 11.4% to 11.3%",
           "Deep poverty falls -0% from 5.5% to 5.5%",
           "Child poverty falls -0% from 11.7% to 11.7%",
           "Deep child poverty falls -0% from 4.6% to 4.6%"
          ]
         ],
         "geo": "geo",
         "hovertemplate": "<b>%{customdata[0]}</b><br>%{customdata[1]}<br>%{customdata[2]}<br>%{customdata[3]}<br>%{customdata[4]}",
         "locationmode": "USA-states",
         "locations": [
          "AL",
          "AK",
          "AZ",
          "AR",
          "CA",
          "CO",
          "CT",
          "DE",
          "DC",
          "FL",
          "GA",
          "HI",
          "ID",
          "IL",
          "IN",
          "IA",
          "KS",
          "KY",
          "LA",
          "ME",
          "MD",
          "MA",
          "MI",
          "MN",
          "MS",
          "MO",
          "MT",
          "NE",
          "NV",
          "NH",
          "NJ",
          "NM",
          "NY",
          "NC",
          "ND",
          "OH",
          "OK",
          "OR",
          "PA",
          "RI",
          "SC",
          "SD",
          "TN",
          "TX",
          "UT",
          "VT",
          "VA",
          "WA",
          "WV",
          "WI",
          "WY"
         ],
         "name": "",
         "type": "choropleth",
         "z": [
          0.0015627092365699,
          0.0062709030100334,
          0.0081729576600648,
          -0.001103602549981,
          0.0112055850284286,
          0.0040144469576638,
          0.0056734471461216,
          0.0029965652946098,
          0.0064172834566913,
          0.0073491455321849,
          0.004369661612039,
          0.0110591135376646,
          0.0004504504504504,
          0.0045738464042129,
          0.0045583717136549,
          0.0013742006786735,
          0.0046980324758928,
          0.0016915459567371,
          0.0054259631860816,
          0.0225233574287262,
          0.012001320381024,
          0.0089194043100578,
          0.0039979999035039,
          0.0110157310775419,
          0.0066916569962744,
          -0.0070221530490788,
          0.0103530562637101,
          0.0012705998369081,
          0.0101686502391242,
          0.0183485494015013,
          0.0065480366519971,
          0.0060921600674858,
          0.0092984210912873,
          0.0017567940792302,
          -0.011225220921901,
          0.002290529788459,
          0.0058491356808307,
          0.0106507950299763,
          0.0050818841095809,
          0.0090165886181441,
          0.0095765750605172,
          -0.0030195486363013,
          0.0028692298583882,
          0.0067412795940903,
          0.0061613958560524,
          -0.000987039739078,
          0.0047334566805592,
          0.0063959382684937,
          0.0063277506470763,
          -0.000288218046115,
          0.0020754334222804
         ]
        }
       ],
       "frames": [
        {
         "data": [
          {
           "coloraxis": "coloraxis",
           "customdata": [
            [
             "Alabama",
             "Poverty falls 0% from 17.1% to 17.0%",
             "Deep poverty falls 1% from 6.9% to 6.9%",
             "Child poverty rises 0% from 20.3% to 20.3%",
             "Deep child poverty falls 1% from 7.7% to 7.6%"
            ],
            [
             "Alaska",
             "Poverty falls 1% from 12.5% to 12.4%",
             "Deep poverty falls 1% from 4.2% to 4.1%",
             "Child poverty falls 1% from 12.6% to 12.5%",
             "Deep child poverty falls 2% from 3.1% to 3.1%"
            ],
            [
             "Arizona",
             "Poverty falls 1% from 15.1% to 14.9%",
             "Deep poverty falls 1% from 5.7% to 5.6%",
             "Child poverty falls 1% from 17.3% to 17.1%",
             "Deep child poverty falls 1% from 5.7% to 5.7%"
            ],
            [
             "Arkansas",
             "Poverty rises 0% from 16.1% to 16.1%",
             "Deep poverty falls 0% from 6.1% to 6.1%",
             "Child poverty rises 1% from 17.9% to 18.0%",
             "Deep child poverty falls 1% from 6.6% to 6.6%"
            ],
            [
             "California",
             "Poverty falls 1% from 20.3% to 20.1%",
             "Deep poverty falls 2% from 6.6% to 6.5%",
             "Child poverty falls 1% from 23.8% to 23.6%",
             "Deep child poverty falls 3% from 6.4% to 6.2%"
            ],
            [
             "Colorado",
             "Poverty falls 0% from 12.8% to 12.7%",
             "Deep poverty falls 1% from 5.0% to 5.0%",
             "Child poverty falls 1% from 13.6% to 13.5%",
             "Deep child poverty falls 1% from 4.3% to 4.3%"
            ],
            [
             "Connecticut",
             "Poverty falls 1% from 12.9% to 12.8%",
             "Deep poverty falls 0% from 4.5% to 4.5%",
             "Child poverty falls 0% from 15.5% to 15.4%",
             "Deep child poverty falls 0% from 4.5% to 4.5%"
            ],
            [
             "Delaware",
             "Poverty falls 0% from 13.6% to 13.5%",
             "Deep poverty falls -0% from 5.1% to 5.1%",
             "Child poverty falls 1% from 16.4% to 16.3%",
             "Deep child poverty falls -0% from 5.4% to 5.4%"
            ],
            [
             "District of Columbia",
             "Poverty falls 1% from 18.9% to 18.7%",
             "Deep poverty falls 1% from 9.4% to 9.3%",
             "Child poverty falls 1% from 27.1% to 26.9%",
             "Deep child poverty falls -0% from 13.5% to 13.5%"
            ],
            [
             "Florida",
             "Poverty falls 1% from 18.1% to 18.0%",
             "Deep poverty falls 1% from 6.4% to 6.4%",
             "Child poverty falls 1% from 21.3% to 21.2%",
             "Deep child poverty falls 2% from 6.7% to 6.6%"
            ],
            [
             "Georgia",
             "Poverty falls 0% from 15.4% to 15.4%",
             "Deep poverty falls 1% from 6.0% to 6.0%",
             "Child poverty falls 0% from 17.8% to 17.7%",
             "Deep child poverty falls 1% from 6.3% to 6.2%"
            ],
            [
             "Hawaii",
             "Poverty falls 1% from 15.1% to 14.9%",
             "Deep poverty falls 0% from 4.4% to 4.4%",
             "Child poverty falls 1% from 18.5% to 18.3%",
             "Deep child poverty falls 0% from 3.4% to 3.4%"
            ],
            [
             "Idaho",
             "Poverty falls 0% from 12.2% to 12.2%",
             "Deep poverty falls 2% from 5.0% to 4.9%",
             "Child poverty falls -0% from 11.8% to 11.8%",
             "Deep child poverty falls 1% from 4.4% to 4.4%"
            ],
            [
             "Illinois",
             "Poverty falls 0% from 13.6% to 13.5%",
             "Deep poverty falls 1% from 4.9% to 4.9%",
             "Child poverty falls 0% from 14.7% to 14.7%",
             "Deep child poverty rises 1% from 4.2% to 4.2%"
            ],
            [
             "Indiana",
             "Poverty falls 0% from 13.3% to 13.3%",
             "Deep poverty falls 1% from 5.5% to 5.5%",
             "Child poverty falls 0% from 14.7% to 14.7%",
             "Deep child poverty falls 1% from 5.5% to 5.4%"
            ],
            [
             "Iowa",
             "Poverty falls 0% from 10.1% to 10.1%",
             "Deep poverty falls 2% from 4.3% to 4.3%",
             "Child poverty falls 1% from 9.0% to 8.9%",
             "Deep child poverty falls 5% from 3.2% to 3.0%"
            ],
            [
             "Kansas",
             "Poverty falls 0% from 11.9% to 11.8%",
             "Deep poverty falls 0% from 4.7% to 4.7%",
             "Child poverty falls 0% from 10.6% to 10.6%",
             "Deep child poverty rises 1% from 3.5% to 3.5%"
            ],
            [
             "Kentucky",
             "Poverty falls 0% from 16.3% to 16.2%",
             "Deep poverty falls 2% from 6.5% to 6.4%",
             "Child poverty rises 0% from 18.4% to 18.4%",
             "Deep child poverty falls 2% from 7.4% to 7.3%"
            ],
            [
             "Louisiana",
             "Poverty falls 1% from 18.5% to 18.4%",
             "Deep poverty falls 1% from 6.9% to 6.9%",
             "Child poverty falls 1% from 21.3% to 21.2%",
             "Deep child poverty rises 1% from 7.5% to 7.6%"
            ],
            [
             "Maine",
             "Poverty falls 2% from 11.2% to 10.9%",
             "Deep poverty falls 1% from 4.6% to 4.5%",
             "Child poverty falls 1% from 10.9% to 10.7%",
             "Deep child poverty falls 3% from 4.5% to 4.4%"
            ],
            [
             "Maryland",
             "Poverty falls 1% from 12.9% to 12.8%",
             "Deep poverty falls 0% from 4.7% to 4.7%",
             "Child poverty falls 2% from 15.2% to 14.9%",
             "Deep child poverty rises 0% from 5.1% to 5.1%"
            ],
            [
             "Massachusetts",
             "Poverty falls 1% from 13.9% to 13.8%",
             "Deep poverty falls 1% from 5.0% to 4.9%",
             "Child poverty falls 1% from 15.7% to 15.6%",
             "Deep child poverty falls 0% from 4.7% to 4.7%"
            ],
            [
             "Michigan",
             "Poverty falls 0% from 14.0% to 13.9%",
             "Deep poverty falls 0% from 5.6% to 5.5%",
             "Child poverty falls 0% from 15.3% to 15.3%",
             "Deep child poverty falls 0% from 5.5% to 5.5%"
            ],
            [
             "Minnesota",
             "Poverty falls 1% from 9.6% to 9.5%",
             "Deep poverty falls 0% from 3.8% to 3.8%",
             "Child poverty falls 2% from 8.3% to 8.1%",
             "Deep child poverty rises 0% from 2.3% to 2.4%"
            ],
            [
             "Mississippi",
             "Poverty falls 1% from 18.1% to 18.0%",
             "Deep poverty falls 1% from 7.5% to 7.4%",
             "Child poverty falls 0% from 20.7% to 20.7%",
             "Deep child poverty falls 2% from 8.4% to 8.3%"
            ],
            [
             "Missouri",
             "Poverty rises 1% from 12.8% to 12.9%",
             "Deep poverty falls 0% from 5.2% to 5.2%",
             "Child poverty rises 1% from 14.4% to 14.6%",
             "Deep child poverty rises 0% from 5.2% to 5.2%"
            ],
            [
             "Montana",
             "Poverty falls 1% from 13.1% to 12.9%",
             "Deep poverty falls 1% from 5.2% to 5.1%",
             "Child poverty falls -0% from 12.8% to 12.8%",
             "Deep child poverty falls 1% from 4.6% to 4.5%"
            ],
            [
             "Nebraska",
             "Poverty falls 0% from 11.2% to 11.2%",
             "Deep poverty rises 0% from 4.5% to 4.5%",
             "Child poverty falls 0% from 9.8% to 9.8%",
             "Deep child poverty falls -0% from 3.8% to 3.8%"
            ],
            [
             "Nevada",
             "Poverty falls 1% from 14.9% to 14.8%",
             "Deep poverty falls 2% from 5.7% to 5.6%",
             "Child poverty falls 1% from 16.2% to 16.1%",
             "Deep child poverty falls 4% from 5.8% to 5.5%"
            ],
            [
             "New Hampshire",
             "Poverty falls 2% from 9.4% to 9.2%",
             "Deep poverty falls -0% from 3.4% to 3.4%",
             "Child poverty falls 4% from 11.2% to 10.8%",
             "Deep child poverty falls -0% from 3.7% to 3.7%"
            ],
            [
             "New Jersey",
             "Poverty falls 1% from 14.0% to 13.9%",
             "Deep poverty falls 1% from 4.6% to 4.6%",
             "Child poverty falls 1% from 17.0% to 16.9%",
             "Deep child poverty falls 0% from 5.4% to 5.3%"
            ],
            [
             "New Mexico",
             "Poverty falls 1% from 18.5% to 18.4%",
             "Deep poverty falls 0% from 7.3% to 7.3%",
             "Child poverty falls 1% from 20.5% to 20.3%",
             "Deep child poverty falls 0% from 7.4% to 7.4%"
            ],
            [
             "New York",
             "Poverty falls 1% from 17.9% to 17.7%",
             "Deep poverty falls 1% from 6.3% to 6.2%",
             "Child poverty falls 1% from 21.4% to 21.3%",
             "Deep child poverty falls 2% from 7.1% to 7.0%"
            ],
            [
             "North Carolina",
             "Poverty falls 0% from 14.3% to 14.3%",
             "Deep poverty falls 1% from 5.6% to 5.6%",
             "Child poverty falls 0% from 16.2% to 16.2%",
             "Deep child poverty falls 2% from 5.9% to 5.8%"
            ],
            [
             "North Dakota",
             "Poverty rises 1% from 9.1% to 9.2%",
             "Deep poverty falls 0% from 4.7% to 4.7%",
             "Child poverty rises 3% from 6.3% to 6.5%",
             "Deep child poverty falls -0% from 2.7% to 2.7%"
            ],
            [
             "Ohio",
             "Poverty falls 0% from 12.5% to 12.5%",
             "Deep poverty falls 0% from 4.8% to 4.8%",
             "Child poverty rises 0% from 14.0% to 14.0%",
             "Deep child poverty rises 0% from 4.9% to 4.9%"
            ],
            [
             "Oklahoma",
             "Poverty falls 1% from 14.2% to 14.1%",
             "Deep poverty rises 0% from 5.5% to 5.5%",
             "Child poverty falls 1% from 15.6% to 15.5%",
             "Deep child poverty rises 1% from 5.4% to 5.4%"
            ],
            [
             "Oregon",
             "Poverty falls 1% from 14.0% to 13.9%",
             "Deep poverty falls 1% from 5.1% to 5.0%",
             "Child poverty falls 1% from 14.3% to 14.3%",
             "Deep child poverty falls 4% from 4.6% to 4.4%"
            ],
            [
             "Pennsylvania",
             "Poverty falls 1% from 13.5% to 13.4%",
             "Deep poverty falls 1% from 5.2% to 5.1%",
             "Child poverty falls 0% from 14.7% to 14.7%",
             "Deep child poverty falls 1% from 5.1% to 5.1%"
            ],
            [
             "Rhode Island",
             "Poverty falls 1% from 12.4% to 12.3%",
             "Deep poverty falls 1% from 4.7% to 4.7%",
             "Child poverty falls 0% from 15.1% to 15.0%",
             "Deep child poverty falls -0% from 5.6% to 5.6%"
            ],
            [
             "South Carolina",
             "Poverty falls 1% from 15.6% to 15.5%",
             "Deep poverty falls 1% from 6.3% to 6.2%",
             "Child poverty falls 1% from 17.9% to 17.8%",
             "Deep child poverty falls 2% from 6.5% to 6.4%"
            ],
            [
             "South Dakota",
             "Poverty rises 0% from 12.0% to 12.1%",
             "Deep poverty falls 3% from 5.7% to 5.5%",
             "Child poverty rises 1% from 11.9% to 12.0%",
             "Deep child poverty falls 4% from 6.0% to 5.8%"
            ],
            [
             "Tennessee",
             "Poverty falls 0% from 15.5% to 15.4%",
             "Deep poverty falls 1% from 6.1% to 6.0%",
             "Child poverty rises 0% from 18.6% to 18.6%",
             "Deep child poverty falls 0% from 7.0% to 7.0%"
            ],
            [
             "Texas",
             "Poverty falls 1% from 16.3% to 16.2%",
             "Deep poverty falls 1% from 6.0% to 5.9%",
             "Child poverty falls 1% from 19.0% to 18.9%",
             "Deep child poverty falls 1% from 6.2% to 6.2%"
            ],
            [
             "Utah",
             "Poverty falls 1% from 10.0% to 10.0%",
             "Deep poverty falls 1% from 4.2% to 4.1%",
             "Child poverty falls 1% from 8.2% to 8.2%",
             "Deep child poverty falls 1% from 2.9% to 2.8%"
            ],
            [
             "Vermont",
             "Poverty rises 0% from 11.6% to 11.7%",
             "Deep poverty falls 1% from 4.7% to 4.6%",
             "Child poverty falls 1% from 10.3% to 10.2%",
             "Deep child poverty falls 1% from 3.8% to 3.7%"
            ],
            [
             "Virginia",
             "Poverty falls 0% from 14.6% to 14.5%",
             "Deep poverty falls 1% from 5.5% to 5.4%",
             "Child poverty falls 0% from 17.1% to 17.1%",
             "Deep child poverty falls 1% from 5.6% to 5.6%"
            ],
            [
             "Washington",
             "Poverty falls 1% from 11.8% to 11.7%",
             "Deep poverty falls 1% from 4.6% to 4.6%",
             "Child poverty falls 1% from 11.9% to 11.8%",
             "Deep child poverty rises 0% from 3.8% to 3.8%"
            ],
            [
             "West Virginia",
             "Poverty falls 1% from 16.1% to 16.0%",
             "Deep poverty falls 2% from 6.2% to 6.1%",
             "Child poverty falls 1% from 17.9% to 17.8%",
             "Deep child poverty falls 1% from 6.2% to 6.2%"
            ],
            [
             "Wisconsin",
             "Poverty rises 0% from 10.6% to 10.6%",
             "Deep poverty rises 0% from 4.2% to 4.2%",
             "Child poverty rises 1% from 10.0% to 10.1%",
             "Deep child poverty rises 3% from 3.3% to 3.4%"
            ],
            [
             "Wyoming",
             "Poverty falls 0% from 11.4% to 11.3%",
             "Deep poverty falls -0% from 5.5% to 5.5%",
             "Child poverty falls -0% from 11.7% to 11.7%",
             "Deep child poverty falls -0% from 4.6% to 4.6%"
            ]
           ],
           "geo": "geo",
           "hovertemplate": "<b>%{customdata[0]}</b><br>%{customdata[1]}<br>%{customdata[2]}<br>%{customdata[3]}<br>%{customdata[4]}",
           "locationmode": "USA-states",
           "locations": [
            "AL",
            "AK",
            "AZ",
            "AR",
            "CA",
            "CO",
            "CT",
            "DE",
            "DC",
            "FL",
            "GA",
            "HI",
            "ID",
            "IL",
            "IN",
            "IA",
            "KS",
            "KY",
            "LA",
            "ME",
            "MD",
            "MA",
            "MI",
            "MN",
            "MS",
            "MO",
            "MT",
            "NE",
            "NV",
            "NH",
            "NJ",
            "NM",
            "NY",
            "NC",
            "ND",
            "OH",
            "OK",
            "OR",
            "PA",
            "RI",
            "SC",
            "SD",
            "TN",
            "TX",
            "UT",
            "VT",
            "VA",
            "WA",
            "WV",
            "WI",
            "WY"
           ],
           "name": "",
           "type": "choropleth",
           "z": [
            0.0015627092365699,
            0.0062709030100334,
            0.0081729576600648,
            -0.001103602549981,
            0.0112055850284286,
            0.0040144469576638,
            0.0056734471461216,
            0.0029965652946098,
            0.0064172834566913,
            0.0073491455321849,
            0.004369661612039,
            0.0110591135376646,
            0.0004504504504504,
            0.0045738464042129,
            0.0045583717136549,
            0.0013742006786735,
            0.0046980324758928,
            0.0016915459567371,
            0.0054259631860816,
            0.0225233574287262,
            0.012001320381024,
            0.0089194043100578,
            0.0039979999035039,
            0.0110157310775419,
            0.0066916569962744,
            -0.0070221530490788,
            0.0103530562637101,
            0.0012705998369081,
            0.0101686502391242,
            0.0183485494015013,
            0.0065480366519971,
            0.0060921600674858,
            0.0092984210912873,
            0.0017567940792302,
            -0.011225220921901,
            0.002290529788459,
            0.0058491356808307,
            0.0106507950299763,
            0.0050818841095809,
            0.0090165886181441,
            0.0095765750605172,
            -0.0030195486363013,
            0.0028692298583882,
            0.0067412795940903,
            0.0061613958560524,
            -0.000987039739078,
            0.0047334566805592,
            0.0063959382684937,
            0.0063277506470763,
            -0.000288218046115,
            0.0020754334222804
           ]
          }
         ],
         "name": "10"
        },
        {
         "data": [
          {
           "coloraxis": "coloraxis",
           "customdata": [
            [
             "Alabama",
             "Poverty falls 0% from 17.1% to 17.0%",
             "Deep poverty falls 2% from 6.9% to 6.8%",
             "Child poverty falls 0% from 20.3% to 20.3%",
             "Deep child poverty falls 3% from 7.7% to 7.5%"
            ],
            [
             "Alaska",
             "Poverty falls 1% from 12.5% to 12.4%",
             "Deep poverty falls 1% from 4.2% to 4.1%",
             "Child poverty falls 1% from 12.6% to 12.5%",
             "Deep child poverty falls 2% from 3.1% to 3.1%"
            ],
            [
             "Arizona",
             "Poverty falls 2% from 15.1% to 14.8%",
             "Deep poverty falls 2% from 5.7% to 5.6%",
             "Child poverty falls 2% from 17.3% to 17.0%",
             "Deep child poverty falls 2% from 5.7% to 5.6%"
            ],
            [
             "Arkansas",
             "Poverty rises 0% from 16.1% to 16.1%",
             "Deep poverty falls 0% from 6.1% to 6.1%",
             "Child poverty rises 1% from 17.9% to 18.0%",
             "Deep child poverty falls 1% from 6.6% to 6.6%"
            ],
            [
             "California",
             "Poverty falls 2% from 20.3% to 20.0%",
             "Deep poverty falls 2% from 6.6% to 6.4%",
             "Child poverty falls 2% from 23.8% to 23.4%",
             "Deep child poverty falls 3% from 6.4% to 6.2%"
            ],
            [
             "Colorado",
             "Poverty falls 1% from 12.8% to 12.7%",
             "Deep poverty falls 1% from 5.0% to 5.0%",
             "Child poverty falls 1% from 13.6% to 13.5%",
             "Deep child poverty falls 1% from 4.3% to 4.3%"
            ],
            [
             "Connecticut",
             "Poverty falls 1% from 12.9% to 12.8%",
             "Deep poverty falls 1% from 4.5% to 4.5%",
             "Child poverty falls 1% from 15.5% to 15.4%",
             "Deep child poverty falls 0% from 4.5% to 4.5%"
            ],
            [
             "Delaware",
             "Poverty falls 0% from 13.6% to 13.5%",
             "Deep poverty falls 2% from 5.1% to 5.0%",
             "Child poverty falls 1% from 16.4% to 16.3%",
             "Deep child poverty falls -0% from 5.4% to 5.4%"
            ],
            [
             "District of Columbia",
             "Poverty falls 1% from 18.9% to 18.7%",
             "Deep poverty falls 1% from 9.4% to 9.3%",
             "Child poverty falls 1% from 27.1% to 26.9%",
             "Deep child poverty falls -0% from 13.5% to 13.5%"
            ],
            [
             "Florida",
             "Poverty falls 1% from 18.1% to 17.9%",
             "Deep poverty falls 2% from 6.4% to 6.3%",
             "Child poverty falls 1% from 21.3% to 21.1%",
             "Deep child poverty falls 2% from 6.7% to 6.6%"
            ],
            [
             "Georgia",
             "Poverty falls 1% from 15.4% to 15.3%",
             "Deep poverty falls 1% from 6.0% to 5.9%",
             "Child poverty falls 0% from 17.8% to 17.7%",
             "Deep child poverty falls 1% from 6.3% to 6.2%"
            ],
            [
             "Hawaii",
             "Poverty falls 2% from 15.1% to 14.8%",
             "Deep poverty falls 1% from 4.4% to 4.3%",
             "Child poverty falls 2% from 18.5% to 18.1%",
             "Deep child poverty falls 1% from 3.4% to 3.4%"
            ],
            [
             "Idaho",
             "Poverty falls 0% from 12.2% to 12.2%",
             "Deep poverty falls 3% from 5.0% to 4.8%",
             "Child poverty falls -0% from 11.8% to 11.8%",
             "Deep child poverty falls 4% from 4.4% to 4.2%"
            ],
            [
             "Illinois",
             "Poverty falls 1% from 13.6% to 13.5%",
             "Deep poverty falls 1% from 4.9% to 4.9%",
             "Child poverty falls 0% from 14.7% to 14.6%",
             "Deep child poverty rises 1% from 4.2% to 4.2%"
            ],
            [
             "Indiana",
             "Poverty falls 1% from 13.3% to 13.3%",
             "Deep poverty falls 1% from 5.5% to 5.4%",
             "Child poverty falls 0% from 14.7% to 14.7%",
             "Deep child poverty falls 1% from 5.5% to 5.4%"
            ],
            [
             "Iowa",
             "Poverty rises 0% from 10.1% to 10.1%",
             "Deep poverty falls 2% from 4.3% to 4.2%",
             "Child poverty rises 0% from 9.0% to 9.0%",
             "Deep child poverty falls 4% from 3.2% to 3.1%"
            ],
            [
             "Kansas",
             "Poverty falls 0% from 11.9% to 11.9%",
             "Deep poverty falls 0% from 4.7% to 4.7%",
             "Child poverty rises 0% from 10.6% to 10.7%",
             "Deep child poverty rises 1% from 3.5% to 3.5%"
            ],
            [
             "Kentucky",
             "Poverty falls 1% from 16.3% to 16.2%",
             "Deep poverty falls 2% from 6.5% to 6.4%",
             "Child poverty falls 0% from 18.4% to 18.3%",
             "Deep child poverty falls 2% from 7.4% to 7.3%"
            ],
            [
             "Louisiana",
             "Poverty falls 1% from 18.5% to 18.3%",
             "Deep poverty falls 1% from 6.9% to 6.9%",
             "Child poverty falls 1% from 21.3% to 21.2%",
             "Deep child poverty falls 1% from 7.5% to 7.5%"
            ],
            [
             "Maine",
             "Poverty falls 3% from 11.2% to 10.9%",
             "Deep poverty falls 2% from 4.6% to 4.5%",
             "Child poverty falls 3% from 10.9% to 10.6%",
             "Deep child poverty falls 3% from 4.5% to 4.4%"
            ],
            [
             "Maryland",
             "Poverty falls 1% from 12.9% to 12.8%",
             "Deep poverty falls 0% from 4.7% to 4.6%",
             "Child poverty falls 2% from 15.2% to 14.9%",
             "Deep child poverty rises 0% from 5.1% to 5.1%"
            ],
            [
             "Massachusetts",
             "Poverty falls 1% from 13.9% to 13.8%",
             "Deep poverty falls 2% from 5.0% to 4.9%",
             "Child poverty falls 1% from 15.7% to 15.6%",
             "Deep child poverty falls 2% from 4.7% to 4.6%"
            ],
            [
             "Michigan",
             "Poverty falls 1% from 14.0% to 13.9%",
             "Deep poverty falls 0% from 5.6% to 5.5%",
             "Child poverty falls 1% from 15.3% to 15.2%",
             "Deep child poverty falls 1% from 5.5% to 5.5%"
            ],
            [
             "Minnesota",
             "Poverty falls 2% from 9.6% to 9.5%",
             "Deep poverty falls 0% from 3.8% to 3.8%",
             "Child poverty falls 3% from 8.3% to 8.0%",
             "Deep child poverty rises 0% from 2.3% to 2.4%"
            ],
            [
             "Mississippi",
             "Poverty falls 1% from 18.1% to 18.0%",
             "Deep poverty falls 2% from 7.5% to 7.3%",
             "Child poverty falls 0% from 20.7% to 20.7%",
             "Deep child poverty falls 2% from 8.4% to 8.2%"
            ],
            [
             "Missouri",
             "Poverty rises 0% from 12.8% to 12.8%",
             "Deep poverty falls 0% from 5.2% to 5.2%",
             "Child poverty rises 1% from 14.4% to 14.5%",
             "Deep child poverty rises 0% from 5.2% to 5.2%"
            ],
            [
             "Montana",
             "Poverty falls 1% from 13.1% to 13.0%",
             "Deep poverty falls 1% from 5.2% to 5.1%",
             "Child poverty rises 1% from 12.8% to 12.9%",
             "Deep child poverty falls 1% from 4.6% to 4.5%"
            ],
            [
             "Nebraska",
             "Poverty falls 0% from 11.2% to 11.2%",
             "Deep poverty rises 0% from 4.5% to 4.5%",
             "Child poverty falls 0% from 9.8% to 9.8%",
             "Deep child poverty falls -0% from 3.8% to 3.8%"
            ],
            [
             "Nevada",
             "Poverty falls 2% from 14.9% to 14.7%",
             "Deep poverty falls 3% from 5.7% to 5.5%",
             "Child poverty falls 2% from 16.2% to 15.9%",
             "Deep child poverty falls 6% from 5.8% to 5.4%"
            ],
            [
             "New Hampshire",
             "Poverty falls 2% from 9.4% to 9.2%",
             "Deep poverty falls 0% from 3.4% to 3.4%",
             "Child poverty falls 4% from 11.2% to 10.8%",
             "Deep child poverty falls -0% from 3.7% to 3.7%"
            ],
            [
             "New Jersey",
             "Poverty falls 1% from 14.0% to 13.9%",
             "Deep poverty falls 2% from 4.6% to 4.5%",
             "Child poverty falls 1% from 17.0% to 16.8%",
             "Deep child poverty falls 1% from 5.4% to 5.3%"
            ],
            [
             "New Mexico",
             "Poverty falls 1% from 18.5% to 18.3%",
             "Deep poverty falls 1% from 7.3% to 7.3%",
             "Child poverty falls 1% from 20.5% to 20.3%",
             "Deep child poverty falls 0% from 7.4% to 7.4%"
            ],
            [
             "New York",
             "Poverty falls 1% from 17.9% to 17.6%",
             "Deep poverty falls 2% from 6.3% to 6.2%",
             "Child poverty falls 1% from 21.4% to 21.1%",
             "Deep child poverty falls 2% from 7.1% to 6.9%"
            ],
            [
             "North Carolina",
             "Poverty falls 1% from 14.3% to 14.2%",
             "Deep poverty falls 2% from 5.6% to 5.6%",
             "Child poverty falls 1% from 16.2% to 16.1%",
             "Deep child poverty falls 2% from 5.9% to 5.8%"
            ],
            [
             "North Dakota",
             "Poverty rises 1% from 9.1% to 9.2%",
             "Deep poverty falls 0% from 4.7% to 4.7%",
             "Child poverty rises 3% from 6.3% to 6.5%",
             "Deep child poverty falls -0% from 2.7% to 2.7%"
            ],
            [
             "Ohio",
             "Poverty falls 1% from 12.5% to 12.5%",
             "Deep poverty falls 0% from 4.8% to 4.8%",
             "Child poverty rises 0% from 14.0% to 14.0%",
             "Deep child poverty rises 0% from 4.9% to 4.9%"
            ],
            [
             "Oklahoma",
             "Poverty falls 0% from 14.2% to 14.1%",
             "Deep poverty rises 0% from 5.5% to 5.5%",
             "Child poverty falls 0% from 15.6% to 15.6%",
             "Deep child poverty rises 1% from 5.4% to 5.4%"
            ],
            [
             "Oregon",
             "Poverty falls 2% from 14.0% to 13.7%",
             "Deep poverty falls 2% from 5.1% to 5.0%",
             "Child poverty falls 2% from 14.3% to 14.0%",
             "Deep child poverty falls 4% from 4.6% to 4.4%"
            ],
            [
             "Pennsylvania",
             "Poverty falls 1% from 13.5% to 13.4%",
             "Deep poverty falls 2% from 5.2% to 5.1%",
             "Child poverty falls 1% from 14.7% to 14.6%",
             "Deep child poverty falls 2% from 5.1% to 5.0%"
            ],
            [
             "Rhode Island",
             "Poverty falls 1% from 12.4% to 12.3%",
             "Deep poverty falls 2% from 4.7% to 4.6%",
             "Child poverty falls 0% from 15.1% to 15.0%",
             "Deep child poverty falls 1% from 5.6% to 5.5%"
            ],
            [
             "South Carolina",
             "Poverty falls 1% from 15.6% to 15.4%",
             "Deep poverty falls 2% from 6.3% to 6.1%",
             "Child poverty falls 1% from 17.9% to 17.8%",
             "Deep child poverty falls 3% from 6.5% to 6.4%"
            ],
            [
             "South Dakota",
             "Poverty rises 0% from 12.0% to 12.0%",
             "Deep poverty falls 3% from 5.7% to 5.5%",
             "Child poverty rises 1% from 11.9% to 12.0%",
             "Deep child poverty falls 4% from 6.0% to 5.8%"
            ],
            [
             "Tennessee",
             "Poverty falls 0% from 15.5% to 15.4%",
             "Deep poverty falls 0% from 6.1% to 6.0%",
             "Child poverty rises 0% from 18.6% to 18.6%",
             "Deep child poverty rises 0% from 7.0% to 7.1%"
            ],
            [
             "Texas",
             "Poverty falls 1% from 16.3% to 16.1%",
             "Deep poverty falls 1% from 6.0% to 5.9%",
             "Child poverty falls 1% from 19.0% to 18.8%",
             "Deep child poverty falls 1% from 6.2% to 6.1%"
            ],
            [
             "Utah",
             "Poverty falls 1% from 10.0% to 9.9%",
             "Deep poverty falls 3% from 4.2% to 4.1%",
             "Child poverty falls 1% from 8.2% to 8.2%",
             "Deep child poverty falls 4% from 2.9% to 2.7%"
            ],
            [
             "Vermont",
             "Poverty falls 0% from 11.6% to 11.6%",
             "Deep poverty falls 1% from 4.7% to 4.6%",
             "Child poverty falls 1% from 10.3% to 10.2%",
             "Deep child poverty falls 1% from 3.8% to 3.7%"
            ],
            [
             "Virginia",
             "Poverty falls 1% from 14.6% to 14.5%",
             "Deep poverty falls 1% from 5.5% to 5.4%",
             "Child poverty falls 1% from 17.1% to 17.0%",
             "Deep child poverty falls 1% from 5.6% to 5.6%"
            ],
            [
             "Washington",
             "Poverty falls 1% from 11.8% to 11.6%",
             "Deep poverty falls 1% from 4.6% to 4.6%",
             "Child poverty falls 2% from 11.9% to 11.6%",
             "Deep child poverty rises 0% from 3.8% to 3.8%"
            ],
            [
             "West Virginia",
             "Poverty falls 1% from 16.1% to 16.0%",
             "Deep poverty falls 3% from 6.2% to 6.1%",
             "Child poverty falls 1% from 17.9% to 17.7%",
             "Deep child poverty falls 2% from 6.2% to 6.1%"
            ],
            [
             "Wisconsin",
             "Poverty falls 0% from 10.6% to 10.6%",
             "Deep poverty falls 0% from 4.2% to 4.1%",
             "Child poverty rises 1% from 10.0% to 10.1%",
             "Deep child poverty rises 3% from 3.3% to 3.4%"
            ],
            [
             "Wyoming",
             "Poverty falls 1% from 11.4% to 11.3%",
             "Deep poverty falls -0% from 5.5% to 5.5%",
             "Child poverty falls -0% from 11.7% to 11.7%",
             "Deep child poverty falls -0% from 4.6% to 4.6%"
            ]
           ],
           "geo": "geo",
           "hovertemplate": "<b>%{customdata[0]}</b><br>%{customdata[1]}<br>%{customdata[2]}<br>%{customdata[3]}<br>%{customdata[4]}",
           "locationmode": "USA-states",
           "locations": [
            "AL",
            "AK",
            "AZ",
            "AR",
            "CA",
            "CO",
            "CT",
            "DE",
            "DC",
            "FL",
            "GA",
            "HI",
            "ID",
            "IL",
            "IN",
            "IA",
            "KS",
            "KY",
            "LA",
            "ME",
            "MD",
            "MA",
            "MI",
            "MN",
            "MS",
            "MO",
            "MT",
            "NE",
            "NV",
            "NH",
            "NJ",
            "NM",
            "NY",
            "NC",
            "ND",
            "OH",
            "OK",
            "OR",
            "PA",
            "RI",
            "SC",
            "SD",
            "TN",
            "TX",
            "UT",
            "VT",
            "VA",
            "WA",
            "WV",
            "WI",
            "WY"
           ],
           "name": "",
           "type": "choropleth",
           "z": [
            0.0022912364199707,
            0.0081578233752146,
            0.015261805435888,
            -0.0006613109692565,
            0.0163641485229797,
            0.0065457515055928,
            0.008940724810904,
            0.0029965652946098,
            0.0091378275655131,
            0.0110991253574894,
            0.0059124158203123,
            0.0159748100644192,
            0.0004504504504504,
            0.0089180832334705,
            0.005205120962861,
            -0.0026090366658777,
            0.0016205238603552,
            0.0053709774384919,
            0.0078034043620256,
            0.0264637436414931,
            0.0140146394626257,
            0.012286131990808,
            0.0071063370016388,
            0.0168256439099121,
            0.0078730990044585,
            -0.0033148866757566,
            0.0072108258730062,
            0.0016593654586487,
            0.0166481463677481,
            0.0222682085615744,
            0.0103053079327073,
            0.0116201824221018,
            0.0149714490334501,
            0.005780530872991,
            -0.0145241222832577,
            0.0051982262069991,
            0.0039135166136041,
            0.0220575202015811,
            0.0104007751803436,
            0.0109373759822206,
            0.013334455217408,
            -0.0006470461363503,
            0.0042020712864662,
            0.0103492791643537,
            0.0068157033805889,
            0.0048779790003717,
            0.0072304522630523,
            0.0147481728767565,
            0.0071752172515954,
            0.0005631080900971,
            0.00842657178971
           ]
          }
         ],
         "name": "15"
        },
        {
         "data": [
          {
           "coloraxis": "coloraxis",
           "customdata": [
            [
             "Alabama",
             "Poverty falls 0% from 17.1% to 17.0%",
             "Deep poverty falls 1% from 6.9% to 6.8%",
             "Child poverty falls 0% from 20.3% to 20.3%",
             "Deep child poverty falls 2% from 7.7% to 7.5%"
            ],
            [
             "Alaska",
             "Poverty falls 2% from 12.5% to 12.2%",
             "Deep poverty falls 1% from 4.2% to 4.1%",
             "Child poverty falls 2% from 12.6% to 12.4%",
             "Deep child poverty falls 3% from 3.1% to 3.1%"
            ],
            [
             "Arizona",
             "Poverty falls 2% from 15.1% to 14.8%",
             "Deep poverty falls 2% from 5.7% to 5.6%",
             "Child poverty falls 2% from 17.3% to 17.0%",
             "Deep child poverty falls 2% from 5.7% to 5.6%"
            ],
            [
             "Arkansas",
             "Poverty falls 0% from 16.1% to 16.0%",
             "Deep poverty falls 0% from 6.1% to 6.1%",
             "Child poverty rises 0% from 17.9% to 18.0%",
             "Deep child poverty falls 1% from 6.6% to 6.6%"
            ],
            [
             "California",
             "Poverty falls 2% from 20.3% to 19.9%",
             "Deep poverty falls 3% from 6.6% to 6.4%",
             "Child poverty falls 2% from 23.8% to 23.3%",
             "Deep child poverty falls 4% from 6.4% to 6.1%"
            ],
            [
             "Colorado",
             "Poverty falls 1% from 12.8% to 12.6%",
             "Deep poverty falls 1% from 5.0% to 5.0%",
             "Child poverty falls 1% from 13.6% to 13.4%",
             "Deep child poverty falls 1% from 4.3% to 4.2%"
            ],
            [
             "Connecticut",
             "Poverty falls 1% from 12.9% to 12.7%",
             "Deep poverty falls 1% from 4.5% to 4.5%",
             "Child poverty falls 1% from 15.5% to 15.3%",
             "Deep child poverty falls 0% from 4.5% to 4.5%"
            ],
            [
             "Delaware",
             "Poverty falls 1% from 13.6% to 13.4%",
             "Deep poverty falls 2% from 5.1% to 5.0%",
             "Child poverty falls 1% from 16.4% to 16.2%",
             "Deep child poverty falls -0% from 5.4% to 5.4%"
            ],
            [
             "District of Columbia",
             "Poverty falls 2% from 18.9% to 18.6%",
             "Deep poverty falls 1% from 9.4% to 9.3%",
             "Child poverty falls 1% from 27.1% to 26.9%",
             "Deep child poverty falls -0% from 13.5% to 13.5%"
            ],
            [
             "Florida",
             "Poverty falls 1% from 18.1% to 17.9%",
             "Deep poverty falls 2% from 6.4% to 6.3%",
             "Child poverty falls 1% from 21.3% to 21.1%",
             "Deep child poverty falls 3% from 6.7% to 6.6%"
            ],
            [
             "Georgia",
             "Poverty falls 1% from 15.4% to 15.3%",
             "Deep poverty falls 1% from 6.0% to 5.9%",
             "Child poverty falls 1% from 17.8% to 17.6%",
             "Deep child poverty falls 2% from 6.3% to 6.2%"
            ],
            [
             "Hawaii",
             "Poverty falls 2% from 15.1% to 14.8%",
             "Deep poverty falls 2% from 4.4% to 4.3%",
             "Child poverty falls 2% from 18.5% to 18.1%",
             "Deep child poverty falls 2% from 3.4% to 3.4%"
            ],
            [
             "Idaho",
             "Poverty falls 0% from 12.2% to 12.2%",
             "Deep poverty falls 3% from 5.0% to 4.8%",
             "Child poverty falls 0% from 11.8% to 11.8%",
             "Deep child poverty falls 4% from 4.4% to 4.2%"
            ],
            [
             "Illinois",
             "Poverty falls 1% from 13.6% to 13.4%",
             "Deep poverty falls 1% from 4.9% to 4.9%",
             "Child poverty falls 1% from 14.7% to 14.5%",
             "Deep child poverty rises 0% from 4.2% to 4.2%"
            ],
            [
             "Indiana",
             "Poverty falls 1% from 13.3% to 13.2%",
             "Deep poverty falls 2% from 5.5% to 5.4%",
             "Child poverty falls 0% from 14.7% to 14.7%",
             "Deep child poverty falls 1% from 5.5% to 5.4%"
            ],
            [
             "Iowa",
             "Poverty rises 0% from 10.1% to 10.1%",
             "Deep poverty falls 2% from 4.3% to 4.3%",
             "Child poverty rises 0% from 9.0% to 9.0%",
             "Deep child poverty falls 4% from 3.2% to 3.1%"
            ],
            [
             "Kansas",
             "Poverty falls 1% from 11.9% to 11.8%",
             "Deep poverty falls 1% from 4.7% to 4.6%",
             "Child poverty rises 0% from 10.6% to 10.7%",
             "Deep child poverty rises 1% from 3.5% to 3.5%"
            ],
            [
             "Kentucky",
             "Poverty falls 1% from 16.3% to 16.1%",
             "Deep poverty falls 2% from 6.5% to 6.4%",
             "Child poverty falls 0% from 18.4% to 18.3%",
             "Deep child poverty falls 2% from 7.4% to 7.3%"
            ],
            [
             "Louisiana",
             "Poverty falls 1% from 18.5% to 18.3%",
             "Deep poverty falls 2% from 6.9% to 6.8%",
             "Child poverty falls 1% from 21.3% to 21.2%",
             "Deep child poverty falls 2% from 7.5% to 7.4%"
            ],
            [
             "Maine",
             "Poverty falls 3% from 11.2% to 10.9%",
             "Deep poverty falls 2% from 4.6% to 4.5%",
             "Child poverty falls 3% from 10.9% to 10.5%",
             "Deep child poverty falls 3% from 4.5% to 4.4%"
            ],
            [
             "Maryland",
             "Poverty falls 2% from 12.9% to 12.7%",
             "Deep poverty falls 0% from 4.7% to 4.6%",
             "Child poverty falls 3% from 15.2% to 14.8%",
             "Deep child poverty rises 0% from 5.1% to 5.1%"
            ],
            [
             "Massachusetts",
             "Poverty falls 1% from 13.9% to 13.7%",
             "Deep poverty falls 2% from 5.0% to 4.9%",
             "Child poverty falls 1% from 15.7% to 15.5%",
             "Deep child poverty falls 1% from 4.7% to 4.6%"
            ],
            [
             "Michigan",
             "Poverty falls 1% from 14.0% to 13.9%",
             "Deep poverty falls 1% from 5.6% to 5.5%",
             "Child poverty falls 1% from 15.3% to 15.2%",
             "Deep child poverty falls 1% from 5.5% to 5.4%"
            ],
            [
             "Minnesota",
             "Poverty falls 2% from 9.6% to 9.4%",
             "Deep poverty falls 1% from 3.8% to 3.8%",
             "Child poverty falls 3% from 8.3% to 8.0%",
             "Deep child poverty rises 0% from 2.3% to 2.4%"
            ],
            [
             "Mississippi",
             "Poverty falls 1% from 18.1% to 18.0%",
             "Deep poverty falls 2% from 7.5% to 7.3%",
             "Child poverty falls 0% from 20.7% to 20.7%",
             "Deep child poverty falls 2% from 8.4% to 8.2%"
            ],
            [
             "Missouri",
             "Poverty rises 0% from 12.8% to 12.8%",
             "Deep poverty falls 1% from 5.2% to 5.1%",
             "Child poverty rises 1% from 14.4% to 14.5%",
             "Deep child poverty falls 1% from 5.2% to 5.2%"
            ],
            [
             "Montana",
             "Poverty falls 1% from 13.1% to 13.0%",
             "Deep poverty falls 1% from 5.2% to 5.1%",
             "Child poverty rises 1% from 12.8% to 12.9%",
             "Deep child poverty falls 1% from 4.6% to 4.5%"
            ],
            [
             "Nebraska",
             "Poverty falls 2% from 11.2% to 11.1%",
             "Deep poverty rises 0% from 4.5% to 4.5%",
             "Child poverty falls 3% from 9.8% to 9.6%",
             "Deep child poverty falls -0% from 3.8% to 3.8%"
            ],
            [
             "Nevada",
             "Poverty falls 2% from 14.9% to 14.7%",
             "Deep poverty falls 4% from 5.7% to 5.5%",
             "Child poverty falls 2% from 16.2% to 15.8%",
             "Deep child poverty falls 7% from 5.8% to 5.3%"
            ],
            [
             "New Hampshire",
             "Poverty falls 2% from 9.4% to 9.2%",
             "Deep poverty falls 0% from 3.4% to 3.4%",
             "Child poverty falls 2% from 11.2% to 11.0%",
             "Deep child poverty falls -0% from 3.7% to 3.7%"
            ],
            [
             "New Jersey",
             "Poverty falls 2% from 14.0% to 13.8%",
             "Deep poverty falls 2% from 4.6% to 4.5%",
             "Child poverty falls 2% from 17.0% to 16.7%",
             "Deep child poverty falls 1% from 5.4% to 5.3%"
            ],
            [
             "New Mexico",
             "Poverty falls 1% from 18.5% to 18.3%",
             "Deep poverty falls 1% from 7.3% to 7.2%",
             "Child poverty falls 1% from 20.5% to 20.3%",
             "Deep child poverty falls 2% from 7.4% to 7.2%"
            ],
            [
             "New York",
             "Poverty falls 2% from 17.9% to 17.5%",
             "Deep poverty falls 3% from 6.3% to 6.1%",
             "Child poverty falls 2% from 21.4% to 21.0%",
             "Deep child poverty falls 3% from 7.1% to 6.8%"
            ],
            [
             "North Carolina",
             "Poverty falls 1% from 14.3% to 14.2%",
             "Deep poverty falls 3% from 5.6% to 5.5%",
             "Child poverty falls 1% from 16.2% to 16.0%",
             "Deep child poverty falls 2% from 5.9% to 5.8%"
            ],
            [
             "North Dakota",
             "Poverty rises 2% from 9.1% to 9.3%",
             "Deep poverty rises 0% from 4.7% to 4.7%",
             "Child poverty rises 3% from 6.3% to 6.5%",
             "Deep child poverty falls -0% from 2.7% to 2.7%"
            ],
            [
             "Ohio",
             "Poverty falls 1% from 12.5% to 12.5%",
             "Deep poverty falls 0% from 4.8% to 4.8%",
             "Child poverty rises 0% from 14.0% to 14.0%",
             "Deep child poverty rises 0% from 4.9% to 4.9%"
            ],
            [
             "Oklahoma",
             "Poverty falls 0% from 14.2% to 14.2%",
             "Deep poverty rises 0% from 5.5% to 5.5%",
             "Child poverty rises 1% from 15.6% to 15.8%",
             "Deep child poverty rises 1% from 5.4% to 5.4%"
            ],
            [
             "Oregon",
             "Poverty falls 3% from 14.0% to 13.7%",
             "Deep poverty falls 3% from 5.1% to 4.9%",
             "Child poverty falls 2% from 14.3% to 14.0%",
             "Deep child poverty falls 4% from 4.6% to 4.4%"
            ],
            [
             "Pennsylvania",
             "Poverty falls 1% from 13.5% to 13.3%",
             "Deep poverty falls 2% from 5.2% to 5.0%",
             "Child poverty falls 2% from 14.7% to 14.5%",
             "Deep child poverty falls 2% from 5.1% to 5.0%"
            ],
            [
             "Rhode Island",
             "Poverty falls 2% from 12.4% to 12.1%",
             "Deep poverty falls 2% from 4.7% to 4.6%",
             "Child poverty falls 0% from 15.1% to 15.0%",
             "Deep child poverty falls 1% from 5.6% to 5.5%"
            ],
            [
             "South Carolina",
             "Poverty falls 2% from 15.6% to 15.4%",
             "Deep poverty falls 2% from 6.3% to 6.1%",
             "Child poverty falls 1% from 17.9% to 17.7%",
             "Deep child poverty falls 3% from 6.5% to 6.3%"
            ],
            [
             "South Dakota",
             "Poverty rises 0% from 12.0% to 12.0%",
             "Deep poverty falls 4% from 5.7% to 5.4%",
             "Child poverty rises 1% from 11.9% to 12.1%",
             "Deep child poverty falls 4% from 6.0% to 5.8%"
            ],
            [
             "Tennessee",
             "Poverty falls 1% from 15.5% to 15.3%",
             "Deep poverty falls 0% from 6.1% to 6.0%",
             "Child poverty falls 0% from 18.6% to 18.5%",
             "Deep child poverty falls 0% from 7.0% to 7.0%"
            ],
            [
             "Texas",
             "Poverty falls 1% from 16.3% to 16.1%",
             "Deep poverty falls 2% from 6.0% to 5.9%",
             "Child poverty falls 1% from 19.0% to 18.8%",
             "Deep child poverty falls 1% from 6.2% to 6.1%"
            ],
            [
             "Utah",
             "Poverty falls 1% from 10.0% to 9.9%",
             "Deep poverty falls 3% from 4.2% to 4.1%",
             "Child poverty falls 1% from 8.2% to 8.1%",
             "Deep child poverty falls 5% from 2.9% to 2.7%"
            ],
            [
             "Vermont",
             "Poverty falls 1% from 11.6% to 11.5%",
             "Deep poverty falls 1% from 4.7% to 4.6%",
             "Child poverty falls 1% from 10.3% to 10.2%",
             "Deep child poverty falls 1% from 3.8% to 3.7%"
            ],
            [
             "Virginia",
             "Poverty falls 1% from 14.6% to 14.4%",
             "Deep poverty falls 2% from 5.5% to 5.4%",
             "Child poverty falls 1% from 17.1% to 16.9%",
             "Deep child poverty falls 1% from 5.6% to 5.6%"
            ],
            [
             "Washington",
             "Poverty falls 2% from 11.8% to 11.5%",
             "Deep poverty falls 2% from 4.6% to 4.5%",
             "Child poverty falls 3% from 11.9% to 11.5%",
             "Deep child poverty falls 2% from 3.8% to 3.7%"
            ],
            [
             "West Virginia",
             "Poverty falls 1% from 16.1% to 15.9%",
             "Deep poverty falls 3% from 6.2% to 6.1%",
             "Child poverty falls 2% from 17.9% to 17.6%",
             "Deep child poverty falls 2% from 6.2% to 6.1%"
            ],
            [
             "Wisconsin",
             "Poverty falls 1% from 10.6% to 10.5%",
             "Deep poverty falls 1% from 4.2% to 4.1%",
             "Child poverty falls 1% from 10.0% to 9.9%",
             "Deep child poverty rises 3% from 3.3% to 3.4%"
            ],
            [
             "Wyoming",
             "Poverty falls 1% from 11.4% to 11.2%",
             "Deep poverty falls -0% from 5.5% to 5.5%",
             "Child poverty falls 0% from 11.7% to 11.7%",
             "Deep child poverty falls -0% from 4.6% to 4.6%"
            ]
           ],
           "geo": "geo",
           "hovertemplate": "<b>%{customdata[0]}</b><br>%{customdata[1]}<br>%{customdata[2]}<br>%{customdata[3]}<br>%{customdata[4]}",
           "locationmode": "USA-states",
           "locations": [
            "AL",
            "AK",
            "AZ",
            "AR",
            "CA",
            "CO",
            "CT",
            "DE",
            "DC",
            "FL",
            "GA",
            "HI",
            "ID",
            "IL",
            "IN",
            "IA",
            "KS",
            "KY",
            "LA",
            "ME",
            "MD",
            "MA",
            "MI",
            "MN",
            "MS",
            "MO",
            "MT",
            "NE",
            "NV",
            "NH",
            "NJ",
            "NM",
            "NY",
            "NC",
            "ND",
            "OH",
            "OK",
            "OR",
            "PA",
            "RI",
            "SC",
            "SD",
            "TN",
            "TX",
            "UT",
            "VT",
            "VA",
            "WA",
            "WV",
            "WI",
            "WY"
           ],
           "name": "",
           "type": "choropleth",
           "z": [
            0.0036524642769828,
            0.0221345927867666,
            0.0199873883461503,
            0.0011695210067235,
            0.0219979013002039,
            0.0106668387878924,
            0.0125398879213881,
            0.0106327212411883,
            0.0152990598119623,
            0.013211581360116,
            0.0094329303414861,
            0.0190705915205438,
            0.0014082503556187,
            0.0130190996109061,
            0.0073448118835852,
            -0.0004829148611378,
            0.0060003984407288,
            0.0077714697308272,
            0.0085712068111123,
            0.0297519753416946,
            0.0194441824640825,
            0.0144710035865077,
            0.0090991232033121,
            0.0196737889229124,
            0.0076822359982899,
            -0.0013687358680973,
            0.0079815616292168,
            0.0158682748288484,
            0.0181998269451344,
            0.0154676404950294,
            0.0163054943653196,
            0.0110112300311068,
            0.0204530458346327,
            0.009640217155807,
            -0.0157780033436829,
            0.0067565719479532,
            0.000683808445402,
            0.0254409592492829,
            0.0149637576855193,
            0.0218985633780458,
            0.0157654917088452,
            -0.0013529146487325,
            0.0106314165012032,
            0.0121372293236053,
            0.0128776701520304,
            0.0100420564758388,
            0.0129597296396436,
            0.0183143860279013,
            0.0113878324982259,
            0.0063357990137279,
            0.0109857528517701
           ]
          }
         ],
         "name": "20"
        },
        {
         "data": [
          {
           "coloraxis": "coloraxis",
           "customdata": [
            [
             "Alabama",
             "Poverty falls 1% from 17.1% to 16.9%",
             "Deep poverty falls 2% from 6.9% to 6.8%",
             "Child poverty falls 1% from 20.3% to 20.2%",
             "Deep child poverty falls 2% from 7.7% to 7.6%"
            ],
            [
             "Alaska",
             "Poverty falls 3% from 12.5% to 12.1%",
             "Deep poverty falls 1% from 4.2% to 4.1%",
             "Child poverty falls 2% from 12.6% to 12.3%",
             "Deep child poverty falls 3% from 3.1% to 3.1%"
            ],
            [
             "Arizona",
             "Poverty falls 2% from 15.1% to 14.7%",
             "Deep poverty falls 3% from 5.7% to 5.5%",
             "Child poverty falls 2% from 17.3% to 16.9%",
             "Deep child poverty falls 2% from 5.7% to 5.6%"
            ],
            [
             "Arkansas",
             "Poverty falls 0% from 16.1% to 16.0%",
             "Deep poverty falls 0% from 6.1% to 6.1%",
             "Child poverty rises 1% from 17.9% to 18.0%",
             "Deep child poverty falls 1% from 6.6% to 6.6%"
            ],
            [
             "California",
             "Poverty falls 3% from 20.3% to 19.8%",
             "Deep poverty falls 3% from 6.6% to 6.4%",
             "Child poverty falls 3% from 23.8% to 23.1%",
             "Deep child poverty falls 4% from 6.4% to 6.1%"
            ],
            [
             "Colorado",
             "Poverty falls 1% from 12.8% to 12.6%",
             "Deep poverty falls 2% from 5.0% to 5.0%",
             "Child poverty falls 2% from 13.6% to 13.3%",
             "Deep child poverty falls 1% from 4.3% to 4.2%"
            ],
            [
             "Connecticut",
             "Poverty falls 2% from 12.9% to 12.7%",
             "Deep poverty falls 1% from 4.5% to 4.5%",
             "Child poverty falls 2% from 15.5% to 15.2%",
             "Deep child poverty falls 0% from 4.5% to 4.5%"
            ],
            [
             "Delaware",
             "Poverty falls 1% from 13.6% to 13.4%",
             "Deep poverty falls 5% from 5.1% to 4.9%",
             "Child poverty falls 1% from 16.4% to 16.2%",
             "Deep child poverty falls -0% from 5.4% to 5.4%"
            ],
            [
             "District of Columbia",
             "Poverty falls 2% from 18.9% to 18.5%",
             "Deep poverty falls 1% from 9.4% to 9.3%",
             "Child poverty falls 1% from 27.1% to 26.9%",
             "Deep child poverty falls -0% from 13.5% to 13.5%"
            ],
            [
             "Florida",
             "Poverty falls 2% from 18.1% to 17.8%",
             "Deep poverty falls 3% from 6.4% to 6.3%",
             "Child poverty falls 1% from 21.3% to 21.0%",
             "Deep child poverty falls 3% from 6.7% to 6.6%"
            ],
            [
             "Georgia",
             "Poverty falls 1% from 15.4% to 15.3%",
             "Deep poverty falls 2% from 6.0% to 5.9%",
             "Child poverty falls 1% from 17.8% to 17.6%",
             "Deep child poverty falls 2% from 6.3% to 6.1%"
            ],
            [
             "Hawaii",
             "Poverty falls 3% from 15.1% to 14.7%",
             "Deep poverty falls 2% from 4.4% to 4.3%",
             "Child poverty falls 3% from 18.5% to 18.0%",
             "Deep child poverty falls 2% from 3.4% to 3.4%"
            ],
            [
             "Idaho",
             "Poverty rises 0% from 12.2% to 12.2%",
             "Deep poverty falls 3% from 5.0% to 4.8%",
             "Child poverty rises 1% from 11.8% to 11.9%",
             "Deep child poverty falls 4% from 4.4% to 4.2%"
            ],
            [
             "Illinois",
             "Poverty falls 1% from 13.6% to 13.4%",
             "Deep poverty falls 2% from 4.9% to 4.8%",
             "Child poverty falls 0% from 14.7% to 14.6%",
             "Deep child poverty rises 1% from 4.2% to 4.2%"
            ],
            [
             "Indiana",
             "Poverty falls 1% from 13.3% to 13.2%",
             "Deep poverty falls 2% from 5.5% to 5.4%",
             "Child poverty falls 1% from 14.7% to 14.5%",
             "Deep child poverty falls 1% from 5.5% to 5.4%"
            ],
            [
             "Iowa",
             "Poverty falls 0% from 10.1% to 10.1%",
             "Deep poverty falls 2% from 4.3% to 4.3%",
             "Child poverty rises 0% from 9.0% to 9.0%",
             "Deep child poverty falls 4% from 3.2% to 3.1%"
            ],
            [
             "Kansas",
             "Poverty falls 1% from 11.9% to 11.8%",
             "Deep poverty falls 1% from 4.7% to 4.6%",
             "Child poverty rises 0% from 10.6% to 10.7%",
             "Deep child poverty rises 1% from 3.5% to 3.5%"
            ],
            [
             "Kentucky",
             "Poverty falls 1% from 16.3% to 16.1%",
             "Deep poverty falls 2% from 6.5% to 6.4%",
             "Child poverty falls 0% from 18.4% to 18.3%",
             "Deep child poverty falls 2% from 7.4% to 7.3%"
            ],
            [
             "Louisiana",
             "Poverty falls 1% from 18.5% to 18.3%",
             "Deep poverty falls 3% from 6.9% to 6.7%",
             "Child poverty falls 1% from 21.3% to 21.2%",
             "Deep child poverty falls 3% from 7.5% to 7.3%"
            ],
            [
             "Maine",
             "Poverty falls 3% from 11.2% to 10.8%",
             "Deep poverty falls 2% from 4.6% to 4.5%",
             "Child poverty falls 5% from 10.9% to 10.3%",
             "Deep child poverty falls 3% from 4.5% to 4.4%"
            ],
            [
             "Maryland",
             "Poverty falls 2% from 12.9% to 12.6%",
             "Deep poverty falls 1% from 4.7% to 4.6%",
             "Child poverty falls 3% from 15.2% to 14.7%",
             "Deep child poverty rises 0% from 5.1% to 5.1%"
            ],
            [
             "Massachusetts",
             "Poverty falls 2% from 13.9% to 13.6%",
             "Deep poverty falls 2% from 5.0% to 4.9%",
             "Child poverty falls 2% from 15.7% to 15.4%",
             "Deep child poverty falls 2% from 4.7% to 4.6%"
            ],
            [
             "Michigan",
             "Poverty falls 1% from 14.0% to 13.8%",
             "Deep poverty falls 1% from 5.6% to 5.5%",
             "Child poverty falls 1% from 15.3% to 15.1%",
             "Deep child poverty falls 1% from 5.5% to 5.4%"
            ],
            [
             "Minnesota",
             "Poverty falls 2% from 9.6% to 9.4%",
             "Deep poverty falls 1% from 3.8% to 3.8%",
             "Child poverty falls 3% from 8.3% to 8.0%",
             "Deep child poverty rises 1% from 2.3% to 2.4%"
            ],
            [
             "Mississippi",
             "Poverty falls 1% from 18.1% to 18.0%",
             "Deep poverty falls 2% from 7.5% to 7.3%",
             "Child poverty falls 0% from 20.7% to 20.7%",
             "Deep child poverty falls 2% from 8.4% to 8.2%"
            ],
            [
             "Missouri",
             "Poverty rises 0% from 12.8% to 12.8%",
             "Deep poverty falls 1% from 5.2% to 5.1%",
             "Child poverty rises 1% from 14.4% to 14.5%",
             "Deep child poverty falls 2% from 5.2% to 5.1%"
            ],
            [
             "Montana",
             "Poverty falls 1% from 13.1% to 13.0%",
             "Deep poverty falls 1% from 5.2% to 5.1%",
             "Child poverty rises 1% from 12.8% to 12.9%",
             "Deep child poverty falls 1% from 4.6% to 4.5%"
            ],
            [
             "Nebraska",
             "Poverty falls 2% from 11.2% to 11.1%",
             "Deep poverty rises 0% from 4.5% to 4.5%",
             "Child poverty falls 3% from 9.8% to 9.6%",
             "Deep child poverty falls -0% from 3.8% to 3.8%"
            ],
            [
             "Nevada",
             "Poverty falls 2% from 14.9% to 14.6%",
             "Deep poverty falls 4% from 5.7% to 5.5%",
             "Child poverty falls 4% from 16.2% to 15.6%",
             "Deep child poverty falls 7% from 5.8% to 5.3%"
            ],
            [
             "New Hampshire",
             "Poverty falls 2% from 9.4% to 9.2%",
             "Deep poverty falls 0% from 3.4% to 3.4%",
             "Child poverty falls 2% from 11.2% to 11.0%",
             "Deep child poverty falls -0% from 3.7% to 3.7%"
            ],
            [
             "New Jersey",
             "Poverty falls 2% from 14.0% to 13.7%",
             "Deep poverty falls 3% from 4.6% to 4.5%",
             "Child poverty falls 2% from 17.0% to 16.7%",
             "Deep child poverty falls 2% from 5.4% to 5.3%"
            ],
            [
             "New Mexico",
             "Poverty falls 1% from 18.5% to 18.2%",
             "Deep poverty falls 1% from 7.3% to 7.2%",
             "Child poverty falls 1% from 20.5% to 20.3%",
             "Deep child poverty falls 2% from 7.4% to 7.2%"
            ],
            [
             "New York",
             "Poverty falls 3% from 17.9% to 17.4%",
             "Deep poverty falls 4% from 6.3% to 6.0%",
             "Child poverty falls 2% from 21.4% to 20.9%",
             "Deep child poverty falls 3% from 7.1% to 6.8%"
            ],
            [
             "North Carolina",
             "Poverty falls 1% from 14.3% to 14.1%",
             "Deep poverty falls 3% from 5.6% to 5.5%",
             "Child poverty falls 1% from 16.2% to 16.0%",
             "Deep child poverty falls 3% from 5.9% to 5.8%"
            ],
            [
             "North Dakota",
             "Poverty rises 2% from 9.1% to 9.3%",
             "Deep poverty rises 0% from 4.7% to 4.7%",
             "Child poverty rises 3% from 6.3% to 6.5%",
             "Deep child poverty falls -0% from 2.7% to 2.7%"
            ],
            [
             "Ohio",
             "Poverty falls 1% from 12.5% to 12.4%",
             "Deep poverty falls 1% from 4.8% to 4.8%",
             "Child poverty rises 0% from 14.0% to 14.0%",
             "Deep child poverty falls 1% from 4.9% to 4.8%"
            ],
            [
             "Oklahoma",
             "Poverty falls 1% from 14.2% to 14.1%",
             "Deep poverty rises 0% from 5.5% to 5.5%",
             "Child poverty falls 0% from 15.6% to 15.6%",
             "Deep child poverty rises 2% from 5.4% to 5.5%"
            ],
            [
             "Oregon",
             "Poverty falls 3% from 14.0% to 13.6%",
             "Deep poverty falls 3% from 5.1% to 4.9%",
             "Child poverty falls 3% from 14.3% to 14.0%",
             "Deep child poverty falls 5% from 4.6% to 4.3%"
            ],
            [
             "Pennsylvania",
             "Poverty falls 2% from 13.5% to 13.2%",
             "Deep poverty falls 3% from 5.2% to 5.0%",
             "Child poverty falls 3% from 14.7% to 14.3%",
             "Deep child poverty falls 2% from 5.1% to 5.0%"
            ],
            [
             "Rhode Island",
             "Poverty falls 2% from 12.4% to 12.1%",
             "Deep poverty falls 2% from 4.7% to 4.6%",
             "Child poverty falls 0% from 15.1% to 15.0%",
             "Deep child poverty falls 1% from 5.6% to 5.5%"
            ],
            [
             "South Carolina",
             "Poverty falls 2% from 15.6% to 15.4%",
             "Deep poverty falls 3% from 6.3% to 6.1%",
             "Child poverty falls 1% from 17.9% to 17.8%",
             "Deep child poverty falls 5% from 6.5% to 6.2%"
            ],
            [
             "South Dakota",
             "Poverty rises 0% from 12.0% to 12.1%",
             "Deep poverty falls 4% from 5.7% to 5.4%",
             "Child poverty rises 1% from 11.9% to 12.1%",
             "Deep child poverty falls 4% from 6.0% to 5.8%"
            ],
            [
             "Tennessee",
             "Poverty falls 1% from 15.5% to 15.3%",
             "Deep poverty falls 1% from 6.1% to 6.0%",
             "Child poverty falls 1% from 18.6% to 18.4%",
             "Deep child poverty falls 0% from 7.0% to 7.0%"
            ],
            [
             "Texas",
             "Poverty falls 2% from 16.3% to 16.0%",
             "Deep poverty falls 2% from 6.0% to 5.9%",
             "Child poverty falls 2% from 19.0% to 18.7%",
             "Deep child poverty falls 2% from 6.2% to 6.1%"
            ],
            [
             "Utah",
             "Poverty falls 2% from 10.0% to 9.9%",
             "Deep poverty falls 4% from 4.2% to 4.0%",
             "Child poverty falls 1% from 8.2% to 8.1%",
             "Deep child poverty falls 5% from 2.9% to 2.7%"
            ],
            [
             "Vermont",
             "Poverty falls 1% from 11.6% to 11.5%",
             "Deep poverty falls 1% from 4.7% to 4.6%",
             "Child poverty falls 1% from 10.3% to 10.2%",
             "Deep child poverty falls 1% from 3.8% to 3.7%"
            ],
            [
             "Virginia",
             "Poverty falls 1% from 14.6% to 14.4%",
             "Deep poverty falls 2% from 5.5% to 5.4%",
             "Child poverty falls 1% from 17.1% to 16.9%",
             "Deep child poverty falls 1% from 5.6% to 5.6%"
            ],
            [
             "Washington",
             "Poverty falls 2% from 11.8% to 11.5%",
             "Deep poverty falls 3% from 4.6% to 4.5%",
             "Child poverty falls 3% from 11.9% to 11.5%",
             "Deep child poverty falls 2% from 3.8% to 3.7%"
            ],
            [
             "West Virginia",
             "Poverty falls 1% from 16.1% to 15.9%",
             "Deep poverty falls 3% from 6.2% to 6.1%",
             "Child poverty falls 2% from 17.9% to 17.6%",
             "Deep child poverty falls 2% from 6.2% to 6.1%"
            ],
            [
             "Wisconsin",
             "Poverty falls 1% from 10.6% to 10.5%",
             "Deep poverty falls 1% from 4.2% to 4.1%",
             "Child poverty falls 1% from 10.0% to 9.9%",
             "Deep child poverty rises 2% from 3.3% to 3.3%"
            ],
            [
             "Wyoming",
             "Poverty falls 1% from 11.4% to 11.3%",
             "Deep poverty falls 2% from 5.5% to 5.4%",
             "Child poverty falls 0% from 11.7% to 11.7%",
             "Deep child poverty falls 6% from 4.6% to 4.3%"
            ]
           ],
           "geo": "geo",
           "hovertemplate": "<b>%{customdata[0]}</b><br>%{customdata[1]}<br>%{customdata[2]}<br>%{customdata[3]}<br>%{customdata[4]}",
           "locationmode": "USA-states",
           "locations": [
            "AL",
            "AK",
            "AZ",
            "AR",
            "CA",
            "CO",
            "CT",
            "DE",
            "DC",
            "FL",
            "GA",
            "HI",
            "ID",
            "IL",
            "IN",
            "IA",
            "KS",
            "KY",
            "LA",
            "ME",
            "MD",
            "MA",
            "MI",
            "MN",
            "MS",
            "MO",
            "MT",
            "NE",
            "NV",
            "NH",
            "NJ",
            "NM",
            "NY",
            "NC",
            "ND",
            "OH",
            "OK",
            "OR",
            "PA",
            "RI",
            "SC",
            "SD",
            "TN",
            "TX",
            "UT",
            "VT",
            "VA",
            "WA",
            "WV",
            "WI",
            "WY"
           ],
           "name": "",
           "type": "choropleth",
           "z": [
            0.0073786412538039,
            0.0257841453493626,
            0.0246287041999081,
            0.0013821611897644,
            0.0286217480621285,
            0.0138393884458015,
            0.0180092703677875,
            0.0106327212411883,
            0.0169873974794958,
            0.0180654146978153,
            0.0101859714324914,
            0.0251273459090427,
            -0.0009340919867235,
            0.0122639918334734,
            0.0131816950364013,
            0.0009982401156404,
            0.006975686195218,
            0.0112226204925192,
            0.0082225313598939,
            0.0345985130877112,
            0.0223796724197554,
            0.0230693567449293,
            0.0135167339944762,
            0.0238835138989097,
            0.0086728150003055,
            -0.0000879245476150814,
            0.0068551016778324,
            0.015555365913789,
            0.0249610402967418,
            0.0177317914384255,
            0.0221396903583268,
            0.0137581061844257,
            0.025577442155497,
            0.0119784560839552,
            -0.0161661093861953,
            0.0081038186483909,
            0.0061211885031948,
            0.0306316795551305,
            0.0215646409554014,
            0.0218985633780458,
            0.0158858784999548,
            -0.0021764279131781,
            0.0114867053471212,
            0.0151696259847592,
            0.0160048752325357,
            0.0087116985666463,
            0.0147553498481868,
            0.0240497865910845,
            0.0127967457282388,
            0.0066156870585099,
            0.0066632336189003
           ]
          }
         ],
         "name": "25"
        },
        {
         "data": [
          {
           "coloraxis": "coloraxis",
           "customdata": [
            [
             "Alabama",
             "Poverty falls 1% from 17.1% to 16.9%",
             "Deep poverty falls 3% from 6.9% to 6.7%",
             "Child poverty falls 0% from 20.3% to 20.3%",
             "Deep child poverty falls 2% from 7.7% to 7.5%"
            ],
            [
             "Alaska",
             "Poverty falls 3% from 12.5% to 12.1%",
             "Deep poverty falls 1% from 4.2% to 4.1%",
             "Child poverty falls 3% from 12.6% to 12.2%",
             "Deep child poverty falls 3% from 3.1% to 3.1%"
            ],
            [
             "Arizona",
             "Poverty falls 3% from 15.1% to 14.6%",
             "Deep poverty falls 3% from 5.7% to 5.5%",
             "Child poverty falls 3% from 17.3% to 16.8%",
             "Deep child poverty falls 3% from 5.7% to 5.6%"
            ],
            [
             "Arkansas",
             "Poverty rises 0% from 16.1% to 16.1%",
             "Deep poverty falls 2% from 6.1% to 5.9%",
             "Child poverty rises 1% from 17.9% to 18.1%",
             "Deep child poverty falls 4% from 6.6% to 6.4%"
            ],
            [
             "California",
             "Poverty falls 3% from 20.3% to 19.6%",
             "Deep poverty falls 4% from 6.6% to 6.3%",
             "Child poverty falls 3% from 23.8% to 23.0%",
             "Deep child poverty falls 5% from 6.4% to 6.0%"
            ],
            [
             "Colorado",
             "Poverty falls 2% from 12.8% to 12.6%",
             "Deep poverty falls 2% from 5.0% to 5.0%",
             "Child poverty falls 2% from 13.6% to 13.3%",
             "Deep child poverty falls 1% from 4.3% to 4.2%"
            ],
            [
             "Connecticut",
             "Poverty falls 2% from 12.9% to 12.6%",
             "Deep poverty falls 2% from 4.5% to 4.5%",
             "Child poverty falls 2% from 15.5% to 15.2%",
             "Deep child poverty falls 1% from 4.5% to 4.5%"
            ],
            [
             "Delaware",
             "Poverty falls 1% from 13.6% to 13.4%",
             "Deep poverty falls 5% from 5.1% to 4.9%",
             "Child poverty falls 1% from 16.4% to 16.2%",
             "Deep child poverty falls -0% from 5.4% to 5.4%"
            ],
            [
             "District of Columbia",
             "Poverty falls 4% from 18.9% to 18.2%",
             "Deep poverty falls 1% from 9.4% to 9.4%",
             "Child poverty falls 4% from 27.1% to 26.0%",
             "Deep child poverty falls -0% from 13.5% to 13.5%"
            ],
            [
             "Florida",
             "Poverty falls 2% from 18.1% to 17.7%",
             "Deep poverty falls 3% from 6.4% to 6.2%",
             "Child poverty falls 2% from 21.3% to 20.9%",
             "Deep child poverty falls 3% from 6.7% to 6.6%"
            ],
            [
             "Georgia",
             "Poverty falls 1% from 15.4% to 15.2%",
             "Deep poverty falls 2% from 6.0% to 5.9%",
             "Child poverty falls 1% from 17.8% to 17.6%",
             "Deep child poverty falls 2% from 6.3% to 6.1%"
            ],
            [
             "Hawaii",
             "Poverty falls 3% from 15.1% to 14.6%",
             "Deep poverty falls 3% from 4.4% to 4.2%",
             "Child poverty falls 5% from 18.5% to 17.6%",
             "Deep child poverty falls 2% from 3.4% to 3.4%"
            ],
            [
             "Idaho",
             "Poverty falls 0% from 12.2% to 12.2%",
             "Deep poverty falls 3% from 5.0% to 4.8%",
             "Child poverty rises 1% from 11.8% to 11.9%",
             "Deep child poverty falls 5% from 4.4% to 4.2%"
            ],
            [
             "Illinois",
             "Poverty falls 2% from 13.6% to 13.3%",
             "Deep poverty falls 2% from 4.9% to 4.8%",
             "Child poverty falls 1% from 14.7% to 14.5%",
             "Deep child poverty rises 1% from 4.2% to 4.2%"
            ],
            [
             "Indiana",
             "Poverty falls 1% from 13.3% to 13.1%",
             "Deep poverty falls 2% from 5.5% to 5.4%",
             "Child poverty falls 2% from 14.7% to 14.5%",
             "Deep child poverty falls 0% from 5.5% to 5.5%"
            ],
            [
             "Iowa",
             "Poverty falls 0% from 10.1% to 10.1%",
             "Deep poverty falls 2% from 4.3% to 4.2%",
             "Child poverty rises 0% from 9.0% to 9.0%",
             "Deep child poverty falls 4% from 3.2% to 3.1%"
            ],
            [
             "Kansas",
             "Poverty falls 0% from 11.9% to 11.8%",
             "Deep poverty falls 3% from 4.7% to 4.5%",
             "Child poverty rises 1% from 10.6% to 10.7%",
             "Deep child poverty falls 0% from 3.5% to 3.5%"
            ],
            [
             "Kentucky",
             "Poverty falls 1% from 16.3% to 16.0%",
             "Deep poverty falls 2% from 6.5% to 6.4%",
             "Child poverty falls 1% from 18.4% to 18.3%",
             "Deep child poverty falls 2% from 7.4% to 7.3%"
            ],
            [
             "Louisiana",
             "Poverty falls 1% from 18.5% to 18.3%",
             "Deep poverty falls 3% from 6.9% to 6.7%",
             "Child poverty falls 1% from 21.3% to 21.2%",
             "Deep child poverty falls 3% from 7.5% to 7.3%"
            ],
            [
             "Maine",
             "Poverty falls 4% from 11.2% to 10.8%",
             "Deep poverty falls 1% from 4.6% to 4.5%",
             "Child poverty falls 5% from 10.9% to 10.3%",
             "Deep child poverty falls 3% from 4.5% to 4.4%"
            ],
            [
             "Maryland",
             "Poverty falls 3% from 12.9% to 12.6%",
             "Deep poverty falls 1% from 4.7% to 4.6%",
             "Child poverty falls 3% from 15.2% to 14.7%",
             "Deep child poverty falls 1% from 5.1% to 5.0%"
            ],
            [
             "Massachusetts",
             "Poverty falls 3% from 13.9% to 13.6%",
             "Deep poverty falls 3% from 5.0% to 4.8%",
             "Child poverty falls 3% from 15.7% to 15.3%",
             "Deep child poverty falls 2% from 4.7% to 4.6%"
            ],
            [
             "Michigan",
             "Poverty falls 2% from 14.0% to 13.8%",
             "Deep poverty falls 1% from 5.6% to 5.5%",
             "Child poverty falls 2% from 15.3% to 15.1%",
             "Deep child poverty falls 1% from 5.5% to 5.4%"
            ],
            [
             "Minnesota",
             "Poverty falls 2% from 9.6% to 9.4%",
             "Deep poverty falls 1% from 3.8% to 3.8%",
             "Child poverty falls 3% from 8.3% to 8.0%",
             "Deep child poverty rises 1% from 2.3% to 2.4%"
            ],
            [
             "Mississippi",
             "Poverty falls 1% from 18.1% to 17.9%",
             "Deep poverty falls 2% from 7.5% to 7.3%",
             "Child poverty falls 0% from 20.7% to 20.7%",
             "Deep child poverty falls 1% from 8.4% to 8.3%"
            ],
            [
             "Missouri",
             "Poverty falls 1% from 12.8% to 12.7%",
             "Deep poverty falls 1% from 5.2% to 5.1%",
             "Child poverty rises 0% from 14.4% to 14.4%",
             "Deep child poverty falls 2% from 5.2% to 5.1%"
            ],
            [
             "Montana",
             "Poverty falls 0% from 13.1% to 13.0%",
             "Deep poverty falls 1% from 5.2% to 5.1%",
             "Child poverty rises 1% from 12.8% to 13.0%",
             "Deep child poverty falls 1% from 4.6% to 4.5%"
            ],
            [
             "Nebraska",
             "Poverty falls 2% from 11.2% to 11.0%",
             "Deep poverty rises 0% from 4.5% to 4.5%",
             "Child poverty falls 3% from 9.8% to 9.6%",
             "Deep child poverty falls -0% from 3.8% to 3.8%"
            ],
            [
             "Nevada",
             "Poverty falls 3% from 14.9% to 14.4%",
             "Deep poverty falls 4% from 5.7% to 5.5%",
             "Child poverty falls 5% from 16.2% to 15.4%",
             "Deep child poverty falls 7% from 5.8% to 5.3%"
            ],
            [
             "New Hampshire",
             "Poverty falls 2% from 9.4% to 9.2%",
             "Deep poverty falls 0% from 3.4% to 3.4%",
             "Child poverty falls 2% from 11.2% to 11.0%",
             "Deep child poverty falls -0% from 3.7% to 3.7%"
            ],
            [
             "New Jersey",
             "Poverty falls 3% from 14.0% to 13.6%",
             "Deep poverty falls 3% from 4.6% to 4.5%",
             "Child poverty falls 3% from 17.0% to 16.5%",
             "Deep child poverty falls 2% from 5.4% to 5.3%"
            ],
            [
             "New Mexico",
             "Poverty falls 2% from 18.5% to 18.1%",
             "Deep poverty falls 2% from 7.3% to 7.1%",
             "Child poverty falls 1% from 20.5% to 20.2%",
             "Deep child poverty falls 2% from 7.4% to 7.2%"
            ],
            [
             "New York",
             "Poverty falls 3% from 17.9% to 17.3%",
             "Deep poverty falls 5% from 6.3% to 6.0%",
             "Child poverty falls 2% from 21.4% to 20.9%",
             "Deep child poverty falls 5% from 7.1% to 6.8%"
            ],
            [
             "North Carolina",
             "Poverty falls 1% from 14.3% to 14.1%",
             "Deep poverty falls 3% from 5.6% to 5.5%",
             "Child poverty falls 2% from 16.2% to 15.9%",
             "Deep child poverty falls 2% from 5.9% to 5.8%"
            ],
            [
             "North Dakota",
             "Poverty rises 2% from 9.1% to 9.3%",
             "Deep poverty rises 0% from 4.7% to 4.7%",
             "Child poverty rises 3% from 6.3% to 6.5%",
             "Deep child poverty falls -0% from 2.7% to 2.7%"
            ],
            [
             "Ohio",
             "Poverty falls 1% from 12.5% to 12.4%",
             "Deep poverty falls 2% from 4.8% to 4.8%",
             "Child poverty falls 0% from 14.0% to 14.0%",
             "Deep child poverty falls 1% from 4.9% to 4.8%"
            ],
            [
             "Oklahoma",
             "Poverty falls 1% from 14.2% to 14.1%",
             "Deep poverty rises 0% from 5.5% to 5.5%",
             "Child poverty falls 0% from 15.6% to 15.6%",
             "Deep child poverty rises 2% from 5.4% to 5.5%"
            ],
            [
             "Oregon",
             "Poverty falls 3% from 14.0% to 13.6%",
             "Deep poverty falls 4% from 5.1% to 4.9%",
             "Child poverty falls 3% from 14.3% to 14.0%",
             "Deep child poverty falls 5% from 4.6% to 4.3%"
            ],
            [
             "Pennsylvania",
             "Poverty falls 2% from 13.5% to 13.2%",
             "Deep poverty falls 3% from 5.2% to 5.0%",
             "Child poverty falls 3% from 14.7% to 14.3%",
             "Deep child poverty falls 2% from 5.1% to 5.0%"
            ],
            [
             "Rhode Island",
             "Poverty falls 2% from 12.4% to 12.1%",
             "Deep poverty falls 2% from 4.7% to 4.6%",
             "Child poverty falls 0% from 15.1% to 15.0%",
             "Deep child poverty falls 1% from 5.6% to 5.5%"
            ],
            [
             "South Carolina",
             "Poverty falls 2% from 15.6% to 15.3%",
             "Deep poverty falls 3% from 6.3% to 6.1%",
             "Child poverty falls 2% from 17.9% to 17.6%",
             "Deep child poverty falls 4% from 6.5% to 6.3%"
            ],
            [
             "South Dakota",
             "Poverty falls 0% from 12.0% to 12.0%",
             "Deep poverty falls 5% from 5.7% to 5.4%",
             "Child poverty rises 0% from 11.9% to 12.0%",
             "Deep child poverty falls 5% from 6.0% to 5.7%"
            ],
            [
             "Tennessee",
             "Poverty falls 2% from 15.5% to 15.2%",
             "Deep poverty falls 1% from 6.1% to 6.0%",
             "Child poverty falls 1% from 18.6% to 18.4%",
             "Deep child poverty falls 0% from 7.0% to 7.0%"
            ],
            [
             "Texas",
             "Poverty falls 2% from 16.3% to 16.0%",
             "Deep poverty falls 2% from 6.0% to 5.8%",
             "Child poverty falls 2% from 19.0% to 18.7%",
             "Deep child poverty falls 2% from 6.2% to 6.1%"
            ],
            [
             "Utah",
             "Poverty falls 2% from 10.0% to 9.9%",
             "Deep poverty falls 4% from 4.2% to 4.0%",
             "Child poverty falls 1% from 8.2% to 8.1%",
             "Deep child poverty falls 5% from 2.9% to 2.7%"
            ],
            [
             "Vermont",
             "Poverty falls 2% from 11.6% to 11.4%",
             "Deep poverty falls 1% from 4.7% to 4.6%",
             "Child poverty falls 1% from 10.3% to 10.1%",
             "Deep child poverty falls 1% from 3.8% to 3.7%"
            ],
            [
             "Virginia",
             "Poverty falls 2% from 14.6% to 14.4%",
             "Deep poverty falls 2% from 5.5% to 5.4%",
             "Child poverty falls 1% from 17.1% to 16.8%",
             "Deep child poverty falls 1% from 5.6% to 5.6%"
            ],
            [
             "Washington",
             "Poverty falls 3% from 11.8% to 11.4%",
             "Deep poverty falls 3% from 4.6% to 4.5%",
             "Child poverty falls 4% from 11.9% to 11.4%",
             "Deep child poverty falls 3% from 3.8% to 3.7%"
            ],
            [
             "West Virginia",
             "Poverty falls 1% from 16.1% to 15.9%",
             "Deep poverty falls 3% from 6.2% to 6.1%",
             "Child poverty falls 2% from 17.9% to 17.6%",
             "Deep child poverty falls 1% from 6.2% to 6.2%"
            ],
            [
             "Wisconsin",
             "Poverty falls 1% from 10.6% to 10.5%",
             "Deep poverty falls 1% from 4.2% to 4.1%",
             "Child poverty falls 1% from 10.0% to 9.9%",
             "Deep child poverty rises 1% from 3.3% to 3.3%"
            ],
            [
             "Wyoming",
             "Poverty falls 1% from 11.4% to 11.3%",
             "Deep poverty falls 2% from 5.5% to 5.4%",
             "Child poverty falls 0% from 11.7% to 11.7%",
             "Deep child poverty falls 6% from 4.6% to 4.3%"
            ]
           ],
           "geo": "geo",
           "hovertemplate": "<b>%{customdata[0]}</b><br>%{customdata[1]}<br>%{customdata[2]}<br>%{customdata[3]}<br>%{customdata[4]}",
           "locationmode": "USA-states",
           "locations": [
            "AL",
            "AK",
            "AZ",
            "AR",
            "CA",
            "CO",
            "CT",
            "DE",
            "DC",
            "FL",
            "GA",
            "HI",
            "ID",
            "IL",
            "IN",
            "IA",
            "KS",
            "KY",
            "LA",
            "ME",
            "MD",
            "MA",
            "MI",
            "MN",
            "MS",
            "MO",
            "MT",
            "NE",
            "NV",
            "NH",
            "NJ",
            "NM",
            "NY",
            "NC",
            "ND",
            "OH",
            "OK",
            "OR",
            "PA",
            "RI",
            "SC",
            "SD",
            "TN",
            "TX",
            "UT",
            "VT",
            "VA",
            "WA",
            "WV",
            "WI",
            "WY"
           ],
           "name": "",
           "type": "choropleth",
           "z": [
            0.0069339079647799,
            0.0256937539546234,
            0.0290958050154995,
            -0.0003466034983563,
            0.0348401930194757,
            0.0155133609101468,
            0.0186887385437856,
            0.0113681706868624,
            0.0356151230246047,
            0.0225403606362453,
            0.0147958980441796,
            0.0347805991275962,
            0.0021384542437175,
            0.0186202713298713,
            0.0147876160776562,
            0.0009463834862565,
            0.0045017855496846,
            0.0138825871436835,
            0.011786901982793,
            0.0362048726239264,
            0.027676915338426,
            0.0285358451456095,
            0.0178488143433819,
            0.0216508257537453,
            0.0133565931716853,
            0.0055773033934938,
            0.0048763858421769,
            0.0172147313724375,
            0.03247126372533,
            0.0220166362345303,
            0.0311334285120877,
            0.0193414878473139,
            0.0298045603086261,
            0.014441290336871,
            -0.0161661093861953,
            0.0106973211461625,
            0.0050495209664493,
            0.0325328004170649,
            0.0242758569507379,
            0.0216842606556074,
            0.0205952026510983,
            0.0013725221074094,
            0.0163561759389827,
            0.0158897847079162,
            0.0157963948938355,
            0.0191972076788828,
            0.0174549833630121,
            0.0307495261735188,
            0.0136795234412798,
            0.0084133013461281,
            0.0062887193171355
           ]
          }
         ],
         "name": "30"
        },
        {
         "data": [
          {
           "coloraxis": "coloraxis",
           "customdata": [
            [
             "Alabama",
             "Poverty falls 1% from 17.1% to 16.9%",
             "Deep poverty falls 3% from 6.9% to 6.7%",
             "Child poverty falls 1% from 20.3% to 20.2%",
             "Deep child poverty falls 2% from 7.7% to 7.5%"
            ],
            [
             "Alaska",
             "Poverty falls 3% from 12.5% to 12.0%",
             "Deep poverty falls 2% from 4.2% to 4.1%",
             "Child poverty falls 4% from 12.6% to 12.1%",
             "Deep child poverty falls 3% from 3.1% to 3.1%"
            ],
            [
             "Arizona",
             "Poverty falls 3% from 15.1% to 14.6%",
             "Deep poverty falls 4% from 5.7% to 5.5%",
             "Child poverty falls 3% from 17.3% to 16.8%",
             "Deep child poverty falls 4% from 5.7% to 5.5%"
            ],
            [
             "Arkansas",
             "Poverty rises 0% from 16.1% to 16.1%",
             "Deep poverty falls 3% from 6.1% to 5.9%",
             "Child poverty rises 2% from 17.9% to 18.2%",
             "Deep child poverty falls 4% from 6.6% to 6.4%"
            ],
            [
             "California",
             "Poverty falls 4% from 20.3% to 19.5%",
             "Deep poverty falls 5% from 6.6% to 6.3%",
             "Child poverty falls 4% from 23.8% to 22.9%",
             "Deep child poverty falls 6% from 6.4% to 6.0%"
            ],
            [
             "Colorado",
             "Poverty falls 2% from 12.8% to 12.6%",
             "Deep poverty falls 2% from 5.0% to 4.9%",
             "Child poverty falls 2% from 13.6% to 13.3%",
             "Deep child poverty falls 2% from 4.3% to 4.2%"
            ],
            [
             "Connecticut",
             "Poverty falls 3% from 12.9% to 12.5%",
             "Deep poverty falls 3% from 4.5% to 4.4%",
             "Child poverty falls 3% from 15.5% to 15.1%",
             "Deep child poverty falls 1% from 4.5% to 4.5%"
            ],
            [
             "Delaware",
             "Poverty falls 1% from 13.6% to 13.4%",
             "Deep poverty falls 4% from 5.1% to 4.9%",
             "Child poverty falls 1% from 16.4% to 16.2%",
             "Deep child poverty rises 3% from 5.4% to 5.6%"
            ],
            [
             "District of Columbia",
             "Poverty falls 5% from 18.9% to 18.0%",
             "Deep poverty falls 1% from 9.4% to 9.3%",
             "Child poverty falls 4% from 27.1% to 26.0%",
             "Deep child poverty falls -0% from 13.5% to 13.5%"
            ],
            [
             "Florida",
             "Poverty falls 3% from 18.1% to 17.6%",
             "Deep poverty falls 4% from 6.4% to 6.2%",
             "Child poverty falls 2% from 21.3% to 20.8%",
             "Deep child poverty falls 3% from 6.7% to 6.5%"
            ],
            [
             "Georgia",
             "Poverty falls 2% from 15.4% to 15.2%",
             "Deep poverty falls 2% from 6.0% to 5.9%",
             "Child poverty falls 1% from 17.8% to 17.6%",
             "Deep child poverty falls 0% from 6.3% to 6.2%"
            ],
            [
             "Hawaii",
             "Poverty falls 4% from 15.1% to 14.5%",
             "Deep poverty falls 3% from 4.4% to 4.2%",
             "Child poverty falls 5% from 18.5% to 17.5%",
             "Deep child poverty falls 2% from 3.4% to 3.4%"
            ],
            [
             "Idaho",
             "Poverty falls 0% from 12.2% to 12.2%",
             "Deep poverty falls 4% from 5.0% to 4.8%",
             "Child poverty rises 1% from 11.8% to 12.0%",
             "Deep child poverty falls 5% from 4.4% to 4.2%"
            ],
            [
             "Illinois",
             "Poverty falls 2% from 13.6% to 13.3%",
             "Deep poverty falls 2% from 4.9% to 4.8%",
             "Child poverty falls 1% from 14.7% to 14.5%",
             "Deep child poverty rises 1% from 4.2% to 4.3%"
            ],
            [
             "Indiana",
             "Poverty falls 2% from 13.3% to 13.1%",
             "Deep poverty falls 2% from 5.5% to 5.4%",
             "Child poverty falls 2% from 14.7% to 14.4%",
             "Deep child poverty falls 0% from 5.5% to 5.5%"
            ],
            [
             "Iowa",
             "Poverty falls 1% from 10.1% to 10.0%",
             "Deep poverty falls 2% from 4.3% to 4.2%",
             "Child poverty falls 1% from 9.0% to 8.9%",
             "Deep child poverty falls 4% from 3.2% to 3.1%"
            ],
            [
             "Kansas",
             "Poverty falls 1% from 11.9% to 11.8%",
             "Deep poverty falls 3% from 4.7% to 4.5%",
             "Child poverty rises 1% from 10.6% to 10.7%",
             "Deep child poverty falls 0% from 3.5% to 3.5%"
            ],
            [
             "Kentucky",
             "Poverty falls 1% from 16.3% to 16.0%",
             "Deep poverty falls 2% from 6.5% to 6.4%",
             "Child poverty falls 1% from 18.4% to 18.3%",
             "Deep child poverty falls 2% from 7.4% to 7.3%"
            ],
            [
             "Louisiana",
             "Poverty falls 1% from 18.5% to 18.2%",
             "Deep poverty falls 4% from 6.9% to 6.7%",
             "Child poverty falls 1% from 21.3% to 21.2%",
             "Deep child poverty falls 4% from 7.5% to 7.2%"
            ],
            [
             "Maine",
             "Poverty falls 4% from 11.2% to 10.8%",
             "Deep poverty falls 2% from 4.6% to 4.5%",
             "Child poverty falls 5% from 10.9% to 10.3%",
             "Deep child poverty falls 3% from 4.5% to 4.4%"
            ],
            [
             "Maryland",
             "Poverty falls 3% from 12.9% to 12.5%",
             "Deep poverty falls 1% from 4.7% to 4.6%",
             "Child poverty falls 4% from 15.2% to 14.7%",
             "Deep child poverty falls 1% from 5.1% to 5.0%"
            ],
            [
             "Massachusetts",
             "Poverty falls 3% from 13.9% to 13.5%",
             "Deep poverty falls 3% from 5.0% to 4.8%",
             "Child poverty falls 3% from 15.7% to 15.3%",
             "Deep child poverty falls 2% from 4.7% to 4.6%"
            ],
            [
             "Michigan",
             "Poverty falls 2% from 14.0% to 13.7%",
             "Deep poverty falls 1% from 5.6% to 5.5%",
             "Child poverty falls 1% from 15.3% to 15.1%",
             "Deep child poverty falls 1% from 5.5% to 5.4%"
            ],
            [
             "Minnesota",
             "Poverty falls 2% from 9.6% to 9.4%",
             "Deep poverty falls 1% from 3.8% to 3.8%",
             "Child poverty falls 3% from 8.3% to 8.0%",
             "Deep child poverty rises 1% from 2.3% to 2.4%"
            ],
            [
             "Mississippi",
             "Poverty falls 2% from 18.1% to 17.8%",
             "Deep poverty falls 3% from 7.5% to 7.3%",
             "Child poverty falls 1% from 20.7% to 20.6%",
             "Deep child poverty falls 1% from 8.4% to 8.3%"
            ],
            [
             "Missouri",
             "Poverty falls 1% from 12.8% to 12.7%",
             "Deep poverty falls 1% from 5.2% to 5.1%",
             "Child poverty rises 1% from 14.4% to 14.5%",
             "Deep child poverty falls 2% from 5.2% to 5.1%"
            ],
            [
             "Montana",
             "Poverty falls 1% from 13.1% to 13.0%",
             "Deep poverty falls 7% from 5.2% to 4.8%",
             "Child poverty rises 2% from 12.8% to 13.0%",
             "Deep child poverty falls 14% from 4.6% to 4.0%"
            ],
            [
             "Nebraska",
             "Poverty falls 2% from 11.2% to 11.0%",
             "Deep poverty rises 0% from 4.5% to 4.5%",
             "Child poverty falls 3% from 9.8% to 9.6%",
             "Deep child poverty falls -0% from 3.8% to 3.8%"
            ],
            [
             "Nevada",
             "Poverty falls 4% from 14.9% to 14.3%",
             "Deep poverty falls 5% from 5.7% to 5.4%",
             "Child poverty falls 6% from 16.2% to 15.3%",
             "Deep child poverty falls 7% from 5.8% to 5.3%"
            ],
            [
             "New Hampshire",
             "Poverty falls 2% from 9.4% to 9.1%",
             "Deep poverty falls 0% from 3.4% to 3.4%",
             "Child poverty falls 3% from 11.2% to 10.9%",
             "Deep child poverty falls -0% from 3.7% to 3.7%"
            ],
            [
             "New Jersey",
             "Poverty falls 3% from 14.0% to 13.5%",
             "Deep poverty falls 4% from 4.6% to 4.4%",
             "Child poverty falls 3% from 17.0% to 16.5%",
             "Deep child poverty falls 2% from 5.4% to 5.2%"
            ],
            [
             "New Mexico",
             "Poverty falls 2% from 18.5% to 18.1%",
             "Deep poverty falls 3% from 7.3% to 7.1%",
             "Child poverty falls 2% from 20.5% to 20.2%",
             "Deep child poverty falls 2% from 7.4% to 7.2%"
            ],
            [
             "New York",
             "Poverty falls 3% from 17.9% to 17.3%",
             "Deep poverty falls 6% from 6.3% to 5.9%",
             "Child poverty falls 3% from 21.4% to 20.8%",
             "Deep child poverty falls 6% from 7.1% to 6.7%"
            ],
            [
             "North Carolina",
             "Poverty falls 2% from 14.3% to 14.1%",
             "Deep poverty falls 3% from 5.6% to 5.5%",
             "Child poverty falls 2% from 16.2% to 15.9%",
             "Deep child poverty falls 2% from 5.9% to 5.8%"
            ],
            [
             "North Dakota",
             "Poverty rises 2% from 9.1% to 9.3%",
             "Deep poverty rises 0% from 4.7% to 4.7%",
             "Child poverty rises 3% from 6.3% to 6.5%",
             "Deep child poverty falls -0% from 2.7% to 2.7%"
            ],
            [
             "Ohio",
             "Poverty falls 1% from 12.5% to 12.4%",
             "Deep poverty falls 2% from 4.8% to 4.7%",
             "Child poverty falls 1% from 14.0% to 13.9%",
             "Deep child poverty falls 1% from 4.9% to 4.8%"
            ],
            [
             "Oklahoma",
             "Poverty falls 0% from 14.2% to 14.1%",
             "Deep poverty falls 0% from 5.5% to 5.5%",
             "Child poverty rises 1% from 15.6% to 15.8%",
             "Deep child poverty rises 2% from 5.4% to 5.5%"
            ],
            [
             "Oregon",
             "Poverty falls 4% from 14.0% to 13.5%",
             "Deep poverty falls 4% from 5.1% to 4.9%",
             "Child poverty falls 4% from 14.3% to 13.8%",
             "Deep child poverty falls 5% from 4.6% to 4.3%"
            ],
            [
             "Pennsylvania",
             "Poverty falls 3% from 13.5% to 13.1%",
             "Deep poverty falls 3% from 5.2% to 5.0%",
             "Child poverty falls 3% from 14.7% to 14.3%",
             "Deep child poverty falls 3% from 5.1% to 5.0%"
            ],
            [
             "Rhode Island",
             "Poverty falls 4% from 12.4% to 12.0%",
             "Deep poverty falls 2% from 4.7% to 4.6%",
             "Child poverty falls 2% from 15.1% to 14.7%",
             "Deep child poverty falls 1% from 5.6% to 5.5%"
            ],
            [
             "South Carolina",
             "Poverty falls 3% from 15.6% to 15.2%",
             "Deep poverty falls 4% from 6.3% to 6.0%",
             "Child poverty falls 2% from 17.9% to 17.6%",
             "Deep child poverty falls 5% from 6.5% to 6.2%"
            ],
            [
             "South Dakota",
             "Poverty falls 1% from 12.0% to 11.9%",
             "Deep poverty falls 7% from 5.7% to 5.3%",
             "Child poverty falls 1% from 11.9% to 11.9%",
             "Deep child poverty falls 6% from 6.0% to 5.7%"
            ],
            [
             "Tennessee",
             "Poverty falls 2% from 15.5% to 15.2%",
             "Deep poverty falls 1% from 6.1% to 6.0%",
             "Child poverty falls 1% from 18.6% to 18.4%",
             "Deep child poverty falls 0% from 7.0% to 7.0%"
            ],
            [
             "Texas",
             "Poverty falls 2% from 16.3% to 16.0%",
             "Deep poverty falls 3% from 6.0% to 5.8%",
             "Child poverty falls 2% from 19.0% to 18.7%",
             "Deep child poverty falls 2% from 6.2% to 6.1%"
            ],
            [
             "Utah",
             "Poverty falls 1% from 10.0% to 9.9%",
             "Deep poverty falls 4% from 4.2% to 4.0%",
             "Child poverty rises 0% from 8.2% to 8.3%",
             "Deep child poverty falls 5% from 2.9% to 2.7%"
            ],
            [
             "Vermont",
             "Poverty falls 2% from 11.6% to 11.4%",
             "Deep poverty falls 2% from 4.7% to 4.6%",
             "Child poverty falls 1% from 10.3% to 10.1%",
             "Deep child poverty falls 1% from 3.8% to 3.7%"
            ],
            [
             "Virginia",
             "Poverty falls 2% from 14.6% to 14.3%",
             "Deep poverty falls 2% from 5.5% to 5.3%",
             "Child poverty falls 1% from 17.1% to 16.9%",
             "Deep child poverty falls 1% from 5.6% to 5.6%"
            ],
            [
             "Washington",
             "Poverty falls 4% from 11.8% to 11.3%",
             "Deep poverty falls 4% from 4.6% to 4.5%",
             "Child poverty falls 4% from 11.9% to 11.4%",
             "Deep child poverty falls 3% from 3.8% to 3.7%"
            ],
            [
             "West Virginia",
             "Poverty falls 2% from 16.1% to 15.9%",
             "Deep poverty falls 4% from 6.2% to 6.0%",
             "Child poverty falls 1% from 17.9% to 17.7%",
             "Deep child poverty falls 1% from 6.2% to 6.2%"
            ],
            [
             "Wisconsin",
             "Poverty falls 1% from 10.6% to 10.5%",
             "Deep poverty falls 1% from 4.2% to 4.1%",
             "Child poverty falls 1% from 10.0% to 9.9%",
             "Deep child poverty rises 2% from 3.3% to 3.3%"
            ],
            [
             "Wyoming",
             "Poverty falls 0% from 11.4% to 11.3%",
             "Deep poverty falls 2% from 5.5% to 5.4%",
             "Child poverty rises 0% from 11.7% to 11.7%",
             "Deep child poverty falls 6% from 4.6% to 4.3%"
            ]
           ],
           "geo": "geo",
           "hovertemplate": "<b>%{customdata[0]}</b><br>%{customdata[1]}<br>%{customdata[2]}<br>%{customdata[3]}<br>%{customdata[4]}",
           "locationmode": "USA-states",
           "locations": [
            "AL",
            "AK",
            "AZ",
            "AR",
            "CA",
            "CO",
            "CT",
            "DE",
            "DC",
            "FL",
            "GA",
            "HI",
            "ID",
            "IL",
            "IN",
            "IA",
            "KS",
            "KY",
            "LA",
            "ME",
            "MD",
            "MA",
            "MI",
            "MN",
            "MS",
            "MO",
            "MT",
            "NE",
            "NV",
            "NH",
            "NJ",
            "NM",
            "NY",
            "NC",
            "ND",
            "OH",
            "OK",
            "OR",
            "PA",
            "RI",
            "SC",
            "SD",
            "TN",
            "TX",
            "UT",
            "VT",
            "VA",
            "WA",
            "WV",
            "WI",
            "WY"
           ],
           "name": "",
           "type": "choropleth",
           "z": [
            0.0110372482557732,
            0.0329024676850763,
            0.0338886122067931,
            -0.0017245118844597,
            0.0404509793720901,
            0.0173697444561062,
            0.0267078085020979,
            0.0146542214015787,
            0.0453850770154031,
            0.0257434408426333,
            0.016102180910693,
            0.0391955782804208,
            0.0049644381223328,
            0.0202399656769192,
            0.0171382786786026,
            0.00827437342607,
            0.0061550172310747,
            0.0131169251012375,
            0.0139697058349403,
            0.0370355115294052,
            0.029891959298731,
            0.0324046192581133,
            0.0197392564261141,
            0.0234820466497368,
            0.017954482990289,
            0.0060641691720786,
            0.0073516333669296,
            0.0227617530484914,
            0.0426846309839754,
            0.0249381213227833,
            0.0338620496793847,
            0.0206912005061424,
            0.0328379622405764,
            0.015629791295909,
            -0.017434917602102,
            0.0129864482831898,
            0.0039208693925867,
            0.0388113650186811,
            0.0288214828855243,
            0.0354075720295259,
            0.0260488537365214,
            0.0069116291837413,
            0.0185599636746888,
            0.0197694269257256,
            0.0137436654050933,
            0.0236174291191026,
            0.0188709676085333,
            0.0350257598197445,
            0.0157664099549078,
            0.0078601892576302,
            0.0033706287158838
           ]
          }
         ],
         "name": "35"
        },
        {
         "data": [
          {
           "coloraxis": "coloraxis",
           "customdata": [
            [
             "Alabama",
             "Poverty falls 2% from 17.1% to 16.8%",
             "Deep poverty falls 3% from 6.9% to 6.7%",
             "Child poverty falls 1% from 20.3% to 20.1%",
             "Deep child poverty falls 2% from 7.7% to 7.5%"
            ],
            [
             "Alaska",
             "Poverty falls 3% from 12.5% to 12.0%",
             "Deep poverty falls 3% from 4.2% to 4.1%",
             "Child poverty falls 3% from 12.6% to 12.1%",
             "Deep child poverty falls 3% from 3.1% to 3.1%"
            ],
            [
             "Arizona",
             "Poverty falls 4% from 15.1% to 14.5%",
             "Deep poverty falls 4% from 5.7% to 5.5%",
             "Child poverty falls 3% from 17.3% to 16.7%",
             "Deep child poverty falls 4% from 5.7% to 5.5%"
            ],
            [
             "Arkansas",
             "Poverty falls 0% from 16.1% to 16.1%",
             "Deep poverty falls 3% from 6.1% to 5.9%",
             "Child poverty rises 2% from 17.9% to 18.2%",
             "Deep child poverty falls 4% from 6.6% to 6.4%"
            ],
            [
             "California",
             "Poverty falls 5% from 20.3% to 19.4%",
             "Deep poverty falls 6% from 6.6% to 6.2%",
             "Child poverty falls 5% from 23.8% to 22.7%",
             "Deep child poverty falls 7% from 6.4% to 5.9%"
            ],
            [
             "Colorado",
             "Poverty falls 2% from 12.8% to 12.5%",
             "Deep poverty falls 3% from 5.0% to 4.9%",
             "Child poverty falls 2% from 13.6% to 13.3%",
             "Deep child poverty falls 3% from 4.3% to 4.2%"
            ],
            [
             "Connecticut",
             "Poverty falls 3% from 12.9% to 12.4%",
             "Deep poverty falls 4% from 4.5% to 4.4%",
             "Child poverty falls 3% from 15.5% to 15.0%",
             "Deep child poverty falls 1% from 4.5% to 4.5%"
            ],
            [
             "Delaware",
             "Poverty falls 2% from 13.6% to 13.2%",
             "Deep poverty falls 4% from 5.1% to 4.9%",
             "Child poverty falls 2% from 16.4% to 16.1%",
             "Deep child poverty rises 3% from 5.4% to 5.6%"
            ],
            [
             "District of Columbia",
             "Poverty falls 5% from 18.9% to 18.0%",
             "Deep poverty falls 4% from 9.4% to 9.1%",
             "Child poverty falls 4% from 27.1% to 26.0%",
             "Deep child poverty falls 6% from 13.5% to 12.7%"
            ],
            [
             "Florida",
             "Poverty falls 3% from 18.1% to 17.6%",
             "Deep poverty falls 4% from 6.4% to 6.2%",
             "Child poverty falls 3% from 21.3% to 20.8%",
             "Deep child poverty falls 4% from 6.7% to 6.5%"
            ],
            [
             "Georgia",
             "Poverty falls 2% from 15.4% to 15.1%",
             "Deep poverty falls 3% from 6.0% to 5.8%",
             "Child poverty falls 1% from 17.8% to 17.6%",
             "Deep child poverty falls 0% from 6.3% to 6.2%"
            ],
            [
             "Hawaii",
             "Poverty falls 5% from 15.1% to 14.3%",
             "Deep poverty falls 4% from 4.4% to 4.2%",
             "Child poverty falls 6% from 18.5% to 17.3%",
             "Deep child poverty falls 3% from 3.4% to 3.3%"
            ],
            [
             "Idaho",
             "Poverty falls 0% from 12.2% to 12.2%",
             "Deep poverty falls 4% from 5.0% to 4.8%",
             "Child poverty rises 1% from 11.8% to 12.0%",
             "Deep child poverty falls 5% from 4.4% to 4.2%"
            ],
            [
             "Illinois",
             "Poverty falls 2% from 13.6% to 13.3%",
             "Deep poverty falls 2% from 4.9% to 4.8%",
             "Child poverty falls 1% from 14.7% to 14.5%",
             "Deep child poverty rises 1% from 4.2% to 4.2%"
            ],
            [
             "Indiana",
             "Poverty falls 2% from 13.3% to 13.0%",
             "Deep poverty falls 2% from 5.5% to 5.3%",
             "Child poverty falls 3% from 14.7% to 14.3%",
             "Deep child poverty falls 1% from 5.5% to 5.4%"
            ],
            [
             "Iowa",
             "Poverty falls 1% from 10.1% to 10.0%",
             "Deep poverty falls 2% from 4.3% to 4.2%",
             "Child poverty falls 1% from 9.0% to 8.9%",
             "Deep child poverty falls 4% from 3.2% to 3.1%"
            ],
            [
             "Kansas",
             "Poverty falls 1% from 11.9% to 11.8%",
             "Deep poverty falls 3% from 4.7% to 4.5%",
             "Child poverty rises 1% from 10.6% to 10.8%",
             "Deep child poverty falls 0% from 3.5% to 3.5%"
            ],
            [
             "Kentucky",
             "Poverty falls 2% from 16.3% to 16.0%",
             "Deep poverty falls 2% from 6.5% to 6.4%",
             "Child poverty falls 1% from 18.4% to 18.2%",
             "Deep child poverty falls 2% from 7.4% to 7.3%"
            ],
            [
             "Louisiana",
             "Poverty falls 2% from 18.5% to 18.2%",
             "Deep poverty falls 4% from 6.9% to 6.6%",
             "Child poverty falls 1% from 21.3% to 21.1%",
             "Deep child poverty falls 4% from 7.5% to 7.2%"
            ],
            [
             "Maine",
             "Poverty falls 5% from 11.2% to 10.7%",
             "Deep poverty falls 2% from 4.6% to 4.5%",
             "Child poverty falls 7% from 10.9% to 10.1%",
             "Deep child poverty falls 4% from 4.5% to 4.3%"
            ],
            [
             "Maryland",
             "Poverty falls 3% from 12.9% to 12.5%",
             "Deep poverty falls 1% from 4.7% to 4.6%",
             "Child poverty falls 4% from 15.2% to 14.6%",
             "Deep child poverty falls 1% from 5.1% to 5.0%"
            ],
            [
             "Massachusetts",
             "Poverty falls 4% from 13.9% to 13.4%",
             "Deep poverty falls 3% from 5.0% to 4.8%",
             "Child poverty falls 3% from 15.7% to 15.3%",
             "Deep child poverty falls 2% from 4.7% to 4.6%"
            ],
            [
             "Michigan",
             "Poverty falls 2% from 14.0% to 13.7%",
             "Deep poverty falls 1% from 5.6% to 5.5%",
             "Child poverty falls 2% from 15.3% to 15.1%",
             "Deep child poverty falls 1% from 5.5% to 5.4%"
            ],
            [
             "Minnesota",
             "Poverty falls 2% from 9.6% to 9.4%",
             "Deep poverty falls 1% from 3.8% to 3.8%",
             "Child poverty falls 3% from 8.3% to 8.0%",
             "Deep child poverty rises 2% from 2.3% to 2.4%"
            ],
            [
             "Mississippi",
             "Poverty falls 2% from 18.1% to 17.8%",
             "Deep poverty falls 3% from 7.5% to 7.2%",
             "Child poverty falls 1% from 20.7% to 20.6%",
             "Deep child poverty falls 2% from 8.4% to 8.2%"
            ],
            [
             "Missouri",
             "Poverty falls 1% from 12.8% to 12.7%",
             "Deep poverty falls 1% from 5.2% to 5.1%",
             "Child poverty rises 1% from 14.4% to 14.5%",
             "Deep child poverty falls 2% from 5.2% to 5.1%"
            ],
            [
             "Montana",
             "Poverty falls 1% from 13.1% to 13.0%",
             "Deep poverty falls 7% from 5.2% to 4.8%",
             "Child poverty rises 2% from 12.8% to 13.0%",
             "Deep child poverty falls 14% from 4.6% to 4.0%"
            ],
            [
             "Nebraska",
             "Poverty falls 2% from 11.2% to 11.0%",
             "Deep poverty rises 0% from 4.5% to 4.5%",
             "Child poverty falls 3% from 9.8% to 9.6%",
             "Deep child poverty falls -0% from 3.8% to 3.8%"
            ],
            [
             "Nevada",
             "Poverty falls 5% from 14.9% to 14.2%",
             "Deep poverty falls 5% from 5.7% to 5.4%",
             "Child poverty falls 6% from 16.2% to 15.2%",
             "Deep child poverty falls 7% from 5.8% to 5.3%"
            ],
            [
             "New Hampshire",
             "Poverty falls 3% from 9.4% to 9.1%",
             "Deep poverty falls 1% from 3.4% to 3.4%",
             "Child poverty falls 3% from 11.2% to 10.9%",
             "Deep child poverty falls 3% from 3.7% to 3.6%"
            ],
            [
             "New Jersey",
             "Poverty falls 4% from 14.0% to 13.5%",
             "Deep poverty falls 5% from 4.6% to 4.4%",
             "Child poverty falls 3% from 17.0% to 16.5%",
             "Deep child poverty falls 3% from 5.4% to 5.2%"
            ],
            [
             "New Mexico",
             "Poverty falls 2% from 18.5% to 18.0%",
             "Deep poverty falls 4% from 7.3% to 7.0%",
             "Child poverty falls 2% from 20.5% to 20.1%",
             "Deep child poverty falls 2% from 7.4% to 7.2%"
            ],
            [
             "New York",
             "Poverty falls 4% from 17.9% to 17.2%",
             "Deep poverty falls 7% from 6.3% to 5.9%",
             "Child poverty falls 3% from 21.4% to 20.7%",
             "Deep child poverty falls 7% from 7.1% to 6.6%"
            ],
            [
             "North Carolina",
             "Poverty falls 2% from 14.3% to 14.0%",
             "Deep poverty falls 3% from 5.6% to 5.5%",
             "Child poverty falls 3% from 16.2% to 15.8%",
             "Deep child poverty falls 2% from 5.9% to 5.8%"
            ],
            [
             "North Dakota",
             "Poverty rises 2% from 9.1% to 9.3%",
             "Deep poverty falls 0% from 4.7% to 4.6%",
             "Child poverty rises 5% from 6.3% to 6.6%",
             "Deep child poverty falls -0% from 2.7% to 2.7%"
            ],
            [
             "Ohio",
             "Poverty falls 1% from 12.5% to 12.4%",
             "Deep poverty falls 2% from 4.8% to 4.7%",
             "Child poverty falls 1% from 14.0% to 13.9%",
             "Deep child poverty falls 3% from 4.9% to 4.7%"
            ],
            [
             "Oklahoma",
             "Poverty falls 0% from 14.2% to 14.1%",
             "Deep poverty rises 0% from 5.5% to 5.5%",
             "Child poverty rises 0% from 15.6% to 15.7%",
             "Deep child poverty rises 2% from 5.4% to 5.5%"
            ],
            [
             "Oregon",
             "Poverty falls 4% from 14.0% to 13.4%",
             "Deep poverty falls 5% from 5.1% to 4.9%",
             "Child poverty falls 4% from 14.3% to 13.8%",
             "Deep child poverty falls 6% from 4.6% to 4.3%"
            ],
            [
             "Pennsylvania",
             "Poverty falls 3% from 13.5% to 13.1%",
             "Deep poverty falls 4% from 5.2% to 5.0%",
             "Child poverty falls 3% from 14.7% to 14.2%",
             "Deep child poverty falls 3% from 5.1% to 5.0%"
            ],
            [
             "Rhode Island",
             "Poverty falls 4% from 12.4% to 12.0%",
             "Deep poverty falls 2% from 4.7% to 4.6%",
             "Child poverty falls 2% from 15.1% to 14.7%",
             "Deep child poverty falls 1% from 5.6% to 5.5%"
            ],
            [
             "South Carolina",
             "Poverty falls 3% from 15.6% to 15.1%",
             "Deep poverty falls 4% from 6.3% to 6.0%",
             "Child poverty falls 3% from 17.9% to 17.3%",
             "Deep child poverty falls 4% from 6.5% to 6.3%"
            ],
            [
             "South Dakota",
             "Poverty falls 1% from 12.0% to 11.9%",
             "Deep poverty falls 7% from 5.7% to 5.3%",
             "Child poverty falls 1% from 11.9% to 11.9%",
             "Deep child poverty falls 6% from 6.0% to 5.7%"
            ],
            [
             "Tennessee",
             "Poverty falls 2% from 15.5% to 15.1%",
             "Deep poverty falls 1% from 6.1% to 6.0%",
             "Child poverty falls 1% from 18.6% to 18.3%",
             "Deep child poverty falls 0% from 7.0% to 7.0%"
            ],
            [
             "Texas",
             "Poverty falls 2% from 16.3% to 15.9%",
             "Deep poverty falls 3% from 6.0% to 5.8%",
             "Child poverty falls 2% from 19.0% to 18.6%",
             "Deep child poverty falls 2% from 6.2% to 6.1%"
            ],
            [
             "Utah",
             "Poverty falls 2% from 10.0% to 9.8%",
             "Deep poverty falls 5% from 4.2% to 4.0%",
             "Child poverty falls 1% from 8.2% to 8.2%",
             "Deep child poverty falls 8% from 2.9% to 2.6%"
            ],
            [
             "Vermont",
             "Poverty falls 2% from 11.6% to 11.4%",
             "Deep poverty falls 4% from 4.7% to 4.5%",
             "Child poverty falls 1% from 10.3% to 10.1%",
             "Deep child poverty falls 1% from 3.8% to 3.7%"
            ],
            [
             "Virginia",
             "Poverty falls 2% from 14.6% to 14.3%",
             "Deep poverty falls 2% from 5.5% to 5.3%",
             "Child poverty falls 2% from 17.1% to 16.7%",
             "Deep child poverty falls 1% from 5.6% to 5.6%"
            ],
            [
             "Washington",
             "Poverty falls 4% from 11.8% to 11.3%",
             "Deep poverty falls 4% from 4.6% to 4.4%",
             "Child poverty falls 4% from 11.9% to 11.4%",
             "Deep child poverty falls 4% from 3.8% to 3.7%"
            ],
            [
             "West Virginia",
             "Poverty falls 1% from 16.1% to 15.9%",
             "Deep poverty falls 4% from 6.2% to 6.0%",
             "Child poverty falls 1% from 17.9% to 17.7%",
             "Deep child poverty falls 1% from 6.2% to 6.2%"
            ],
            [
             "Wisconsin",
             "Poverty falls 1% from 10.6% to 10.5%",
             "Deep poverty falls 2% from 4.2% to 4.1%",
             "Child poverty falls 1% from 10.0% to 9.9%",
             "Deep child poverty falls 0% from 3.3% to 3.3%"
            ],
            [
             "Wyoming",
             "Poverty falls 0% from 11.4% to 11.3%",
             "Deep poverty rises 1% from 5.5% to 5.6%",
             "Child poverty rises 0% from 11.7% to 11.7%",
             "Deep child poverty falls 0% from 4.6% to 4.6%"
            ]
           ],
           "geo": "geo",
           "hovertemplate": "<b>%{customdata[0]}</b><br>%{customdata[1]}<br>%{customdata[2]}<br>%{customdata[3]}<br>%{customdata[4]}",
           "locationmode": "USA-states",
           "locations": [
            "AL",
            "AK",
            "AZ",
            "AR",
            "CA",
            "CO",
            "CT",
            "DE",
            "DC",
            "FL",
            "GA",
            "HI",
            "ID",
            "IL",
            "IN",
            "IA",
            "KS",
            "KY",
            "LA",
            "ME",
            "MD",
            "MA",
            "MI",
            "MN",
            "MS",
            "MO",
            "MT",
            "NE",
            "NV",
            "NH",
            "NJ",
            "NM",
            "NY",
            "NC",
            "ND",
            "OH",
            "OK",
            "OR",
            "PA",
            "RI",
            "SC",
            "SD",
            "TN",
            "TX",
            "UT",
            "VT",
            "VA",
            "WA",
            "WV",
            "WI",
            "WY"
           ],
           "name": "",
           "type": "choropleth",
           "z": [
            0.0157302901454722,
            0.0341227515140557,
            0.0381152205240465,
            0.0001126992970116,
            0.0460676024956003,
            0.0184361477024622,
            0.0345699056144703,
            0.0247627393144672,
            0.0453850770154031,
            0.0287642211760488,
            0.021627643626307,
            0.0523057072151448,
            0.0032764343290658,
            0.0220407438640092,
            0.023761406016728,
            0.0086957085398146,
            0.0064018126079729,
            0.0175379144500276,
            0.0157333826892192,
            0.0451428218382518,
            0.0343443155501062,
            0.036953203023914,
            0.0220485783670847,
            0.0227075178529835,
            0.0206857326085628,
            0.0050602545612499,
            0.0077888776901642,
            0.0229561358593618,
            0.0483435698043853,
            0.0253925745587337,
            0.0359185322193167,
            0.0235725206938368,
            0.0367689373034992,
            0.0221364360337984,
            -0.0232565082397899,
            0.014807791167644,
            0.0046543090961229,
            0.0413432965505254,
            0.0313304050604579,
            0.0350504008254622,
            0.0338752896402637,
            0.0066273210329208,
            0.0245342639084744,
            0.0234110542835466,
            0.0178747835011867,
            0.0236174291191026,
            0.0237020213340523,
            0.037463074906587,
            0.0143645589465991,
            0.008576569372251,
            0.0026840191626481
           ]
          }
         ],
         "name": "40"
        },
        {
         "data": [
          {
           "coloraxis": "coloraxis",
           "customdata": [
            [
             "Alabama",
             "Poverty falls 2% from 17.1% to 16.8%",
             "Deep poverty falls 4% from 6.9% to 6.6%",
             "Child poverty falls 1% from 20.3% to 20.1%",
             "Deep child poverty falls 3% from 7.7% to 7.5%"
            ],
            [
             "Alaska",
             "Poverty falls 4% from 12.5% to 12.0%",
             "Deep poverty falls 3% from 4.2% to 4.1%",
             "Child poverty falls 4% from 12.6% to 12.1%",
             "Deep child poverty falls 3% from 3.1% to 3.1%"
            ],
            [
             "Arizona",
             "Poverty falls 4% from 15.1% to 14.4%",
             "Deep poverty falls 4% from 5.7% to 5.4%",
             "Child poverty falls 4% from 17.3% to 16.6%",
             "Deep child poverty falls 4% from 5.7% to 5.5%"
            ],
            [
             "Arkansas",
             "Poverty rises 0% from 16.1% to 16.1%",
             "Deep poverty falls 4% from 6.1% to 5.8%",
             "Child poverty rises 2% from 17.9% to 18.2%",
             "Deep child poverty falls 6% from 6.6% to 6.2%"
            ],
            [
             "California",
             "Poverty falls 5% from 20.3% to 19.3%",
             "Deep poverty falls 6% from 6.6% to 6.2%",
             "Child poverty falls 5% from 23.8% to 22.6%",
             "Deep child poverty falls 8% from 6.4% to 5.8%"
            ],
            [
             "Colorado",
             "Poverty falls 2% from 12.8% to 12.5%",
             "Deep poverty falls 3% from 5.0% to 4.9%",
             "Child poverty falls 2% from 13.6% to 13.3%",
             "Deep child poverty falls 3% from 4.3% to 4.2%"
            ],
            [
             "Connecticut",
             "Poverty falls 4% from 12.9% to 12.4%",
             "Deep poverty falls 4% from 4.5% to 4.3%",
             "Child poverty falls 3% from 15.5% to 15.0%",
             "Deep child poverty falls 2% from 4.5% to 4.5%"
            ],
            [
             "Delaware",
             "Poverty falls 3% from 13.6% to 13.2%",
             "Deep poverty falls 4% from 5.1% to 4.9%",
             "Child poverty falls 2% from 16.4% to 16.1%",
             "Deep child poverty rises 3% from 5.4% to 5.6%"
            ],
            [
             "District of Columbia",
             "Poverty falls 5% from 18.9% to 18.0%",
             "Deep poverty falls 4% from 9.4% to 9.0%",
             "Child poverty falls 4% from 27.1% to 26.0%",
             "Deep child poverty falls 6% from 13.5% to 12.6%"
            ],
            [
             "Florida",
             "Poverty falls 3% from 18.1% to 17.5%",
             "Deep poverty falls 5% from 6.4% to 6.1%",
             "Child poverty falls 3% from 21.3% to 20.8%",
             "Deep child poverty falls 4% from 6.7% to 6.5%"
            ],
            [
             "Georgia",
             "Poverty falls 2% from 15.4% to 15.1%",
             "Deep poverty falls 3% from 6.0% to 5.8%",
             "Child poverty falls 1% from 17.8% to 17.6%",
             "Deep child poverty falls 1% from 6.3% to 6.2%"
            ],
            [
             "Hawaii",
             "Poverty falls 5% from 15.1% to 14.3%",
             "Deep poverty falls 5% from 4.4% to 4.2%",
             "Child poverty falls 7% from 18.5% to 17.2%",
             "Deep child poverty falls 3% from 3.4% to 3.3%"
            ],
            [
             "Idaho",
             "Poverty falls 1% from 12.2% to 12.2%",
             "Deep poverty falls 5% from 5.0% to 4.7%",
             "Child poverty rises 1% from 11.8% to 12.0%",
             "Deep child poverty falls 6% from 4.4% to 4.2%"
            ],
            [
             "Illinois",
             "Poverty falls 2% from 13.6% to 13.3%",
             "Deep poverty falls 3% from 4.9% to 4.8%",
             "Child poverty falls 1% from 14.7% to 14.5%",
             "Deep child poverty rises 1% from 4.2% to 4.2%"
            ],
            [
             "Indiana",
             "Poverty falls 2% from 13.3% to 13.0%",
             "Deep poverty falls 2% from 5.5% to 5.3%",
             "Child poverty falls 3% from 14.7% to 14.3%",
             "Deep child poverty falls 0% from 5.5% to 5.5%"
            ],
            [
             "Iowa",
             "Poverty falls 1% from 10.1% to 10.0%",
             "Deep poverty falls 2% from 4.3% to 4.3%",
             "Child poverty falls 1% from 9.0% to 8.9%",
             "Deep child poverty falls 2% from 3.2% to 3.1%"
            ],
            [
             "Kansas",
             "Poverty falls 1% from 11.9% to 11.8%",
             "Deep poverty falls 3% from 4.7% to 4.5%",
             "Child poverty rises 2% from 10.6% to 10.8%",
             "Deep child poverty falls 0% from 3.5% to 3.5%"
            ],
            [
             "Kentucky",
             "Poverty falls 2% from 16.3% to 15.9%",
             "Deep poverty falls 2% from 6.5% to 6.4%",
             "Child poverty falls 1% from 18.4% to 18.2%",
             "Deep child poverty falls 2% from 7.4% to 7.3%"
            ],
            [
             "Louisiana",
             "Poverty falls 2% from 18.5% to 18.2%",
             "Deep poverty falls 4% from 6.9% to 6.6%",
             "Child poverty falls 1% from 21.3% to 21.1%",
             "Deep child poverty falls 3% from 7.5% to 7.3%"
            ],
            [
             "Maine",
             "Poverty falls 6% from 11.2% to 10.5%",
             "Deep poverty falls 3% from 4.6% to 4.5%",
             "Child poverty falls 6% from 10.9% to 10.2%",
             "Deep child poverty falls 4% from 4.5% to 4.3%"
            ],
            [
             "Maryland",
             "Poverty falls 4% from 12.9% to 12.4%",
             "Deep poverty falls 2% from 4.7% to 4.6%",
             "Child poverty falls 4% from 15.2% to 14.5%",
             "Deep child poverty falls 2% from 5.1% to 5.0%"
            ],
            [
             "Massachusetts",
             "Poverty falls 5% from 13.9% to 13.3%",
             "Deep poverty falls 4% from 5.0% to 4.8%",
             "Child poverty falls 4% from 15.7% to 15.2%",
             "Deep child poverty falls 3% from 4.7% to 4.5%"
            ],
            [
             "Michigan",
             "Poverty falls 3% from 14.0% to 13.6%",
             "Deep poverty falls 1% from 5.6% to 5.5%",
             "Child poverty falls 2% from 15.3% to 15.0%",
             "Deep child poverty falls 1% from 5.5% to 5.5%"
            ],
            [
             "Minnesota",
             "Poverty falls 3% from 9.6% to 9.4%",
             "Deep poverty falls 1% from 3.8% to 3.8%",
             "Child poverty falls 3% from 8.3% to 8.0%",
             "Deep child poverty rises 2% from 2.3% to 2.4%"
            ],
            [
             "Mississippi",
             "Poverty falls 2% from 18.1% to 17.7%",
             "Deep poverty falls 4% from 7.5% to 7.2%",
             "Child poverty falls 1% from 20.7% to 20.5%",
             "Deep child poverty falls 3% from 8.4% to 8.1%"
            ],
            [
             "Missouri",
             "Poverty falls 0% from 12.8% to 12.7%",
             "Deep poverty falls 1% from 5.2% to 5.1%",
             "Child poverty rises 1% from 14.4% to 14.6%",
             "Deep child poverty falls 2% from 5.2% to 5.1%"
            ],
            [
             "Montana",
             "Poverty falls 1% from 13.1% to 13.0%",
             "Deep poverty falls 10% from 5.2% to 4.7%",
             "Child poverty rises 2% from 12.8% to 13.0%",
             "Deep child poverty falls 18% from 4.6% to 3.7%"
            ],
            [
             "Nebraska",
             "Poverty falls 2% from 11.2% to 11.0%",
             "Deep poverty rises 0% from 4.5% to 4.5%",
             "Child poverty falls 2% from 9.8% to 9.6%",
             "Deep child poverty falls -0% from 3.8% to 3.8%"
            ],
            [
             "Nevada",
             "Poverty falls 5% from 14.9% to 14.2%",
             "Deep poverty falls 5% from 5.7% to 5.4%",
             "Child poverty falls 7% from 16.2% to 15.2%",
             "Deep child poverty falls 7% from 5.8% to 5.4%"
            ],
            [
             "New Hampshire",
             "Poverty falls 3% from 9.4% to 9.1%",
             "Deep poverty falls 2% from 3.4% to 3.4%",
             "Child poverty falls 3% from 11.2% to 10.9%",
             "Deep child poverty falls 3% from 3.7% to 3.6%"
            ],
            [
             "New Jersey",
             "Poverty falls 4% from 14.0% to 13.4%",
             "Deep poverty falls 5% from 4.6% to 4.4%",
             "Child poverty falls 4% from 17.0% to 16.4%",
             "Deep child poverty falls 3% from 5.4% to 5.2%"
            ],
            [
             "New Mexico",
             "Poverty falls 3% from 18.5% to 18.0%",
             "Deep poverty falls 4% from 7.3% to 7.0%",
             "Child poverty falls 2% from 20.5% to 20.1%",
             "Deep child poverty falls 2% from 7.4% to 7.2%"
            ],
            [
             "New York",
             "Poverty falls 4% from 17.9% to 17.1%",
             "Deep poverty falls 7% from 6.3% to 5.8%",
             "Child poverty falls 3% from 21.4% to 20.7%",
             "Deep child poverty falls 7% from 7.1% to 6.6%"
            ],
            [
             "North Carolina",
             "Poverty falls 3% from 14.3% to 13.9%",
             "Deep poverty falls 4% from 5.6% to 5.4%",
             "Child poverty falls 3% from 16.2% to 15.8%",
             "Deep child poverty falls 3% from 5.9% to 5.8%"
            ],
            [
             "North Dakota",
             "Poverty rises 2% from 9.1% to 9.3%",
             "Deep poverty falls 0% from 4.7% to 4.6%",
             "Child poverty rises 5% from 6.3% to 6.6%",
             "Deep child poverty falls -0% from 2.7% to 2.7%"
            ],
            [
             "Ohio",
             "Poverty falls 2% from 12.5% to 12.3%",
             "Deep poverty falls 2% from 4.8% to 4.7%",
             "Child poverty falls 1% from 14.0% to 13.9%",
             "Deep child poverty falls 3% from 4.9% to 4.7%"
            ],
            [
             "Oklahoma",
             "Poverty falls 1% from 14.2% to 14.1%",
             "Deep poverty rises 0% from 5.5% to 5.5%",
             "Child poverty rises 0% from 15.6% to 15.7%",
             "Deep child poverty rises 2% from 5.4% to 5.5%"
            ],
            [
             "Oregon",
             "Poverty falls 4% from 14.0% to 13.4%",
             "Deep poverty falls 5% from 5.1% to 4.8%",
             "Child poverty falls 4% from 14.3% to 13.8%",
             "Deep child poverty falls 7% from 4.6% to 4.2%"
            ],
            [
             "Pennsylvania",
             "Poverty falls 3% from 13.5% to 13.0%",
             "Deep poverty falls 4% from 5.2% to 4.9%",
             "Child poverty falls 3% from 14.7% to 14.2%",
             "Deep child poverty falls 4% from 5.1% to 4.9%"
            ],
            [
             "Rhode Island",
             "Poverty falls 4% from 12.4% to 11.9%",
             "Deep poverty falls 2% from 4.7% to 4.6%",
             "Child poverty falls 3% from 15.1% to 14.6%",
             "Deep child poverty falls 1% from 5.6% to 5.5%"
            ],
            [
             "South Carolina",
             "Poverty falls 4% from 15.6% to 15.0%",
             "Deep poverty falls 4% from 6.3% to 6.0%",
             "Child poverty falls 4% from 17.9% to 17.2%",
             "Deep child poverty falls 4% from 6.5% to 6.3%"
            ],
            [
             "South Dakota",
             "Poverty falls 0% from 12.0% to 12.0%",
             "Deep poverty falls 6% from 5.7% to 5.3%",
             "Child poverty rises 0% from 11.9% to 12.0%",
             "Deep child poverty falls 5% from 6.0% to 5.8%"
            ],
            [
             "Tennessee",
             "Poverty falls 2% from 15.5% to 15.1%",
             "Deep poverty falls 1% from 6.1% to 6.0%",
             "Child poverty falls 1% from 18.6% to 18.3%",
             "Deep child poverty rises 0% from 7.0% to 7.1%"
            ],
            [
             "Texas",
             "Poverty falls 3% from 16.3% to 15.9%",
             "Deep poverty falls 3% from 6.0% to 5.8%",
             "Child poverty falls 2% from 19.0% to 18.6%",
             "Deep child poverty falls 3% from 6.2% to 6.1%"
            ],
            [
             "Utah",
             "Poverty falls 2% from 10.0% to 9.8%",
             "Deep poverty falls 5% from 4.2% to 4.0%",
             "Child poverty falls 1% from 8.2% to 8.2%",
             "Deep child poverty falls 8% from 2.9% to 2.6%"
            ],
            [
             "Vermont",
             "Poverty falls 4% from 11.6% to 11.1%",
             "Deep poverty falls 4% from 4.7% to 4.5%",
             "Child poverty falls 4% from 10.3% to 9.8%",
             "Deep child poverty falls 1% from 3.8% to 3.7%"
            ],
            [
             "Virginia",
             "Poverty falls 2% from 14.6% to 14.3%",
             "Deep poverty falls 3% from 5.5% to 5.3%",
             "Child poverty falls 2% from 17.1% to 16.8%",
             "Deep child poverty falls 2% from 5.6% to 5.5%"
            ],
            [
             "Washington",
             "Poverty falls 4% from 11.8% to 11.3%",
             "Deep poverty falls 5% from 4.6% to 4.4%",
             "Child poverty falls 5% from 11.9% to 11.3%",
             "Deep child poverty falls 4% from 3.8% to 3.7%"
            ],
            [
             "West Virginia",
             "Poverty falls 2% from 16.1% to 15.8%",
             "Deep poverty falls 4% from 6.2% to 6.0%",
             "Child poverty falls 1% from 17.9% to 17.6%",
             "Deep child poverty falls 1% from 6.2% to 6.2%"
            ],
            [
             "Wisconsin",
             "Poverty falls 1% from 10.6% to 10.5%",
             "Deep poverty falls 1% from 4.2% to 4.1%",
             "Child poverty falls 1% from 10.0% to 9.9%",
             "Deep child poverty falls 0% from 3.3% to 3.3%"
            ],
            [
             "Wyoming",
             "Poverty falls 1% from 11.4% to 11.3%",
             "Deep poverty rises 2% from 5.5% to 5.6%",
             "Child poverty rises 0% from 11.7% to 11.7%",
             "Deep child poverty rises 4% from 4.6% to 4.7%"
            ]
           ],
           "geo": "geo",
           "hovertemplate": "<b>%{customdata[0]}</b><br>%{customdata[1]}<br>%{customdata[2]}<br>%{customdata[3]}<br>%{customdata[4]}",
           "locationmode": "USA-states",
           "locations": [
            "AL",
            "AK",
            "AZ",
            "AR",
            "CA",
            "CO",
            "CT",
            "DE",
            "DC",
            "FL",
            "GA",
            "HI",
            "ID",
            "IL",
            "IN",
            "IA",
            "KS",
            "KY",
            "LA",
            "ME",
            "MD",
            "MA",
            "MI",
            "MN",
            "MS",
            "MO",
            "MT",
            "NE",
            "NV",
            "NH",
            "NJ",
            "NM",
            "NY",
            "NC",
            "ND",
            "OH",
            "OK",
            "OR",
            "PA",
            "RI",
            "SC",
            "SD",
            "TN",
            "TX",
            "UT",
            "VT",
            "VA",
            "WA",
            "WV",
            "WI",
            "WY"
           ],
           "name": "",
           "type": "choropleth",
           "z": [
            0.0164305607939351,
            0.037297749254271,
            0.0421486773859413,
            -0.0009228583943967,
            0.0510537274760911,
            0.0186732821085596,
            0.0383103442863007,
            0.0298795897130963,
            0.0459931986397279,
            0.0317656867188592,
            0.0226083041906642,
            0.05435190802207,
            0.0054243717401611,
            0.0226189102421845,
            0.0248992696690744,
            0.0086082004777292,
            0.007100570602805,
            0.0195740083258655,
            0.018053507352634,
            0.0573415436154072,
            0.0377330315319561,
            0.0450301173991408,
            0.0270327369595314,
            0.0250026985416512,
            0.0245430739632321,
            0.0043319243533936,
            0.0081149582024072,
            0.0235392842919724,
            0.050756053007555,
            0.0271779265571109,
            0.0425646912986663,
            0.0275926609374178,
            0.0415544208647556,
            0.0250173568209366,
            -0.0234654884165275,
            0.0168269079040109,
            0.0053509849047446,
            0.044464332261708,
            0.033027159441645,
            0.0378363362171598,
            0.036822824300009,
            0.0031666045763808,
            0.0248239269501124,
            0.0251138431626192,
            0.0224709731220732,
            0.0430006008067975,
            0.0232909558141785,
            0.0409821067930664,
            0.016871647651635,
            0.0093146074903369,
            0.0072250050715476
           ]
          }
         ],
         "name": "45"
        },
        {
         "data": [
          {
           "coloraxis": "coloraxis",
           "customdata": [
            [
             "Alabama",
             "Poverty falls 2% from 17.1% to 16.7%",
             "Deep poverty falls 5% from 6.9% to 6.6%",
             "Child poverty falls 1% from 20.3% to 20.1%",
             "Deep child poverty falls 4% from 7.7% to 7.4%"
            ],
            [
             "Alaska",
             "Poverty falls 4% from 12.5% to 12.0%",
             "Deep poverty falls 3% from 4.2% to 4.1%",
             "Child poverty falls 4% from 12.6% to 12.0%",
             "Deep child poverty falls 3% from 3.1% to 3.1%"
            ],
            [
             "Arizona",
             "Poverty falls 5% from 15.1% to 14.3%",
             "Deep poverty falls 4% from 5.7% to 5.4%",
             "Child poverty falls 5% from 17.3% to 16.5%",
             "Deep child poverty falls 5% from 5.7% to 5.5%"
            ],
            [
             "Arkansas",
             "Poverty rises 0% from 16.1% to 16.1%",
             "Deep poverty falls 4% from 6.1% to 5.8%",
             "Child poverty rises 2% from 17.9% to 18.3%",
             "Deep child poverty falls 6% from 6.6% to 6.2%"
            ],
            [
             "California",
             "Poverty falls 6% from 20.3% to 19.2%",
             "Deep poverty falls 7% from 6.6% to 6.1%",
             "Child poverty falls 6% from 23.8% to 22.5%",
             "Deep child poverty falls 9% from 6.4% to 5.8%"
            ],
            [
             "Colorado",
             "Poverty falls 2% from 12.8% to 12.6%",
             "Deep poverty falls 3% from 5.0% to 4.9%",
             "Child poverty falls 2% from 13.6% to 13.3%",
             "Deep child poverty falls 3% from 4.3% to 4.2%"
            ],
            [
             "Connecticut",
             "Poverty falls 4% from 12.9% to 12.4%",
             "Deep poverty falls 6% from 4.5% to 4.2%",
             "Child poverty falls 4% from 15.5% to 14.9%",
             "Deep child poverty falls 5% from 4.5% to 4.3%"
            ],
            [
             "Delaware",
             "Poverty falls 2% from 13.6% to 13.3%",
             "Deep poverty falls 4% from 5.1% to 4.9%",
             "Child poverty rises 0% from 16.4% to 16.4%",
             "Deep child poverty rises 3% from 5.4% to 5.6%"
            ],
            [
             "District of Columbia",
             "Poverty falls 5% from 18.9% to 17.9%",
             "Deep poverty falls 5% from 9.4% to 9.0%",
             "Child poverty falls 4% from 27.1% to 25.9%",
             "Deep child poverty falls 6% from 13.5% to 12.6%"
            ],
            [
             "Florida",
             "Poverty falls 4% from 18.1% to 17.4%",
             "Deep poverty falls 5% from 6.4% to 6.1%",
             "Child poverty falls 3% from 21.3% to 20.7%",
             "Deep child poverty falls 4% from 6.7% to 6.5%"
            ],
            [
             "Georgia",
             "Poverty falls 3% from 15.4% to 15.0%",
             "Deep poverty falls 3% from 6.0% to 5.8%",
             "Child poverty falls 2% from 17.8% to 17.5%",
             "Deep child poverty falls 1% from 6.3% to 6.2%"
            ],
            [
             "Hawaii",
             "Poverty falls 6% from 15.1% to 14.1%",
             "Deep poverty falls 5% from 4.4% to 4.2%",
             "Child poverty falls 8% from 18.5% to 17.1%",
             "Deep child poverty falls 3% from 3.4% to 3.3%"
            ],
            [
             "Idaho",
             "Poverty falls 1% from 12.2% to 12.1%",
             "Deep poverty falls 4% from 5.0% to 4.7%",
             "Child poverty rises 1% from 11.8% to 12.0%",
             "Deep child poverty falls 7% from 4.4% to 4.2%"
            ],
            [
             "Illinois",
             "Poverty falls 2% from 13.6% to 13.2%",
             "Deep poverty falls 3% from 4.9% to 4.8%",
             "Child poverty falls 1% from 14.7% to 14.5%",
             "Deep child poverty rises 0% from 4.2% to 4.2%"
            ],
            [
             "Indiana",
             "Poverty falls 2% from 13.3% to 13.0%",
             "Deep poverty falls 2% from 5.5% to 5.4%",
             "Child poverty falls 3% from 14.7% to 14.3%",
             "Deep child poverty falls 0% from 5.5% to 5.5%"
            ],
            [
             "Iowa",
             "Poverty falls 1% from 10.1% to 10.0%",
             "Deep poverty falls 1% from 4.3% to 4.3%",
             "Child poverty falls 0% from 9.0% to 8.9%",
             "Deep child poverty rises 0% from 3.2% to 3.2%"
            ],
            [
             "Kansas",
             "Poverty falls 1% from 11.9% to 11.7%",
             "Deep poverty falls 3% from 4.7% to 4.5%",
             "Child poverty rises 1% from 10.6% to 10.8%",
             "Deep child poverty falls 0% from 3.5% to 3.5%"
            ],
            [
             "Kentucky",
             "Poverty falls 2% from 16.3% to 15.9%",
             "Deep poverty falls 3% from 6.5% to 6.4%",
             "Child poverty falls 1% from 18.4% to 18.2%",
             "Deep child poverty falls 2% from 7.4% to 7.3%"
            ],
            [
             "Louisiana",
             "Poverty falls 2% from 18.5% to 18.1%",
             "Deep poverty falls 4% from 6.9% to 6.6%",
             "Child poverty falls 2% from 21.3% to 21.0%",
             "Deep child poverty falls 4% from 7.5% to 7.2%"
            ],
            [
             "Maine",
             "Poverty falls 6% from 11.2% to 10.5%",
             "Deep poverty falls 3% from 4.6% to 4.4%",
             "Child poverty falls 7% from 10.9% to 10.1%",
             "Deep child poverty falls 4% from 4.5% to 4.3%"
            ],
            [
             "Maryland",
             "Poverty falls 4% from 12.9% to 12.4%",
             "Deep poverty falls 4% from 4.7% to 4.5%",
             "Child poverty falls 5% from 15.2% to 14.5%",
             "Deep child poverty falls 4% from 5.1% to 4.9%"
            ],
            [
             "Massachusetts",
             "Poverty falls 5% from 13.9% to 13.3%",
             "Deep poverty falls 5% from 5.0% to 4.7%",
             "Child poverty falls 4% from 15.7% to 15.1%",
             "Deep child poverty falls 4% from 4.7% to 4.5%"
            ],
            [
             "Michigan",
             "Poverty falls 3% from 14.0% to 13.6%",
             "Deep poverty falls 2% from 5.6% to 5.5%",
             "Child poverty falls 2% from 15.3% to 14.9%",
             "Deep child poverty falls 1% from 5.5% to 5.4%"
            ],
            [
             "Minnesota",
             "Poverty falls 3% from 9.6% to 9.3%",
             "Deep poverty falls 1% from 3.8% to 3.8%",
             "Child poverty falls 4% from 8.3% to 8.0%",
             "Deep child poverty rises 1% from 2.3% to 2.4%"
            ],
            [
             "Mississippi",
             "Poverty falls 3% from 18.1% to 17.7%",
             "Deep poverty falls 4% from 7.5% to 7.2%",
             "Child poverty falls 1% from 20.7% to 20.5%",
             "Deep child poverty falls 3% from 8.4% to 8.1%"
            ],
            [
             "Missouri",
             "Poverty falls 0% from 12.8% to 12.8%",
             "Deep poverty falls 1% from 5.2% to 5.1%",
             "Child poverty rises 2% from 14.4% to 14.6%",
             "Deep child poverty falls 2% from 5.2% to 5.1%"
            ],
            [
             "Montana",
             "Poverty falls 1% from 13.1% to 13.0%",
             "Deep poverty falls 8% from 5.2% to 4.7%",
             "Child poverty rises 1% from 12.8% to 13.0%",
             "Deep child poverty falls 16% from 4.6% to 3.8%"
            ],
            [
             "Nebraska",
             "Poverty falls 2% from 11.2% to 11.0%",
             "Deep poverty rises 0% from 4.5% to 4.5%",
             "Child poverty falls 2% from 9.8% to 9.6%",
             "Deep child poverty falls -0% from 3.8% to 3.8%"
            ],
            [
             "Nevada",
             "Poverty falls 5% from 14.9% to 14.1%",
             "Deep poverty falls 5% from 5.7% to 5.4%",
             "Child poverty falls 7% from 16.2% to 15.1%",
             "Deep child poverty falls 8% from 5.8% to 5.3%"
            ],
            [
             "New Hampshire",
             "Poverty falls 3% from 9.4% to 9.1%",
             "Deep poverty falls 4% from 3.4% to 3.3%",
             "Child poverty falls 3% from 11.2% to 10.9%",
             "Deep child poverty falls 9% from 3.7% to 3.4%"
            ],
            [
             "New Jersey",
             "Poverty falls 5% from 14.0% to 13.3%",
             "Deep poverty falls 6% from 4.6% to 4.3%",
             "Child poverty falls 4% from 17.0% to 16.3%",
             "Deep child poverty falls 4% from 5.4% to 5.1%"
            ],
            [
             "New Mexico",
             "Poverty falls 3% from 18.5% to 17.9%",
             "Deep poverty falls 4% from 7.3% to 7.0%",
             "Child poverty falls 3% from 20.5% to 20.0%",
             "Deep child poverty falls 2% from 7.4% to 7.2%"
            ],
            [
             "New York",
             "Poverty falls 5% from 17.9% to 17.0%",
             "Deep poverty falls 8% from 6.3% to 5.8%",
             "Child poverty falls 4% from 21.4% to 20.6%",
             "Deep child poverty falls 8% from 7.1% to 6.5%"
            ],
            [
             "North Carolina",
             "Poverty falls 3% from 14.3% to 13.9%",
             "Deep poverty falls 4% from 5.6% to 5.4%",
             "Child poverty falls 2% from 16.2% to 15.8%",
             "Deep child poverty falls 3% from 5.9% to 5.8%"
            ],
            [
             "North Dakota",
             "Poverty rises 2% from 9.1% to 9.3%",
             "Deep poverty rises 1% from 4.7% to 4.7%",
             "Child poverty rises 5% from 6.3% to 6.6%",
             "Deep child poverty falls -0% from 2.7% to 2.7%"
            ],
            [
             "Ohio",
             "Poverty falls 2% from 12.5% to 12.3%",
             "Deep poverty falls 3% from 4.8% to 4.7%",
             "Child poverty falls 0% from 14.0% to 13.9%",
             "Deep child poverty falls 3% from 4.9% to 4.7%"
            ],
            [
             "Oklahoma",
             "Poverty falls 0% from 14.2% to 14.2%",
             "Deep poverty rises 1% from 5.5% to 5.5%",
             "Child poverty rises 1% from 15.6% to 15.7%",
             "Deep child poverty rises 3% from 5.4% to 5.5%"
            ],
            [
             "Oregon",
             "Poverty falls 5% from 14.0% to 13.3%",
             "Deep poverty falls 6% from 5.1% to 4.8%",
             "Child poverty falls 4% from 14.3% to 13.8%",
             "Deep child poverty falls 8% from 4.6% to 4.2%"
            ],
            [
             "Pennsylvania",
             "Poverty falls 3% from 13.5% to 13.0%",
             "Deep poverty falls 5% from 5.2% to 4.9%",
             "Child poverty falls 3% from 14.7% to 14.2%",
             "Deep child poverty falls 4% from 5.1% to 4.9%"
            ],
            [
             "Rhode Island",
             "Poverty falls 4% from 12.4% to 11.9%",
             "Deep poverty falls 7% from 4.7% to 4.4%",
             "Child poverty falls 3% from 15.1% to 14.6%",
             "Deep child poverty falls 7% from 5.6% to 5.2%"
            ],
            [
             "South Carolina",
             "Poverty falls 4% from 15.6% to 15.0%",
             "Deep poverty falls 5% from 6.3% to 6.0%",
             "Child poverty falls 5% from 17.9% to 17.1%",
             "Deep child poverty falls 5% from 6.5% to 6.2%"
            ],
            [
             "South Dakota",
             "Poverty falls 1% from 12.0% to 11.9%",
             "Deep poverty falls 6% from 5.7% to 5.3%",
             "Child poverty falls 0% from 11.9% to 11.9%",
             "Deep child poverty falls 5% from 6.0% to 5.7%"
            ],
            [
             "Tennessee",
             "Poverty falls 3% from 15.5% to 15.0%",
             "Deep poverty falls 2% from 6.1% to 5.9%",
             "Child poverty falls 1% from 18.6% to 18.3%",
             "Deep child poverty falls 1% from 7.0% to 7.0%"
            ],
            [
             "Texas",
             "Poverty falls 3% from 16.3% to 15.8%",
             "Deep poverty falls 3% from 6.0% to 5.8%",
             "Child poverty falls 2% from 19.0% to 18.6%",
             "Deep child poverty falls 2% from 6.2% to 6.1%"
            ],
            [
             "Utah",
             "Poverty falls 3% from 10.0% to 9.7%",
             "Deep poverty falls 5% from 4.2% to 4.0%",
             "Child poverty falls 2% from 8.2% to 8.1%",
             "Deep child poverty falls 8% from 2.9% to 2.6%"
            ],
            [
             "Vermont",
             "Poverty falls 4% from 11.6% to 11.1%",
             "Deep poverty falls 3% from 4.7% to 4.6%",
             "Child poverty falls 4% from 10.3% to 9.8%",
             "Deep child poverty falls 1% from 3.8% to 3.7%"
            ],
            [
             "Virginia",
             "Poverty falls 3% from 14.6% to 14.2%",
             "Deep poverty falls 3% from 5.5% to 5.3%",
             "Child poverty falls 2% from 17.1% to 16.8%",
             "Deep child poverty falls 0% from 5.6% to 5.6%"
            ],
            [
             "Washington",
             "Poverty falls 4% from 11.8% to 11.2%",
             "Deep poverty falls 5% from 4.6% to 4.4%",
             "Child poverty falls 5% from 11.9% to 11.3%",
             "Deep child poverty falls 4% from 3.8% to 3.7%"
            ],
            [
             "West Virginia",
             "Poverty falls 2% from 16.1% to 15.8%",
             "Deep poverty falls 5% from 6.2% to 5.9%",
             "Child poverty falls 1% from 17.9% to 17.6%",
             "Deep child poverty falls 1% from 6.2% to 6.2%"
            ],
            [
             "Wisconsin",
             "Poverty falls 1% from 10.6% to 10.5%",
             "Deep poverty falls 3% from 4.2% to 4.0%",
             "Child poverty falls 1% from 10.0% to 9.9%",
             "Deep child poverty falls 2% from 3.3% to 3.2%"
            ],
            [
             "Wyoming",
             "Poverty falls 1% from 11.4% to 11.3%",
             "Deep poverty rises 2% from 5.5% to 5.6%",
             "Child poverty rises 0% from 11.7% to 11.7%",
             "Deep child poverty rises 4% from 4.6% to 4.7%"
            ]
           ],
           "geo": "geo",
           "hovertemplate": "<b>%{customdata[0]}</b><br>%{customdata[1]}<br>%{customdata[2]}<br>%{customdata[3]}<br>%{customdata[4]}",
           "locationmode": "USA-states",
           "locations": [
            "AL",
            "AK",
            "AZ",
            "AR",
            "CA",
            "CO",
            "CT",
            "DE",
            "DC",
            "FL",
            "GA",
            "HI",
            "ID",
            "IL",
            "IN",
            "IA",
            "KS",
            "KY",
            "LA",
            "ME",
            "MD",
            "MA",
            "MI",
            "MN",
            "MS",
            "MO",
            "MT",
            "NE",
            "NV",
            "NH",
            "NJ",
            "NM",
            "NY",
            "NC",
            "ND",
            "OH",
            "OK",
            "OR",
            "PA",
            "RI",
            "SC",
            "SD",
            "TN",
            "TX",
            "UT",
            "VT",
            "VA",
            "WA",
            "WV",
            "WI",
            "WY"
           ],
           "name": "",
           "type": "choropleth",
           "z": [
            0.0183888615196367,
            0.0390264846786586,
            0.0510611021373536,
            -0.0019350256656702,
            0.0563639201275968,
            0.0180895666473965,
            0.0418848402352801,
            0.0229867071424658,
            0.0500740148029607,
            0.0365851238541108,
            0.0263785678562105,
            0.063388893703479,
            0.0081602655286866,
            0.0248398502803542,
            0.0245810828726733,
            0.0067672901346005,
            0.012149468795252,
            0.0209380210755566,
            0.0207891767318839,
            0.0611652284943466,
            0.0390259046181898,
            0.047683637488001,
            0.0295284714028599,
            0.0313750442655517,
            0.0254305869419165,
            0.0038175001345115,
            0.0073590442876622,
            0.02371944397034,
            0.0533563476927136,
            0.0305944410630958,
            0.0474838956566104,
            0.0320134971265884,
            0.0464160049412242,
            0.0254790517188271,
            -0.0238237401480774,
            0.0181215551757485,
            0.0019962794938345,
            0.0491945434008165,
            0.0332701514270993,
            0.037185490911977,
            0.0412059390816947,
            0.0064606576341639,
            0.0262350556867414,
            0.0275402845609583,
            0.0307684906023478,
            0.0440019454696306,
            0.0273850691408896,
            0.0443515395476813,
            0.0181145986715961,
            0.0094862055177931,
            0.0072250050715476
           ]
          }
         ],
         "name": "50"
        },
        {
         "data": [
          {
           "coloraxis": "coloraxis",
           "customdata": [
            [
             "Alabama",
             "Poverty falls 2% from 17.1% to 16.7%",
             "Deep poverty falls 5% from 6.9% to 6.5%",
             "Child poverty falls 1% from 20.3% to 20.1%",
             "Deep child poverty falls 4% from 7.7% to 7.4%"
            ],
            [
             "Alaska",
             "Poverty falls 4% from 12.5% to 11.9%",
             "Deep poverty falls 3% from 4.2% to 4.1%",
             "Child poverty falls 4% from 12.6% to 12.0%",
             "Deep child poverty falls 3% from 3.1% to 3.1%"
            ],
            [
             "Arizona",
             "Poverty falls 5% from 15.1% to 14.3%",
             "Deep poverty falls 5% from 5.7% to 5.4%",
             "Child poverty falls 4% from 17.3% to 16.5%",
             "Deep child poverty falls 5% from 5.7% to 5.5%"
            ],
            [
             "Arkansas",
             "Poverty rises 0% from 16.1% to 16.1%",
             "Deep poverty falls 4% from 6.1% to 5.8%",
             "Child poverty rises 2% from 17.9% to 18.3%",
             "Deep child poverty falls 6% from 6.6% to 6.2%"
            ],
            [
             "California",
             "Poverty falls 6% from 20.3% to 19.1%",
             "Deep poverty falls 8% from 6.6% to 6.1%",
             "Child poverty falls 6% from 23.8% to 22.4%",
             "Deep child poverty falls 10% from 6.4% to 5.7%"
            ],
            [
             "Colorado",
             "Poverty falls 2% from 12.8% to 12.5%",
             "Deep poverty falls 3% from 5.0% to 4.9%",
             "Child poverty falls 2% from 13.6% to 13.3%",
             "Deep child poverty falls 3% from 4.3% to 4.2%"
            ],
            [
             "Connecticut",
             "Poverty falls 4% from 12.9% to 12.3%",
             "Deep poverty falls 6% from 4.5% to 4.2%",
             "Child poverty falls 4% from 15.5% to 14.9%",
             "Deep child poverty falls 5% from 4.5% to 4.3%"
            ],
            [
             "Delaware",
             "Poverty falls 3% from 13.6% to 13.2%",
             "Deep poverty falls 3% from 5.1% to 5.0%",
             "Child poverty rises 1% from 16.4% to 16.5%",
             "Deep child poverty rises 7% from 5.4% to 5.8%"
            ],
            [
             "District of Columbia",
             "Poverty falls 5% from 18.9% to 17.9%",
             "Deep poverty falls 5% from 9.4% to 9.0%",
             "Child poverty falls 4% from 27.1% to 25.9%",
             "Deep child poverty falls 6% from 13.5% to 12.6%"
            ],
            [
             "Florida",
             "Poverty falls 4% from 18.1% to 17.4%",
             "Deep poverty falls 6% from 6.4% to 6.1%",
             "Child poverty falls 3% from 21.3% to 20.7%",
             "Deep child poverty falls 4% from 6.7% to 6.4%"
            ],
            [
             "Georgia",
             "Poverty falls 3% from 15.4% to 15.0%",
             "Deep poverty falls 3% from 6.0% to 5.8%",
             "Child poverty falls 2% from 17.8% to 17.4%",
             "Deep child poverty falls 1% from 6.3% to 6.2%"
            ],
            [
             "Hawaii",
             "Poverty falls 7% from 15.1% to 14.0%",
             "Deep poverty falls 6% from 4.4% to 4.1%",
             "Child poverty falls 9% from 18.5% to 16.8%",
             "Deep child poverty falls 5% from 3.4% to 3.3%"
            ],
            [
             "Idaho",
             "Poverty falls 2% from 12.2% to 12.0%",
             "Deep poverty falls 4% from 5.0% to 4.7%",
             "Child poverty rises 1% from 11.8% to 11.9%",
             "Deep child poverty falls 7% from 4.4% to 4.2%"
            ],
            [
             "Illinois",
             "Poverty falls 3% from 13.6% to 13.2%",
             "Deep poverty falls 3% from 4.9% to 4.8%",
             "Child poverty falls 1% from 14.7% to 14.5%",
             "Deep child poverty rises 0% from 4.2% to 4.2%"
            ],
            [
             "Indiana",
             "Poverty falls 2% from 13.3% to 13.0%",
             "Deep poverty falls 2% from 5.5% to 5.3%",
             "Child poverty falls 3% from 14.7% to 14.3%",
             "Deep child poverty falls 1% from 5.5% to 5.4%"
            ],
            [
             "Iowa",
             "Poverty falls 0% from 10.1% to 10.1%",
             "Deep poverty falls 2% from 4.3% to 4.3%",
             "Child poverty rises 1% from 9.0% to 9.0%",
             "Deep child poverty rises 0% from 3.2% to 3.2%"
            ],
            [
             "Kansas",
             "Poverty falls 2% from 11.9% to 11.6%",
             "Deep poverty falls 4% from 4.7% to 4.5%",
             "Child poverty rises 0% from 10.6% to 10.6%",
             "Deep child poverty falls 1% from 3.5% to 3.4%"
            ],
            [
             "Kentucky",
             "Poverty falls 2% from 16.3% to 15.9%",
             "Deep poverty falls 3% from 6.5% to 6.4%",
             "Child poverty falls 1% from 18.4% to 18.3%",
             "Deep child poverty falls 2% from 7.4% to 7.3%"
            ],
            [
             "Louisiana",
             "Poverty falls 2% from 18.5% to 18.1%",
             "Deep poverty falls 4% from 6.9% to 6.7%",
             "Child poverty falls 2% from 21.3% to 21.0%",
             "Deep child poverty falls 3% from 7.5% to 7.3%"
            ],
            [
             "Maine",
             "Poverty falls 6% from 11.2% to 10.5%",
             "Deep poverty falls 3% from 4.6% to 4.4%",
             "Child poverty falls 8% from 10.9% to 10.0%",
             "Deep child poverty falls 4% from 4.5% to 4.3%"
            ],
            [
             "Maryland",
             "Poverty falls 4% from 12.9% to 12.4%",
             "Deep poverty falls 4% from 4.7% to 4.5%",
             "Child poverty falls 4% from 15.2% to 14.5%",
             "Deep child poverty falls 4% from 5.1% to 4.9%"
            ],
            [
             "Massachusetts",
             "Poverty falls 5% from 13.9% to 13.2%",
             "Deep poverty falls 5% from 5.0% to 4.7%",
             "Child poverty falls 4% from 15.7% to 15.1%",
             "Deep child poverty falls 4% from 4.7% to 4.5%"
            ],
            [
             "Michigan",
             "Poverty falls 3% from 14.0% to 13.5%",
             "Deep poverty falls 2% from 5.6% to 5.5%",
             "Child poverty falls 3% from 15.3% to 14.8%",
             "Deep child poverty falls 1% from 5.5% to 5.4%"
            ],
            [
             "Minnesota",
             "Poverty falls 3% from 9.6% to 9.4%",
             "Deep poverty falls 1% from 3.8% to 3.8%",
             "Child poverty falls 3% from 8.3% to 8.0%",
             "Deep child poverty rises 1% from 2.3% to 2.4%"
            ],
            [
             "Mississippi",
             "Poverty falls 2% from 18.1% to 17.7%",
             "Deep poverty falls 4% from 7.5% to 7.2%",
             "Child poverty falls 1% from 20.7% to 20.6%",
             "Deep child poverty falls 3% from 8.4% to 8.1%"
            ],
            [
             "Missouri",
             "Poverty falls 0% from 12.8% to 12.7%",
             "Deep poverty falls 2% from 5.2% to 5.1%",
             "Child poverty rises 2% from 14.4% to 14.6%",
             "Deep child poverty falls 2% from 5.2% to 5.1%"
            ],
            [
             "Montana",
             "Poverty falls 1% from 13.1% to 13.0%",
             "Deep poverty falls 8% from 5.2% to 4.7%",
             "Child poverty rises 1% from 12.8% to 13.0%",
             "Deep child poverty falls 16% from 4.6% to 3.8%"
            ],
            [
             "Nebraska",
             "Poverty falls 2% from 11.2% to 11.0%",
             "Deep poverty rises 1% from 4.5% to 4.5%",
             "Child poverty falls 2% from 9.8% to 9.6%",
             "Deep child poverty rises 1% from 3.8% to 3.8%"
            ],
            [
             "Nevada",
             "Poverty falls 5% from 14.9% to 14.1%",
             "Deep poverty falls 6% from 5.7% to 5.4%",
             "Child poverty falls 7% from 16.2% to 15.1%",
             "Deep child poverty falls 9% from 5.8% to 5.2%"
            ],
            [
             "New Hampshire",
             "Poverty falls 3% from 9.4% to 9.1%",
             "Deep poverty falls 4% from 3.4% to 3.3%",
             "Child poverty falls 3% from 11.2% to 10.9%",
             "Deep child poverty falls 9% from 3.7% to 3.4%"
            ],
            [
             "New Jersey",
             "Poverty falls 5% from 14.0% to 13.3%",
             "Deep poverty falls 7% from 4.6% to 4.3%",
             "Child poverty falls 4% from 17.0% to 16.3%",
             "Deep child poverty falls 6% from 5.4% to 5.1%"
            ],
            [
             "New Mexico",
             "Poverty falls 4% from 18.5% to 17.8%",
             "Deep poverty falls 5% from 7.3% to 6.9%",
             "Child poverty falls 3% from 20.5% to 19.9%",
             "Deep child poverty falls 2% from 7.4% to 7.2%"
            ],
            [
             "New York",
             "Poverty falls 5% from 17.9% to 17.0%",
             "Deep poverty falls 8% from 6.3% to 5.8%",
             "Child poverty falls 4% from 21.4% to 20.5%",
             "Deep child poverty falls 8% from 7.1% to 6.5%"
            ],
            [
             "North Carolina",
             "Poverty falls 3% from 14.3% to 13.9%",
             "Deep poverty falls 5% from 5.6% to 5.4%",
             "Child poverty falls 2% from 16.2% to 15.8%",
             "Deep child poverty falls 3% from 5.9% to 5.8%"
            ],
            [
             "North Dakota",
             "Poverty rises 2% from 9.1% to 9.3%",
             "Deep poverty rises 1% from 4.7% to 4.7%",
             "Child poverty rises 5% from 6.3% to 6.6%",
             "Deep child poverty rises 2% from 2.7% to 2.8%"
            ],
            [
             "Ohio",
             "Poverty falls 2% from 12.5% to 12.3%",
             "Deep poverty falls 3% from 4.8% to 4.7%",
             "Child poverty falls 1% from 14.0% to 13.9%",
             "Deep child poverty falls 3% from 4.9% to 4.7%"
            ],
            [
             "Oklahoma",
             "Poverty falls 0% from 14.2% to 14.2%",
             "Deep poverty rises 1% from 5.5% to 5.5%",
             "Child poverty rises 0% from 15.6% to 15.7%",
             "Deep child poverty rises 3% from 5.4% to 5.5%"
            ],
            [
             "Oregon",
             "Poverty falls 6% from 14.0% to 13.2%",
             "Deep poverty falls 6% from 5.1% to 4.8%",
             "Child poverty falls 6% from 14.3% to 13.5%",
             "Deep child poverty falls 8% from 4.6% to 4.2%"
            ],
            [
             "Pennsylvania",
             "Poverty falls 4% from 13.5% to 13.0%",
             "Deep poverty falls 5% from 5.2% to 4.9%",
             "Child poverty falls 4% from 14.7% to 14.2%",
             "Deep child poverty falls 5% from 5.1% to 4.9%"
            ],
            [
             "Rhode Island",
             "Poverty falls 4% from 12.4% to 11.9%",
             "Deep poverty falls 6% from 4.7% to 4.4%",
             "Child poverty falls 3% from 15.1% to 14.6%",
             "Deep child poverty falls 7% from 5.6% to 5.2%"
            ],
            [
             "South Carolina",
             "Poverty falls 5% from 15.6% to 14.9%",
             "Deep poverty falls 5% from 6.3% to 6.0%",
             "Child poverty falls 5% from 17.9% to 17.0%",
             "Deep child poverty falls 5% from 6.5% to 6.2%"
            ],
            [
             "South Dakota",
             "Poverty falls 1% from 12.0% to 11.9%",
             "Deep poverty falls 6% from 5.7% to 5.3%",
             "Child poverty falls 0% from 11.9% to 11.9%",
             "Deep child poverty falls 5% from 6.0% to 5.8%"
            ],
            [
             "Tennessee",
             "Poverty falls 3% from 15.5% to 15.0%",
             "Deep poverty falls 2% from 6.1% to 5.9%",
             "Child poverty falls 1% from 18.6% to 18.3%",
             "Deep child poverty falls 2% from 7.0% to 6.9%"
            ],
            [
             "Texas",
             "Poverty falls 3% from 16.3% to 15.8%",
             "Deep poverty falls 3% from 6.0% to 5.8%",
             "Child poverty falls 2% from 19.0% to 18.6%",
             "Deep child poverty falls 2% from 6.2% to 6.1%"
            ],
            [
             "Utah",
             "Poverty falls 3% from 10.0% to 9.7%",
             "Deep poverty falls 5% from 4.2% to 4.0%",
             "Child poverty falls 1% from 8.2% to 8.2%",
             "Deep child poverty falls 8% from 2.9% to 2.6%"
            ],
            [
             "Vermont",
             "Poverty falls 4% from 11.6% to 11.1%",
             "Deep poverty falls 3% from 4.7% to 4.6%",
             "Child poverty falls 4% from 10.3% to 9.8%",
             "Deep child poverty falls 1% from 3.8% to 3.7%"
            ],
            [
             "Virginia",
             "Poverty falls 3% from 14.6% to 14.2%",
             "Deep poverty falls 3% from 5.5% to 5.3%",
             "Child poverty falls 3% from 17.1% to 16.7%",
             "Deep child poverty falls 0% from 5.6% to 5.6%"
            ],
            [
             "Washington",
             "Poverty falls 5% from 11.8% to 11.2%",
             "Deep poverty falls 6% from 4.6% to 4.4%",
             "Child poverty falls 5% from 11.9% to 11.2%",
             "Deep child poverty falls 4% from 3.8% to 3.6%"
            ],
            [
             "West Virginia",
             "Poverty falls 1% from 16.1% to 15.9%",
             "Deep poverty falls 6% from 6.2% to 5.9%",
             "Child poverty rises 1% from 17.9% to 18.1%",
             "Deep child poverty falls 3% from 6.2% to 6.0%"
            ],
            [
             "Wisconsin",
             "Poverty falls 1% from 10.6% to 10.5%",
             "Deep poverty falls 2% from 4.2% to 4.1%",
             "Child poverty falls 1% from 10.0% to 9.9%",
             "Deep child poverty falls 0% from 3.3% to 3.3%"
            ],
            [
             "Wyoming",
             "Poverty falls 1% from 11.4% to 11.3%",
             "Deep poverty rises 2% from 5.5% to 5.6%",
             "Child poverty rises 0% from 11.7% to 11.7%",
             "Deep child poverty rises 4% from 4.6% to 4.7%"
            ]
           ],
           "geo": "geo",
           "hovertemplate": "<b>%{customdata[0]}</b><br>%{customdata[1]}<br>%{customdata[2]}<br>%{customdata[3]}<br>%{customdata[4]}",
           "locationmode": "USA-states",
           "locations": [
            "AL",
            "AK",
            "AZ",
            "AR",
            "CA",
            "CO",
            "CT",
            "DE",
            "DC",
            "FL",
            "GA",
            "HI",
            "ID",
            "IL",
            "IN",
            "IA",
            "KS",
            "KY",
            "LA",
            "ME",
            "MD",
            "MA",
            "MI",
            "MN",
            "MS",
            "MO",
            "MT",
            "NE",
            "NV",
            "NH",
            "NJ",
            "NM",
            "NY",
            "NC",
            "ND",
            "OH",
            "OK",
            "OR",
            "PA",
            "RI",
            "SC",
            "SD",
            "TN",
            "TX",
            "UT",
            "VT",
            "VA",
            "WA",
            "WV",
            "WI",
            "WY"
           ],
           "name": "",
           "type": "choropleth",
           "z": [
            0.0200338832710256,
            0.0446646479255176,
            0.0509929310354623,
            -0.0024028340683597,
            0.0614335363091559,
            0.0201676498156244,
            0.0447462309698456,
            0.0304507366230351,
            0.0512022404480896,
            0.0398649340505741,
            0.0288710010894119,
            0.0719588641418955,
            0.020279753437648,
            0.0271477815750149,
            0.0247228835101996,
            0.0031211208810441,
            0.0216198697039347,
            0.0220354700030627,
            0.0231463183096406,
            0.0630530441886165,
            0.0414845903151098,
            0.0516558374748573,
            0.0339957921946524,
            0.0280686206001933,
            0.023044799364808,
            0.0043201135932662,
            0.0073219896839983,
            0.0228518328876752,
            0.0541165370245741,
            0.0309352809900587,
            0.0508298704293347,
            0.0360784520482945,
            0.050703590557991,
            0.0275210306525267,
            -0.0238237401480774,
            0.0199008185172429,
            0.0029852282670234,
            0.0564723260057344,
            0.0369425623205613,
            0.0366616398126834,
            0.0456369496834994,
            0.0075684790494302,
            0.0305379218829663,
            0.0282071628934391,
            0.0280806979280261,
            0.0440019454696306,
            0.0305238893580349,
            0.0480328289541063,
            0.0118009724679288,
            0.0122034519525522,
            0.0075839146107393
           ]
          }
         ],
         "name": "55"
        },
        {
         "data": [
          {
           "coloraxis": "coloraxis",
           "customdata": [
            [
             "Alabama",
             "Poverty falls 2% from 17.1% to 16.7%",
             "Deep poverty falls 6% from 6.9% to 6.5%",
             "Child poverty falls 1% from 20.3% to 20.0%",
             "Deep child poverty falls 5% from 7.7% to 7.4%"
            ],
            [
             "Alaska",
             "Poverty falls 4% from 12.5% to 11.9%",
             "Deep poverty falls 3% from 4.2% to 4.1%",
             "Child poverty falls 4% from 12.6% to 12.0%",
             "Deep child poverty falls 3% from 3.1% to 3.1%"
            ],
            [
             "Arizona",
             "Poverty falls 6% from 15.1% to 14.2%",
             "Deep poverty falls 5% from 5.7% to 5.4%",
             "Child poverty falls 5% from 17.3% to 16.4%",
             "Deep child poverty falls 5% from 5.7% to 5.5%"
            ],
            [
             "Arkansas",
             "Poverty rises 0% from 16.1% to 16.1%",
             "Deep poverty falls 4% from 6.1% to 5.9%",
             "Child poverty rises 2% from 17.9% to 18.3%",
             "Deep child poverty falls 6% from 6.6% to 6.3%"
            ],
            [
             "California",
             "Poverty falls 7% from 20.3% to 19.0%",
             "Deep poverty falls 9% from 6.6% to 6.0%",
             "Child poverty falls 7% from 23.8% to 22.2%",
             "Deep child poverty falls 11% from 6.4% to 5.7%"
            ],
            [
             "Colorado",
             "Poverty falls 2% from 12.8% to 12.5%",
             "Deep poverty falls 3% from 5.0% to 4.9%",
             "Child poverty falls 3% from 13.6% to 13.2%",
             "Deep child poverty falls 3% from 4.3% to 4.2%"
            ],
            [
             "Connecticut",
             "Poverty falls 5% from 12.9% to 12.3%",
             "Deep poverty falls 6% from 4.5% to 4.2%",
             "Child poverty falls 4% from 15.5% to 14.8%",
             "Deep child poverty falls 5% from 4.5% to 4.3%"
            ],
            [
             "Delaware",
             "Poverty falls 4% from 13.6% to 13.1%",
             "Deep poverty falls 4% from 5.1% to 4.9%",
             "Child poverty rises 1% from 16.4% to 16.5%",
             "Deep child poverty rises 7% from 5.4% to 5.8%"
            ],
            [
             "District of Columbia",
             "Poverty falls 5% from 18.9% to 17.9%",
             "Deep poverty falls 5% from 9.4% to 9.0%",
             "Child poverty falls 4% from 27.1% to 25.9%",
             "Deep child poverty falls 6% from 13.5% to 12.6%"
            ],
            [
             "Florida",
             "Poverty falls 4% from 18.1% to 17.3%",
             "Deep poverty falls 6% from 6.4% to 6.1%",
             "Child poverty falls 3% from 21.3% to 20.6%",
             "Deep child poverty falls 5% from 6.7% to 6.4%"
            ],
            [
             "Georgia",
             "Poverty falls 3% from 15.4% to 14.9%",
             "Deep poverty falls 4% from 6.0% to 5.8%",
             "Child poverty falls 2% from 17.8% to 17.4%",
             "Deep child poverty falls 1% from 6.3% to 6.2%"
            ],
            [
             "Hawaii",
             "Poverty falls 7% from 15.1% to 14.0%",
             "Deep poverty falls 6% from 4.4% to 4.1%",
             "Child poverty falls 9% from 18.5% to 16.7%",
             "Deep child poverty falls 5% from 3.4% to 3.3%"
            ],
            [
             "Idaho",
             "Poverty falls 2% from 12.2% to 12.0%",
             "Deep poverty falls 5% from 5.0% to 4.7%",
             "Child poverty rises 0% from 11.8% to 11.9%",
             "Deep child poverty falls 7% from 4.4% to 4.1%"
            ],
            [
             "Illinois",
             "Poverty falls 3% from 13.6% to 13.1%",
             "Deep poverty falls 3% from 4.9% to 4.8%",
             "Child poverty falls 2% from 14.7% to 14.3%",
             "Deep child poverty rises 0% from 4.2% to 4.2%"
            ],
            [
             "Indiana",
             "Poverty falls 3% from 13.3% to 13.0%",
             "Deep poverty falls 3% from 5.5% to 5.3%",
             "Child poverty falls 3% from 14.7% to 14.3%",
             "Deep child poverty falls 1% from 5.5% to 5.4%"
            ],
            [
             "Iowa",
             "Poverty falls 0% from 10.1% to 10.1%",
             "Deep poverty falls 2% from 4.3% to 4.3%",
             "Child poverty rises 1% from 9.0% to 9.0%",
             "Deep child poverty rises 1% from 3.2% to 3.2%"
            ],
            [
             "Kansas",
             "Poverty falls 3% from 11.9% to 11.5%",
             "Deep poverty falls 4% from 4.7% to 4.5%",
             "Child poverty falls 1% from 10.6% to 10.6%",
             "Deep child poverty falls 1% from 3.5% to 3.4%"
            ],
            [
             "Kentucky",
             "Poverty falls 2% from 16.3% to 15.9%",
             "Deep poverty falls 3% from 6.5% to 6.4%",
             "Child poverty falls 1% from 18.4% to 18.2%",
             "Deep child poverty falls 2% from 7.4% to 7.3%"
            ],
            [
             "Louisiana",
             "Poverty falls 3% from 18.5% to 18.0%",
             "Deep poverty falls 4% from 6.9% to 6.7%",
             "Child poverty falls 2% from 21.3% to 20.9%",
             "Deep child poverty falls 3% from 7.5% to 7.3%"
            ],
            [
             "Maine",
             "Poverty falls 6% from 11.2% to 10.5%",
             "Deep poverty falls 6% from 4.6% to 4.3%",
             "Child poverty falls 8% from 10.9% to 10.0%",
             "Deep child poverty falls 11% from 4.5% to 4.0%"
            ],
            [
             "Maryland",
             "Poverty falls 5% from 12.9% to 12.3%",
             "Deep poverty falls 4% from 4.7% to 4.4%",
             "Child poverty falls 5% from 15.2% to 14.5%",
             "Deep child poverty falls 4% from 5.1% to 4.9%"
            ],
            [
             "Massachusetts",
             "Poverty falls 6% from 13.9% to 13.2%",
             "Deep poverty falls 6% from 5.0% to 4.7%",
             "Child poverty falls 5% from 15.7% to 15.0%",
             "Deep child poverty falls 5% from 4.7% to 4.5%"
            ],
            [
             "Michigan",
             "Poverty falls 4% from 14.0% to 13.5%",
             "Deep poverty falls 3% from 5.6% to 5.4%",
             "Child poverty falls 3% from 15.3% to 14.8%",
             "Deep child poverty falls 4% from 5.5% to 5.3%"
            ],
            [
             "Minnesota",
             "Poverty falls 3% from 9.6% to 9.3%",
             "Deep poverty falls 2% from 3.8% to 3.7%",
             "Child poverty falls 3% from 8.3% to 8.0%",
             "Deep child poverty falls 0% from 2.3% to 2.3%"
            ],
            [
             "Mississippi",
             "Poverty falls 2% from 18.1% to 17.7%",
             "Deep poverty falls 4% from 7.5% to 7.2%",
             "Child poverty falls 0% from 20.7% to 20.6%",
             "Deep child poverty falls 3% from 8.4% to 8.1%"
            ],
            [
             "Missouri",
             "Poverty falls 1% from 12.8% to 12.7%",
             "Deep poverty falls 2% from 5.2% to 5.1%",
             "Child poverty rises 1% from 14.4% to 14.6%",
             "Deep child poverty falls 3% from 5.2% to 5.1%"
            ],
            [
             "Montana",
             "Poverty falls 1% from 13.1% to 12.9%",
             "Deep poverty falls 8% from 5.2% to 4.7%",
             "Child poverty rises 2% from 12.8% to 13.0%",
             "Deep child poverty falls 16% from 4.6% to 3.8%"
            ],
            [
             "Nebraska",
             "Poverty falls 3% from 11.2% to 10.9%",
             "Deep poverty rises 1% from 4.5% to 4.5%",
             "Child poverty falls 2% from 9.8% to 9.6%",
             "Deep child poverty rises 1% from 3.8% to 3.8%"
            ],
            [
             "Nevada",
             "Poverty falls 6% from 14.9% to 14.0%",
             "Deep poverty falls 6% from 5.7% to 5.3%",
             "Child poverty falls 8% from 16.2% to 15.0%",
             "Deep child poverty falls 9% from 5.8% to 5.2%"
            ],
            [
             "New Hampshire",
             "Poverty falls 4% from 9.4% to 9.0%",
             "Deep poverty falls 4% from 3.4% to 3.3%",
             "Child poverty falls 3% from 11.2% to 10.9%",
             "Deep child poverty falls 9% from 3.7% to 3.4%"
            ],
            [
             "New Jersey",
             "Poverty falls 6% from 14.0% to 13.2%",
             "Deep poverty falls 8% from 4.6% to 4.3%",
             "Child poverty falls 5% from 17.0% to 16.2%",
             "Deep child poverty falls 6% from 5.4% to 5.0%"
            ],
            [
             "New Mexico",
             "Poverty falls 4% from 18.5% to 17.8%",
             "Deep poverty falls 5% from 7.3% to 6.9%",
             "Child poverty falls 3% from 20.5% to 19.9%",
             "Deep child poverty falls 2% from 7.4% to 7.2%"
            ],
            [
             "New York",
             "Poverty falls 5% from 17.9% to 16.9%",
             "Deep poverty falls 9% from 6.3% to 5.7%",
             "Child poverty falls 4% from 21.4% to 20.5%",
             "Deep child poverty falls 9% from 7.1% to 6.5%"
            ],
            [
             "North Carolina",
             "Poverty falls 3% from 14.3% to 13.9%",
             "Deep poverty falls 5% from 5.6% to 5.4%",
             "Child poverty falls 3% from 16.2% to 15.8%",
             "Deep child poverty falls 3% from 5.9% to 5.7%"
            ],
            [
             "North Dakota",
             "Poverty rises 2% from 9.1% to 9.3%",
             "Deep poverty rises 1% from 4.7% to 4.7%",
             "Child poverty rises 5% from 6.3% to 6.6%",
             "Deep child poverty rises 2% from 2.7% to 2.8%"
            ],
            [
             "Ohio",
             "Poverty falls 2% from 12.5% to 12.3%",
             "Deep poverty falls 3% from 4.8% to 4.7%",
             "Child poverty falls 0% from 14.0% to 13.9%",
             "Deep child poverty falls 4% from 4.9% to 4.7%"
            ],
            [
             "Oklahoma",
             "Poverty falls 0% from 14.2% to 14.2%",
             "Deep poverty rises 1% from 5.5% to 5.6%",
             "Child poverty rises 1% from 15.6% to 15.8%",
             "Deep child poverty rises 4% from 5.4% to 5.6%"
            ],
            [
             "Oregon",
             "Poverty falls 6% from 14.0% to 13.1%",
             "Deep poverty falls 7% from 5.1% to 4.7%",
             "Child poverty falls 6% from 14.3% to 13.5%",
             "Deep child poverty falls 8% from 4.6% to 4.2%"
            ],
            [
             "Pennsylvania",
             "Poverty falls 4% from 13.5% to 12.9%",
             "Deep poverty falls 5% from 5.2% to 4.9%",
             "Child poverty falls 4% from 14.7% to 14.1%",
             "Deep child poverty falls 5% from 5.1% to 4.9%"
            ],
            [
             "Rhode Island",
             "Poverty falls 4% from 12.4% to 11.9%",
             "Deep poverty falls 6% from 4.7% to 4.4%",
             "Child poverty falls 3% from 15.1% to 14.6%",
             "Deep child poverty falls 7% from 5.6% to 5.2%"
            ],
            [
             "South Carolina",
             "Poverty falls 5% from 15.6% to 14.8%",
             "Deep poverty falls 5% from 6.3% to 5.9%",
             "Child poverty falls 5% from 17.9% to 17.0%",
             "Deep child poverty falls 6% from 6.5% to 6.1%"
            ],
            [
             "South Dakota",
             "Poverty rises 1% from 12.0% to 12.2%",
             "Deep poverty falls 5% from 5.7% to 5.4%",
             "Child poverty rises 6% from 11.9% to 12.7%",
             "Deep child poverty falls 5% from 6.0% to 5.8%"
            ],
            [
             "Tennessee",
             "Poverty falls 3% from 15.5% to 15.0%",
             "Deep poverty falls 3% from 6.1% to 5.9%",
             "Child poverty falls 1% from 18.6% to 18.4%",
             "Deep child poverty falls 3% from 7.0% to 6.8%"
            ],
            [
             "Texas",
             "Poverty falls 3% from 16.3% to 15.8%",
             "Deep poverty falls 4% from 6.0% to 5.8%",
             "Child poverty falls 2% from 19.0% to 18.6%",
             "Deep child poverty falls 3% from 6.2% to 6.1%"
            ],
            [
             "Utah",
             "Poverty falls 4% from 10.0% to 9.6%",
             "Deep poverty falls 6% from 4.2% to 4.0%",
             "Child poverty falls 3% from 8.2% to 8.0%",
             "Deep child poverty falls 8% from 2.9% to 2.6%"
            ],
            [
             "Vermont",
             "Poverty falls 4% from 11.6% to 11.1%",
             "Deep poverty falls 3% from 4.7% to 4.6%",
             "Child poverty falls 4% from 10.3% to 9.8%",
             "Deep child poverty falls 1% from 3.8% to 3.7%"
            ],
            [
             "Virginia",
             "Poverty falls 3% from 14.6% to 14.1%",
             "Deep poverty falls 4% from 5.5% to 5.3%",
             "Child poverty falls 3% from 17.1% to 16.6%",
             "Deep child poverty falls 2% from 5.6% to 5.5%"
            ],
            [
             "Washington",
             "Poverty falls 5% from 11.8% to 11.1%",
             "Deep poverty falls 6% from 4.6% to 4.4%",
             "Child poverty falls 6% from 11.9% to 11.2%",
             "Deep child poverty falls 4% from 3.8% to 3.7%"
            ],
            [
             "West Virginia",
             "Poverty falls 1% from 16.1% to 15.9%",
             "Deep poverty falls 5% from 6.2% to 5.9%",
             "Child poverty rises 1% from 17.9% to 18.1%",
             "Deep child poverty rises 0% from 6.2% to 6.2%"
            ],
            [
             "Wisconsin",
             "Poverty falls 2% from 10.6% to 10.4%",
             "Deep poverty falls 2% from 4.2% to 4.1%",
             "Child poverty falls 2% from 10.0% to 9.9%",
             "Deep child poverty falls 0% from 3.3% to 3.3%"
            ],
            [
             "Wyoming",
             "Poverty falls 1% from 11.4% to 11.3%",
             "Deep poverty rises 2% from 5.5% to 5.6%",
             "Child poverty rises 0% from 11.7% to 11.7%",
             "Deep child poverty rises 4% from 4.6% to 4.7%"
            ]
           ],
           "geo": "geo",
           "hovertemplate": "<b>%{customdata[0]}</b><br>%{customdata[1]}<br>%{customdata[2]}<br>%{customdata[3]}<br>%{customdata[4]}",
           "locationmode": "USA-states",
           "locations": [
            "AL",
            "AK",
            "AZ",
            "AR",
            "CA",
            "CO",
            "CT",
            "DE",
            "DC",
            "FL",
            "GA",
            "HI",
            "ID",
            "IL",
            "IN",
            "IA",
            "KS",
            "KY",
            "LA",
            "ME",
            "MD",
            "MA",
            "MI",
            "MN",
            "MS",
            "MO",
            "MT",
            "NE",
            "NV",
            "NH",
            "NJ",
            "NM",
            "NY",
            "NC",
            "ND",
            "OH",
            "OK",
            "OR",
            "PA",
            "RI",
            "SC",
            "SD",
            "TN",
            "TX",
            "UT",
            "VT",
            "VA",
            "WA",
            "WV",
            "WI",
            "WY"
           ],
           "name": "",
           "type": "choropleth",
           "z": [
            0.0222919489760693,
            0.0429472114254723,
            0.055556607578733,
            -0.0028663896673883,
            0.0669203547234067,
            0.0237415038530833,
            0.0477376849196189,
            0.0369524226800088,
            0.0517543508701741,
            0.0422390657779749,
            0.0320779065584126,
            0.0734562016735514,
            0.022678994784258,
            0.0331702986995695,
            0.0261351256319064,
            0.0026382060199064,
            0.0284914855594968,
            0.0227954604748237,
            0.0260694604486212,
            0.0643436236450629,
            0.0451916124367317,
            0.0566245888552157,
            0.0379462751857908,
            0.0318863468942152,
            0.0243331246564465,
            0.0050969991483128,
            0.0137843125629927,
            0.0257675750507292,
            0.0608263258037324,
            0.0363968350578209,
            0.0580165205460185,
            0.0374861601729321,
            0.0547661192247306,
            0.0305431594744016,
            -0.0233311440171961,
            0.0224199804891186,
            0.0025330323595801,
            0.0630306716482752,
            0.0403552231606074,
            0.0373997936344153,
            0.0489314054187002,
            -0.0132938569831964,
            0.0305937015903089,
            0.0293352223124299,
            0.0388992238116618,
            0.0449889852087088,
            0.0337172977528695,
            0.0516968569222395,
            0.0144422433853468,
            0.0151322804211647,
            0.0075839146107393
           ]
          }
         ],
         "name": "60"
        },
        {
         "data": [
          {
           "coloraxis": "coloraxis",
           "customdata": [
            [
             "Alabama",
             "Poverty falls 2% from 17.1% to 16.6%",
             "Deep poverty falls 6% from 6.9% to 6.5%",
             "Child poverty falls 1% from 20.3% to 20.0%",
             "Deep child poverty falls 4% from 7.7% to 7.4%"
            ],
            [
             "Alaska",
             "Poverty falls 5% from 12.5% to 11.8%",
             "Deep poverty falls 3% from 4.2% to 4.1%",
             "Child poverty falls 5% from 12.6% to 11.9%",
             "Deep child poverty falls 3% from 3.1% to 3.1%"
            ],
            [
             "Arizona",
             "Poverty falls 6% from 15.1% to 14.2%",
             "Deep poverty falls 5% from 5.7% to 5.4%",
             "Child poverty falls 5% from 17.3% to 16.4%",
             "Deep child poverty falls 5% from 5.7% to 5.4%"
            ],
            [
             "Arkansas",
             "Poverty falls 0% from 16.1% to 16.0%",
             "Deep poverty falls 4% from 6.1% to 5.9%",
             "Child poverty rises 2% from 17.9% to 18.3%",
             "Deep child poverty falls 6% from 6.6% to 6.3%"
            ],
            [
             "California",
             "Poverty falls 7% from 20.3% to 18.9%",
             "Deep poverty falls 9% from 6.6% to 6.0%",
             "Child poverty falls 7% from 23.8% to 22.1%",
             "Deep child poverty falls 11% from 6.4% to 5.6%"
            ],
            [
             "Colorado",
             "Poverty falls 3% from 12.8% to 12.4%",
             "Deep poverty falls 3% from 5.0% to 4.9%",
             "Child poverty falls 3% from 13.6% to 13.2%",
             "Deep child poverty falls 4% from 4.3% to 4.1%"
            ],
            [
             "Connecticut",
             "Poverty falls 5% from 12.9% to 12.2%",
             "Deep poverty falls 7% from 4.5% to 4.2%",
             "Child poverty falls 5% from 15.5% to 14.7%",
             "Deep child poverty falls 7% from 4.5% to 4.2%"
            ],
            [
             "Delaware",
             "Poverty falls 4% from 13.6% to 13.0%",
             "Deep poverty falls 5% from 5.1% to 4.9%",
             "Child poverty rises 1% from 16.4% to 16.5%",
             "Deep child poverty rises 6% from 5.4% to 5.7%"
            ],
            [
             "District of Columbia",
             "Poverty falls 5% from 18.9% to 17.9%",
             "Deep poverty falls 5% from 9.4% to 9.0%",
             "Child poverty falls 4% from 27.1% to 25.9%",
             "Deep child poverty falls 6% from 13.5% to 12.6%"
            ],
            [
             "Florida",
             "Poverty falls 5% from 18.1% to 17.3%",
             "Deep poverty falls 7% from 6.4% to 6.0%",
             "Child poverty falls 4% from 21.3% to 20.6%",
             "Deep child poverty falls 5% from 6.7% to 6.4%"
            ],
            [
             "Georgia",
             "Poverty falls 4% from 15.4% to 14.9%",
             "Deep poverty falls 4% from 6.0% to 5.8%",
             "Child poverty falls 2% from 17.8% to 17.3%",
             "Deep child poverty falls 2% from 6.3% to 6.2%"
            ],
            [
             "Hawaii",
             "Poverty falls 8% from 15.1% to 13.9%",
             "Deep poverty falls 6% from 4.4% to 4.1%",
             "Child poverty falls 10% from 18.5% to 16.7%",
             "Deep child poverty falls 5% from 3.4% to 3.3%"
            ],
            [
             "Idaho",
             "Poverty falls 2% from 12.2% to 11.9%",
             "Deep poverty falls 5% from 5.0% to 4.7%",
             "Child poverty rises 0% from 11.8% to 11.9%",
             "Deep child poverty falls 7% from 4.4% to 4.1%"
            ],
            [
             "Illinois",
             "Poverty falls 4% from 13.6% to 13.1%",
             "Deep poverty falls 4% from 4.9% to 4.7%",
             "Child poverty falls 3% from 14.7% to 14.3%",
             "Deep child poverty falls 2% from 4.2% to 4.1%"
            ],
            [
             "Indiana",
             "Poverty falls 3% from 13.3% to 13.0%",
             "Deep poverty falls 3% from 5.5% to 5.3%",
             "Child poverty falls 4% from 14.7% to 14.2%",
             "Deep child poverty falls 2% from 5.5% to 5.4%"
            ],
            [
             "Iowa",
             "Poverty falls 0% from 10.1% to 10.1%",
             "Deep poverty falls 2% from 4.3% to 4.3%",
             "Child poverty rises 1% from 9.0% to 9.1%",
             "Deep child poverty rises 1% from 3.2% to 3.2%"
            ],
            [
             "Kansas",
             "Poverty falls 3% from 11.9% to 11.6%",
             "Deep poverty falls 4% from 4.7% to 4.5%",
             "Child poverty rises 1% from 10.6% to 10.7%",
             "Deep child poverty falls 1% from 3.5% to 3.5%"
            ],
            [
             "Kentucky",
             "Poverty falls 3% from 16.3% to 15.8%",
             "Deep poverty falls 3% from 6.5% to 6.3%",
             "Child poverty falls 1% from 18.4% to 18.1%",
             "Deep child poverty falls 3% from 7.4% to 7.2%"
            ],
            [
             "Louisiana",
             "Poverty falls 3% from 18.5% to 18.0%",
             "Deep poverty falls 4% from 6.9% to 6.6%",
             "Child poverty falls 2% from 21.3% to 20.8%",
             "Deep child poverty falls 3% from 7.5% to 7.3%"
            ],
            [
             "Maine",
             "Poverty falls 8% from 11.2% to 10.3%",
             "Deep poverty falls 5% from 4.6% to 4.4%",
             "Child poverty falls 9% from 10.9% to 9.9%",
             "Deep child poverty falls 11% from 4.5% to 4.0%"
            ],
            [
             "Maryland",
             "Poverty falls 5% from 12.9% to 12.3%",
             "Deep poverty falls 5% from 4.7% to 4.4%",
             "Child poverty falls 5% from 15.2% to 14.4%",
             "Deep child poverty falls 5% from 5.1% to 4.8%"
            ],
            [
             "Massachusetts",
             "Poverty falls 6% from 13.9% to 13.1%",
             "Deep poverty falls 6% from 5.0% to 4.7%",
             "Child poverty falls 5% from 15.7% to 15.0%",
             "Deep child poverty falls 6% from 4.7% to 4.4%"
            ],
            [
             "Michigan",
             "Poverty falls 4% from 14.0% to 13.5%",
             "Deep poverty falls 4% from 5.6% to 5.3%",
             "Child poverty falls 3% from 15.3% to 14.8%",
             "Deep child poverty falls 5% from 5.5% to 5.2%"
            ],
            [
             "Minnesota",
             "Poverty falls 3% from 9.6% to 9.3%",
             "Deep poverty falls 3% from 3.8% to 3.7%",
             "Child poverty falls 2% from 8.3% to 8.1%",
             "Deep child poverty falls 4% from 2.3% to 2.3%"
            ],
            [
             "Mississippi",
             "Poverty falls 3% from 18.1% to 17.7%",
             "Deep poverty falls 4% from 7.5% to 7.2%",
             "Child poverty falls 1% from 20.7% to 20.6%",
             "Deep child poverty falls 3% from 8.4% to 8.1%"
            ],
            [
             "Missouri",
             "Poverty falls 0% from 12.8% to 12.8%",
             "Deep poverty falls 1% from 5.2% to 5.1%",
             "Child poverty rises 2% from 14.4% to 14.6%",
             "Deep child poverty falls 2% from 5.2% to 5.1%"
            ],
            [
             "Montana",
             "Poverty falls 1% from 13.1% to 12.9%",
             "Deep poverty falls 8% from 5.2% to 4.7%",
             "Child poverty rises 2% from 12.8% to 13.0%",
             "Deep child poverty falls 16% from 4.6% to 3.8%"
            ],
            [
             "Nebraska",
             "Poverty falls 3% from 11.2% to 10.9%",
             "Deep poverty rises 1% from 4.5% to 4.5%",
             "Child poverty falls 2% from 9.8% to 9.6%",
             "Deep child poverty rises 1% from 3.8% to 3.8%"
            ],
            [
             "Nevada",
             "Poverty falls 6% from 14.9% to 14.0%",
             "Deep poverty falls 7% from 5.7% to 5.3%",
             "Child poverty falls 8% from 16.2% to 14.9%",
             "Deep child poverty falls 9% from 5.8% to 5.2%"
            ],
            [
             "New Hampshire",
             "Poverty falls 4% from 9.4% to 9.0%",
             "Deep poverty falls 4% from 3.4% to 3.3%",
             "Child poverty falls 3% from 11.2% to 10.9%",
             "Deep child poverty falls 9% from 3.7% to 3.4%"
            ],
            [
             "New Jersey",
             "Poverty falls 6% from 14.0% to 13.1%",
             "Deep poverty falls 8% from 4.6% to 4.2%",
             "Child poverty falls 5% from 17.0% to 16.1%",
             "Deep child poverty falls 6% from 5.4% to 5.0%"
            ],
            [
             "New Mexico",
             "Poverty falls 4% from 18.5% to 17.8%",
             "Deep poverty falls 6% from 7.3% to 6.8%",
             "Child poverty falls 3% from 20.5% to 19.9%",
             "Deep child poverty falls 4% from 7.4% to 7.1%"
            ],
            [
             "New York",
             "Poverty falls 6% from 17.9% to 16.8%",
             "Deep poverty falls 10% from 6.3% to 5.7%",
             "Child poverty falls 5% from 21.4% to 20.4%",
             "Deep child poverty falls 10% from 7.1% to 6.4%"
            ],
            [
             "North Carolina",
             "Poverty falls 3% from 14.3% to 13.8%",
             "Deep poverty falls 6% from 5.6% to 5.3%",
             "Child poverty falls 3% from 16.2% to 15.8%",
             "Deep child poverty falls 4% from 5.9% to 5.7%"
            ],
            [
             "North Dakota",
             "Poverty rises 2% from 9.1% to 9.3%",
             "Deep poverty rises 1% from 4.7% to 4.7%",
             "Child poverty rises 5% from 6.3% to 6.6%",
             "Deep child poverty rises 2% from 2.7% to 2.8%"
            ],
            [
             "Ohio",
             "Poverty falls 3% from 12.5% to 12.2%",
             "Deep poverty falls 4% from 4.8% to 4.6%",
             "Child poverty falls 1% from 14.0% to 13.9%",
             "Deep child poverty falls 4% from 4.9% to 4.7%"
            ],
            [
             "Oklahoma",
             "Poverty falls 0% from 14.2% to 14.2%",
             "Deep poverty rises 0% from 5.5% to 5.5%",
             "Child poverty rises 1% from 15.6% to 15.8%",
             "Deep child poverty rises 3% from 5.4% to 5.5%"
            ],
            [
             "Oregon",
             "Poverty falls 7% from 14.0% to 13.1%",
             "Deep poverty falls 7% from 5.1% to 4.7%",
             "Child poverty falls 7% from 14.3% to 13.4%",
             "Deep child poverty falls 8% from 4.6% to 4.2%"
            ],
            [
             "Pennsylvania",
             "Poverty falls 4% from 13.5% to 12.9%",
             "Deep poverty falls 6% from 5.2% to 4.9%",
             "Child poverty falls 5% from 14.7% to 14.0%",
             "Deep child poverty falls 5% from 5.1% to 4.8%"
            ],
            [
             "Rhode Island",
             "Poverty falls 4% from 12.4% to 11.9%",
             "Deep poverty falls 6% from 4.7% to 4.4%",
             "Child poverty falls 4% from 15.1% to 14.5%",
             "Deep child poverty falls 7% from 5.6% to 5.2%"
            ],
            [
             "South Carolina",
             "Poverty falls 5% from 15.6% to 14.9%",
             "Deep poverty falls 6% from 6.3% to 5.9%",
             "Child poverty falls 4% from 17.9% to 17.3%",
             "Deep child poverty falls 6% from 6.5% to 6.1%"
            ],
            [
             "South Dakota",
             "Poverty rises 1% from 12.0% to 12.1%",
             "Deep poverty falls 5% from 5.7% to 5.4%",
             "Child poverty rises 6% from 11.9% to 12.7%",
             "Deep child poverty falls 5% from 6.0% to 5.8%"
            ],
            [
             "Tennessee",
             "Poverty falls 3% from 15.5% to 15.0%",
             "Deep poverty falls 3% from 6.1% to 5.8%",
             "Child poverty falls 1% from 18.6% to 18.3%",
             "Deep child poverty falls 3% from 7.0% to 6.8%"
            ],
            [
             "Texas",
             "Poverty falls 3% from 16.3% to 15.8%",
             "Deep poverty falls 4% from 6.0% to 5.7%",
             "Child poverty falls 2% from 19.0% to 18.6%",
             "Deep child poverty falls 3% from 6.2% to 6.1%"
            ],
            [
             "Utah",
             "Poverty falls 4% from 10.0% to 9.6%",
             "Deep poverty falls 6% from 4.2% to 4.0%",
             "Child poverty falls 3% from 8.2% to 8.0%",
             "Deep child poverty falls 8% from 2.9% to 2.6%"
            ],
            [
             "Vermont",
             "Poverty falls 5% from 11.6% to 11.1%",
             "Deep poverty falls 3% from 4.7% to 4.6%",
             "Child poverty falls 4% from 10.3% to 9.8%",
             "Deep child poverty rises 1% from 3.8% to 3.8%"
            ],
            [
             "Virginia",
             "Poverty falls 4% from 14.6% to 14.1%",
             "Deep poverty falls 4% from 5.5% to 5.3%",
             "Child poverty falls 3% from 17.1% to 16.5%",
             "Deep child poverty falls 2% from 5.6% to 5.5%"
            ],
            [
             "Washington",
             "Poverty falls 6% from 11.8% to 11.1%",
             "Deep poverty falls 6% from 4.6% to 4.4%",
             "Child poverty falls 6% from 11.9% to 11.2%",
             "Deep child poverty falls 4% from 3.8% to 3.7%"
            ],
            [
             "West Virginia",
             "Poverty falls 2% from 16.1% to 15.7%",
             "Deep poverty falls 5% from 6.2% to 5.9%",
             "Child poverty rises 1% from 17.9% to 18.1%",
             "Deep child poverty rises 0% from 6.2% to 6.2%"
            ],
            [
             "Wisconsin",
             "Poverty falls 2% from 10.6% to 10.4%",
             "Deep poverty falls 2% from 4.2% to 4.1%",
             "Child poverty falls 2% from 10.0% to 9.9%",
             "Deep child poverty falls 1% from 3.3% to 3.2%"
            ],
            [
             "Wyoming",
             "Poverty falls 1% from 11.4% to 11.3%",
             "Deep poverty rises 2% from 5.5% to 5.6%",
             "Child poverty rises 0% from 11.7% to 11.7%",
             "Deep child poverty rises 4% from 4.6% to 4.7%"
            ]
           ],
           "geo": "geo",
           "hovertemplate": "<b>%{customdata[0]}</b><br>%{customdata[1]}<br>%{customdata[2]}<br>%{customdata[3]}<br>%{customdata[4]}",
           "locationmode": "USA-states",
           "locations": [
            "AL",
            "AK",
            "AZ",
            "AR",
            "CA",
            "CO",
            "CT",
            "DE",
            "DC",
            "FL",
            "GA",
            "HI",
            "ID",
            "IL",
            "IN",
            "IA",
            "KS",
            "KY",
            "LA",
            "ME",
            "MD",
            "MA",
            "MI",
            "MN",
            "MS",
            "MO",
            "MT",
            "NE",
            "NV",
            "NH",
            "NJ",
            "NM",
            "NY",
            "NC",
            "ND",
            "OH",
            "OK",
            "OR",
            "PA",
            "RI",
            "SC",
            "SD",
            "TN",
            "TX",
            "UT",
            "VT",
            "VA",
            "WA",
            "WV",
            "WI",
            "WY"
           ],
           "name": "",
           "type": "choropleth",
           "z": [
            0.0242527067917655,
            0.0547997830606526,
            0.0581717267929473,
            0.0029089177039962,
            0.073007599221933,
            0.0271820574847474,
            0.0542296333338567,
            0.0402619451855442,
            0.0523144628925785,
            0.0455561826247851,
            0.0352803860932091,
            0.0758827551010583,
            0.0237837837837837,
            0.0373713254331068,
            0.0271300357960146,
            0.0011635331218015,
            0.0274002337122485,
            0.0301897707551128,
            0.0280934497973026,
            0.0750252280824598,
            0.0491082188479148,
            0.0597607630243879,
            0.0389711784340469,
            0.0312216534769526,
            0.0263200085506628,
            0.0027519071096838,
            0.0140362838679075,
            0.0253930325614913,
            0.064376857153717,
            0.0389774802191111,
            0.0628833929427079,
            0.0375836980017927,
            0.0598046812435532,
            0.0333250961979737,
            -0.0233311440171961,
            0.0272261656208729,
            0.0021580406314566,
            0.0666087409853157,
            0.0440294295613513,
            0.0400349234066194,
            0.045608471087753,
            -0.0091860943903061,
            0.0320498455293545,
            0.0304180807442481,
            0.0421001988581691,
            0.0502818069979684,
            0.0368949913692782,
            0.0552607685482785,
            0.0225743916778782,
            0.0176712648274023,
            0.0064291621802974
           ]
          }
         ],
         "name": "65"
        },
        {
         "data": [
          {
           "coloraxis": "coloraxis",
           "customdata": [
            [
             "Alabama",
             "Poverty falls 3% from 17.1% to 16.5%",
             "Deep poverty falls 6% from 6.9% to 6.5%",
             "Child poverty falls 2% from 20.3% to 19.9%",
             "Deep child poverty falls 4% from 7.7% to 7.4%"
            ],
            [
             "Alaska",
             "Poverty falls 5% from 12.5% to 11.9%",
             "Deep poverty falls 4% from 4.2% to 4.0%",
             "Child poverty falls 5% from 12.6% to 11.9%",
             "Deep child poverty falls 6% from 3.1% to 3.0%"
            ],
            [
             "Arizona",
             "Poverty falls 6% from 15.1% to 14.1%",
             "Deep poverty falls 6% from 5.7% to 5.4%",
             "Child poverty falls 5% from 17.3% to 16.3%",
             "Deep child poverty falls 5% from 5.7% to 5.4%"
            ],
            [
             "Arkansas",
             "Poverty falls 0% from 16.1% to 16.0%",
             "Deep poverty falls 3% from 6.1% to 5.9%",
             "Child poverty rises 2% from 17.9% to 18.3%",
             "Deep child poverty falls 4% from 6.6% to 6.4%"
            ],
            [
             "California",
             "Poverty falls 8% from 20.3% to 18.7%",
             "Deep poverty falls 10% from 6.6% to 5.9%",
             "Child poverty falls 8% from 23.8% to 21.9%",
             "Deep child poverty falls 12% from 6.4% to 5.6%"
            ],
            [
             "Colorado",
             "Poverty falls 3% from 12.8% to 12.4%",
             "Deep poverty falls 3% from 5.0% to 4.9%",
             "Child poverty falls 3% from 13.6% to 13.2%",
             "Deep child poverty falls 4% from 4.3% to 4.1%"
            ],
            [
             "Connecticut",
             "Poverty falls 6% from 12.9% to 12.2%",
             "Deep poverty falls 8% from 4.5% to 4.2%",
             "Child poverty falls 5% from 15.5% to 14.7%",
             "Deep child poverty falls 7% from 4.5% to 4.2%"
            ],
            [
             "Delaware",
             "Poverty falls 5% from 13.6% to 12.9%",
             "Deep poverty falls 5% from 5.1% to 4.9%",
             "Child poverty rises 1% from 16.4% to 16.5%",
             "Deep child poverty rises 5% from 5.4% to 5.7%"
            ],
            [
             "District of Columbia",
             "Poverty falls 5% from 18.9% to 17.9%",
             "Deep poverty falls 5% from 9.4% to 8.9%",
             "Child poverty falls 4% from 27.1% to 25.9%",
             "Deep child poverty falls 6% from 13.5% to 12.6%"
            ],
            [
             "Florida",
             "Poverty falls 5% from 18.1% to 17.2%",
             "Deep poverty falls 7% from 6.4% to 6.0%",
             "Child poverty falls 4% from 21.3% to 20.6%",
             "Deep child poverty falls 5% from 6.7% to 6.4%"
            ],
            [
             "Georgia",
             "Poverty falls 4% from 15.4% to 14.8%",
             "Deep poverty falls 4% from 6.0% to 5.8%",
             "Child poverty falls 3% from 17.8% to 17.2%",
             "Deep child poverty falls 2% from 6.3% to 6.2%"
            ],
            [
             "Hawaii",
             "Poverty falls 8% from 15.1% to 13.8%",
             "Deep poverty falls 7% from 4.4% to 4.1%",
             "Child poverty falls 10% from 18.5% to 16.6%",
             "Deep child poverty falls 5% from 3.4% to 3.3%"
            ],
            [
             "Idaho",
             "Poverty falls 2% from 12.2% to 12.0%",
             "Deep poverty falls 5% from 5.0% to 4.7%",
             "Child poverty falls 0% from 11.8% to 11.8%",
             "Deep child poverty falls 7% from 4.4% to 4.1%"
            ],
            [
             "Illinois",
             "Poverty falls 4% from 13.6% to 13.0%",
             "Deep poverty falls 4% from 4.9% to 4.7%",
             "Child poverty falls 3% from 14.7% to 14.2%",
             "Deep child poverty falls 2% from 4.2% to 4.1%"
            ],
            [
             "Indiana",
             "Poverty falls 3% from 13.3% to 13.0%",
             "Deep poverty falls 3% from 5.5% to 5.3%",
             "Child poverty falls 4% from 14.7% to 14.2%",
             "Deep child poverty falls 2% from 5.5% to 5.4%"
            ],
            [
             "Iowa",
             "Poverty falls 0% from 10.1% to 10.1%",
             "Deep poverty falls 2% from 4.3% to 4.3%",
             "Child poverty rises 1% from 9.0% to 9.1%",
             "Deep child poverty rises 1% from 3.2% to 3.2%"
            ],
            [
             "Kansas",
             "Poverty falls 3% from 11.9% to 11.5%",
             "Deep poverty falls 4% from 4.7% to 4.5%",
             "Child poverty rises 1% from 10.6% to 10.7%",
             "Deep child poverty falls 1% from 3.5% to 3.5%"
            ],
            [
             "Kentucky",
             "Poverty falls 3% from 16.3% to 15.7%",
             "Deep poverty falls 3% from 6.5% to 6.3%",
             "Child poverty falls 1% from 18.4% to 18.2%",
             "Deep child poverty falls 2% from 7.4% to 7.3%"
            ],
            [
             "Louisiana",
             "Poverty falls 3% from 18.5% to 17.9%",
             "Deep poverty falls 5% from 6.9% to 6.6%",
             "Child poverty falls 2% from 21.3% to 21.0%",
             "Deep child poverty falls 3% from 7.5% to 7.3%"
            ],
            [
             "Maine",
             "Poverty falls 8% from 11.2% to 10.3%",
             "Deep poverty falls 5% from 4.6% to 4.3%",
             "Child poverty falls 9% from 10.9% to 9.8%",
             "Deep child poverty falls 11% from 4.5% to 4.0%"
            ],
            [
             "Maryland",
             "Poverty falls 5% from 12.9% to 12.3%",
             "Deep poverty falls 5% from 4.7% to 4.4%",
             "Child poverty falls 6% from 15.2% to 14.4%",
             "Deep child poverty falls 5% from 5.1% to 4.8%"
            ],
            [
             "Massachusetts",
             "Poverty falls 6% from 13.9% to 13.1%",
             "Deep poverty falls 7% from 5.0% to 4.6%",
             "Child poverty falls 5% from 15.7% to 15.0%",
             "Deep child poverty falls 6% from 4.7% to 4.4%"
            ],
            [
             "Michigan",
             "Poverty falls 4% from 14.0% to 13.4%",
             "Deep poverty falls 4% from 5.6% to 5.3%",
             "Child poverty falls 3% from 15.3% to 14.8%",
             "Deep child poverty falls 5% from 5.5% to 5.2%"
            ],
            [
             "Minnesota",
             "Poverty falls 3% from 9.6% to 9.3%",
             "Deep poverty falls 3% from 3.8% to 3.7%",
             "Child poverty falls 4% from 8.3% to 8.0%",
             "Deep child poverty falls 4% from 2.3% to 2.3%"
            ],
            [
             "Mississippi",
             "Poverty falls 3% from 18.1% to 17.6%",
             "Deep poverty falls 4% from 7.5% to 7.2%",
             "Child poverty falls 1% from 20.7% to 20.6%",
             "Deep child poverty falls 3% from 8.4% to 8.1%"
            ],
            [
             "Missouri",
             "Poverty falls 1% from 12.8% to 12.7%",
             "Deep poverty falls 1% from 5.2% to 5.1%",
             "Child poverty rises 2% from 14.4% to 14.6%",
             "Deep child poverty falls 0% from 5.2% to 5.2%"
            ],
            [
             "Montana",
             "Poverty falls 2% from 13.1% to 12.8%",
             "Deep poverty falls 8% from 5.2% to 4.7%",
             "Child poverty falls 1% from 12.8% to 12.7%",
             "Deep child poverty falls 16% from 4.6% to 3.8%"
            ],
            [
             "Nebraska",
             "Poverty falls 3% from 11.2% to 10.9%",
             "Deep poverty falls 0% from 4.5% to 4.5%",
             "Child poverty falls 3% from 9.8% to 9.5%",
             "Deep child poverty falls 3% from 3.8% to 3.7%"
            ],
            [
             "Nevada",
             "Poverty falls 7% from 14.9% to 13.9%",
             "Deep poverty falls 7% from 5.7% to 5.3%",
             "Child poverty falls 8% from 16.2% to 14.9%",
             "Deep child poverty falls 10% from 5.8% to 5.2%"
            ],
            [
             "New Hampshire",
             "Poverty falls 4% from 9.4% to 9.0%",
             "Deep poverty falls 4% from 3.4% to 3.3%",
             "Child poverty falls 3% from 11.2% to 10.9%",
             "Deep child poverty falls 9% from 3.7% to 3.4%"
            ],
            [
             "New Jersey",
             "Poverty falls 7% from 14.0% to 13.1%",
             "Deep poverty falls 9% from 4.6% to 4.2%",
             "Child poverty falls 5% from 17.0% to 16.1%",
             "Deep child poverty falls 7% from 5.4% to 5.0%"
            ],
            [
             "New Mexico",
             "Poverty falls 4% from 18.5% to 17.7%",
             "Deep poverty falls 6% from 7.3% to 6.8%",
             "Child poverty falls 3% from 20.5% to 19.8%",
             "Deep child poverty falls 4% from 7.4% to 7.1%"
            ],
            [
             "New York",
             "Poverty falls 7% from 17.9% to 16.7%",
             "Deep poverty falls 11% from 6.3% to 5.6%",
             "Child poverty falls 6% from 21.4% to 20.2%",
             "Deep child poverty falls 11% from 7.1% to 6.3%"
            ],
            [
             "North Carolina",
             "Poverty falls 4% from 14.3% to 13.8%",
             "Deep poverty falls 6% from 5.6% to 5.3%",
             "Child poverty falls 3% from 16.2% to 15.7%",
             "Deep child poverty falls 5% from 5.9% to 5.6%"
            ],
            [
             "North Dakota",
             "Poverty rises 2% from 9.1% to 9.3%",
             "Deep poverty rises 0% from 4.7% to 4.7%",
             "Child poverty rises 5% from 6.3% to 6.6%",
             "Deep child poverty rises 2% from 2.7% to 2.8%"
            ],
            [
             "Ohio",
             "Poverty falls 3% from 12.5% to 12.2%",
             "Deep poverty falls 3% from 4.8% to 4.7%",
             "Child poverty falls 1% from 14.0% to 13.9%",
             "Deep child poverty falls 3% from 4.9% to 4.7%"
            ],
            [
             "Oklahoma",
             "Poverty falls 0% from 14.2% to 14.1%",
             "Deep poverty rises 0% from 5.5% to 5.5%",
             "Child poverty rises 1% from 15.6% to 15.8%",
             "Deep child poverty rises 3% from 5.4% to 5.5%"
            ],
            [
             "Oregon",
             "Poverty falls 7% from 14.0% to 13.0%",
             "Deep poverty falls 7% from 5.1% to 4.7%",
             "Child poverty falls 7% from 14.3% to 13.3%",
             "Deep child poverty falls 10% from 4.6% to 4.1%"
            ],
            [
             "Pennsylvania",
             "Poverty falls 5% from 13.5% to 12.9%",
             "Deep poverty falls 6% from 5.2% to 4.8%",
             "Child poverty falls 5% from 14.7% to 14.0%",
             "Deep child poverty falls 6% from 5.1% to 4.8%"
            ],
            [
             "Rhode Island",
             "Poverty falls 5% from 12.4% to 11.8%",
             "Deep poverty falls 6% from 4.7% to 4.4%",
             "Child poverty falls 4% from 15.1% to 14.5%",
             "Deep child poverty falls 6% from 5.6% to 5.3%"
            ],
            [
             "South Carolina",
             "Poverty falls 4% from 15.6% to 14.9%",
             "Deep poverty falls 6% from 6.3% to 5.9%",
             "Child poverty falls 3% from 17.9% to 17.3%",
             "Deep child poverty falls 6% from 6.5% to 6.1%"
            ],
            [
             "South Dakota",
             "Poverty rises 1% from 12.0% to 12.2%",
             "Deep poverty falls 4% from 5.7% to 5.4%",
             "Child poverty rises 6% from 11.9% to 12.7%",
             "Deep child poverty falls 1% from 6.0% to 6.0%"
            ],
            [
             "Tennessee",
             "Poverty falls 4% from 15.5% to 14.9%",
             "Deep poverty falls 4% from 6.1% to 5.8%",
             "Child poverty falls 2% from 18.6% to 18.3%",
             "Deep child poverty falls 4% from 7.0% to 6.8%"
            ],
            [
             "Texas",
             "Poverty falls 3% from 16.3% to 15.7%",
             "Deep poverty falls 4% from 6.0% to 5.7%",
             "Child poverty falls 3% from 19.0% to 18.5%",
             "Deep child poverty falls 3% from 6.2% to 6.1%"
            ],
            [
             "Utah",
             "Poverty falls 5% from 10.0% to 9.5%",
             "Deep poverty falls 6% from 4.2% to 3.9%",
             "Child poverty falls 4% from 8.2% to 7.9%",
             "Deep child poverty falls 7% from 2.9% to 2.6%"
            ],
            [
             "Vermont",
             "Poverty falls 5% from 11.6% to 11.0%",
             "Deep poverty falls 3% from 4.7% to 4.6%",
             "Child poverty falls 5% from 10.3% to 9.8%",
             "Deep child poverty rises 1% from 3.8% to 3.8%"
            ],
            [
             "Virginia",
             "Poverty falls 4% from 14.6% to 14.0%",
             "Deep poverty falls 5% from 5.5% to 5.2%",
             "Child poverty falls 4% from 17.1% to 16.5%",
             "Deep child poverty falls 3% from 5.6% to 5.5%"
            ],
            [
             "Washington",
             "Poverty falls 6% from 11.8% to 11.1%",
             "Deep poverty falls 7% from 4.6% to 4.3%",
             "Child poverty falls 7% from 11.9% to 11.1%",
             "Deep child poverty falls 4% from 3.8% to 3.6%"
            ],
            [
             "West Virginia",
             "Poverty falls 4% from 16.1% to 15.5%",
             "Deep poverty falls 5% from 6.2% to 5.9%",
             "Child poverty falls 1% from 17.9% to 17.7%",
             "Deep child poverty rises 0% from 6.2% to 6.2%"
            ],
            [
             "Wisconsin",
             "Poverty falls 2% from 10.6% to 10.4%",
             "Deep poverty falls 3% from 4.2% to 4.0%",
             "Child poverty falls 2% from 10.0% to 9.8%",
             "Deep child poverty falls 1% from 3.3% to 3.2%"
            ],
            [
             "Wyoming",
             "Poverty falls 1% from 11.4% to 11.3%",
             "Deep poverty rises 2% from 5.5% to 5.6%",
             "Child poverty rises 0% from 11.7% to 11.7%",
             "Deep child poverty rises 4% from 4.6% to 4.7%"
            ]
           ],
           "geo": "geo",
           "hovertemplate": "<b>%{customdata[0]}</b><br>%{customdata[1]}<br>%{customdata[2]}<br>%{customdata[3]}<br>%{customdata[4]}",
           "locationmode": "USA-states",
           "locations": [
            "AL",
            "AK",
            "AZ",
            "AR",
            "CA",
            "CO",
            "CT",
            "DE",
            "DC",
            "FL",
            "GA",
            "HI",
            "ID",
            "IL",
            "IN",
            "IA",
            "KS",
            "KY",
            "LA",
            "ME",
            "MD",
            "MA",
            "MI",
            "MN",
            "MS",
            "MO",
            "MT",
            "NE",
            "NV",
            "NH",
            "NJ",
            "NM",
            "NY",
            "NC",
            "ND",
            "OH",
            "OK",
            "OR",
            "PA",
            "RI",
            "SC",
            "SD",
            "TN",
            "TX",
            "UT",
            "VT",
            "VA",
            "WA",
            "WV",
            "WI",
            "WY"
           ],
           "name": "",
           "type": "choropleth",
           "z": [
            0.0314028386760708,
            0.047037422037422,
            0.06147707841381,
            0.0006634373710866,
            0.079777745915212,
            0.0270277096464591,
            0.0567636235611758,
            0.0454413870263588,
            0.0519223844768954,
            0.0479771461047493,
            0.0396747064815277,
            0.082613552108309,
            0.0230014224751067,
            0.0398313434823128,
            0.0283140134768249,
            0.0038244264170634,
            0.0293002607705368,
            0.0339528579044681,
            0.0291299233988691,
            0.0793569070027664,
            0.0510717616607456,
            0.060690518540704,
            0.0401130463896647,
            0.0339372385491882,
            0.029963583338423,
            0.0063030089879885,
            0.0216621213019503,
            0.0272847091843508,
            0.0667289723805327,
            0.039440048691418,
            0.0662154670382235,
            0.0406337322718409,
            0.0659632186742406,
            0.0363056932449259,
            -0.0235102698829712,
            0.0286295183785908,
            0.0048859216340816,
            0.0713424276653054,
            0.0453449378963957,
            0.0472418445908403,
            0.0448990951573442,
            -0.0111174290700182,
            0.0354132640229697,
            0.033950963698148,
            0.0469465648854963,
            0.0518267387634822,
            0.0405143529688113,
            0.0594898209298392,
            0.0390434926923662,
            0.0207350393176062,
            0.0064291621802974
           ]
          }
         ],
         "name": "70"
        },
        {
         "data": [
          {
           "coloraxis": "coloraxis",
           "customdata": [
            [
             "Alabama",
             "Poverty falls 3% from 17.1% to 16.5%",
             "Deep poverty falls 6% from 6.9% to 6.5%",
             "Child poverty falls 2% from 20.3% to 19.8%",
             "Deep child poverty falls 4% from 7.7% to 7.4%"
            ],
            [
             "Alaska",
             "Poverty falls 5% from 12.5% to 11.9%",
             "Deep poverty falls 4% from 4.2% to 4.0%",
             "Child poverty falls 5% from 12.6% to 11.9%",
             "Deep child poverty falls 6% from 3.1% to 3.0%"
            ],
            [
             "Arizona",
             "Poverty falls 6% from 15.1% to 14.1%",
             "Deep poverty falls 6% from 5.7% to 5.3%",
             "Child poverty falls 5% from 17.3% to 16.3%",
             "Deep child poverty falls 7% from 5.7% to 5.3%"
            ],
            [
             "Arkansas",
             "Poverty falls 0% from 16.1% to 16.0%",
             "Deep poverty falls 3% from 6.1% to 5.9%",
             "Child poverty rises 2% from 17.9% to 18.3%",
             "Deep child poverty falls 4% from 6.6% to 6.4%"
            ],
            [
             "California",
             "Poverty falls 9% from 20.3% to 18.6%",
             "Deep poverty falls 11% from 6.6% to 5.9%",
             "Child poverty falls 9% from 23.8% to 21.7%",
             "Deep child poverty falls 13% from 6.4% to 5.5%"
            ],
            [
             "Colorado",
             "Poverty falls 3% from 12.8% to 12.4%",
             "Deep poverty falls 3% from 5.0% to 4.9%",
             "Child poverty falls 2% from 13.6% to 13.2%",
             "Deep child poverty falls 4% from 4.3% to 4.1%"
            ],
            [
             "Connecticut",
             "Poverty falls 6% from 12.9% to 12.1%",
             "Deep poverty falls 8% from 4.5% to 4.2%",
             "Child poverty falls 6% from 15.5% to 14.6%",
             "Deep child poverty falls 7% from 4.5% to 4.2%"
            ],
            [
             "Delaware",
             "Poverty falls 5% from 13.6% to 12.9%",
             "Deep poverty falls 6% from 5.1% to 4.8%",
             "Child poverty rises 1% from 16.4% to 16.5%",
             "Deep child poverty rises 5% from 5.4% to 5.7%"
            ],
            [
             "District of Columbia",
             "Poverty falls 5% from 18.9% to 17.9%",
             "Deep poverty falls 6% from 9.4% to 8.9%",
             "Child poverty falls 4% from 27.1% to 25.9%",
             "Deep child poverty falls 6% from 13.5% to 12.6%"
            ],
            [
             "Florida",
             "Poverty falls 5% from 18.1% to 17.2%",
             "Deep poverty falls 7% from 6.4% to 6.0%",
             "Child poverty falls 3% from 21.3% to 20.6%",
             "Deep child poverty falls 6% from 6.7% to 6.3%"
            ],
            [
             "Georgia",
             "Poverty falls 4% from 15.4% to 14.8%",
             "Deep poverty falls 4% from 6.0% to 5.8%",
             "Child poverty falls 3% from 17.8% to 17.2%",
             "Deep child poverty falls 2% from 6.3% to 6.2%"
            ],
            [
             "Hawaii",
             "Poverty falls 9% from 15.1% to 13.7%",
             "Deep poverty falls 7% from 4.4% to 4.1%",
             "Child poverty falls 11% from 18.5% to 16.5%",
             "Deep child poverty falls 5% from 3.4% to 3.3%"
            ],
            [
             "Idaho",
             "Poverty falls 2% from 12.2% to 11.9%",
             "Deep poverty falls 5% from 5.0% to 4.7%",
             "Child poverty falls 0% from 11.8% to 11.8%",
             "Deep child poverty falls 7% from 4.4% to 4.1%"
            ],
            [
             "Illinois",
             "Poverty falls 4% from 13.6% to 13.0%",
             "Deep poverty falls 5% from 4.9% to 4.7%",
             "Child poverty falls 3% from 14.7% to 14.2%",
             "Deep child poverty falls 2% from 4.2% to 4.1%"
            ],
            [
             "Indiana",
             "Poverty falls 3% from 13.3% to 12.9%",
             "Deep poverty falls 3% from 5.5% to 5.3%",
             "Child poverty falls 3% from 14.7% to 14.2%",
             "Deep child poverty falls 1% from 5.5% to 5.4%"
            ],
            [
             "Iowa",
             "Poverty falls 0% from 10.1% to 10.1%",
             "Deep poverty falls 1% from 4.3% to 4.3%",
             "Child poverty rises 1% from 9.0% to 9.1%",
             "Deep child poverty rises 2% from 3.2% to 3.3%"
            ],
            [
             "Kansas",
             "Poverty falls 3% from 11.9% to 11.5%",
             "Deep poverty falls 4% from 4.7% to 4.5%",
             "Child poverty rises 1% from 10.6% to 10.7%",
             "Deep child poverty rises 0% from 3.5% to 3.5%"
            ],
            [
             "Kentucky",
             "Poverty falls 3% from 16.3% to 15.7%",
             "Deep poverty falls 4% from 6.5% to 6.3%",
             "Child poverty falls 1% from 18.4% to 18.2%",
             "Deep child poverty falls 3% from 7.4% to 7.2%"
            ],
            [
             "Louisiana",
             "Poverty falls 3% from 18.5% to 17.9%",
             "Deep poverty falls 5% from 6.9% to 6.6%",
             "Child poverty falls 1% from 21.3% to 21.1%",
             "Deep child poverty falls 3% from 7.5% to 7.3%"
            ],
            [
             "Maine",
             "Poverty falls 9% from 11.2% to 10.2%",
             "Deep poverty falls 6% from 4.6% to 4.3%",
             "Child poverty falls 10% from 10.9% to 9.8%",
             "Deep child poverty falls 11% from 4.5% to 4.0%"
            ],
            [
             "Maryland",
             "Poverty falls 5% from 12.9% to 12.2%",
             "Deep poverty falls 5% from 4.7% to 4.4%",
             "Child poverty falls 6% from 15.2% to 14.3%",
             "Deep child poverty falls 5% from 5.1% to 4.8%"
            ],
            [
             "Massachusetts",
             "Poverty falls 7% from 13.9% to 13.0%",
             "Deep poverty falls 7% from 5.0% to 4.6%",
             "Child poverty falls 6% from 15.7% to 14.9%",
             "Deep child poverty falls 6% from 4.7% to 4.4%"
            ],
            [
             "Michigan",
             "Poverty falls 4% from 14.0% to 13.4%",
             "Deep poverty falls 4% from 5.6% to 5.3%",
             "Child poverty falls 3% from 15.3% to 14.8%",
             "Deep child poverty falls 5% from 5.5% to 5.2%"
            ],
            [
             "Minnesota",
             "Poverty falls 4% from 9.6% to 9.3%",
             "Deep poverty falls 3% from 3.8% to 3.7%",
             "Child poverty falls 4% from 8.3% to 8.0%",
             "Deep child poverty falls 4% from 2.3% to 2.3%"
            ],
            [
             "Mississippi",
             "Poverty falls 3% from 18.1% to 17.6%",
             "Deep poverty falls 4% from 7.5% to 7.2%",
             "Child poverty falls 1% from 20.7% to 20.6%",
             "Deep child poverty falls 3% from 8.4% to 8.1%"
            ],
            [
             "Missouri",
             "Poverty falls 1% from 12.8% to 12.7%",
             "Deep poverty falls 1% from 5.2% to 5.1%",
             "Child poverty rises 2% from 14.4% to 14.6%",
             "Deep child poverty falls 1% from 5.2% to 5.2%"
            ],
            [
             "Montana",
             "Poverty falls 3% from 13.1% to 12.7%",
             "Deep poverty falls 10% from 5.2% to 4.7%",
             "Child poverty falls 1% from 12.8% to 12.7%",
             "Deep child poverty falls 16% from 4.6% to 3.8%"
            ],
            [
             "Nebraska",
             "Poverty falls 2% from 11.2% to 11.0%",
             "Deep poverty falls 1% from 4.5% to 4.5%",
             "Child poverty falls 3% from 9.8% to 9.5%",
             "Deep child poverty falls 3% from 3.8% to 3.7%"
            ],
            [
             "Nevada",
             "Poverty falls 7% from 14.9% to 13.8%",
             "Deep poverty falls 8% from 5.7% to 5.3%",
             "Child poverty falls 9% from 16.2% to 14.8%",
             "Deep child poverty falls 11% from 5.8% to 5.1%"
            ],
            [
             "New Hampshire",
             "Poverty falls 4% from 9.4% to 9.0%",
             "Deep poverty falls 5% from 3.4% to 3.2%",
             "Child poverty falls 3% from 11.2% to 10.9%",
             "Deep child poverty falls 9% from 3.7% to 3.4%"
            ],
            [
             "New Jersey",
             "Poverty falls 7% from 14.0% to 13.0%",
             "Deep poverty falls 9% from 4.6% to 4.2%",
             "Child poverty falls 6% from 17.0% to 16.0%",
             "Deep child poverty falls 7% from 5.4% to 5.0%"
            ],
            [
             "New Mexico",
             "Poverty falls 4% from 18.5% to 17.7%",
             "Deep poverty falls 6% from 7.3% to 6.8%",
             "Child poverty falls 3% from 20.5% to 19.8%",
             "Deep child poverty falls 4% from 7.4% to 7.1%"
            ],
            [
             "New York",
             "Poverty falls 7% from 17.9% to 16.6%",
             "Deep poverty falls 11% from 6.3% to 5.6%",
             "Child poverty falls 6% from 21.4% to 20.1%",
             "Deep child poverty falls 11% from 7.1% to 6.3%"
            ],
            [
             "North Carolina",
             "Poverty falls 4% from 14.3% to 13.7%",
             "Deep poverty falls 6% from 5.6% to 5.3%",
             "Child poverty falls 3% from 16.2% to 15.7%",
             "Deep child poverty falls 5% from 5.9% to 5.6%"
            ],
            [
             "North Dakota",
             "Poverty rises 4% from 9.1% to 9.5%",
             "Deep poverty rises 1% from 4.7% to 4.7%",
             "Child poverty rises 11% from 6.3% to 7.0%",
             "Deep child poverty rises 5% from 2.7% to 2.9%"
            ],
            [
             "Ohio",
             "Poverty falls 3% from 12.5% to 12.1%",
             "Deep poverty falls 4% from 4.8% to 4.6%",
             "Child poverty falls 1% from 14.0% to 13.9%",
             "Deep child poverty falls 2% from 4.9% to 4.8%"
            ],
            [
             "Oklahoma",
             "Poverty falls 1% from 14.2% to 14.1%",
             "Deep poverty rises 0% from 5.5% to 5.5%",
             "Child poverty rises 1% from 15.6% to 15.7%",
             "Deep child poverty rises 3% from 5.4% to 5.6%"
            ],
            [
             "Oregon",
             "Poverty falls 7% from 14.0% to 13.0%",
             "Deep poverty falls 8% from 5.1% to 4.7%",
             "Child poverty falls 7% from 14.3% to 13.3%",
             "Deep child poverty falls 11% from 4.6% to 4.0%"
            ],
            [
             "Pennsylvania",
             "Poverty falls 5% from 13.5% to 12.8%",
             "Deep poverty falls 7% from 5.2% to 4.8%",
             "Child poverty falls 5% from 14.7% to 13.9%",
             "Deep child poverty falls 6% from 5.1% to 4.8%"
            ],
            [
             "Rhode Island",
             "Poverty falls 5% from 12.4% to 11.8%",
             "Deep poverty falls 6% from 4.7% to 4.4%",
             "Child poverty falls 4% from 15.1% to 14.5%",
             "Deep child poverty falls 6% from 5.6% to 5.3%"
            ],
            [
             "South Carolina",
             "Poverty falls 5% from 15.6% to 14.9%",
             "Deep poverty falls 7% from 6.3% to 5.8%",
             "Child poverty falls 4% from 17.9% to 17.3%",
             "Deep child poverty falls 8% from 6.5% to 6.0%"
            ],
            [
             "South Dakota",
             "Poverty rises 1% from 12.0% to 12.1%",
             "Deep poverty falls 4% from 5.7% to 5.4%",
             "Child poverty rises 5% from 11.9% to 12.5%",
             "Deep child poverty falls 2% from 6.0% to 5.9%"
            ],
            [
             "Tennessee",
             "Poverty falls 4% from 15.5% to 14.9%",
             "Deep poverty falls 4% from 6.1% to 5.8%",
             "Child poverty falls 2% from 18.6% to 18.2%",
             "Deep child poverty falls 4% from 7.0% to 6.8%"
            ],
            [
             "Texas",
             "Poverty falls 4% from 16.3% to 15.7%",
             "Deep poverty falls 5% from 6.0% to 5.7%",
             "Child poverty falls 3% from 19.0% to 18.5%",
             "Deep child poverty falls 3% from 6.2% to 6.0%"
            ],
            [
             "Utah",
             "Poverty falls 5% from 10.0% to 9.5%",
             "Deep poverty falls 6% from 4.2% to 3.9%",
             "Child poverty falls 4% from 8.2% to 7.9%",
             "Deep child poverty falls 7% from 2.9% to 2.6%"
            ],
            [
             "Vermont",
             "Poverty falls 5% from 11.6% to 11.0%",
             "Deep poverty falls 3% from 4.7% to 4.6%",
             "Child poverty falls 5% from 10.3% to 9.8%",
             "Deep child poverty rises 1% from 3.8% to 3.8%"
            ],
            [
             "Virginia",
             "Poverty falls 4% from 14.6% to 14.0%",
             "Deep poverty falls 5% from 5.5% to 5.2%",
             "Child poverty falls 4% from 17.1% to 16.4%",
             "Deep child poverty falls 4% from 5.6% to 5.4%"
            ],
            [
             "Washington",
             "Poverty falls 6% from 11.8% to 11.0%",
             "Deep poverty falls 8% from 4.6% to 4.3%",
             "Child poverty falls 7% from 11.9% to 11.0%",
             "Deep child poverty falls 7% from 3.8% to 3.5%"
            ],
            [
             "West Virginia",
             "Poverty falls 5% from 16.1% to 15.3%",
             "Deep poverty falls 5% from 6.2% to 5.9%",
             "Child poverty falls 4% from 17.9% to 17.1%",
             "Deep child poverty falls 0% from 6.2% to 6.2%"
            ],
            [
             "Wisconsin",
             "Poverty falls 2% from 10.6% to 10.4%",
             "Deep poverty falls 3% from 4.2% to 4.0%",
             "Child poverty falls 2% from 10.0% to 9.8%",
             "Deep child poverty falls 2% from 3.3% to 3.2%"
            ],
            [
             "Wyoming",
             "Poverty rises 0% from 11.4% to 11.4%",
             "Deep poverty rises 2% from 5.5% to 5.6%",
             "Child poverty rises 1% from 11.7% to 11.8%",
             "Deep child poverty rises 4% from 4.6% to 4.7%"
            ]
           ],
           "geo": "geo",
           "hovertemplate": "<b>%{customdata[0]}</b><br>%{customdata[1]}<br>%{customdata[2]}<br>%{customdata[3]}<br>%{customdata[4]}",
           "locationmode": "USA-states",
           "locations": [
            "AL",
            "AK",
            "AZ",
            "AR",
            "CA",
            "CO",
            "CT",
            "DE",
            "DC",
            "FL",
            "GA",
            "HI",
            "ID",
            "IL",
            "IN",
            "IA",
            "KS",
            "KY",
            "LA",
            "ME",
            "MD",
            "MA",
            "MI",
            "MN",
            "MS",
            "MO",
            "MT",
            "NE",
            "NV",
            "NH",
            "NJ",
            "NM",
            "NY",
            "NC",
            "ND",
            "OH",
            "OK",
            "OR",
            "PA",
            "RI",
            "SC",
            "SD",
            "TN",
            "TX",
            "UT",
            "VT",
            "VA",
            "WA",
            "WV",
            "WI",
            "WY"
           ],
           "name": "",
           "type": "choropleth",
           "z": [
            0.0342125210849035,
            0.0459527253005513,
            0.0648827930457902,
            0.0015841693636529,
            0.0866388701026639,
            0.0283817611368981,
            0.0648813621655078,
            0.0456761049345526,
            0.0527785557111423,
            0.0502785166346652,
            0.0429796147793323,
            0.0896621120644,
            0.0234945471787577,
            0.0417309484709952,
            0.0291221618256544,
            0.003487358326068,
            0.030566945476062,
            0.0336820404042694,
            0.0294141177734923,
            0.085061542791633,
            0.0536417890114955,
            0.0658413425540374,
            0.0414544853772183,
            0.0381488572386248,
            0.0311736547975327,
            0.0063751858554336,
            0.0253898144305447,
            0.0220790426883616,
            0.0725175905575542,
            0.0429539460336781,
            0.0699473900252011,
            0.0403015764222071,
            0.0710460251786521,
            0.0418619525333344,
            -0.0400495581561979,
            0.0309740502471821,
            0.009578832819864,
            0.0746268137978972,
            0.05102173341864,
            0.0481387411699339,
            0.0480653972116864,
            -0.0061665457540047,
            0.0369457380878522,
            0.0364584174937863,
            0.0517608570145616,
            0.0544445398106027,
            0.042735926382053,
            0.0638684724432645,
            0.0525676472561507,
            0.0209282953485272,
            -0.0021222477100011
           ]
          }
         ],
         "name": "75"
        },
        {
         "data": [
          {
           "coloraxis": "coloraxis",
           "customdata": [
            [
             "Alabama",
             "Poverty falls 4% from 17.1% to 16.4%",
             "Deep poverty falls 6% from 6.9% to 6.5%",
             "Child poverty falls 3% from 20.3% to 19.8%",
             "Deep child poverty falls 5% from 7.7% to 7.4%"
            ],
            [
             "Alaska",
             "Poverty falls 5% from 12.5% to 11.9%",
             "Deep poverty falls 5% from 4.2% to 4.0%",
             "Child poverty falls 5% from 12.6% to 11.9%",
             "Deep child poverty falls 5% from 3.1% to 3.0%"
            ],
            [
             "Arizona",
             "Poverty falls 7% from 15.1% to 14.0%",
             "Deep poverty falls 6% from 5.7% to 5.3%",
             "Child poverty falls 6% from 17.3% to 16.3%",
             "Deep child poverty falls 7% from 5.7% to 5.3%"
            ],
            [
             "Arkansas",
             "Poverty falls 0% from 16.1% to 16.0%",
             "Deep poverty falls 3% from 6.1% to 5.9%",
             "Child poverty rises 3% from 17.9% to 18.4%",
             "Deep child poverty falls 3% from 6.6% to 6.4%"
            ],
            [
             "California",
             "Poverty falls 9% from 20.3% to 18.5%",
             "Deep poverty falls 12% from 6.6% to 5.8%",
             "Child poverty falls 10% from 23.8% to 21.5%",
             "Deep child poverty falls 14% from 6.4% to 5.5%"
            ],
            [
             "Colorado",
             "Poverty falls 3% from 12.8% to 12.4%",
             "Deep poverty falls 3% from 5.0% to 4.9%",
             "Child poverty falls 2% from 13.6% to 13.2%",
             "Deep child poverty falls 4% from 4.3% to 4.1%"
            ],
            [
             "Connecticut",
             "Poverty falls 7% from 12.9% to 12.0%",
             "Deep poverty falls 9% from 4.5% to 4.1%",
             "Child poverty falls 6% from 15.5% to 14.6%",
             "Deep child poverty falls 8% from 4.5% to 4.2%"
            ],
            [
             "Delaware",
             "Poverty falls 5% from 13.6% to 12.9%",
             "Deep poverty falls 6% from 5.1% to 4.8%",
             "Child poverty rises 1% from 16.4% to 16.5%",
             "Deep child poverty rises 5% from 5.4% to 5.7%"
            ],
            [
             "District of Columbia",
             "Poverty falls 5% from 18.9% to 17.8%",
             "Deep poverty falls 6% from 9.4% to 8.9%",
             "Child poverty falls 4% from 27.1% to 25.9%",
             "Deep child poverty falls 6% from 13.5% to 12.6%"
            ],
            [
             "Florida",
             "Poverty falls 5% from 18.1% to 17.1%",
             "Deep poverty falls 8% from 6.4% to 5.9%",
             "Child poverty falls 4% from 21.3% to 20.6%",
             "Deep child poverty falls 7% from 6.7% to 6.3%"
            ],
            [
             "Georgia",
             "Poverty falls 4% from 15.4% to 14.8%",
             "Deep poverty falls 5% from 6.0% to 5.7%",
             "Child poverty falls 3% from 17.8% to 17.2%",
             "Deep child poverty falls 3% from 6.3% to 6.1%"
            ],
            [
             "Hawaii",
             "Poverty falls 10% from 15.1% to 13.6%",
             "Deep poverty falls 7% from 4.4% to 4.1%",
             "Child poverty falls 11% from 18.5% to 16.5%",
             "Deep child poverty falls 5% from 3.4% to 3.3%"
            ],
            [
             "Idaho",
             "Poverty falls 3% from 12.2% to 11.9%",
             "Deep poverty falls 6% from 5.0% to 4.7%",
             "Child poverty falls 0% from 11.8% to 11.8%",
             "Deep child poverty falls 9% from 4.4% to 4.0%"
            ],
            [
             "Illinois",
             "Poverty falls 4% from 13.6% to 13.0%",
             "Deep poverty falls 5% from 4.9% to 4.7%",
             "Child poverty falls 3% from 14.7% to 14.3%",
             "Deep child poverty falls 2% from 4.2% to 4.1%"
            ],
            [
             "Indiana",
             "Poverty falls 3% from 13.3% to 12.9%",
             "Deep poverty falls 3% from 5.5% to 5.3%",
             "Child poverty falls 4% from 14.7% to 14.2%",
             "Deep child poverty falls 1% from 5.5% to 5.4%"
            ],
            [
             "Iowa",
             "Poverty falls 0% from 10.1% to 10.1%",
             "Deep poverty falls 1% from 4.3% to 4.3%",
             "Child poverty rises 1% from 9.0% to 9.0%",
             "Deep child poverty rises 2% from 3.2% to 3.3%"
            ],
            [
             "Kansas",
             "Poverty falls 3% from 11.9% to 11.5%",
             "Deep poverty falls 4% from 4.7% to 4.5%",
             "Child poverty rises 1% from 10.6% to 10.7%",
             "Deep child poverty rises 0% from 3.5% to 3.5%"
            ],
            [
             "Kentucky",
             "Poverty falls 4% from 16.3% to 15.6%",
             "Deep poverty falls 4% from 6.5% to 6.3%",
             "Child poverty falls 2% from 18.4% to 18.1%",
             "Deep child poverty falls 3% from 7.4% to 7.2%"
            ],
            [
             "Louisiana",
             "Poverty falls 3% from 18.5% to 17.8%",
             "Deep poverty falls 6% from 6.9% to 6.5%",
             "Child poverty falls 1% from 21.3% to 21.0%",
             "Deep child poverty falls 4% from 7.5% to 7.2%"
            ],
            [
             "Maine",
             "Poverty falls 9% from 11.2% to 10.2%",
             "Deep poverty falls 7% from 4.6% to 4.3%",
             "Child poverty falls 8% from 10.9% to 9.9%",
             "Deep child poverty falls 11% from 4.5% to 4.0%"
            ],
            [
             "Maryland",
             "Poverty falls 6% from 12.9% to 12.2%",
             "Deep poverty falls 6% from 4.7% to 4.4%",
             "Child poverty falls 6% from 15.2% to 14.3%",
             "Deep child poverty falls 6% from 5.1% to 4.8%"
            ],
            [
             "Massachusetts",
             "Poverty falls 7% from 13.9% to 12.9%",
             "Deep poverty falls 8% from 5.0% to 4.6%",
             "Child poverty falls 6% from 15.7% to 14.7%",
             "Deep child poverty falls 6% from 4.7% to 4.4%"
            ],
            [
             "Michigan",
             "Poverty falls 5% from 14.0% to 13.4%",
             "Deep poverty falls 5% from 5.6% to 5.3%",
             "Child poverty falls 4% from 15.3% to 14.7%",
             "Deep child poverty falls 7% from 5.5% to 5.1%"
            ],
            [
             "Minnesota",
             "Poverty falls 4% from 9.6% to 9.3%",
             "Deep poverty falls 4% from 3.8% to 3.7%",
             "Child poverty falls 3% from 8.3% to 8.0%",
             "Deep child poverty falls 5% from 2.3% to 2.2%"
            ],
            [
             "Mississippi",
             "Poverty falls 3% from 18.1% to 17.6%",
             "Deep poverty falls 4% from 7.5% to 7.2%",
             "Child poverty falls 1% from 20.7% to 20.6%",
             "Deep child poverty falls 2% from 8.4% to 8.2%"
            ],
            [
             "Missouri",
             "Poverty falls 1% from 12.8% to 12.7%",
             "Deep poverty rises 0% from 5.2% to 5.2%",
             "Child poverty rises 2% from 14.4% to 14.6%",
             "Deep child poverty rises 2% from 5.2% to 5.3%"
            ],
            [
             "Montana",
             "Poverty falls 2% from 13.1% to 12.8%",
             "Deep poverty falls 10% from 5.2% to 4.7%",
             "Child poverty falls 1% from 12.8% to 12.7%",
             "Deep child poverty falls 17% from 4.6% to 3.8%"
            ],
            [
             "Nebraska",
             "Poverty falls 3% from 11.2% to 10.9%",
             "Deep poverty rises 0% from 4.5% to 4.5%",
             "Child poverty falls 3% from 9.8% to 9.5%",
             "Deep child poverty falls 3% from 3.8% to 3.7%"
            ],
            [
             "Nevada",
             "Poverty falls 8% from 14.9% to 13.7%",
             "Deep poverty falls 8% from 5.7% to 5.3%",
             "Child poverty falls 10% from 16.2% to 14.7%",
             "Deep child poverty falls 12% from 5.8% to 5.1%"
            ],
            [
             "New Hampshire",
             "Poverty falls 5% from 9.4% to 8.9%",
             "Deep poverty falls 5% from 3.4% to 3.2%",
             "Child poverty falls 5% from 11.2% to 10.7%",
             "Deep child poverty falls 9% from 3.7% to 3.4%"
            ],
            [
             "New Jersey",
             "Poverty falls 8% from 14.0% to 13.0%",
             "Deep poverty falls 9% from 4.6% to 4.2%",
             "Child poverty falls 6% from 17.0% to 15.9%",
             "Deep child poverty falls 7% from 5.4% to 5.0%"
            ],
            [
             "New Mexico",
             "Poverty falls 5% from 18.5% to 17.6%",
             "Deep poverty falls 7% from 7.3% to 6.8%",
             "Child poverty falls 5% from 20.5% to 19.5%",
             "Deep child poverty falls 4% from 7.4% to 7.1%"
            ],
            [
             "New York",
             "Poverty falls 8% from 17.9% to 16.5%",
             "Deep poverty falls 12% from 6.3% to 5.6%",
             "Child poverty falls 7% from 21.4% to 19.9%",
             "Deep child poverty falls 12% from 7.1% to 6.2%"
            ],
            [
             "North Carolina",
             "Poverty falls 4% from 14.3% to 13.6%",
             "Deep poverty falls 7% from 5.6% to 5.3%",
             "Child poverty falls 3% from 16.2% to 15.6%",
             "Deep child poverty falls 6% from 5.9% to 5.6%"
            ],
            [
             "North Dakota",
             "Poverty rises 3% from 9.1% to 9.4%",
             "Deep poverty rises 1% from 4.7% to 4.7%",
             "Child poverty rises 7% from 6.3% to 6.7%",
             "Deep child poverty rises 5% from 2.7% to 2.9%"
            ],
            [
             "Ohio",
             "Poverty falls 4% from 12.5% to 12.1%",
             "Deep poverty falls 4% from 4.8% to 4.6%",
             "Child poverty falls 2% from 14.0% to 13.8%",
             "Deep child poverty falls 2% from 4.9% to 4.8%"
            ],
            [
             "Oklahoma",
             "Poverty falls 1% from 14.2% to 14.1%",
             "Deep poverty rises 0% from 5.5% to 5.5%",
             "Child poverty rises 1% from 15.6% to 15.8%",
             "Deep child poverty rises 3% from 5.4% to 5.5%"
            ],
            [
             "Oregon",
             "Poverty falls 8% from 14.0% to 13.0%",
             "Deep poverty falls 9% from 5.1% to 4.6%",
             "Child poverty falls 8% from 14.3% to 13.2%",
             "Deep child poverty falls 12% from 4.6% to 4.0%"
            ],
            [
             "Pennsylvania",
             "Poverty falls 5% from 13.5% to 12.8%",
             "Deep poverty falls 7% from 5.2% to 4.8%",
             "Child poverty falls 6% from 14.7% to 13.9%",
             "Deep child poverty falls 7% from 5.1% to 4.8%"
            ],
            [
             "Rhode Island",
             "Poverty falls 5% from 12.4% to 11.8%",
             "Deep poverty falls 8% from 4.7% to 4.3%",
             "Child poverty falls 4% from 15.1% to 14.5%",
             "Deep child poverty falls 6% from 5.6% to 5.3%"
            ],
            [
             "South Carolina",
             "Poverty falls 5% from 15.6% to 14.8%",
             "Deep poverty falls 8% from 6.3% to 5.8%",
             "Child poverty falls 4% from 17.9% to 17.1%",
             "Deep child poverty falls 9% from 6.5% to 6.0%"
            ],
            [
             "South Dakota",
             "Poverty rises 1% from 12.0% to 12.1%",
             "Deep poverty falls 3% from 5.7% to 5.5%",
             "Child poverty rises 5% from 11.9% to 12.5%",
             "Deep child poverty falls 0% from 6.0% to 6.0%"
            ],
            [
             "Tennessee",
             "Poverty falls 4% from 15.5% to 14.9%",
             "Deep poverty falls 5% from 6.1% to 5.8%",
             "Child poverty falls 2% from 18.6% to 18.2%",
             "Deep child poverty falls 4% from 7.0% to 6.8%"
            ],
            [
             "Texas",
             "Poverty falls 4% from 16.3% to 15.7%",
             "Deep poverty falls 5% from 6.0% to 5.7%",
             "Child poverty falls 3% from 19.0% to 18.4%",
             "Deep child poverty falls 3% from 6.2% to 6.0%"
            ],
            [
             "Utah",
             "Poverty falls 6% from 10.0% to 9.4%",
             "Deep poverty falls 6% from 4.2% to 3.9%",
             "Child poverty falls 6% from 8.2% to 7.8%",
             "Deep child poverty falls 7% from 2.9% to 2.6%"
            ],
            [
             "Vermont",
             "Poverty falls 7% from 11.6% to 10.9%",
             "Deep poverty falls 3% from 4.7% to 4.6%",
             "Child poverty falls 5% from 10.3% to 9.8%",
             "Deep child poverty rises 1% from 3.8% to 3.8%"
            ],
            [
             "Virginia",
             "Poverty falls 5% from 14.6% to 13.9%",
             "Deep poverty falls 6% from 5.5% to 5.1%",
             "Child poverty falls 4% from 17.1% to 16.4%",
             "Deep child poverty falls 4% from 5.6% to 5.4%"
            ],
            [
             "Washington",
             "Poverty falls 7% from 11.8% to 11.0%",
             "Deep poverty falls 8% from 4.6% to 4.3%",
             "Child poverty falls 8% from 11.9% to 10.9%",
             "Deep child poverty falls 8% from 3.8% to 3.5%"
            ],
            [
             "West Virginia",
             "Poverty falls 6% from 16.1% to 15.2%",
             "Deep poverty falls 5% from 6.2% to 5.9%",
             "Child poverty falls 5% from 17.9% to 17.0%",
             "Deep child poverty falls 0% from 6.2% to 6.2%"
            ],
            [
             "Wisconsin",
             "Poverty falls 2% from 10.6% to 10.3%",
             "Deep poverty falls 3% from 4.2% to 4.0%",
             "Child poverty falls 2% from 10.0% to 9.8%",
             "Deep child poverty falls 1% from 3.3% to 3.3%"
            ],
            [
             "Wyoming",
             "Poverty falls 0% from 11.4% to 11.4%",
             "Deep poverty rises 2% from 5.5% to 5.6%",
             "Child poverty rises 1% from 11.7% to 11.8%",
             "Deep child poverty rises 4% from 4.6% to 4.7%"
            ]
           ],
           "geo": "geo",
           "hovertemplate": "<b>%{customdata[0]}</b><br>%{customdata[1]}<br>%{customdata[2]}<br>%{customdata[3]}<br>%{customdata[4]}",
           "locationmode": "USA-states",
           "locations": [
            "AL",
            "AK",
            "AZ",
            "AR",
            "CA",
            "CO",
            "CT",
            "DE",
            "DC",
            "FL",
            "GA",
            "HI",
            "ID",
            "IL",
            "IN",
            "IA",
            "KS",
            "KY",
            "LA",
            "ME",
            "MD",
            "MA",
            "MI",
            "MN",
            "MS",
            "MO",
            "MT",
            "NE",
            "NV",
            "NH",
            "NJ",
            "NM",
            "NY",
            "NC",
            "ND",
            "OH",
            "OK",
            "OR",
            "PA",
            "RI",
            "SC",
            "SD",
            "TN",
            "TX",
            "UT",
            "VT",
            "VA",
            "WA",
            "WV",
            "WI",
            "WY"
           ],
           "name": "",
           "type": "choropleth",
           "z": [
            0.0370602883886526,
            0.0464385790472745,
            0.0691681042563385,
            0.0004593027953678,
            0.092674725640046,
            0.0290131841117141,
            0.071110941680103,
            0.0464663218921393,
            0.0539707941588318,
            0.0533328994120104,
            0.0431079668712505,
            0.0956803497318273,
            0.0262588904694169,
            0.0425659461778583,
            0.0310243654997898,
            0.0037563645909972,
            0.0337068962953932,
            0.037816615433478,
            0.0344340889958266,
            0.0886586897872603,
            0.05749813993943,
            0.0723582499911119,
            0.0453040863082574,
            0.0396600405633417,
            0.0323016551639896,
            0.0076888048429366,
            0.0192016956186634,
            0.0275407255693994,
            0.0789613130705612,
            0.0491539866098601,
            0.0756417615592307,
            0.0463225602361998,
            0.0782687899693623,
            0.0449685292975522,
            -0.0288243372342966,
            0.0354092340751723,
            0.0092957508290257,
            0.076196020505691,
            0.0545211771106337,
            0.049551551710453,
            0.051806449107455,
            -0.0083429736671831,
            0.038089711384051,
            0.0383468142911982,
            0.0591795496824684,
            0.0661459674419934,
            0.0476132973492477,
            0.0679030459534011,
            0.0582456735064287,
            0.0241736638677863,
            0.0015604762573536
           ]
          }
         ],
         "name": "80"
        },
        {
         "data": [
          {
           "coloraxis": "coloraxis",
           "customdata": [
            [
             "Alabama",
             "Poverty falls 4% from 17.1% to 16.4%",
             "Deep poverty falls 6% from 6.9% to 6.5%",
             "Child poverty falls 3% from 20.3% to 19.7%",
             "Deep child poverty falls 5% from 7.7% to 7.3%"
            ],
            [
             "Alaska",
             "Poverty falls 5% from 12.5% to 11.9%",
             "Deep poverty falls 5% from 4.2% to 4.0%",
             "Child poverty falls 5% from 12.6% to 11.9%",
             "Deep child poverty falls 5% from 3.1% to 3.0%"
            ],
            [
             "Arizona",
             "Poverty falls 7% from 15.1% to 14.0%",
             "Deep poverty falls 7% from 5.7% to 5.3%",
             "Child poverty falls 6% from 17.3% to 16.2%",
             "Deep child poverty falls 8% from 5.7% to 5.3%"
            ],
            [
             "Arkansas",
             "Poverty falls 0% from 16.1% to 16.0%",
             "Deep poverty falls 3% from 6.1% to 5.9%",
             "Child poverty rises 3% from 17.9% to 18.4%",
             "Deep child poverty falls 3% from 6.6% to 6.4%"
            ],
            [
             "California",
             "Poverty falls 10% from 20.3% to 18.4%",
             "Deep poverty falls 12% from 6.6% to 5.8%",
             "Child poverty falls 10% from 23.8% to 21.4%",
             "Deep child poverty falls 15% from 6.4% to 5.4%"
            ],
            [
             "Colorado",
             "Poverty falls 3% from 12.8% to 12.4%",
             "Deep poverty falls 3% from 5.0% to 4.9%",
             "Child poverty falls 2% from 13.6% to 13.2%",
             "Deep child poverty falls 4% from 4.3% to 4.1%"
            ],
            [
             "Connecticut",
             "Poverty falls 7% from 12.9% to 11.9%",
             "Deep poverty falls 9% from 4.5% to 4.1%",
             "Child poverty falls 6% from 15.5% to 14.6%",
             "Deep child poverty falls 9% from 4.5% to 4.2%"
            ],
            [
             "Delaware",
             "Poverty falls 4% from 13.6% to 13.0%",
             "Deep poverty falls 6% from 5.1% to 4.8%",
             "Child poverty rises 1% from 16.4% to 16.5%",
             "Deep child poverty rises 5% from 5.4% to 5.7%"
            ],
            [
             "District of Columbia",
             "Poverty falls 6% from 18.9% to 17.8%",
             "Deep poverty falls 6% from 9.4% to 8.8%",
             "Child poverty falls 4% from 27.1% to 25.9%",
             "Deep child poverty falls 7% from 13.5% to 12.6%"
            ],
            [
             "Florida",
             "Poverty falls 6% from 18.1% to 17.1%",
             "Deep poverty falls 9% from 6.4% to 5.9%",
             "Child poverty falls 4% from 21.3% to 20.6%",
             "Deep child poverty falls 7% from 6.7% to 6.3%"
            ],
            [
             "Georgia",
             "Poverty falls 5% from 15.4% to 14.7%",
             "Deep poverty falls 6% from 6.0% to 5.7%",
             "Child poverty falls 3% from 17.8% to 17.1%",
             "Deep child poverty falls 4% from 6.3% to 6.0%"
            ],
            [
             "Hawaii",
             "Poverty falls 10% from 15.1% to 13.5%",
             "Deep poverty falls 7% from 4.4% to 4.1%",
             "Child poverty falls 11% from 18.5% to 16.4%",
             "Deep child poverty falls 5% from 3.4% to 3.3%"
            ],
            [
             "Idaho",
             "Poverty falls 3% from 12.2% to 11.9%",
             "Deep poverty falls 7% from 5.0% to 4.6%",
             "Child poverty falls 0% from 11.8% to 11.8%",
             "Deep child poverty falls 9% from 4.4% to 4.0%"
            ],
            [
             "Illinois",
             "Poverty falls 5% from 13.6% to 12.9%",
             "Deep poverty falls 5% from 4.9% to 4.7%",
             "Child poverty falls 3% from 14.7% to 14.2%",
             "Deep child poverty falls 2% from 4.2% to 4.1%"
            ],
            [
             "Indiana",
             "Poverty falls 3% from 13.3% to 12.9%",
             "Deep poverty falls 3% from 5.5% to 5.3%",
             "Child poverty falls 3% from 14.7% to 14.3%",
             "Deep child poverty rises 0% from 5.5% to 5.5%"
            ],
            [
             "Iowa",
             "Poverty rises 0% from 10.1% to 10.1%",
             "Deep poverty falls 1% from 4.3% to 4.3%",
             "Child poverty rises 3% from 9.0% to 9.3%",
             "Deep child poverty rises 2% from 3.2% to 3.3%"
            ],
            [
             "Kansas",
             "Poverty falls 3% from 11.9% to 11.5%",
             "Deep poverty falls 4% from 4.7% to 4.5%",
             "Child poverty rises 1% from 10.6% to 10.7%",
             "Deep child poverty rises 0% from 3.5% to 3.5%"
            ],
            [
             "Kentucky",
             "Poverty falls 4% from 16.3% to 15.6%",
             "Deep poverty falls 4% from 6.5% to 6.3%",
             "Child poverty falls 1% from 18.4% to 18.1%",
             "Deep child poverty falls 3% from 7.4% to 7.2%"
            ],
            [
             "Louisiana",
             "Poverty falls 4% from 18.5% to 17.8%",
             "Deep poverty falls 6% from 6.9% to 6.5%",
             "Child poverty falls 1% from 21.3% to 21.0%",
             "Deep child poverty falls 3% from 7.5% to 7.3%"
            ],
            [
             "Maine",
             "Poverty falls 9% from 11.2% to 10.1%",
             "Deep poverty falls 7% from 4.6% to 4.3%",
             "Child poverty falls 8% from 10.9% to 9.9%",
             "Deep child poverty falls 12% from 4.5% to 3.9%"
            ],
            [
             "Maryland",
             "Poverty falls 6% from 12.9% to 12.1%",
             "Deep poverty falls 6% from 4.7% to 4.4%",
             "Child poverty falls 6% from 15.2% to 14.3%",
             "Deep child poverty falls 5% from 5.1% to 4.8%"
            ],
            [
             "Massachusetts",
             "Poverty falls 8% from 13.9% to 12.9%",
             "Deep poverty falls 8% from 5.0% to 4.6%",
             "Child poverty falls 7% from 15.7% to 14.7%",
             "Deep child poverty falls 6% from 4.7% to 4.4%"
            ],
            [
             "Michigan",
             "Poverty falls 5% from 14.0% to 13.4%",
             "Deep poverty falls 5% from 5.6% to 5.3%",
             "Child poverty falls 4% from 15.3% to 14.7%",
             "Deep child poverty falls 7% from 5.5% to 5.1%"
            ],
            [
             "Minnesota",
             "Poverty falls 4% from 9.6% to 9.3%",
             "Deep poverty falls 5% from 3.8% to 3.6%",
             "Child poverty falls 3% from 8.3% to 8.0%",
             "Deep child poverty falls 7% from 2.3% to 2.2%"
            ],
            [
             "Mississippi",
             "Poverty falls 3% from 18.1% to 17.5%",
             "Deep poverty falls 4% from 7.5% to 7.2%",
             "Child poverty falls 1% from 20.7% to 20.6%",
             "Deep child poverty falls 2% from 8.4% to 8.2%"
            ],
            [
             "Missouri",
             "Poverty falls 1% from 12.8% to 12.7%",
             "Deep poverty rises 1% from 5.2% to 5.2%",
             "Child poverty rises 2% from 14.4% to 14.6%",
             "Deep child poverty rises 3% from 5.2% to 5.4%"
            ],
            [
             "Montana",
             "Poverty falls 2% from 13.1% to 12.8%",
             "Deep poverty falls 11% from 5.2% to 4.6%",
             "Child poverty falls 1% from 12.8% to 12.7%",
             "Deep child poverty falls 18% from 4.6% to 3.7%"
            ],
            [
             "Nebraska",
             "Poverty falls 3% from 11.2% to 10.9%",
             "Deep poverty rises 0% from 4.5% to 4.5%",
             "Child poverty falls 3% from 9.8% to 9.6%",
             "Deep child poverty falls 3% from 3.8% to 3.7%"
            ],
            [
             "Nevada",
             "Poverty falls 9% from 14.9% to 13.6%",
             "Deep poverty falls 9% from 5.7% to 5.2%",
             "Child poverty falls 11% from 16.2% to 14.5%",
             "Deep child poverty falls 14% from 5.8% to 5.0%"
            ],
            [
             "New Hampshire",
             "Poverty falls 5% from 9.4% to 8.9%",
             "Deep poverty falls 5% from 3.4% to 3.2%",
             "Child poverty falls 5% from 11.2% to 10.7%",
             "Deep child poverty falls 9% from 3.7% to 3.4%"
            ],
            [
             "New Jersey",
             "Poverty falls 8% from 14.0% to 12.9%",
             "Deep poverty falls 10% from 4.6% to 4.2%",
             "Child poverty falls 7% from 17.0% to 15.8%",
             "Deep child poverty falls 7% from 5.4% to 5.0%"
            ],
            [
             "New Mexico",
             "Poverty falls 5% from 18.5% to 17.6%",
             "Deep poverty falls 7% from 7.3% to 6.8%",
             "Child poverty falls 5% from 20.5% to 19.5%",
             "Deep child poverty falls 4% from 7.4% to 7.1%"
            ],
            [
             "New York",
             "Poverty falls 8% from 17.9% to 16.4%",
             "Deep poverty falls 13% from 6.3% to 5.5%",
             "Child poverty falls 7% from 21.4% to 19.8%",
             "Deep child poverty falls 13% from 7.1% to 6.2%"
            ],
            [
             "North Carolina",
             "Poverty falls 5% from 14.3% to 13.6%",
             "Deep poverty falls 7% from 5.6% to 5.2%",
             "Child poverty falls 3% from 16.2% to 15.6%",
             "Deep child poverty falls 6% from 5.9% to 5.6%"
            ],
            [
             "North Dakota",
             "Poverty rises 3% from 9.1% to 9.4%",
             "Deep poverty rises 1% from 4.7% to 4.7%",
             "Child poverty rises 7% from 6.3% to 6.7%",
             "Deep child poverty rises 5% from 2.7% to 2.9%"
            ],
            [
             "Ohio",
             "Poverty falls 4% from 12.5% to 12.1%",
             "Deep poverty falls 4% from 4.8% to 4.6%",
             "Child poverty falls 2% from 14.0% to 13.8%",
             "Deep child poverty falls 3% from 4.9% to 4.7%"
            ],
            [
             "Oklahoma",
             "Poverty falls 1% from 14.2% to 14.1%",
             "Deep poverty falls 0% from 5.5% to 5.5%",
             "Child poverty rises 1% from 15.6% to 15.9%",
             "Deep child poverty rises 2% from 5.4% to 5.5%"
            ],
            [
             "Oregon",
             "Poverty falls 8% from 14.0% to 12.9%",
             "Deep poverty falls 10% from 5.1% to 4.6%",
             "Child poverty falls 7% from 14.3% to 13.3%",
             "Deep child poverty falls 14% from 4.6% to 3.9%"
            ],
            [
             "Pennsylvania",
             "Poverty falls 6% from 13.5% to 12.7%",
             "Deep poverty falls 7% from 5.2% to 4.8%",
             "Child poverty falls 6% from 14.7% to 13.9%",
             "Deep child poverty falls 7% from 5.1% to 4.8%"
            ],
            [
             "Rhode Island",
             "Poverty falls 5% from 12.4% to 11.8%",
             "Deep poverty falls 8% from 4.7% to 4.3%",
             "Child poverty falls 4% from 15.1% to 14.5%",
             "Deep child poverty falls 6% from 5.6% to 5.3%"
            ],
            [
             "South Carolina",
             "Poverty falls 5% from 15.6% to 14.8%",
             "Deep poverty falls 8% from 6.3% to 5.7%",
             "Child poverty falls 4% from 17.9% to 17.2%",
             "Deep child poverty falls 10% from 6.5% to 5.9%"
            ],
            [
             "South Dakota",
             "Poverty rises 1% from 12.0% to 12.2%",
             "Deep poverty falls 3% from 5.7% to 5.5%",
             "Child poverty rises 6% from 11.9% to 12.6%",
             "Deep child poverty falls 0% from 6.0% to 6.0%"
            ],
            [
             "Tennessee",
             "Poverty falls 4% from 15.5% to 14.8%",
             "Deep poverty falls 5% from 6.1% to 5.8%",
             "Child poverty falls 2% from 18.6% to 18.2%",
             "Deep child poverty falls 3% from 7.0% to 6.8%"
            ],
            [
             "Texas",
             "Poverty falls 4% from 16.3% to 15.6%",
             "Deep poverty falls 5% from 6.0% to 5.7%",
             "Child poverty falls 3% from 19.0% to 18.4%",
             "Deep child poverty falls 4% from 6.2% to 6.0%"
            ],
            [
             "Utah",
             "Poverty falls 6% from 10.0% to 9.4%",
             "Deep poverty falls 7% from 4.2% to 3.9%",
             "Child poverty falls 5% from 8.2% to 7.8%",
             "Deep child poverty falls 9% from 2.9% to 2.6%"
            ],
            [
             "Vermont",
             "Poverty falls 7% from 11.6% to 10.8%",
             "Deep poverty falls 3% from 4.7% to 4.6%",
             "Child poverty falls 5% from 10.3% to 9.8%",
             "Deep child poverty rises 1% from 3.8% to 3.8%"
            ],
            [
             "Virginia",
             "Poverty falls 5% from 14.6% to 13.9%",
             "Deep poverty falls 7% from 5.5% to 5.1%",
             "Child poverty falls 5% from 17.1% to 16.3%",
             "Deep child poverty falls 5% from 5.6% to 5.3%"
            ],
            [
             "Washington",
             "Poverty falls 7% from 11.8% to 10.9%",
             "Deep poverty falls 9% from 4.6% to 4.2%",
             "Child poverty falls 8% from 11.9% to 10.9%",
             "Deep child poverty falls 8% from 3.8% to 3.5%"
            ],
            [
             "West Virginia",
             "Poverty falls 6% from 16.1% to 15.1%",
             "Deep poverty falls 5% from 6.2% to 5.9%",
             "Child poverty falls 5% from 17.9% to 16.9%",
             "Deep child poverty falls 0% from 6.2% to 6.2%"
            ],
            [
             "Wisconsin",
             "Poverty falls 3% from 10.6% to 10.3%",
             "Deep poverty falls 3% from 4.2% to 4.0%",
             "Child poverty falls 2% from 10.0% to 9.8%",
             "Deep child poverty falls 2% from 3.3% to 3.2%"
            ],
            [
             "Wyoming",
             "Poverty rises 0% from 11.4% to 11.4%",
             "Deep poverty rises 2% from 5.5% to 5.7%",
             "Child poverty rises 2% from 11.7% to 11.9%",
             "Deep child poverty rises 4% from 4.6% to 4.7%"
            ]
           ],
           "geo": "geo",
           "hovertemplate": "<b>%{customdata[0]}</b><br>%{customdata[1]}<br>%{customdata[2]}<br>%{customdata[3]}<br>%{customdata[4]}",
           "locationmode": "USA-states",
           "locations": [
            "AL",
            "AK",
            "AZ",
            "AR",
            "CA",
            "CO",
            "CT",
            "DE",
            "DC",
            "FL",
            "GA",
            "HI",
            "ID",
            "IL",
            "IN",
            "IA",
            "KS",
            "KY",
            "LA",
            "ME",
            "MD",
            "MA",
            "MI",
            "MN",
            "MS",
            "MO",
            "MT",
            "NE",
            "NV",
            "NH",
            "NJ",
            "NM",
            "NY",
            "NC",
            "ND",
            "OH",
            "OK",
            "OR",
            "PA",
            "RI",
            "SC",
            "SD",
            "TN",
            "TX",
            "UT",
            "VT",
            "VA",
            "WA",
            "WV",
            "WI",
            "WY"
           ],
           "name": "",
           "type": "choropleth",
           "z": [
            0.040382274061361,
            0.0481447166229774,
            0.0727111079129607,
            0.0007825158735895,
            0.0968973756101644,
            0.0332872160701356,
            0.0743580371218356,
            0.0437357702268156,
            0.0585877175435087,
            0.0553633337011083,
            0.0451672908287688,
            0.1033644355855987,
            0.0312707444286393,
            0.0471220392644204,
            0.0331640564205137,
            -0.00407722748531,
            0.0344116011667769,
            0.0387240667430438,
            0.0353535413843131,
            0.0948301309114373,
            0.0614160562524231,
            0.0766870537739131,
            0.045365492779622,
            0.0361945449690661,
            0.0338686404446345,
            0.0093633081676655,
            0.0200465405822017,
            0.0313288198592858,
            0.0858454982258523,
            0.0486589571921282,
            0.0822437655462718,
            0.0464965466336272,
            0.0842417955238148,
            0.0467751615066897,
            -0.0288243372342966,
            0.0363658423517975,
            0.0080145290912698,
            0.0780050395342775,
            0.0569121943074039,
            0.049551551710453,
            0.0519294248618141,
            -0.012519362365444,
            0.0405332540021941,
            0.0417440942835811,
            0.0608890884598116,
            0.0702228707120991,
            0.0521143407278259,
            0.072976758048721,
            0.0603961200153959,
            0.0254181660669063,
            -0.0026684144000748
           ]
          }
         ],
         "name": "85"
        },
        {
         "data": [
          {
           "coloraxis": "coloraxis",
           "customdata": [
            [
             "Alabama",
             "Poverty falls 4% from 17.1% to 16.3%",
             "Deep poverty falls 7% from 6.9% to 6.4%",
             "Child poverty falls 4% from 20.3% to 19.6%",
             "Deep child poverty falls 6% from 7.7% to 7.3%"
            ],
            [
             "Alaska",
             "Poverty falls 7% from 12.5% to 11.6%",
             "Deep poverty falls 6% from 4.2% to 3.9%",
             "Child poverty falls 8% from 12.6% to 11.6%",
             "Deep child poverty falls 5% from 3.1% to 3.0%"
            ],
            [
             "Arizona",
             "Poverty falls 8% from 15.1% to 13.9%",
             "Deep poverty falls 7% from 5.7% to 5.3%",
             "Child poverty falls 7% from 17.3% to 16.1%",
             "Deep child poverty falls 8% from 5.7% to 5.3%"
            ],
            [
             "Arkansas",
             "Poverty rises 0% from 16.1% to 16.1%",
             "Deep poverty falls 3% from 6.1% to 5.9%",
             "Child poverty rises 3% from 17.9% to 18.5%",
             "Deep child poverty falls 3% from 6.6% to 6.4%"
            ],
            [
             "California",
             "Poverty falls 10% from 20.3% to 18.3%",
             "Deep poverty falls 13% from 6.6% to 5.8%",
             "Child poverty falls 11% from 23.8% to 21.3%",
             "Deep child poverty falls 15% from 6.4% to 5.4%"
            ],
            [
             "Colorado",
             "Poverty falls 4% from 12.8% to 12.3%",
             "Deep poverty falls 3% from 5.0% to 4.9%",
             "Child poverty falls 3% from 13.6% to 13.1%",
             "Deep child poverty falls 4% from 4.3% to 4.1%"
            ],
            [
             "Connecticut",
             "Poverty falls 8% from 12.9% to 11.8%",
             "Deep poverty falls 10% from 4.5% to 4.1%",
             "Child poverty falls 7% from 15.5% to 14.5%",
             "Deep child poverty falls 9% from 4.5% to 4.2%"
            ],
            [
             "Delaware",
             "Poverty falls 4% from 13.6% to 13.0%",
             "Deep poverty falls 6% from 5.1% to 4.8%",
             "Child poverty rises 1% from 16.4% to 16.5%",
             "Deep child poverty rises 5% from 5.4% to 5.7%"
            ],
            [
             "District of Columbia",
             "Poverty falls 6% from 18.9% to 17.8%",
             "Deep poverty falls 6% from 9.4% to 8.8%",
             "Child poverty falls 4% from 27.1% to 25.9%",
             "Deep child poverty falls 7% from 13.5% to 12.6%"
            ],
            [
             "Florida",
             "Poverty falls 6% from 18.1% to 17.1%",
             "Deep poverty falls 9% from 6.4% to 5.9%",
             "Child poverty falls 4% from 21.3% to 20.6%",
             "Deep child poverty falls 7% from 6.7% to 6.3%"
            ],
            [
             "Georgia",
             "Poverty falls 5% from 15.4% to 14.7%",
             "Deep poverty falls 6% from 6.0% to 5.7%",
             "Child poverty falls 4% from 17.8% to 17.1%",
             "Deep child poverty falls 4% from 6.3% to 6.0%"
            ],
            [
             "Hawaii",
             "Poverty falls 11% from 15.1% to 13.5%",
             "Deep poverty falls 9% from 4.4% to 4.0%",
             "Child poverty falls 12% from 18.5% to 16.3%",
             "Deep child poverty falls 7% from 3.4% to 3.2%"
            ],
            [
             "Idaho",
             "Poverty falls 4% from 12.2% to 11.8%",
             "Deep poverty falls 6% from 5.0% to 4.7%",
             "Child poverty falls 0% from 11.8% to 11.8%",
             "Deep child poverty falls 8% from 4.4% to 4.1%"
            ],
            [
             "Illinois",
             "Poverty falls 5% from 13.6% to 12.9%",
             "Deep poverty falls 5% from 4.9% to 4.7%",
             "Child poverty falls 3% from 14.7% to 14.2%",
             "Deep child poverty falls 2% from 4.2% to 4.1%"
            ],
            [
             "Indiana",
             "Poverty falls 4% from 13.3% to 12.9%",
             "Deep poverty falls 3% from 5.5% to 5.3%",
             "Child poverty falls 3% from 14.7% to 14.3%",
             "Deep child poverty rises 1% from 5.5% to 5.5%"
            ],
            [
             "Iowa",
             "Poverty rises 0% from 10.1% to 10.1%",
             "Deep poverty falls 1% from 4.3% to 4.3%",
             "Child poverty rises 3% from 9.0% to 9.3%",
             "Deep child poverty rises 2% from 3.2% to 3.3%"
            ],
            [
             "Kansas",
             "Poverty falls 3% from 11.9% to 11.5%",
             "Deep poverty falls 5% from 4.7% to 4.4%",
             "Child poverty rises 1% from 10.6% to 10.7%",
             "Deep child poverty rises 0% from 3.5% to 3.5%"
            ],
            [
             "Kentucky",
             "Poverty falls 4% from 16.3% to 15.6%",
             "Deep poverty falls 5% from 6.5% to 6.2%",
             "Child poverty falls 1% from 18.4% to 18.1%",
             "Deep child poverty falls 3% from 7.4% to 7.2%"
            ],
            [
             "Louisiana",
             "Poverty falls 4% from 18.5% to 17.8%",
             "Deep poverty falls 6% from 6.9% to 6.5%",
             "Child poverty falls 1% from 21.3% to 21.0%",
             "Deep child poverty falls 3% from 7.5% to 7.3%"
            ],
            [
             "Maine",
             "Poverty falls 10% from 11.2% to 10.0%",
             "Deep poverty falls 8% from 4.6% to 4.2%",
             "Child poverty falls 9% from 10.9% to 9.9%",
             "Deep child poverty falls 14% from 4.5% to 3.9%"
            ],
            [
             "Maryland",
             "Poverty falls 6% from 12.9% to 12.1%",
             "Deep poverty falls 6% from 4.7% to 4.4%",
             "Child poverty falls 6% from 15.2% to 14.3%",
             "Deep child poverty falls 4% from 5.1% to 4.9%"
            ],
            [
             "Massachusetts",
             "Poverty falls 8% from 13.9% to 12.8%",
             "Deep poverty falls 8% from 5.0% to 4.6%",
             "Child poverty falls 7% from 15.7% to 14.6%",
             "Deep child poverty falls 7% from 4.7% to 4.4%"
            ],
            [
             "Michigan",
             "Poverty falls 5% from 14.0% to 13.3%",
             "Deep poverty falls 6% from 5.6% to 5.2%",
             "Child poverty falls 4% from 15.3% to 14.7%",
             "Deep child poverty falls 8% from 5.5% to 5.1%"
            ],
            [
             "Minnesota",
             "Poverty falls 4% from 9.6% to 9.3%",
             "Deep poverty falls 5% from 3.8% to 3.6%",
             "Child poverty falls 3% from 8.3% to 8.0%",
             "Deep child poverty falls 7% from 2.3% to 2.2%"
            ],
            [
             "Mississippi",
             "Poverty falls 4% from 18.1% to 17.5%",
             "Deep poverty falls 4% from 7.5% to 7.2%",
             "Child poverty falls 1% from 20.7% to 20.5%",
             "Deep child poverty falls 2% from 8.4% to 8.2%"
            ],
            [
             "Missouri",
             "Poverty falls 1% from 12.8% to 12.7%",
             "Deep poverty rises 1% from 5.2% to 5.2%",
             "Child poverty rises 1% from 14.4% to 14.6%",
             "Deep child poverty rises 3% from 5.2% to 5.4%"
            ],
            [
             "Montana",
             "Poverty falls 2% from 13.1% to 12.8%",
             "Deep poverty falls 11% from 5.2% to 4.6%",
             "Child poverty falls 1% from 12.8% to 12.7%",
             "Deep child poverty falls 18% from 4.6% to 3.7%"
            ],
            [
             "Nebraska",
             "Poverty falls 3% from 11.2% to 10.9%",
             "Deep poverty rises 0% from 4.5% to 4.5%",
             "Child poverty falls 3% from 9.8% to 9.5%",
             "Deep child poverty falls 3% from 3.8% to 3.7%"
            ],
            [
             "Nevada",
             "Poverty falls 9% from 14.9% to 13.6%",
             "Deep poverty falls 10% from 5.7% to 5.2%",
             "Child poverty falls 11% from 16.2% to 14.5%",
             "Deep child poverty falls 14% from 5.8% to 4.9%"
            ],
            [
             "New Hampshire",
             "Poverty falls 5% from 9.4% to 8.9%",
             "Deep poverty falls 6% from 3.4% to 3.2%",
             "Child poverty falls 5% from 11.2% to 10.6%",
             "Deep child poverty falls 9% from 3.7% to 3.4%"
            ],
            [
             "New Jersey",
             "Poverty falls 9% from 14.0% to 12.8%",
             "Deep poverty falls 10% from 4.6% to 4.2%",
             "Child poverty falls 8% from 17.0% to 15.7%",
             "Deep child poverty falls 8% from 5.4% to 4.9%"
            ],
            [
             "New Mexico",
             "Poverty falls 5% from 18.5% to 17.5%",
             "Deep poverty falls 8% from 7.3% to 6.7%",
             "Child poverty falls 6% from 20.5% to 19.3%",
             "Deep child poverty falls 4% from 7.4% to 7.1%"
            ],
            [
             "New York",
             "Poverty falls 9% from 17.9% to 16.3%",
             "Deep poverty falls 13% from 6.3% to 5.5%",
             "Child poverty falls 8% from 21.4% to 19.8%",
             "Deep child poverty falls 14% from 7.1% to 6.1%"
            ],
            [
             "North Carolina",
             "Poverty falls 5% from 14.3% to 13.6%",
             "Deep poverty falls 7% from 5.6% to 5.2%",
             "Child poverty falls 4% from 16.2% to 15.5%",
             "Deep child poverty falls 6% from 5.9% to 5.6%"
            ],
            [
             "North Dakota",
             "Poverty rises 3% from 9.1% to 9.4%",
             "Deep poverty rises 1% from 4.7% to 4.7%",
             "Child poverty rises 7% from 6.3% to 6.7%",
             "Deep child poverty rises 5% from 2.7% to 2.9%"
            ],
            [
             "Ohio",
             "Poverty falls 4% from 12.5% to 12.0%",
             "Deep poverty falls 4% from 4.8% to 4.6%",
             "Child poverty falls 2% from 14.0% to 13.7%",
             "Deep child poverty falls 3% from 4.9% to 4.7%"
            ],
            [
             "Oklahoma",
             "Poverty falls 1% from 14.2% to 14.1%",
             "Deep poverty rises 0% from 5.5% to 5.5%",
             "Child poverty rises 2% from 15.6% to 16.0%",
             "Deep child poverty rises 3% from 5.4% to 5.5%"
            ],
            [
             "Oregon",
             "Poverty falls 8% from 14.0% to 12.9%",
             "Deep poverty falls 10% from 5.1% to 4.6%",
             "Child poverty falls 8% from 14.3% to 13.2%",
             "Deep child poverty falls 14% from 4.6% to 3.9%"
            ],
            [
             "Pennsylvania",
             "Poverty falls 6% from 13.5% to 12.7%",
             "Deep poverty falls 7% from 5.2% to 4.8%",
             "Child poverty falls 6% from 14.7% to 13.8%",
             "Deep child poverty falls 7% from 5.1% to 4.7%"
            ],
            [
             "Rhode Island",
             "Poverty falls 5% from 12.4% to 11.8%",
             "Deep poverty falls 8% from 4.7% to 4.3%",
             "Child poverty falls 4% from 15.1% to 14.5%",
             "Deep child poverty falls 6% from 5.6% to 5.3%"
            ],
            [
             "South Carolina",
             "Poverty falls 5% from 15.6% to 14.8%",
             "Deep poverty falls 8% from 6.3% to 5.7%",
             "Child poverty falls 4% from 17.9% to 17.1%",
             "Deep child poverty falls 10% from 6.5% to 5.9%"
            ],
            [
             "South Dakota",
             "Poverty rises 1% from 12.0% to 12.2%",
             "Deep poverty falls 3% from 5.7% to 5.5%",
             "Child poverty rises 6% from 11.9% to 12.6%",
             "Deep child poverty falls 0% from 6.0% to 6.0%"
            ],
            [
             "Tennessee",
             "Poverty falls 5% from 15.5% to 14.7%",
             "Deep poverty falls 5% from 6.1% to 5.8%",
             "Child poverty falls 2% from 18.6% to 18.1%",
             "Deep child poverty falls 3% from 7.0% to 6.8%"
            ],
            [
             "Texas",
             "Poverty falls 4% from 16.3% to 15.6%",
             "Deep poverty falls 5% from 6.0% to 5.7%",
             "Child poverty falls 4% from 19.0% to 18.4%",
             "Deep child poverty falls 4% from 6.2% to 6.0%"
            ],
            [
             "Utah",
             "Poverty falls 6% from 10.0% to 9.4%",
             "Deep poverty falls 7% from 4.2% to 3.9%",
             "Child poverty falls 5% from 8.2% to 7.8%",
             "Deep child poverty falls 9% from 2.9% to 2.6%"
            ],
            [
             "Vermont",
             "Poverty falls 7% from 11.6% to 10.8%",
             "Deep poverty falls 4% from 4.7% to 4.5%",
             "Child poverty falls 5% from 10.3% to 9.8%",
             "Deep child poverty rises 1% from 3.8% to 3.8%"
            ],
            [
             "Virginia",
             "Poverty falls 6% from 14.6% to 13.8%",
             "Deep poverty falls 7% from 5.5% to 5.1%",
             "Child poverty falls 5% from 17.1% to 16.2%",
             "Deep child poverty falls 6% from 5.6% to 5.3%"
            ],
            [
             "Washington",
             "Poverty falls 8% from 11.8% to 10.9%",
             "Deep poverty falls 9% from 4.6% to 4.2%",
             "Child poverty falls 9% from 11.9% to 10.9%",
             "Deep child poverty falls 8% from 3.8% to 3.5%"
            ],
            [
             "West Virginia",
             "Poverty falls 6% from 16.1% to 15.1%",
             "Deep poverty falls 5% from 6.2% to 5.9%",
             "Child poverty falls 5% from 17.9% to 17.0%",
             "Deep child poverty falls 0% from 6.2% to 6.2%"
            ],
            [
             "Wisconsin",
             "Poverty falls 3% from 10.6% to 10.3%",
             "Deep poverty falls 3% from 4.2% to 4.0%",
             "Child poverty falls 3% from 10.0% to 9.7%",
             "Deep child poverty falls 1% from 3.3% to 3.2%"
            ],
            [
             "Wyoming",
             "Poverty falls 0% from 11.4% to 11.4%",
             "Deep poverty rises 4% from 5.5% to 5.7%",
             "Child poverty rises 1% from 11.7% to 11.8%",
             "Deep child poverty rises 8% from 4.6% to 4.9%"
            ]
           ],
           "geo": "geo",
           "hovertemplate": "<b>%{customdata[0]}</b><br>%{customdata[1]}<br>%{customdata[2]}<br>%{customdata[3]}<br>%{customdata[4]}",
           "locationmode": "USA-states",
           "locations": [
            "AL",
            "AK",
            "AZ",
            "AR",
            "CA",
            "CO",
            "CT",
            "DE",
            "DC",
            "FL",
            "GA",
            "HI",
            "ID",
            "IL",
            "IN",
            "IA",
            "KS",
            "KY",
            "LA",
            "ME",
            "MD",
            "MA",
            "MI",
            "MN",
            "MS",
            "MO",
            "MT",
            "NE",
            "NV",
            "NH",
            "NJ",
            "NM",
            "NY",
            "NC",
            "ND",
            "OH",
            "OK",
            "OR",
            "PA",
            "RI",
            "SC",
            "SD",
            "TN",
            "TX",
            "UT",
            "VT",
            "VA",
            "WA",
            "WV",
            "WI",
            "WY"
           ],
           "name": "",
           "type": "choropleth",
           "z": [
            0.0418835560480655,
            0.0681551116333725,
            0.0779612295794413,
            -0.0007357350333208,
            0.1027698015624778,
            0.0388605761945118,
            0.0821416478112379,
            0.0437357702268156,
            0.0585877175435087,
            0.0572225807364863,
            0.0482654447716123,
            0.1065420650740003,
            0.035846372688478,
            0.0515159853831013,
            0.0355216361257301,
            -0.0018571155398112,
            0.0340637088884987,
            0.039282716455495,
            0.0391830008776592,
            0.101564484351724,
            0.0630652226309115,
            0.0811279022539299,
            0.046580463677341,
            0.0379026744914905,
            0.0356951994136687,
            0.010909205437674,
            0.019824212960218,
            0.0323860727086534,
            0.0893647276621717,
            0.0526841144248326,
            0.0878923466142037,
            0.0516291453577267,
            0.0884792373902478,
            0.0496941530875068,
            -0.0301976355385718,
            0.0393745296734415,
            0.0058123717859163,
            0.0816369797549743,
            0.0617846025674557,
            0.0516390189697593,
            0.0530983417690384,
            -0.0112840924687751,
            0.0458313476083718,
            0.0442812453461542,
            0.0604208095451923,
            0.0720395960289532,
            0.0555823441983106,
            0.076399125880765,
            0.0629420509398054,
            0.0288118086098894,
            0.0015292667322067
           ]
          }
         ],
         "name": "90"
        },
        {
         "data": [
          {
           "coloraxis": "coloraxis",
           "customdata": [
            [
             "Alabama",
             "Poverty falls 4% from 17.1% to 16.3%",
             "Deep poverty falls 7% from 6.9% to 6.4%",
             "Child poverty falls 3% from 20.3% to 19.7%",
             "Deep child poverty falls 6% from 7.7% to 7.3%"
            ],
            [
             "Alaska",
             "Poverty falls 7% from 12.5% to 11.6%",
             "Deep poverty falls 7% from 4.2% to 3.9%",
             "Child poverty falls 8% from 12.6% to 11.6%",
             "Deep child poverty falls 5% from 3.1% to 3.0%"
            ],
            [
             "Arizona",
             "Poverty falls 8% from 15.1% to 13.8%",
             "Deep poverty falls 8% from 5.7% to 5.2%",
             "Child poverty falls 7% from 17.3% to 16.0%",
             "Deep child poverty falls 8% from 5.7% to 5.3%"
            ],
            [
             "Arkansas",
             "Poverty rises 0% from 16.1% to 16.1%",
             "Deep poverty falls 4% from 6.1% to 5.8%",
             "Child poverty rises 4% from 17.9% to 18.6%",
             "Deep child poverty falls 5% from 6.6% to 6.3%"
            ],
            [
             "California",
             "Poverty falls 11% from 20.3% to 18.2%",
             "Deep poverty falls 13% from 6.6% to 5.7%",
             "Child poverty falls 11% from 23.8% to 21.1%",
             "Deep child poverty falls 16% from 6.4% to 5.3%"
            ],
            [
             "Colorado",
             "Poverty falls 4% from 12.8% to 12.2%",
             "Deep poverty falls 4% from 5.0% to 4.9%",
             "Child poverty falls 4% from 13.6% to 13.0%",
             "Deep child poverty falls 4% from 4.3% to 4.1%"
            ],
            [
             "Connecticut",
             "Poverty falls 9% from 12.9% to 11.8%",
             "Deep poverty falls 10% from 4.5% to 4.1%",
             "Child poverty falls 7% from 15.5% to 14.4%",
             "Deep child poverty falls 9% from 4.5% to 4.2%"
            ],
            [
             "Delaware",
             "Poverty falls 5% from 13.6% to 12.9%",
             "Deep poverty falls 7% from 5.1% to 4.8%",
             "Child poverty falls 0% from 16.4% to 16.4%",
             "Deep child poverty rises 5% from 5.4% to 5.7%"
            ],
            [
             "District of Columbia",
             "Poverty falls 6% from 18.9% to 17.7%",
             "Deep poverty falls 6% from 9.4% to 8.8%",
             "Child poverty falls 4% from 27.1% to 25.9%",
             "Deep child poverty falls 7% from 13.5% to 12.6%"
            ],
            [
             "Florida",
             "Poverty falls 6% from 18.1% to 17.0%",
             "Deep poverty falls 9% from 6.4% to 5.9%",
             "Child poverty falls 4% from 21.3% to 20.6%",
             "Deep child poverty falls 7% from 6.7% to 6.2%"
            ],
            [
             "Georgia",
             "Poverty falls 5% from 15.4% to 14.6%",
             "Deep poverty falls 6% from 6.0% to 5.6%",
             "Child poverty falls 4% from 17.8% to 17.1%",
             "Deep child poverty falls 5% from 6.3% to 6.0%"
            ],
            [
             "Hawaii",
             "Poverty falls 11% from 15.1% to 13.4%",
             "Deep poverty falls 9% from 4.4% to 4.0%",
             "Child poverty falls 12% from 18.5% to 16.3%",
             "Deep child poverty falls 7% from 3.4% to 3.2%"
            ],
            [
             "Idaho",
             "Poverty falls 4% from 12.2% to 11.7%",
             "Deep poverty falls 6% from 5.0% to 4.7%",
             "Child poverty falls 1% from 11.8% to 11.7%",
             "Deep child poverty falls 8% from 4.4% to 4.1%"
            ],
            [
             "Illinois",
             "Poverty falls 5% from 13.6% to 12.9%",
             "Deep poverty falls 5% from 4.9% to 4.7%",
             "Child poverty falls 3% from 14.7% to 14.2%",
             "Deep child poverty falls 1% from 4.2% to 4.1%"
            ],
            [
             "Indiana",
             "Poverty falls 4% from 13.3% to 12.9%",
             "Deep poverty falls 3% from 5.5% to 5.3%",
             "Child poverty falls 3% from 14.7% to 14.3%",
             "Deep child poverty rises 1% from 5.5% to 5.5%"
            ],
            [
             "Iowa",
             "Poverty rises 0% from 10.1% to 10.1%",
             "Deep poverty falls 2% from 4.3% to 4.3%",
             "Child poverty rises 3% from 9.0% to 9.3%",
             "Deep child poverty rises 2% from 3.2% to 3.2%"
            ],
            [
             "Kansas",
             "Poverty falls 4% from 11.9% to 11.4%",
             "Deep poverty falls 5% from 4.7% to 4.4%",
             "Child poverty rises 0% from 10.6% to 10.7%",
             "Deep child poverty rises 0% from 3.5% to 3.5%"
            ],
            [
             "Kentucky",
             "Poverty falls 4% from 16.3% to 15.6%",
             "Deep poverty falls 5% from 6.5% to 6.2%",
             "Child poverty falls 2% from 18.4% to 18.1%",
             "Deep child poverty falls 3% from 7.4% to 7.2%"
            ],
            [
             "Louisiana",
             "Poverty falls 4% from 18.5% to 17.8%",
             "Deep poverty falls 6% from 6.9% to 6.5%",
             "Child poverty falls 1% from 21.3% to 21.1%",
             "Deep child poverty falls 4% from 7.5% to 7.2%"
            ],
            [
             "Maine",
             "Poverty falls 11% from 11.2% to 10.0%",
             "Deep poverty falls 8% from 4.6% to 4.2%",
             "Child poverty falls 9% from 10.9% to 9.9%",
             "Deep child poverty falls 14% from 4.5% to 3.9%"
            ],
            [
             "Maryland",
             "Poverty falls 7% from 12.9% to 12.1%",
             "Deep poverty falls 7% from 4.7% to 4.4%",
             "Child poverty falls 7% from 15.2% to 14.2%",
             "Deep child poverty falls 5% from 5.1% to 4.8%"
            ],
            [
             "Massachusetts",
             "Poverty falls 8% from 13.9% to 12.8%",
             "Deep poverty falls 9% from 5.0% to 4.5%",
             "Child poverty falls 7% from 15.7% to 14.6%",
             "Deep child poverty falls 7% from 4.7% to 4.3%"
            ],
            [
             "Michigan",
             "Poverty falls 5% from 14.0% to 13.3%",
             "Deep poverty falls 6% from 5.6% to 5.2%",
             "Child poverty falls 4% from 15.3% to 14.7%",
             "Deep child poverty falls 8% from 5.5% to 5.1%"
            ],
            [
             "Minnesota",
             "Poverty falls 4% from 9.6% to 9.3%",
             "Deep poverty falls 4% from 3.8% to 3.6%",
             "Child poverty falls 3% from 8.3% to 8.0%",
             "Deep child poverty falls 7% from 2.3% to 2.2%"
            ],
            [
             "Mississippi",
             "Poverty falls 4% from 18.1% to 17.4%",
             "Deep poverty falls 5% from 7.5% to 7.1%",
             "Child poverty falls 1% from 20.7% to 20.5%",
             "Deep child poverty falls 3% from 8.4% to 8.2%"
            ],
            [
             "Missouri",
             "Poverty falls 1% from 12.8% to 12.7%",
             "Deep poverty rises 1% from 5.2% to 5.2%",
             "Child poverty rises 2% from 14.4% to 14.7%",
             "Deep child poverty rises 3% from 5.2% to 5.4%"
            ],
            [
             "Montana",
             "Poverty falls 2% from 13.1% to 12.8%",
             "Deep poverty falls 10% from 5.2% to 4.6%",
             "Child poverty falls 1% from 12.8% to 12.7%",
             "Deep child poverty falls 18% from 4.6% to 3.7%"
            ],
            [
             "Nebraska",
             "Poverty falls 3% from 11.2% to 10.9%",
             "Deep poverty falls 0% from 4.5% to 4.5%",
             "Child poverty falls 3% from 9.8% to 9.5%",
             "Deep child poverty falls 3% from 3.8% to 3.7%"
            ],
            [
             "Nevada",
             "Poverty falls 9% from 14.9% to 13.6%",
             "Deep poverty falls 10% from 5.7% to 5.2%",
             "Child poverty falls 11% from 16.2% to 14.5%",
             "Deep child poverty falls 14% from 5.8% to 4.9%"
            ],
            [
             "New Hampshire",
             "Poverty falls 4% from 9.4% to 9.0%",
             "Deep poverty falls 7% from 3.4% to 3.2%",
             "Child poverty falls 2% from 11.2% to 11.0%",
             "Deep child poverty falls 11% from 3.7% to 3.3%"
            ],
            [
             "New Jersey",
             "Poverty falls 10% from 14.0% to 12.7%",
             "Deep poverty falls 10% from 4.6% to 4.1%",
             "Child poverty falls 8% from 17.0% to 15.6%",
             "Deep child poverty falls 8% from 5.4% to 4.9%"
            ],
            [
             "New Mexico",
             "Poverty falls 6% from 18.5% to 17.3%",
             "Deep poverty falls 9% from 7.3% to 6.6%",
             "Child poverty falls 7% from 20.5% to 19.0%",
             "Deep child poverty falls 7% from 7.4% to 6.9%"
            ],
            [
             "New York",
             "Poverty falls 9% from 17.9% to 16.2%",
             "Deep poverty falls 14% from 6.3% to 5.4%",
             "Child poverty falls 8% from 21.4% to 19.6%",
             "Deep child poverty falls 14% from 7.1% to 6.1%"
            ],
            [
             "North Carolina",
             "Poverty falls 5% from 14.3% to 13.5%",
             "Deep poverty falls 8% from 5.6% to 5.2%",
             "Child poverty falls 5% from 16.2% to 15.5%",
             "Deep child poverty falls 5% from 5.9% to 5.6%"
            ],
            [
             "North Dakota",
             "Poverty rises 3% from 9.1% to 9.4%",
             "Deep poverty rises 2% from 4.7% to 4.7%",
             "Child poverty rises 7% from 6.3% to 6.7%",
             "Deep child poverty rises 9% from 2.7% to 3.0%"
            ],
            [
             "Ohio",
             "Poverty falls 4% from 12.5% to 12.0%",
             "Deep poverty falls 4% from 4.8% to 4.6%",
             "Child poverty falls 2% from 14.0% to 13.7%",
             "Deep child poverty falls 3% from 4.9% to 4.7%"
            ],
            [
             "Oklahoma",
             "Poverty falls 1% from 14.2% to 14.1%",
             "Deep poverty rises 0% from 5.5% to 5.5%",
             "Child poverty rises 2% from 15.6% to 16.0%",
             "Deep child poverty rises 3% from 5.4% to 5.5%"
            ],
            [
             "Oregon",
             "Poverty falls 9% from 14.0% to 12.8%",
             "Deep poverty falls 10% from 5.1% to 4.6%",
             "Child poverty falls 9% from 14.3% to 13.1%",
             "Deep child poverty falls 14% from 4.6% to 3.9%"
            ],
            [
             "Pennsylvania",
             "Poverty falls 7% from 13.5% to 12.6%",
             "Deep poverty falls 8% from 5.2% to 4.8%",
             "Child poverty falls 7% from 14.7% to 13.8%",
             "Deep child poverty falls 8% from 5.1% to 4.7%"
            ],
            [
             "Rhode Island",
             "Poverty falls 6% from 12.4% to 11.7%",
             "Deep poverty falls 8% from 4.7% to 4.3%",
             "Child poverty falls 4% from 15.1% to 14.4%",
             "Deep child poverty falls 6% from 5.6% to 5.3%"
            ],
            [
             "South Carolina",
             "Poverty falls 5% from 15.6% to 14.8%",
             "Deep poverty falls 9% from 6.3% to 5.7%",
             "Child poverty falls 4% from 17.9% to 17.2%",
             "Deep child poverty falls 11% from 6.5% to 5.8%"
            ],
            [
             "South Dakota",
             "Poverty rises 1% from 12.0% to 12.2%",
             "Deep poverty falls 3% from 5.7% to 5.5%",
             "Child poverty rises 6% from 11.9% to 12.6%",
             "Deep child poverty falls 0% from 6.0% to 6.0%"
            ],
            [
             "Tennessee",
             "Poverty falls 5% from 15.5% to 14.7%",
             "Deep poverty falls 6% from 6.1% to 5.7%",
             "Child poverty falls 3% from 18.6% to 18.0%",
             "Deep child poverty falls 4% from 7.0% to 6.8%"
            ],
            [
             "Texas",
             "Poverty falls 5% from 16.3% to 15.6%",
             "Deep poverty falls 5% from 6.0% to 5.6%",
             "Child poverty falls 4% from 19.0% to 18.3%",
             "Deep child poverty falls 4% from 6.2% to 6.0%"
            ],
            [
             "Utah",
             "Poverty falls 6% from 10.0% to 9.4%",
             "Deep poverty falls 7% from 4.2% to 3.9%",
             "Child poverty falls 5% from 8.2% to 7.8%",
             "Deep child poverty falls 9% from 2.9% to 2.6%"
            ],
            [
             "Vermont",
             "Poverty falls 7% from 11.6% to 10.8%",
             "Deep poverty falls 4% from 4.7% to 4.5%",
             "Child poverty falls 5% from 10.3% to 9.8%",
             "Deep child poverty rises 1% from 3.8% to 3.8%"
            ],
            [
             "Virginia",
             "Poverty falls 6% from 14.6% to 13.8%",
             "Deep poverty falls 7% from 5.5% to 5.1%",
             "Child poverty falls 5% from 17.1% to 16.2%",
             "Deep child poverty falls 6% from 5.6% to 5.3%"
            ],
            [
             "Washington",
             "Poverty falls 8% from 11.8% to 10.8%",
             "Deep poverty falls 9% from 4.6% to 4.2%",
             "Child poverty falls 9% from 11.9% to 10.8%",
             "Deep child poverty falls 9% from 3.8% to 3.5%"
            ],
            [
             "West Virginia",
             "Poverty falls 7% from 16.1% to 15.0%",
             "Deep poverty falls 5% from 6.2% to 5.9%",
             "Child poverty falls 6% from 17.9% to 16.9%",
             "Deep child poverty falls 0% from 6.2% to 6.2%"
            ],
            [
             "Wisconsin",
             "Poverty falls 3% from 10.6% to 10.3%",
             "Deep poverty falls 3% from 4.2% to 4.0%",
             "Child poverty falls 3% from 10.0% to 9.7%",
             "Deep child poverty falls 2% from 3.3% to 3.2%"
            ],
            [
             "Wyoming",
             "Poverty falls 0% from 11.4% to 11.3%",
             "Deep poverty rises 4% from 5.5% to 5.7%",
             "Child poverty falls 0% from 11.7% to 11.7%",
             "Deep child poverty rises 8% from 4.6% to 4.9%"
            ]
           ],
           "geo": "geo",
           "hovertemplate": "<b>%{customdata[0]}</b><br>%{customdata[1]}<br>%{customdata[2]}<br>%{customdata[3]}<br>%{customdata[4]}",
           "locationmode": "USA-states",
           "locations": [
            "AL",
            "AK",
            "AZ",
            "AR",
            "CA",
            "CO",
            "CT",
            "DE",
            "DC",
            "FL",
            "GA",
            "HI",
            "ID",
            "IL",
            "IN",
            "IA",
            "KS",
            "KY",
            "LA",
            "ME",
            "MD",
            "MA",
            "MI",
            "MN",
            "MS",
            "MO",
            "MT",
            "NE",
            "NV",
            "NH",
            "NJ",
            "NM",
            "NY",
            "NC",
            "ND",
            "OH",
            "OK",
            "OR",
            "PA",
            "RI",
            "SC",
            "SD",
            "TN",
            "TX",
            "UT",
            "VT",
            "VA",
            "WA",
            "WV",
            "WI",
            "WY"
           ],
           "name": "",
           "type": "choropleth",
           "z": [
            0.0448885771114696,
            0.0681551116333725,
            0.0833950344926842,
            -0.0017691663228986,
            0.1077417152747023,
            0.0445349639948589,
            0.0884385014026647,
            0.0466462722884213,
            0.0592198439687938,
            0.0595594058135405,
            0.0502198108608632,
            0.1105815061963775,
            0.0405026078710288,
            0.0527699613865336,
            0.0355619859006358,
            -0.0018182230677732,
            0.0359012937429936,
            0.0419965630281651,
            0.0396594443880568,
            0.1090402345010331,
            0.0679419870686494,
            0.0826545112534893,
            0.0493050103294454,
            0.0380712149876056,
            0.0419306938251998,
            0.0098094924391453,
            0.0205356613505662,
            0.0323860727086534,
            0.0920097393668517,
            0.0429945222154595,
            0.095213097381603,
            0.0614831022301896,
            0.0926281902855038,
            0.0547631062168224,
            -0.032227728684022,
            0.0420592045142933,
            0.0059704565340471,
            0.0893439916587016,
            0.0678282800775901,
            0.0584093975712356,
            0.0529209977864364,
            -0.0120585870865279,
            0.051113783752839,
            0.0452651856756105,
            0.0636955545577008,
            0.0723256945040482,
            0.0565698939583295,
            0.0829078388794334,
            0.0682104683312322,
            0.0291583366653337,
            0.0020598286597069
           ]
          }
         ],
         "name": "95"
        },
        {
         "data": [
          {
           "coloraxis": "coloraxis",
           "customdata": [
            [
             "Alabama",
             "Poverty falls 5% from 17.1% to 16.3%",
             "Deep poverty falls 7% from 6.9% to 6.4%",
             "Child poverty falls 3% from 20.3% to 19.8%",
             "Deep child poverty falls 6% from 7.7% to 7.3%"
            ],
            [
             "Alaska",
             "Poverty falls 9% from 12.5% to 11.4%",
             "Deep poverty falls 7% from 4.2% to 3.9%",
             "Child poverty falls 9% from 12.6% to 11.5%",
             "Deep child poverty falls 5% from 3.1% to 3.0%"
            ],
            [
             "Arizona",
             "Poverty falls 9% from 15.1% to 13.8%",
             "Deep poverty falls 8% from 5.7% to 5.2%",
             "Child poverty falls 8% from 17.3% to 16.0%",
             "Deep child poverty falls 8% from 5.7% to 5.3%"
            ],
            [
             "Arkansas",
             "Poverty rises 0% from 16.1% to 16.1%",
             "Deep poverty falls 4% from 6.1% to 5.9%",
             "Child poverty rises 4% from 17.9% to 18.7%",
             "Deep child poverty falls 4% from 6.6% to 6.4%"
            ],
            [
             "California",
             "Poverty falls 11% from 20.3% to 18.1%",
             "Deep poverty falls 14% from 6.6% to 5.7%",
             "Child poverty falls 12% from 23.8% to 21.0%",
             "Deep child poverty falls 17% from 6.4% to 5.3%"
            ],
            [
             "Colorado",
             "Poverty falls 5% from 12.8% to 12.1%",
             "Deep poverty falls 4% from 5.0% to 4.8%",
             "Child poverty falls 5% from 13.6% to 12.9%",
             "Deep child poverty falls 5% from 4.3% to 4.1%"
            ],
            [
             "Connecticut",
             "Poverty falls 10% from 12.9% to 11.7%",
             "Deep poverty falls 10% from 4.5% to 4.1%",
             "Child poverty falls 8% from 15.5% to 14.3%",
             "Deep child poverty falls 10% from 4.5% to 4.1%"
            ],
            [
             "Delaware",
             "Poverty falls 5% from 13.6% to 12.9%",
             "Deep poverty falls 7% from 5.1% to 4.8%",
             "Child poverty falls 0% from 16.4% to 16.4%",
             "Deep child poverty rises 5% from 5.4% to 5.7%"
            ],
            [
             "District of Columbia",
             "Poverty falls 6% from 18.9% to 17.7%",
             "Deep poverty falls 7% from 9.4% to 8.8%",
             "Child poverty falls 4% from 27.1% to 25.9%",
             "Deep child poverty falls 7% from 13.5% to 12.6%"
            ],
            [
             "Florida",
             "Poverty falls 6% from 18.1% to 17.0%",
             "Deep poverty falls 10% from 6.4% to 5.8%",
             "Child poverty falls 4% from 21.3% to 20.5%",
             "Deep child poverty falls 8% from 6.7% to 6.2%"
            ],
            [
             "Georgia",
             "Poverty falls 5% from 15.4% to 14.6%",
             "Deep poverty falls 7% from 6.0% to 5.6%",
             "Child poverty falls 4% from 17.8% to 17.1%",
             "Deep child poverty falls 5% from 6.3% to 5.9%"
            ],
            [
             "Hawaii",
             "Poverty falls 12% from 15.1% to 13.3%",
             "Deep poverty falls 9% from 4.4% to 4.0%",
             "Child poverty falls 12% from 18.5% to 16.3%",
             "Deep child poverty falls 7% from 3.4% to 3.2%"
            ],
            [
             "Idaho",
             "Poverty falls 4% from 12.2% to 11.7%",
             "Deep poverty falls 10% from 5.0% to 4.5%",
             "Child poverty falls 1% from 11.8% to 11.7%",
             "Deep child poverty falls 8% from 4.4% to 4.1%"
            ],
            [
             "Illinois",
             "Poverty falls 6% from 13.6% to 12.8%",
             "Deep poverty falls 6% from 4.9% to 4.6%",
             "Child poverty falls 4% from 14.7% to 14.1%",
             "Deep child poverty falls 2% from 4.2% to 4.1%"
            ],
            [
             "Indiana",
             "Poverty falls 4% from 13.3% to 12.8%",
             "Deep poverty falls 2% from 5.5% to 5.4%",
             "Child poverty falls 4% from 14.7% to 14.2%",
             "Deep child poverty rises 1% from 5.5% to 5.5%"
            ],
            [
             "Iowa",
             "Poverty rises 0% from 10.1% to 10.1%",
             "Deep poverty falls 2% from 4.3% to 4.3%",
             "Child poverty rises 4% from 9.0% to 9.3%",
             "Deep child poverty rises 2% from 3.2% to 3.3%"
            ],
            [
             "Kansas",
             "Poverty falls 3% from 11.9% to 11.5%",
             "Deep poverty falls 5% from 4.7% to 4.4%",
             "Child poverty rises 1% from 10.6% to 10.8%",
             "Deep child poverty rises 0% from 3.5% to 3.5%"
            ],
            [
             "Kentucky",
             "Poverty falls 4% from 16.3% to 15.6%",
             "Deep poverty falls 4% from 6.5% to 6.3%",
             "Child poverty falls 2% from 18.4% to 18.1%",
             "Deep child poverty falls 3% from 7.4% to 7.2%"
            ],
            [
             "Louisiana",
             "Poverty falls 4% from 18.5% to 17.7%",
             "Deep poverty falls 6% from 6.9% to 6.5%",
             "Child poverty falls 2% from 21.3% to 21.0%",
             "Deep child poverty falls 4% from 7.5% to 7.2%"
            ],
            [
             "Maine",
             "Poverty falls 12% from 11.2% to 9.9%",
             "Deep poverty falls 7% from 4.6% to 4.2%",
             "Child poverty falls 11% from 10.9% to 9.7%",
             "Deep child poverty falls 11% from 4.5% to 4.0%"
            ],
            [
             "Maryland",
             "Poverty falls 7% from 12.9% to 12.0%",
             "Deep poverty falls 7% from 4.7% to 4.3%",
             "Child poverty falls 7% from 15.2% to 14.2%",
             "Deep child poverty falls 5% from 5.1% to 4.8%"
            ],
            [
             "Massachusetts",
             "Poverty falls 9% from 13.9% to 12.7%",
             "Deep poverty falls 9% from 5.0% to 4.5%",
             "Child poverty falls 8% from 15.7% to 14.6%",
             "Deep child poverty falls 7% from 4.7% to 4.3%"
            ],
            [
             "Michigan",
             "Poverty falls 5% from 14.0% to 13.3%",
             "Deep poverty falls 6% from 5.6% to 5.2%",
             "Child poverty falls 4% from 15.3% to 14.7%",
             "Deep child poverty falls 8% from 5.5% to 5.1%"
            ],
            [
             "Minnesota",
             "Poverty falls 4% from 9.6% to 9.3%",
             "Deep poverty falls 4% from 3.8% to 3.6%",
             "Child poverty falls 3% from 8.3% to 8.0%",
             "Deep child poverty falls 7% from 2.3% to 2.2%"
            ],
            [
             "Mississippi",
             "Poverty falls 4% from 18.1% to 17.4%",
             "Deep poverty falls 5% from 7.5% to 7.1%",
             "Child poverty falls 1% from 20.7% to 20.6%",
             "Deep child poverty falls 3% from 8.4% to 8.1%"
            ],
            [
             "Missouri",
             "Poverty falls 1% from 12.8% to 12.7%",
             "Deep poverty rises 1% from 5.2% to 5.2%",
             "Child poverty rises 2% from 14.4% to 14.6%",
             "Deep child poverty rises 5% from 5.2% to 5.5%"
            ],
            [
             "Montana",
             "Poverty falls 3% from 13.1% to 12.6%",
             "Deep poverty falls 11% from 5.2% to 4.6%",
             "Child poverty falls 4% from 12.8% to 12.3%",
             "Deep child poverty falls 19% from 4.6% to 3.7%"
            ],
            [
             "Nebraska",
             "Poverty falls 3% from 11.2% to 10.9%",
             "Deep poverty rises 0% from 4.5% to 4.5%",
             "Child poverty falls 2% from 9.8% to 9.6%",
             "Deep child poverty falls 3% from 3.8% to 3.7%"
            ],
            [
             "Nevada",
             "Poverty falls 10% from 14.9% to 13.5%",
             "Deep poverty falls 10% from 5.7% to 5.1%",
             "Child poverty falls 11% from 16.2% to 14.4%",
             "Deep child poverty falls 15% from 5.8% to 4.9%"
            ],
            [
             "New Hampshire",
             "Poverty falls 5% from 9.4% to 8.9%",
             "Deep poverty falls 7% from 3.4% to 3.2%",
             "Child poverty falls 2% from 11.2% to 11.0%",
             "Deep child poverty falls 11% from 3.7% to 3.3%"
            ],
            [
             "New Jersey",
             "Poverty falls 10% from 14.0% to 12.6%",
             "Deep poverty falls 11% from 4.6% to 4.1%",
             "Child poverty falls 9% from 17.0% to 15.5%",
             "Deep child poverty falls 8% from 5.4% to 4.9%"
            ],
            [
             "New Mexico",
             "Poverty falls 7% from 18.5% to 17.2%",
             "Deep poverty falls 9% from 7.3% to 6.7%",
             "Child poverty falls 8% from 20.5% to 18.8%",
             "Deep child poverty falls 6% from 7.4% to 6.9%"
            ],
            [
             "New York",
             "Poverty falls 10% from 17.9% to 16.1%",
             "Deep poverty falls 14% from 6.3% to 5.4%",
             "Child poverty falls 9% from 21.4% to 19.5%",
             "Deep child poverty falls 15% from 7.1% to 6.0%"
            ],
            [
             "North Carolina",
             "Poverty falls 6% from 14.3% to 13.5%",
             "Deep poverty falls 7% from 5.6% to 5.2%",
             "Child poverty falls 4% from 16.2% to 15.5%",
             "Deep child poverty falls 5% from 5.9% to 5.6%"
            ],
            [
             "North Dakota",
             "Poverty rises 4% from 9.1% to 9.5%",
             "Deep poverty rises 2% from 4.7% to 4.8%",
             "Child poverty rises 9% from 6.3% to 6.9%",
             "Deep child poverty rises 9% from 2.7% to 3.0%"
            ],
            [
             "Ohio",
             "Poverty falls 5% from 12.5% to 12.0%",
             "Deep poverty falls 4% from 4.8% to 4.6%",
             "Child poverty falls 3% from 14.0% to 13.6%",
             "Deep child poverty falls 3% from 4.9% to 4.7%"
            ],
            [
             "Oklahoma",
             "Poverty falls 1% from 14.2% to 14.1%",
             "Deep poverty rises 0% from 5.5% to 5.5%",
             "Child poverty rises 3% from 15.6% to 16.1%",
             "Deep child poverty rises 3% from 5.4% to 5.5%"
            ],
            [
             "Oregon",
             "Poverty falls 10% from 14.0% to 12.7%",
             "Deep poverty falls 11% from 5.1% to 4.5%",
             "Child poverty falls 10% from 14.3% to 13.0%",
             "Deep child poverty falls 16% from 4.6% to 3.8%"
            ],
            [
             "Pennsylvania",
             "Poverty falls 7% from 13.5% to 12.5%",
             "Deep poverty falls 8% from 5.2% to 4.7%",
             "Child poverty falls 7% from 14.7% to 13.7%",
             "Deep child poverty falls 8% from 5.1% to 4.7%"
            ],
            [
             "Rhode Island",
             "Poverty falls 6% from 12.4% to 11.7%",
             "Deep poverty falls 9% from 4.7% to 4.3%",
             "Child poverty falls 4% from 15.1% to 14.4%",
             "Deep child poverty falls 6% from 5.6% to 5.3%"
            ],
            [
             "South Carolina",
             "Poverty falls 6% from 15.6% to 14.7%",
             "Deep poverty falls 8% from 6.3% to 5.7%",
             "Child poverty falls 4% from 17.9% to 17.2%",
             "Deep child poverty falls 10% from 6.5% to 5.9%"
            ],
            [
             "South Dakota",
             "Poverty rises 2% from 12.0% to 12.2%",
             "Deep poverty falls 3% from 5.7% to 5.5%",
             "Child poverty rises 6% from 11.9% to 12.6%",
             "Deep child poverty falls 0% from 6.0% to 6.0%"
            ],
            [
             "Tennessee",
             "Poverty falls 5% from 15.5% to 14.7%",
             "Deep poverty falls 6% from 6.1% to 5.7%",
             "Child poverty falls 2% from 18.6% to 18.1%",
             "Deep child poverty falls 4% from 7.0% to 6.8%"
            ],
            [
             "Texas",
             "Poverty falls 5% from 16.3% to 15.5%",
             "Deep poverty falls 6% from 6.0% to 5.6%",
             "Child poverty falls 4% from 19.0% to 18.3%",
             "Deep child poverty falls 4% from 6.2% to 6.0%"
            ],
            [
             "Utah",
             "Poverty falls 7% from 10.0% to 9.3%",
             "Deep poverty falls 8% from 4.2% to 3.9%",
             "Child poverty falls 6% from 8.2% to 7.8%",
             "Deep child poverty falls 9% from 2.9% to 2.6%"
            ],
            [
             "Vermont",
             "Poverty falls 8% from 11.6% to 10.7%",
             "Deep poverty falls 4% from 4.7% to 4.5%",
             "Child poverty falls 6% from 10.3% to 9.7%",
             "Deep child poverty rises 1% from 3.8% to 3.8%"
            ],
            [
             "Virginia",
             "Poverty falls 6% from 14.6% to 13.8%",
             "Deep poverty falls 8% from 5.5% to 5.1%",
             "Child poverty falls 5% from 17.1% to 16.2%",
             "Deep child poverty falls 7% from 5.6% to 5.3%"
            ],
            [
             "Washington",
             "Poverty falls 9% from 11.8% to 10.7%",
             "Deep poverty falls 9% from 4.6% to 4.2%",
             "Child poverty falls 9% from 11.9% to 10.8%",
             "Deep child poverty falls 9% from 3.8% to 3.5%"
            ],
            [
             "West Virginia",
             "Poverty falls 7% from 16.1% to 15.0%",
             "Deep poverty falls 5% from 6.2% to 5.9%",
             "Child poverty falls 5% from 17.9% to 16.9%",
             "Deep child poverty falls 0% from 6.2% to 6.2%"
            ],
            [
             "Wisconsin",
             "Poverty falls 3% from 10.6% to 10.3%",
             "Deep poverty falls 3% from 4.2% to 4.0%",
             "Child poverty falls 3% from 10.0% to 9.7%",
             "Deep child poverty falls 2% from 3.3% to 3.2%"
            ],
            [
             "Wyoming",
             "Poverty falls 0% from 11.4% to 11.3%",
             "Deep poverty rises 4% from 5.5% to 5.7%",
             "Child poverty falls 0% from 11.7% to 11.7%",
             "Deep child poverty rises 8% from 4.6% to 4.9%"
            ]
           ],
           "geo": "geo",
           "hovertemplate": "<b>%{customdata[0]}</b><br>%{customdata[1]}<br>%{customdata[2]}<br>%{customdata[3]}<br>%{customdata[4]}",
           "locationmode": "USA-states",
           "locations": [
            "AL",
            "AK",
            "AZ",
            "AR",
            "CA",
            "CO",
            "CT",
            "DE",
            "DC",
            "FL",
            "GA",
            "HI",
            "ID",
            "IL",
            "IN",
            "IA",
            "KS",
            "KY",
            "LA",
            "ME",
            "MD",
            "MA",
            "MI",
            "MN",
            "MS",
            "MO",
            "MT",
            "NE",
            "NV",
            "NH",
            "NJ",
            "NM",
            "NY",
            "NC",
            "ND",
            "OH",
            "OK",
            "OR",
            "PA",
            "RI",
            "SC",
            "SD",
            "TN",
            "TX",
            "UT",
            "VT",
            "VA",
            "WA",
            "WV",
            "WI",
            "WY"
           ],
           "name": "",
           "type": "choropleth",
           "z": [
            0.0455802479449515,
            0.0882784958871916,
            0.0856172230501646,
            -0.0037679840434807,
            0.112486121808333,
            0.0506611700127408,
            0.0950291184629221,
            0.0504878220525297,
            0.0619483896779358,
            0.0635202608184661,
            0.0520666899765869,
            0.117413409596441,
            0.0397534376481744,
            0.0577905996183034,
            0.0380728947504944,
            -0.0017469202023703,
            0.0337247369250484,
            0.0430826688143013,
            0.0441098327671338,
            0.117586891007819,
            0.0708407997736487,
            0.0861688362757635,
            0.0504454162262214,
            0.0388892991934675,
            0.0412283179624992,
            0.0095312834228106,
            0.0321189304559197,
            0.0299586580948589,
            0.096883894494664,
            0.047401095556908,
            0.0997218229184553,
            0.0673564612221229,
            0.0993220859918124,
            0.0563766156725689,
            -0.0410496775734416,
            0.0461360109014067,
            0.0055881120269405,
            0.0959231905465288,
            0.0716257779783426,
            0.0582982776410826,
            0.0565118898137241,
            -0.0169800592145252,
            0.0516676664608363,
            0.0471904856944334,
            0.0703573032266342,
            0.0824249706749062,
            0.0568039614475132,
            0.0873670437715552,
            0.0669851728655319,
            0.0311975209916033,
            0.0040260287439727
           ]
          }
         ],
         "name": "100"
        }
       ],
       "layout": {
        "coloraxis": {
         "cmax": 0.117586891007819,
         "cmin": 0,
         "colorbar": {
          "title": {
           "text": "poverty_fall"
          }
         },
         "colorscale": [
          [
           0,
           "rgb(247,251,255)"
          ],
          [
           0.125,
           "rgb(222,235,247)"
          ],
          [
           0.25,
           "rgb(198,219,239)"
          ],
          [
           0.375,
           "rgb(158,202,225)"
          ],
          [
           0.5,
           "rgb(107,174,214)"
          ],
          [
           0.625,
           "rgb(66,146,198)"
          ],
          [
           0.75,
           "rgb(33,113,181)"
          ],
          [
           0.875,
           "rgb(8,81,156)"
          ],
          [
           1,
           "rgb(8,48,107)"
          ]
         ],
         "showscale": false
        },
        "font": {
         "family": "Roboto"
        },
        "geo": {
         "center": {},
         "domain": {
          "x": [
           0,
           1
          ],
          "y": [
           0,
           1
          ]
         },
         "scope": "usa"
        },
        "height": 600,
        "hoverlabel": {
         "align": "right"
        },
        "images": [
         {
          "sizex": 0.12,
          "sizey": 0.12,
          "source": "https://raw.githubusercontent.com/UBICenter/ubicenter.org/master/assets/images/logos/wide-blue.jpg",
          "x": 0.98,
          "xanchor": "right",
          "xref": "paper",
          "y": -0.12,
          "yanchor": "bottom",
          "yref": "paper"
         }
        ],
        "legend": {
         "tracegroupgap": 0
        },
        "paper_bgcolor": "white",
        "plot_bgcolor": "white",
        "sliders": [
         {
          "active": 0,
          "currentvalue": {
           "prefix": "Carbon price="
          },
          "len": 0.9,
          "pad": {
           "b": 10,
           "t": 60
          },
          "steps": [
           {
            "args": [
             [
              "10"
             ],
             {
              "frame": {
               "duration": 0,
               "redraw": true
              },
              "fromcurrent": true,
              "mode": "immediate",
              "transition": {
               "duration": 0,
               "easing": "linear"
              }
             }
            ],
            "label": "10",
            "method": "animate"
           },
           {
            "args": [
             [
              "15"
             ],
             {
              "frame": {
               "duration": 0,
               "redraw": true
              },
              "fromcurrent": true,
              "mode": "immediate",
              "transition": {
               "duration": 0,
               "easing": "linear"
              }
             }
            ],
            "label": "15",
            "method": "animate"
           },
           {
            "args": [
             [
              "20"
             ],
             {
              "frame": {
               "duration": 0,
               "redraw": true
              },
              "fromcurrent": true,
              "mode": "immediate",
              "transition": {
               "duration": 0,
               "easing": "linear"
              }
             }
            ],
            "label": "20",
            "method": "animate"
           },
           {
            "args": [
             [
              "25"
             ],
             {
              "frame": {
               "duration": 0,
               "redraw": true
              },
              "fromcurrent": true,
              "mode": "immediate",
              "transition": {
               "duration": 0,
               "easing": "linear"
              }
             }
            ],
            "label": "25",
            "method": "animate"
           },
           {
            "args": [
             [
              "30"
             ],
             {
              "frame": {
               "duration": 0,
               "redraw": true
              },
              "fromcurrent": true,
              "mode": "immediate",
              "transition": {
               "duration": 0,
               "easing": "linear"
              }
             }
            ],
            "label": "30",
            "method": "animate"
           },
           {
            "args": [
             [
              "35"
             ],
             {
              "frame": {
               "duration": 0,
               "redraw": true
              },
              "fromcurrent": true,
              "mode": "immediate",
              "transition": {
               "duration": 0,
               "easing": "linear"
              }
             }
            ],
            "label": "35",
            "method": "animate"
           },
           {
            "args": [
             [
              "40"
             ],
             {
              "frame": {
               "duration": 0,
               "redraw": true
              },
              "fromcurrent": true,
              "mode": "immediate",
              "transition": {
               "duration": 0,
               "easing": "linear"
              }
             }
            ],
            "label": "40",
            "method": "animate"
           },
           {
            "args": [
             [
              "45"
             ],
             {
              "frame": {
               "duration": 0,
               "redraw": true
              },
              "fromcurrent": true,
              "mode": "immediate",
              "transition": {
               "duration": 0,
               "easing": "linear"
              }
             }
            ],
            "label": "45",
            "method": "animate"
           },
           {
            "args": [
             [
              "50"
             ],
             {
              "frame": {
               "duration": 0,
               "redraw": true
              },
              "fromcurrent": true,
              "mode": "immediate",
              "transition": {
               "duration": 0,
               "easing": "linear"
              }
             }
            ],
            "label": "50",
            "method": "animate"
           },
           {
            "args": [
             [
              "55"
             ],
             {
              "frame": {
               "duration": 0,
               "redraw": true
              },
              "fromcurrent": true,
              "mode": "immediate",
              "transition": {
               "duration": 0,
               "easing": "linear"
              }
             }
            ],
            "label": "55",
            "method": "animate"
           },
           {
            "args": [
             [
              "60"
             ],
             {
              "frame": {
               "duration": 0,
               "redraw": true
              },
              "fromcurrent": true,
              "mode": "immediate",
              "transition": {
               "duration": 0,
               "easing": "linear"
              }
             }
            ],
            "label": "60",
            "method": "animate"
           },
           {
            "args": [
             [
              "65"
             ],
             {
              "frame": {
               "duration": 0,
               "redraw": true
              },
              "fromcurrent": true,
              "mode": "immediate",
              "transition": {
               "duration": 0,
               "easing": "linear"
              }
             }
            ],
            "label": "65",
            "method": "animate"
           },
           {
            "args": [
             [
              "70"
             ],
             {
              "frame": {
               "duration": 0,
               "redraw": true
              },
              "fromcurrent": true,
              "mode": "immediate",
              "transition": {
               "duration": 0,
               "easing": "linear"
              }
             }
            ],
            "label": "70",
            "method": "animate"
           },
           {
            "args": [
             [
              "75"
             ],
             {
              "frame": {
               "duration": 0,
               "redraw": true
              },
              "fromcurrent": true,
              "mode": "immediate",
              "transition": {
               "duration": 0,
               "easing": "linear"
              }
             }
            ],
            "label": "75",
            "method": "animate"
           },
           {
            "args": [
             [
              "80"
             ],
             {
              "frame": {
               "duration": 0,
               "redraw": true
              },
              "fromcurrent": true,
              "mode": "immediate",
              "transition": {
               "duration": 0,
               "easing": "linear"
              }
             }
            ],
            "label": "80",
            "method": "animate"
           },
           {
            "args": [
             [
              "85"
             ],
             {
              "frame": {
               "duration": 0,
               "redraw": true
              },
              "fromcurrent": true,
              "mode": "immediate",
              "transition": {
               "duration": 0,
               "easing": "linear"
              }
             }
            ],
            "label": "85",
            "method": "animate"
           },
           {
            "args": [
             [
              "90"
             ],
             {
              "frame": {
               "duration": 0,
               "redraw": true
              },
              "fromcurrent": true,
              "mode": "immediate",
              "transition": {
               "duration": 0,
               "easing": "linear"
              }
             }
            ],
            "label": "90",
            "method": "animate"
           },
           {
            "args": [
             [
              "95"
             ],
             {
              "frame": {
               "duration": 0,
               "redraw": true
              },
              "fromcurrent": true,
              "mode": "immediate",
              "transition": {
               "duration": 0,
               "easing": "linear"
              }
             }
            ],
            "label": "95",
            "method": "animate"
           },
           {
            "args": [
             [
              "100"
             ],
             {
              "frame": {
               "duration": 0,
               "redraw": true
              },
              "fromcurrent": true,
              "mode": "immediate",
              "transition": {
               "duration": 0,
               "easing": "linear"
              }
             }
            ],
            "label": "100",
            "method": "animate"
           }
          ],
          "x": 0.1,
          "xanchor": "left",
          "y": 0,
          "yanchor": "top"
         }
        ],
        "template": {
         "data": {
          "bar": [
           {
            "error_x": {
             "color": "#2a3f5f"
            },
            "error_y": {
             "color": "#2a3f5f"
            },
            "marker": {
             "line": {
              "color": "#E5ECF6",
              "width": 0.5
             },
             "pattern": {
              "fillmode": "overlay",
              "size": 10,
              "solidity": 0.2
             }
            },
            "type": "bar"
           }
          ],
          "barpolar": [
           {
            "marker": {
             "line": {
              "color": "#E5ECF6",
              "width": 0.5
             },
             "pattern": {
              "fillmode": "overlay",
              "size": 10,
              "solidity": 0.2
             }
            },
            "type": "barpolar"
           }
          ],
          "carpet": [
           {
            "aaxis": {
             "endlinecolor": "#2a3f5f",
             "gridcolor": "white",
             "linecolor": "white",
             "minorgridcolor": "white",
             "startlinecolor": "#2a3f5f"
            },
            "baxis": {
             "endlinecolor": "#2a3f5f",
             "gridcolor": "white",
             "linecolor": "white",
             "minorgridcolor": "white",
             "startlinecolor": "#2a3f5f"
            },
            "type": "carpet"
           }
          ],
          "choropleth": [
           {
            "colorbar": {
             "outlinewidth": 0,
             "ticks": ""
            },
            "type": "choropleth"
           }
          ],
          "contour": [
           {
            "colorbar": {
             "outlinewidth": 0,
             "ticks": ""
            },
            "colorscale": [
             [
              0,
              "#0d0887"
             ],
             [
              0.1111111111111111,
              "#46039f"
             ],
             [
              0.2222222222222222,
              "#7201a8"
             ],
             [
              0.3333333333333333,
              "#9c179e"
             ],
             [
              0.4444444444444444,
              "#bd3786"
             ],
             [
              0.5555555555555556,
              "#d8576b"
             ],
             [
              0.6666666666666666,
              "#ed7953"
             ],
             [
              0.7777777777777778,
              "#fb9f3a"
             ],
             [
              0.8888888888888888,
              "#fdca26"
             ],
             [
              1,
              "#f0f921"
             ]
            ],
            "type": "contour"
           }
          ],
          "contourcarpet": [
           {
            "colorbar": {
             "outlinewidth": 0,
             "ticks": ""
            },
            "type": "contourcarpet"
           }
          ],
          "heatmap": [
           {
            "colorbar": {
             "outlinewidth": 0,
             "ticks": ""
            },
            "colorscale": [
             [
              0,
              "#0d0887"
             ],
             [
              0.1111111111111111,
              "#46039f"
             ],
             [
              0.2222222222222222,
              "#7201a8"
             ],
             [
              0.3333333333333333,
              "#9c179e"
             ],
             [
              0.4444444444444444,
              "#bd3786"
             ],
             [
              0.5555555555555556,
              "#d8576b"
             ],
             [
              0.6666666666666666,
              "#ed7953"
             ],
             [
              0.7777777777777778,
              "#fb9f3a"
             ],
             [
              0.8888888888888888,
              "#fdca26"
             ],
             [
              1,
              "#f0f921"
             ]
            ],
            "type": "heatmap"
           }
          ],
          "heatmapgl": [
           {
            "colorbar": {
             "outlinewidth": 0,
             "ticks": ""
            },
            "colorscale": [
             [
              0,
              "#0d0887"
             ],
             [
              0.1111111111111111,
              "#46039f"
             ],
             [
              0.2222222222222222,
              "#7201a8"
             ],
             [
              0.3333333333333333,
              "#9c179e"
             ],
             [
              0.4444444444444444,
              "#bd3786"
             ],
             [
              0.5555555555555556,
              "#d8576b"
             ],
             [
              0.6666666666666666,
              "#ed7953"
             ],
             [
              0.7777777777777778,
              "#fb9f3a"
             ],
             [
              0.8888888888888888,
              "#fdca26"
             ],
             [
              1,
              "#f0f921"
             ]
            ],
            "type": "heatmapgl"
           }
          ],
          "histogram": [
           {
            "marker": {
             "pattern": {
              "fillmode": "overlay",
              "size": 10,
              "solidity": 0.2
             }
            },
            "type": "histogram"
           }
          ],
          "histogram2d": [
           {
            "colorbar": {
             "outlinewidth": 0,
             "ticks": ""
            },
            "colorscale": [
             [
              0,
              "#0d0887"
             ],
             [
              0.1111111111111111,
              "#46039f"
             ],
             [
              0.2222222222222222,
              "#7201a8"
             ],
             [
              0.3333333333333333,
              "#9c179e"
             ],
             [
              0.4444444444444444,
              "#bd3786"
             ],
             [
              0.5555555555555556,
              "#d8576b"
             ],
             [
              0.6666666666666666,
              "#ed7953"
             ],
             [
              0.7777777777777778,
              "#fb9f3a"
             ],
             [
              0.8888888888888888,
              "#fdca26"
             ],
             [
              1,
              "#f0f921"
             ]
            ],
            "type": "histogram2d"
           }
          ],
          "histogram2dcontour": [
           {
            "colorbar": {
             "outlinewidth": 0,
             "ticks": ""
            },
            "colorscale": [
             [
              0,
              "#0d0887"
             ],
             [
              0.1111111111111111,
              "#46039f"
             ],
             [
              0.2222222222222222,
              "#7201a8"
             ],
             [
              0.3333333333333333,
              "#9c179e"
             ],
             [
              0.4444444444444444,
              "#bd3786"
             ],
             [
              0.5555555555555556,
              "#d8576b"
             ],
             [
              0.6666666666666666,
              "#ed7953"
             ],
             [
              0.7777777777777778,
              "#fb9f3a"
             ],
             [
              0.8888888888888888,
              "#fdca26"
             ],
             [
              1,
              "#f0f921"
             ]
            ],
            "type": "histogram2dcontour"
           }
          ],
          "mesh3d": [
           {
            "colorbar": {
             "outlinewidth": 0,
             "ticks": ""
            },
            "type": "mesh3d"
           }
          ],
          "parcoords": [
           {
            "line": {
             "colorbar": {
              "outlinewidth": 0,
              "ticks": ""
             }
            },
            "type": "parcoords"
           }
          ],
          "pie": [
           {
            "automargin": true,
            "type": "pie"
           }
          ],
          "scatter": [
           {
            "marker": {
             "colorbar": {
              "outlinewidth": 0,
              "ticks": ""
             }
            },
            "type": "scatter"
           }
          ],
          "scatter3d": [
           {
            "line": {
             "colorbar": {
              "outlinewidth": 0,
              "ticks": ""
             }
            },
            "marker": {
             "colorbar": {
              "outlinewidth": 0,
              "ticks": ""
             }
            },
            "type": "scatter3d"
           }
          ],
          "scattercarpet": [
           {
            "marker": {
             "colorbar": {
              "outlinewidth": 0,
              "ticks": ""
             }
            },
            "type": "scattercarpet"
           }
          ],
          "scattergeo": [
           {
            "marker": {
             "colorbar": {
              "outlinewidth": 0,
              "ticks": ""
             }
            },
            "type": "scattergeo"
           }
          ],
          "scattergl": [
           {
            "marker": {
             "colorbar": {
              "outlinewidth": 0,
              "ticks": ""
             }
            },
            "type": "scattergl"
           }
          ],
          "scattermapbox": [
           {
            "marker": {
             "colorbar": {
              "outlinewidth": 0,
              "ticks": ""
             }
            },
            "type": "scattermapbox"
           }
          ],
          "scatterpolar": [
           {
            "marker": {
             "colorbar": {
              "outlinewidth": 0,
              "ticks": ""
             }
            },
            "type": "scatterpolar"
           }
          ],
          "scatterpolargl": [
           {
            "marker": {
             "colorbar": {
              "outlinewidth": 0,
              "ticks": ""
             }
            },
            "type": "scatterpolargl"
           }
          ],
          "scatterternary": [
           {
            "marker": {
             "colorbar": {
              "outlinewidth": 0,
              "ticks": ""
             }
            },
            "type": "scatterternary"
           }
          ],
          "surface": [
           {
            "colorbar": {
             "outlinewidth": 0,
             "ticks": ""
            },
            "colorscale": [
             [
              0,
              "#0d0887"
             ],
             [
              0.1111111111111111,
              "#46039f"
             ],
             [
              0.2222222222222222,
              "#7201a8"
             ],
             [
              0.3333333333333333,
              "#9c179e"
             ],
             [
              0.4444444444444444,
              "#bd3786"
             ],
             [
              0.5555555555555556,
              "#d8576b"
             ],
             [
              0.6666666666666666,
              "#ed7953"
             ],
             [
              0.7777777777777778,
              "#fb9f3a"
             ],
             [
              0.8888888888888888,
              "#fdca26"
             ],
             [
              1,
              "#f0f921"
             ]
            ],
            "type": "surface"
           }
          ],
          "table": [
           {
            "cells": {
             "fill": {
              "color": "#EBF0F8"
             },
             "line": {
              "color": "white"
             }
            },
            "header": {
             "fill": {
              "color": "#C8D4E3"
             },
             "line": {
              "color": "white"
             }
            },
            "type": "table"
           }
          ]
         },
         "layout": {
          "annotationdefaults": {
           "arrowcolor": "#2a3f5f",
           "arrowhead": 0,
           "arrowwidth": 1
          },
          "autotypenumbers": "strict",
          "coloraxis": {
           "colorbar": {
            "outlinewidth": 0,
            "ticks": ""
           }
          },
          "colorscale": {
           "diverging": [
            [
             0,
             "#8e0152"
            ],
            [
             0.1,
             "#c51b7d"
            ],
            [
             0.2,
             "#de77ae"
            ],
            [
             0.3,
             "#f1b6da"
            ],
            [
             0.4,
             "#fde0ef"
            ],
            [
             0.5,
             "#f7f7f7"
            ],
            [
             0.6,
             "#e6f5d0"
            ],
            [
             0.7,
             "#b8e186"
            ],
            [
             0.8,
             "#7fbc41"
            ],
            [
             0.9,
             "#4d9221"
            ],
            [
             1,
             "#276419"
            ]
           ],
           "sequential": [
            [
             0,
             "#0d0887"
            ],
            [
             0.1111111111111111,
             "#46039f"
            ],
            [
             0.2222222222222222,
             "#7201a8"
            ],
            [
             0.3333333333333333,
             "#9c179e"
            ],
            [
             0.4444444444444444,
             "#bd3786"
            ],
            [
             0.5555555555555556,
             "#d8576b"
            ],
            [
             0.6666666666666666,
             "#ed7953"
            ],
            [
             0.7777777777777778,
             "#fb9f3a"
            ],
            [
             0.8888888888888888,
             "#fdca26"
            ],
            [
             1,
             "#f0f921"
            ]
           ],
           "sequentialminus": [
            [
             0,
             "#0d0887"
            ],
            [
             0.1111111111111111,
             "#46039f"
            ],
            [
             0.2222222222222222,
             "#7201a8"
            ],
            [
             0.3333333333333333,
             "#9c179e"
            ],
            [
             0.4444444444444444,
             "#bd3786"
            ],
            [
             0.5555555555555556,
             "#d8576b"
            ],
            [
             0.6666666666666666,
             "#ed7953"
            ],
            [
             0.7777777777777778,
             "#fb9f3a"
            ],
            [
             0.8888888888888888,
             "#fdca26"
            ],
            [
             1,
             "#f0f921"
            ]
           ]
          },
          "colorway": [
           "#636efa",
           "#EF553B",
           "#00cc96",
           "#ab63fa",
           "#FFA15A",
           "#19d3f3",
           "#FF6692",
           "#B6E880",
           "#FF97FF",
           "#FECB52"
          ],
          "font": {
           "color": "#2a3f5f"
          },
          "geo": {
           "bgcolor": "white",
           "lakecolor": "white",
           "landcolor": "#E5ECF6",
           "showlakes": true,
           "showland": true,
           "subunitcolor": "white"
          },
          "hoverlabel": {
           "align": "left"
          },
          "hovermode": "closest",
          "mapbox": {
           "style": "light"
          },
          "paper_bgcolor": "white",
          "plot_bgcolor": "#E5ECF6",
          "polar": {
           "angularaxis": {
            "gridcolor": "white",
            "linecolor": "white",
            "ticks": ""
           },
           "bgcolor": "#E5ECF6",
           "radialaxis": {
            "gridcolor": "white",
            "linecolor": "white",
            "ticks": ""
           }
          },
          "scene": {
           "xaxis": {
            "backgroundcolor": "#E5ECF6",
            "gridcolor": "white",
            "gridwidth": 2,
            "linecolor": "white",
            "showbackground": true,
            "ticks": "",
            "zerolinecolor": "white"
           },
           "yaxis": {
            "backgroundcolor": "#E5ECF6",
            "gridcolor": "white",
            "gridwidth": 2,
            "linecolor": "white",
            "showbackground": true,
            "ticks": "",
            "zerolinecolor": "white"
           },
           "zaxis": {
            "backgroundcolor": "#E5ECF6",
            "gridcolor": "white",
            "gridwidth": 2,
            "linecolor": "white",
            "showbackground": true,
            "ticks": "",
            "zerolinecolor": "white"
           }
          },
          "shapedefaults": {
           "line": {
            "color": "#2a3f5f"
           }
          },
          "ternary": {
           "aaxis": {
            "gridcolor": "white",
            "linecolor": "white",
            "ticks": ""
           },
           "baxis": {
            "gridcolor": "white",
            "linecolor": "white",
            "ticks": ""
           },
           "bgcolor": "#E5ECF6",
           "caxis": {
            "gridcolor": "white",
            "linecolor": "white",
            "ticks": ""
           }
          },
          "title": {
           "x": 0.05
          },
          "xaxis": {
           "automargin": true,
           "gridcolor": "white",
           "linecolor": "white",
           "ticks": "",
           "title": {
            "standoff": 15
           },
           "zerolinecolor": "white",
           "zerolinewidth": 2
          },
          "yaxis": {
           "automargin": true,
           "gridcolor": "white",
           "linecolor": "white",
           "ticks": "",
           "title": {
            "standoff": 15
           },
           "zerolinecolor": "white",
           "zerolinewidth": 2
          }
         }
        },
        "title": {
         "font": {
          "size": 20
         },
         "text": "Poverty impact of a carbon dividend by US state and price"
        },
        "updatemenus": [
         {
          "buttons": [
           {
            "args": [
             null,
             {
              "frame": {
               "duration": 500,
               "redraw": true
              },
              "fromcurrent": true,
              "mode": "immediate",
              "transition": {
               "duration": 500,
               "easing": "linear"
              }
             }
            ],
            "label": "&#9654;",
            "method": "animate"
           },
           {
            "args": [
             [
              null
             ],
             {
              "frame": {
               "duration": 0,
               "redraw": true
              },
              "fromcurrent": true,
              "mode": "immediate",
              "transition": {
               "duration": 0,
               "easing": "linear"
              }
             }
            ],
            "label": "&#9724;",
            "method": "animate"
           }
          ],
          "direction": "left",
          "pad": {
           "r": 10,
           "t": 70
          },
          "showactive": false,
          "type": "buttons",
          "x": 0.1,
          "xanchor": "right",
          "y": 0,
          "yanchor": "top"
         }
        ],
        "width": 800,
        "xaxis": {
         "tickfont": {
          "size": 14
         },
         "title": {
          "font": {
           "color": "black",
           "size": 16
          }
         }
        },
        "yaxis": {
         "tickfont": {
          "size": 14
         },
         "title": {
          "font": {
           "color": "black",
           "size": 16
          }
         }
        }
       }
      }
     },
     "metadata": {}
    }
   ],
   "metadata": {}
  },
  {
   "cell_type": "markdown",
   "source": [
    "Politicians from [Bernie Sanders](https://grist.org/climate-energy/sanders-and-boxer-introduce-fee-and-dividend-climate-bill-greens-tickled-pink/) to [Pete Buttigieg](https://thehill.com/policy/energy-environment/444330-buttigieg-climate-plan-includes-a-carbon-tax) to [Mitt Romney](https://twitter.com/citizensclimate/status/1369059303995437058) have endorsed carbon dividends, primarily framing the dividend as a way to offset potential regressive effects of the carbon price.\n",
    "However, the dividend more than neutralizes the carbon price: it makes a significant reduction to poverty in America. A $20 carbon dividend would cut poverty more than a fully-phased-in $15 minimum wage would,[^mw] while a $100 carbon dividend (as the US would reach within a decade under proposed legislation) would approach the impact of the [expanded Child Tax Credit](http://ubicenter.org/advance-ctc).[^ctc]\n",
    "\n",
    "My estimates may even be conservative. For example, I assume that 100% of the carbon price is passed on to consumers, but [one study finds](https://cowles.yale.edu/sites/default/files/files/pub/d20/d2038-r.pdf) that only 70% is passed on. In his analysis of the EICDA, Ummel applies pass-through rates of 70%, 85%, and 100%, with the remainder borne by people in proportion to their investable assets; he finds that lower pass-through assumptions yield more progressive distributional impacts.\n",
    "\n",
    "Carbon dividends would also create infrastructure for further cash assistance.\n",
    "When the US government had to keep Americans afloat with relief checks in the Covid-19 pandemic, they relied on the IRS, and largely failed to reach nonfilers.\n",
    "Had even a small universal payment program existed at the time, they could have simply increased the amount instead.\n",
    "The carbon dividend is a simple policy that can help the US progress on a slew of objectives: climate change, air pollution, financial resilience, and, yes, even poverty.\n",
    "\n",
    "[^mw]: The Congressional Budget Office [estimated](https://www.cbo.gov/publication/55681) that the Raise the Wage Act of 2021 would reduce the number of people in poverty by 0.7 million by 2028, or about 1.8% of the roughly 40 million people in poverty. A $20 carbon dividend would lower poverty by 2%. CBO applied the Official Poverty Measure rather than Supplemental Poverty Measure.\n",
    "\n",
    "[^ctc]: Carbon dividends may also have greater success fulfilling their theoretical antipoverty potential, since they are universal and thus can be administered outside the tax system. The Child Tax Credit is expected to reach only 90% of eligible children, and the remaining 10% are disproportionately poor children whose parents don't earn enough to have to file taxes.\n"
   ],
   "metadata": {}
  },
  {
   "cell_type": "markdown",
   "source": [
    "# Appendix"
   ],
   "metadata": {}
  },
  {
   "cell_type": "code",
   "execution_count": 5,
   "source": [
    "carbon_price = pd.read_csv(\"../data/carbon_price.csv\")\n",
    "\n",
    "carbon_price_long_us = carbon_price[carbon_price.state_abbr == \"US\"].melt(\n",
    "    [\"age_group\", \"price\"],\n",
    "    [\"poverty_chg\", \"deep_poverty_chg\"],\n",
    "    var_name=\"metric\",\n",
    "    value_name=\"impact\",\n",
    ")\n",
    "carbon_price_long_us.metric = carbon_price_long_us.metric.map(\n",
    "    dict(poverty_chg=\"Poverty\", deep_poverty_chg=\"Deep poverty\")\n",
    ")\n",
    "\n",
    "# Overall poverty and deep poverty.\n",
    "fig = px.line(\n",
    "    carbon_price_long_us[carbon_price_long_us.age_group == \"All\"],\n",
    "    \"price\",\n",
    "    \"impact\",\n",
    "    color=\"metric\",\n",
    "    title=\"Carbon dividend poverty impact by carbon price\",\n",
    "    labels=LABELS,\n",
    "    color_discrete_map={\"Poverty\": BLUE, \"Deep poverty\": DARK_BLUE},\n",
    ")\n",
    "fig.update_layout(xaxis_tickformat=\"$\", yaxis_tickformat=\"%\", legend_title=None)\n",
    "format_fig(fig)"
   ],
   "outputs": [
    {
     "output_type": "display_data",
     "data": {
      "application/vnd.plotly.v1+json": {
       "config": {
        "displayModeBar": false,
        "plotlyServerURL": "https://plot.ly"
       },
       "data": [
        {
         "hovertemplate": "Metric=Poverty<br>Carbon price=%{x}<br>Poverty impact=%{y}<extra></extra>",
         "legendgroup": "Poverty",
         "line": {
          "color": "#2196F3",
          "dash": "solid"
         },
         "marker": {
          "symbol": "circle"
         },
         "mode": "lines",
         "name": "Poverty",
         "orientation": "v",
         "showlegend": true,
         "type": "scatter",
         "x": [
          0,
          5,
          10,
          15,
          20,
          25,
          30,
          35,
          40,
          45,
          50,
          55,
          60,
          65,
          70,
          75,
          80,
          85,
          90,
          95,
          100,
          105,
          110,
          115,
          120,
          125,
          130,
          135,
          140,
          145,
          150,
          155,
          160,
          165,
          170,
          175,
          180,
          185,
          190,
          195,
          200,
          205,
          210,
          215,
          220,
          225,
          230,
          235,
          240,
          245,
          250,
          255,
          260,
          265,
          270,
          275,
          280,
          285,
          290,
          295,
          300,
          305,
          310,
          315,
          320,
          325,
          330,
          335,
          340,
          345,
          350,
          355,
          360,
          365,
          370,
          375,
          380,
          385,
          390,
          395,
          400
         ],
         "xaxis": "x",
         "y": [
          0,
          -0.0050524591240492,
          -0.0105729312530989,
          -0.0159179215062176,
          -0.0218700549246212,
          -0.0265034470545018,
          -0.0318788394455119,
          -0.0370873369800343,
          -0.0422015408629471,
          -0.0469785202251088,
          -0.0526431520544011,
          -0.0574329710551602,
          -0.0627424682945773,
          -0.0675399542769833,
          -0.0725709458524213,
          -0.0775023280023065,
          -0.0825383695629903,
          -0.0871913278300343,
          -0.0920462855068653,
          -0.0970845556035475,
          -0.1019938568462887,
          -0.1074236950296325,
          -0.11168277489288,
          -0.1158554325390045,
          -0.120725008594175,
          -0.1251883777390594,
          -0.1295363332535553,
          -0.13381546994079,
          -0.1384420946815397,
          -0.1431723361235823,
          -0.1473350982520632,
          -0.1514225195075607,
          -0.155567044442364,
          -0.1596591476679886,
          -0.164273607464524,
          -0.1683910015069397,
          -0.1731568177438245,
          -0.1767338429197796,
          -0.1807409959887579,
          -0.1854796199974013,
          -0.1888300705317327,
          -0.1927604311125372,
          -0.1966087243217963,
          -0.20035288969765,
          -0.2038666980542668,
          -0.2071600857998617,
          -0.2106848323836292,
          -0.2142768439530428,
          -0.2176199546302784,
          -0.2217184981204848,
          -0.2254537697976285,
          -0.2289577235271691,
          -0.2322982376532871,
          -0.2352775653853487,
          -0.2386940950788315,
          -0.2422101524167321,
          -0.2455160731216602,
          -0.2486048444610678,
          -0.2516306034339817,
          -0.2541075087474121,
          -0.257123453983818,
          -0.2599943399274687,
          -0.2629203668031226,
          -0.2655395917412008,
          -0.2678939480199909,
          -0.2704653514378776,
          -0.2729256756256673,
          -0.2754652048451886,
          -0.2785646486230488,
          -0.2811531238534029,
          -0.2835510899237988,
          -0.2861221457718522,
          -0.2886506140925176,
          -0.2908969783791522,
          -0.2930978314627325,
          -0.2950056831757019,
          -0.2967372352013649,
          -0.2986194076371398,
          -0.3008479231905006,
          -0.3026831328080287,
          -0.3047282132698317
         ],
         "yaxis": "y"
        },
        {
         "hovertemplate": "Metric=Deep poverty<br>Carbon price=%{x}<br>Poverty impact=%{y}<extra></extra>",
         "legendgroup": "Deep poverty",
         "line": {
          "color": "#0D47A1",
          "dash": "solid"
         },
         "marker": {
          "symbol": "circle"
         },
         "mode": "lines",
         "name": "Deep poverty",
         "orientation": "v",
         "showlegend": true,
         "type": "scatter",
         "x": [
          0,
          5,
          10,
          15,
          20,
          25,
          30,
          35,
          40,
          45,
          50,
          55,
          60,
          65,
          70,
          75,
          80,
          85,
          90,
          95,
          100,
          105,
          110,
          115,
          120,
          125,
          130,
          135,
          140,
          145,
          150,
          155,
          160,
          165,
          170,
          175,
          180,
          185,
          190,
          195,
          200,
          205,
          210,
          215,
          220,
          225,
          230,
          235,
          240,
          245,
          250,
          255,
          260,
          265,
          270,
          275,
          280,
          285,
          290,
          295,
          300,
          305,
          310,
          315,
          320,
          325,
          330,
          335,
          340,
          345,
          350,
          355,
          360,
          365,
          370,
          375,
          380,
          385,
          390,
          395,
          400
         ],
         "xaxis": "x",
         "y": [
          0,
          -0.0069954337656609,
          -0.0131780494449642,
          -0.0197802913975282,
          -0.0263663512486918,
          -0.0333374010259444,
          -0.0396486976622627,
          -0.0455796594975519,
          -0.0515909776582815,
          -0.0588980831303365,
          -0.0657063697849569,
          -0.0719781532764206,
          -0.077274798904139,
          -0.0835005853265579,
          -0.0881868553898699,
          -0.0928614322223765,
          -0.0984827174048694,
          -0.1032189192262649,
          -0.1089271554946987,
          -0.113395743043304,
          -0.1199109230736148,
          -0.1240217864286258,
          -0.1293593306550844,
          -0.1338525238647201,
          -0.1385663367513027,
          -0.1429117297402851,
          -0.1474192208340338,
          -0.1516228541813103,
          -0.1557462420394594,
          -0.1598714586967375,
          -0.1641416492487403,
          -0.1676613671392943,
          -0.1713942786739622,
          -0.1757148443292923,
          -0.1786702391426409,
          -0.1827068975874695,
          -0.1864185285504364,
          -0.1891846703628363,
          -0.1934144610794971,
          -0.1966962688285956,
          -0.201069925076871,
          -0.2040243223634201,
          -0.2074078778459714,
          -0.2104002365690217,
          -0.2138997822509835,
          -0.2170707536891312,
          -0.2190585475078784,
          -0.2214103277717889,
          -0.223404217587638,
          -0.2251746059824554,
          -0.227703558089422,
          -0.2299483813132643,
          -0.2326276828760333,
          -0.2352651991495746,
          -0.237032040782442,
          -0.2387235691420179,
          -0.2410713038805784,
          -0.2424808646650949,
          -0.2438674823332458,
          -0.2451740761848896,
          -0.2467004030229936,
          -0.2479534075182929,
          -0.2486247430537222,
          -0.2505733008183927,
          -0.2521885183778793,
          -0.2535863305134362,
          -0.2543294325602057,
          -0.2559701978893667,
          -0.2575044495237031,
          -0.2582918306766977,
          -0.2593052070677214,
          -0.2600414926813675,
          -0.2611093451192235,
          -0.2624742388704273,
          -0.2620643107743754,
          -0.2629458473735232,
          -0.2636859568398971,
          -0.2644818723888354,
          -0.2647907731874551,
          -0.2652974059648112,
          -0.2661656976247996
         ],
         "yaxis": "y"
        }
       ],
       "layout": {
        "font": {
         "family": "Roboto"
        },
        "height": 600,
        "hoverlabel": {
         "align": "right"
        },
        "images": [
         {
          "sizex": 0.12,
          "sizey": 0.12,
          "source": "https://raw.githubusercontent.com/UBICenter/ubicenter.org/master/assets/images/logos/wide-blue.jpg",
          "x": 0.98,
          "xanchor": "right",
          "xref": "paper",
          "y": -0.12,
          "yanchor": "bottom",
          "yref": "paper"
         }
        ],
        "legend": {
         "title": {},
         "tracegroupgap": 0
        },
        "paper_bgcolor": "white",
        "plot_bgcolor": "white",
        "template": {
         "data": {
          "bar": [
           {
            "error_x": {
             "color": "#2a3f5f"
            },
            "error_y": {
             "color": "#2a3f5f"
            },
            "marker": {
             "line": {
              "color": "#E5ECF6",
              "width": 0.5
             },
             "pattern": {
              "fillmode": "overlay",
              "size": 10,
              "solidity": 0.2
             }
            },
            "type": "bar"
           }
          ],
          "barpolar": [
           {
            "marker": {
             "line": {
              "color": "#E5ECF6",
              "width": 0.5
             },
             "pattern": {
              "fillmode": "overlay",
              "size": 10,
              "solidity": 0.2
             }
            },
            "type": "barpolar"
           }
          ],
          "carpet": [
           {
            "aaxis": {
             "endlinecolor": "#2a3f5f",
             "gridcolor": "white",
             "linecolor": "white",
             "minorgridcolor": "white",
             "startlinecolor": "#2a3f5f"
            },
            "baxis": {
             "endlinecolor": "#2a3f5f",
             "gridcolor": "white",
             "linecolor": "white",
             "minorgridcolor": "white",
             "startlinecolor": "#2a3f5f"
            },
            "type": "carpet"
           }
          ],
          "choropleth": [
           {
            "colorbar": {
             "outlinewidth": 0,
             "ticks": ""
            },
            "type": "choropleth"
           }
          ],
          "contour": [
           {
            "colorbar": {
             "outlinewidth": 0,
             "ticks": ""
            },
            "colorscale": [
             [
              0,
              "#0d0887"
             ],
             [
              0.1111111111111111,
              "#46039f"
             ],
             [
              0.2222222222222222,
              "#7201a8"
             ],
             [
              0.3333333333333333,
              "#9c179e"
             ],
             [
              0.4444444444444444,
              "#bd3786"
             ],
             [
              0.5555555555555556,
              "#d8576b"
             ],
             [
              0.6666666666666666,
              "#ed7953"
             ],
             [
              0.7777777777777778,
              "#fb9f3a"
             ],
             [
              0.8888888888888888,
              "#fdca26"
             ],
             [
              1,
              "#f0f921"
             ]
            ],
            "type": "contour"
           }
          ],
          "contourcarpet": [
           {
            "colorbar": {
             "outlinewidth": 0,
             "ticks": ""
            },
            "type": "contourcarpet"
           }
          ],
          "heatmap": [
           {
            "colorbar": {
             "outlinewidth": 0,
             "ticks": ""
            },
            "colorscale": [
             [
              0,
              "#0d0887"
             ],
             [
              0.1111111111111111,
              "#46039f"
             ],
             [
              0.2222222222222222,
              "#7201a8"
             ],
             [
              0.3333333333333333,
              "#9c179e"
             ],
             [
              0.4444444444444444,
              "#bd3786"
             ],
             [
              0.5555555555555556,
              "#d8576b"
             ],
             [
              0.6666666666666666,
              "#ed7953"
             ],
             [
              0.7777777777777778,
              "#fb9f3a"
             ],
             [
              0.8888888888888888,
              "#fdca26"
             ],
             [
              1,
              "#f0f921"
             ]
            ],
            "type": "heatmap"
           }
          ],
          "heatmapgl": [
           {
            "colorbar": {
             "outlinewidth": 0,
             "ticks": ""
            },
            "colorscale": [
             [
              0,
              "#0d0887"
             ],
             [
              0.1111111111111111,
              "#46039f"
             ],
             [
              0.2222222222222222,
              "#7201a8"
             ],
             [
              0.3333333333333333,
              "#9c179e"
             ],
             [
              0.4444444444444444,
              "#bd3786"
             ],
             [
              0.5555555555555556,
              "#d8576b"
             ],
             [
              0.6666666666666666,
              "#ed7953"
             ],
             [
              0.7777777777777778,
              "#fb9f3a"
             ],
             [
              0.8888888888888888,
              "#fdca26"
             ],
             [
              1,
              "#f0f921"
             ]
            ],
            "type": "heatmapgl"
           }
          ],
          "histogram": [
           {
            "marker": {
             "pattern": {
              "fillmode": "overlay",
              "size": 10,
              "solidity": 0.2
             }
            },
            "type": "histogram"
           }
          ],
          "histogram2d": [
           {
            "colorbar": {
             "outlinewidth": 0,
             "ticks": ""
            },
            "colorscale": [
             [
              0,
              "#0d0887"
             ],
             [
              0.1111111111111111,
              "#46039f"
             ],
             [
              0.2222222222222222,
              "#7201a8"
             ],
             [
              0.3333333333333333,
              "#9c179e"
             ],
             [
              0.4444444444444444,
              "#bd3786"
             ],
             [
              0.5555555555555556,
              "#d8576b"
             ],
             [
              0.6666666666666666,
              "#ed7953"
             ],
             [
              0.7777777777777778,
              "#fb9f3a"
             ],
             [
              0.8888888888888888,
              "#fdca26"
             ],
             [
              1,
              "#f0f921"
             ]
            ],
            "type": "histogram2d"
           }
          ],
          "histogram2dcontour": [
           {
            "colorbar": {
             "outlinewidth": 0,
             "ticks": ""
            },
            "colorscale": [
             [
              0,
              "#0d0887"
             ],
             [
              0.1111111111111111,
              "#46039f"
             ],
             [
              0.2222222222222222,
              "#7201a8"
             ],
             [
              0.3333333333333333,
              "#9c179e"
             ],
             [
              0.4444444444444444,
              "#bd3786"
             ],
             [
              0.5555555555555556,
              "#d8576b"
             ],
             [
              0.6666666666666666,
              "#ed7953"
             ],
             [
              0.7777777777777778,
              "#fb9f3a"
             ],
             [
              0.8888888888888888,
              "#fdca26"
             ],
             [
              1,
              "#f0f921"
             ]
            ],
            "type": "histogram2dcontour"
           }
          ],
          "mesh3d": [
           {
            "colorbar": {
             "outlinewidth": 0,
             "ticks": ""
            },
            "type": "mesh3d"
           }
          ],
          "parcoords": [
           {
            "line": {
             "colorbar": {
              "outlinewidth": 0,
              "ticks": ""
             }
            },
            "type": "parcoords"
           }
          ],
          "pie": [
           {
            "automargin": true,
            "type": "pie"
           }
          ],
          "scatter": [
           {
            "marker": {
             "colorbar": {
              "outlinewidth": 0,
              "ticks": ""
             }
            },
            "type": "scatter"
           }
          ],
          "scatter3d": [
           {
            "line": {
             "colorbar": {
              "outlinewidth": 0,
              "ticks": ""
             }
            },
            "marker": {
             "colorbar": {
              "outlinewidth": 0,
              "ticks": ""
             }
            },
            "type": "scatter3d"
           }
          ],
          "scattercarpet": [
           {
            "marker": {
             "colorbar": {
              "outlinewidth": 0,
              "ticks": ""
             }
            },
            "type": "scattercarpet"
           }
          ],
          "scattergeo": [
           {
            "marker": {
             "colorbar": {
              "outlinewidth": 0,
              "ticks": ""
             }
            },
            "type": "scattergeo"
           }
          ],
          "scattergl": [
           {
            "marker": {
             "colorbar": {
              "outlinewidth": 0,
              "ticks": ""
             }
            },
            "type": "scattergl"
           }
          ],
          "scattermapbox": [
           {
            "marker": {
             "colorbar": {
              "outlinewidth": 0,
              "ticks": ""
             }
            },
            "type": "scattermapbox"
           }
          ],
          "scatterpolar": [
           {
            "marker": {
             "colorbar": {
              "outlinewidth": 0,
              "ticks": ""
             }
            },
            "type": "scatterpolar"
           }
          ],
          "scatterpolargl": [
           {
            "marker": {
             "colorbar": {
              "outlinewidth": 0,
              "ticks": ""
             }
            },
            "type": "scatterpolargl"
           }
          ],
          "scatterternary": [
           {
            "marker": {
             "colorbar": {
              "outlinewidth": 0,
              "ticks": ""
             }
            },
            "type": "scatterternary"
           }
          ],
          "surface": [
           {
            "colorbar": {
             "outlinewidth": 0,
             "ticks": ""
            },
            "colorscale": [
             [
              0,
              "#0d0887"
             ],
             [
              0.1111111111111111,
              "#46039f"
             ],
             [
              0.2222222222222222,
              "#7201a8"
             ],
             [
              0.3333333333333333,
              "#9c179e"
             ],
             [
              0.4444444444444444,
              "#bd3786"
             ],
             [
              0.5555555555555556,
              "#d8576b"
             ],
             [
              0.6666666666666666,
              "#ed7953"
             ],
             [
              0.7777777777777778,
              "#fb9f3a"
             ],
             [
              0.8888888888888888,
              "#fdca26"
             ],
             [
              1,
              "#f0f921"
             ]
            ],
            "type": "surface"
           }
          ],
          "table": [
           {
            "cells": {
             "fill": {
              "color": "#EBF0F8"
             },
             "line": {
              "color": "white"
             }
            },
            "header": {
             "fill": {
              "color": "#C8D4E3"
             },
             "line": {
              "color": "white"
             }
            },
            "type": "table"
           }
          ]
         },
         "layout": {
          "annotationdefaults": {
           "arrowcolor": "#2a3f5f",
           "arrowhead": 0,
           "arrowwidth": 1
          },
          "autotypenumbers": "strict",
          "coloraxis": {
           "colorbar": {
            "outlinewidth": 0,
            "ticks": ""
           }
          },
          "colorscale": {
           "diverging": [
            [
             0,
             "#8e0152"
            ],
            [
             0.1,
             "#c51b7d"
            ],
            [
             0.2,
             "#de77ae"
            ],
            [
             0.3,
             "#f1b6da"
            ],
            [
             0.4,
             "#fde0ef"
            ],
            [
             0.5,
             "#f7f7f7"
            ],
            [
             0.6,
             "#e6f5d0"
            ],
            [
             0.7,
             "#b8e186"
            ],
            [
             0.8,
             "#7fbc41"
            ],
            [
             0.9,
             "#4d9221"
            ],
            [
             1,
             "#276419"
            ]
           ],
           "sequential": [
            [
             0,
             "#0d0887"
            ],
            [
             0.1111111111111111,
             "#46039f"
            ],
            [
             0.2222222222222222,
             "#7201a8"
            ],
            [
             0.3333333333333333,
             "#9c179e"
            ],
            [
             0.4444444444444444,
             "#bd3786"
            ],
            [
             0.5555555555555556,
             "#d8576b"
            ],
            [
             0.6666666666666666,
             "#ed7953"
            ],
            [
             0.7777777777777778,
             "#fb9f3a"
            ],
            [
             0.8888888888888888,
             "#fdca26"
            ],
            [
             1,
             "#f0f921"
            ]
           ],
           "sequentialminus": [
            [
             0,
             "#0d0887"
            ],
            [
             0.1111111111111111,
             "#46039f"
            ],
            [
             0.2222222222222222,
             "#7201a8"
            ],
            [
             0.3333333333333333,
             "#9c179e"
            ],
            [
             0.4444444444444444,
             "#bd3786"
            ],
            [
             0.5555555555555556,
             "#d8576b"
            ],
            [
             0.6666666666666666,
             "#ed7953"
            ],
            [
             0.7777777777777778,
             "#fb9f3a"
            ],
            [
             0.8888888888888888,
             "#fdca26"
            ],
            [
             1,
             "#f0f921"
            ]
           ]
          },
          "colorway": [
           "#636efa",
           "#EF553B",
           "#00cc96",
           "#ab63fa",
           "#FFA15A",
           "#19d3f3",
           "#FF6692",
           "#B6E880",
           "#FF97FF",
           "#FECB52"
          ],
          "font": {
           "color": "#2a3f5f"
          },
          "geo": {
           "bgcolor": "white",
           "lakecolor": "white",
           "landcolor": "#E5ECF6",
           "showlakes": true,
           "showland": true,
           "subunitcolor": "white"
          },
          "hoverlabel": {
           "align": "left"
          },
          "hovermode": "closest",
          "mapbox": {
           "style": "light"
          },
          "paper_bgcolor": "white",
          "plot_bgcolor": "#E5ECF6",
          "polar": {
           "angularaxis": {
            "gridcolor": "white",
            "linecolor": "white",
            "ticks": ""
           },
           "bgcolor": "#E5ECF6",
           "radialaxis": {
            "gridcolor": "white",
            "linecolor": "white",
            "ticks": ""
           }
          },
          "scene": {
           "xaxis": {
            "backgroundcolor": "#E5ECF6",
            "gridcolor": "white",
            "gridwidth": 2,
            "linecolor": "white",
            "showbackground": true,
            "ticks": "",
            "zerolinecolor": "white"
           },
           "yaxis": {
            "backgroundcolor": "#E5ECF6",
            "gridcolor": "white",
            "gridwidth": 2,
            "linecolor": "white",
            "showbackground": true,
            "ticks": "",
            "zerolinecolor": "white"
           },
           "zaxis": {
            "backgroundcolor": "#E5ECF6",
            "gridcolor": "white",
            "gridwidth": 2,
            "linecolor": "white",
            "showbackground": true,
            "ticks": "",
            "zerolinecolor": "white"
           }
          },
          "shapedefaults": {
           "line": {
            "color": "#2a3f5f"
           }
          },
          "ternary": {
           "aaxis": {
            "gridcolor": "white",
            "linecolor": "white",
            "ticks": ""
           },
           "baxis": {
            "gridcolor": "white",
            "linecolor": "white",
            "ticks": ""
           },
           "bgcolor": "#E5ECF6",
           "caxis": {
            "gridcolor": "white",
            "linecolor": "white",
            "ticks": ""
           }
          },
          "title": {
           "x": 0.05
          },
          "xaxis": {
           "automargin": true,
           "gridcolor": "white",
           "linecolor": "white",
           "ticks": "",
           "title": {
            "standoff": 15
           },
           "zerolinecolor": "white",
           "zerolinewidth": 2
          },
          "yaxis": {
           "automargin": true,
           "gridcolor": "white",
           "linecolor": "white",
           "ticks": "",
           "title": {
            "standoff": 15
           },
           "zerolinecolor": "white",
           "zerolinewidth": 2
          }
         }
        },
        "title": {
         "font": {
          "size": 20
         },
         "text": "Carbon dividend poverty impact by carbon price"
        },
        "width": 800,
        "xaxis": {
         "anchor": "y",
         "domain": [
          0,
          1
         ],
         "tickfont": {
          "size": 14
         },
         "tickformat": "$",
         "title": {
          "font": {
           "color": "black",
           "size": 16
          },
          "text": "Carbon price"
         }
        },
        "yaxis": {
         "anchor": "x",
         "domain": [
          0,
          1
         ],
         "tickfont": {
          "size": 14
         },
         "tickformat": "%",
         "title": {
          "font": {
           "color": "black",
           "size": 16
          },
          "text": "Poverty impact"
         }
        }
       }
      }
     },
     "metadata": {}
    }
   ],
   "metadata": {}
  }
 ],
 "metadata": {
  "interpreter": {
   "hash": "4a68920d8e8856d089b03c157a7384bba62e0986489c1fa381bbe538cda0922c"
  },
  "kernelspec": {
   "name": "python3",
   "display_name": "Python 3.8.11 64-bit ('base': conda)"
  },
  "language_info": {
   "codemirror_mode": {
    "name": "ipython",
    "version": 3
   },
   "file_extension": ".py",
   "mimetype": "text/x-python",
   "name": "python",
   "nbconvert_exporter": "python",
   "pygments_lexer": "ipython3",
   "version": "3.8.11"
  }
 },
 "nbformat": 4,
 "nbformat_minor": 4
}