{
 "cells": [
  {
   "cell_type": "markdown",
   "metadata": {},
   "source": [
    "Using data from Kevin Ummel and the American Community Survey Supplemental Poverty Measure research file."
   ]
  },
  {
   "cell_type": "code",
   "execution_count": 1,
   "metadata": {},
   "outputs": [],
   "source": [
    "import numpy as np\n",
    "import pandas as pd\n",
    "import plotly.express as px\n",
    "import microdf as mdf\n",
    "from ubicenter import format_fig\n",
    "import pyreadr\n",
    "\n",
    "c = pd.read_csv(\"../data/carbon_footprint_2018.csv\")\n",
    "cuid_sporder = pd.DataFrame(list(pyreadr.read_r('../data/CUID-SPORDER.rds').values())[0])\n",
    "p = pd.read_csv(\"../data/acs_poverty.csv.gz\")"
   ]
  },
  {
   "cell_type": "code",
   "execution_count": 5,
   "metadata": {},
   "outputs": [],
   "source": [
    "# Per Kevin Ummel, serialno is first 13 characters of CUID\n",
    "def cuid2serialno(cuid):\n",
    "    return cuid.str[6:13].astype(int)\n",
    "\n",
    "cuid_sporder[\"serialno\"] = cuid2serialno(cuid_sporder.CUID)\n",
    "c[\"serialno\"] = cuid2serialno(c.CUID)\n",
    "ch = c.drop(columns=\"CUID\").groupby(\"serialno\").sum().reset_index()\n",
    "# Columns to rename as they're aggregated to household.\n",
    "ch_cols = ch.columns.drop(\"serialno\")\n",
    "ch.rename(columns=dict(zip(ch_cols, [i + \"_hh\" for i in ch_cols])), inplace=True)\n",
    "# Assign emissions equally across household members.\n",
    "p_per_h = p.groupby(\"serialno\").size().reset_index().rename(columns={0: \"people_in_hh\"})\n",
    "p = p.merge(p_per_h, on=\"serialno\").merge(ch, on=\"serialno\")\n",
    "for i in ch_cols:\n",
    "    p[i] = p[i + \"_hh\"] / p.people_in_hh\n",
    "\n",
    "SPMU_COLS = [\"id\", \"povthreshold\", \"resources\"]\n",
    "# EICDA gives full dividend credit to adults and half to kids.\n",
    "p[\"credits\"] = np.where(p.age < 18, 0.5, 1)\n",
    "s = p.groupby([\"spm_\" + i for i in SPMU_COLS])[[\"credits\", \"tco2\"]].sum().reset_index()\n",
    "PRICE = 15\n",
    "total_co2 = mdf.weighted_sum(p, \"tco2\", \"wt\")\n",
    "total_credits = mdf.weighted_sum(p, \"credits\", \"wt\")\n",
    "co2_per_credit = total_co2 / total_credits\n",
    "s[\"co2_tax\"] = s.tco2 * 15\n",
    "s[\"dividend\"] = s.credits * co2_per_credit * PRICE\n",
    "s[\"spm_resources_new\"] = s.spm_resources + s.dividend - s.co2_tax\n",
    "# Merge back to person.\n",
    "p = p.merge(s[[\"spm_id\", \"spm_resources_new\"]], on=\"spm_id\")"
   ]
  },
  {
   "cell_type": "code",
   "execution_count": 6,
   "metadata": {},
   "outputs": [
    {
     "output_type": "execute_result",
     "data": {
      "text/plain": [
       "          serialno  sporder     wt   age        spm_id  spm_povthreshold  \\\n",
       "0              1.0      1.0   95.0  31.0  1.001000e+03      13257.998717   \n",
       "1              2.0      1.0   64.0  69.0  2.001000e+03      15260.377969   \n",
       "2              2.0      2.0   65.0  71.0  2.001000e+03      15260.377969   \n",
       "3              3.0      1.0   19.0  58.0  3.001000e+03      15946.591880   \n",
       "4              3.0      2.0   17.0  59.0  3.001000e+03      15946.591880   \n",
       "...            ...      ...    ...   ...           ...               ...   \n",
       "3061059  1400926.0      2.0  126.0  66.0  1.400926e+09      25706.194000   \n",
       "3061060  1400926.0      3.0  112.0  42.0  1.400926e+09      25706.194000   \n",
       "3061061  1400927.0      1.0   93.0  27.0  1.400927e+09      34619.753000   \n",
       "3061062  1400927.0      2.0   69.0  56.0  1.400927e+09      34619.753000   \n",
       "3061063  1400927.0      3.0   80.0  54.0  1.400927e+09      34619.753000   \n",
       "\n",
       "         spm_resources  people_in_hh  tco2_hh  tco2_direct_hh  \\\n",
       "0         84922.922400             1    55.80           15.08   \n",
       "1         98005.314955             2    68.60           23.55   \n",
       "2         98005.314955             2    68.60           23.55   \n",
       "3         41795.643698             2    30.23           16.52   \n",
       "4         41795.643698             2    30.23           16.52   \n",
       "...                ...           ...      ...             ...   \n",
       "3061059   97274.729642             3    86.40           39.80   \n",
       "3061060   97274.729642             3    86.40           39.80   \n",
       "3061061   44792.800734             3    37.35            7.78   \n",
       "3061062   44792.800734             3    37.35            7.78   \n",
       "3061063   44792.800734             3    37.35            7.78   \n",
       "\n",
       "         invest_assets_hh    tco2  tco2_direct  invest_assets  credits  \\\n",
       "0                  0.4840  55.800    15.080000       0.484000      1.0   \n",
       "1                  1.0080  34.300    11.775000       0.504000      1.0   \n",
       "2                  1.0080  34.300    11.775000       0.504000      1.0   \n",
       "3                  0.7650  15.115     8.260000       0.382500      1.0   \n",
       "4                  0.7650  15.115     8.260000       0.382500      1.0   \n",
       "...                   ...     ...          ...            ...      ...   \n",
       "3061059            0.4790  28.800    13.266667       0.159667      1.0   \n",
       "3061060            0.4790  28.800    13.266667       0.159667      1.0   \n",
       "3061061            0.1124  12.450     2.593333       0.037467      1.0   \n",
       "3061062            0.1124  12.450     2.593333       0.037467      1.0   \n",
       "3061063            0.1124  12.450     2.593333       0.037467      1.0   \n",
       "\n",
       "         spm_resources_new  \n",
       "0             84451.387791  \n",
       "1             97707.245737  \n",
       "2             97707.245737  \n",
       "3             42073.124480  \n",
       "4             42073.124480  \n",
       "...                    ...  \n",
       "3061059       97075.125815  \n",
       "3061060       97075.125815  \n",
       "3061061       45328.946907  \n",
       "3061062       45328.946907  \n",
       "3061063       45328.946907  \n",
       "\n",
       "[3061064 rows x 16 columns]"
      ],
      "text/html": "<div>\n<style scoped>\n    .dataframe tbody tr th:only-of-type {\n        vertical-align: middle;\n    }\n\n    .dataframe tbody tr th {\n        vertical-align: top;\n    }\n\n    .dataframe thead th {\n        text-align: right;\n    }\n</style>\n<table border=\"1\" class=\"dataframe\">\n  <thead>\n    <tr style=\"text-align: right;\">\n      <th></th>\n      <th>serialno</th>\n      <th>sporder</th>\n      <th>wt</th>\n      <th>age</th>\n      <th>spm_id</th>\n      <th>spm_povthreshold</th>\n      <th>spm_resources</th>\n      <th>people_in_hh</th>\n      <th>tco2_hh</th>\n      <th>tco2_direct_hh</th>\n      <th>invest_assets_hh</th>\n      <th>tco2</th>\n      <th>tco2_direct</th>\n      <th>invest_assets</th>\n      <th>credits</th>\n      <th>spm_resources_new</th>\n    </tr>\n  </thead>\n  <tbody>\n    <tr>\n      <th>0</th>\n      <td>1.0</td>\n      <td>1.0</td>\n      <td>95.0</td>\n      <td>31.0</td>\n      <td>1.001000e+03</td>\n      <td>13257.998717</td>\n      <td>84922.922400</td>\n      <td>1</td>\n      <td>55.80</td>\n      <td>15.08</td>\n      <td>0.4840</td>\n      <td>55.800</td>\n      <td>15.080000</td>\n      <td>0.484000</td>\n      <td>1.0</td>\n      <td>84451.387791</td>\n    </tr>\n    <tr>\n      <th>1</th>\n      <td>2.0</td>\n      <td>1.0</td>\n      <td>64.0</td>\n      <td>69.0</td>\n      <td>2.001000e+03</td>\n      <td>15260.377969</td>\n      <td>98005.314955</td>\n      <td>2</td>\n      <td>68.60</td>\n      <td>23.55</td>\n      <td>1.0080</td>\n      <td>34.300</td>\n      <td>11.775000</td>\n      <td>0.504000</td>\n      <td>1.0</td>\n      <td>97707.245737</td>\n    </tr>\n    <tr>\n      <th>2</th>\n      <td>2.0</td>\n      <td>2.0</td>\n      <td>65.0</td>\n      <td>71.0</td>\n      <td>2.001000e+03</td>\n      <td>15260.377969</td>\n      <td>98005.314955</td>\n      <td>2</td>\n      <td>68.60</td>\n      <td>23.55</td>\n      <td>1.0080</td>\n      <td>34.300</td>\n      <td>11.775000</td>\n      <td>0.504000</td>\n      <td>1.0</td>\n      <td>97707.245737</td>\n    </tr>\n    <tr>\n      <th>3</th>\n      <td>3.0</td>\n      <td>1.0</td>\n      <td>19.0</td>\n      <td>58.0</td>\n      <td>3.001000e+03</td>\n      <td>15946.591880</td>\n      <td>41795.643698</td>\n      <td>2</td>\n      <td>30.23</td>\n      <td>16.52</td>\n      <td>0.7650</td>\n      <td>15.115</td>\n      <td>8.260000</td>\n      <td>0.382500</td>\n      <td>1.0</td>\n      <td>42073.124480</td>\n    </tr>\n    <tr>\n      <th>4</th>\n      <td>3.0</td>\n      <td>2.0</td>\n      <td>17.0</td>\n      <td>59.0</td>\n      <td>3.001000e+03</td>\n      <td>15946.591880</td>\n      <td>41795.643698</td>\n      <td>2</td>\n      <td>30.23</td>\n      <td>16.52</td>\n      <td>0.7650</td>\n      <td>15.115</td>\n      <td>8.260000</td>\n      <td>0.382500</td>\n      <td>1.0</td>\n      <td>42073.124480</td>\n    </tr>\n    <tr>\n      <th>...</th>\n      <td>...</td>\n      <td>...</td>\n      <td>...</td>\n      <td>...</td>\n      <td>...</td>\n      <td>...</td>\n      <td>...</td>\n      <td>...</td>\n      <td>...</td>\n      <td>...</td>\n      <td>...</td>\n      <td>...</td>\n      <td>...</td>\n      <td>...</td>\n      <td>...</td>\n      <td>...</td>\n    </tr>\n    <tr>\n      <th>3061059</th>\n      <td>1400926.0</td>\n      <td>2.0</td>\n      <td>126.0</td>\n      <td>66.0</td>\n      <td>1.400926e+09</td>\n      <td>25706.194000</td>\n      <td>97274.729642</td>\n      <td>3</td>\n      <td>86.40</td>\n      <td>39.80</td>\n      <td>0.4790</td>\n      <td>28.800</td>\n      <td>13.266667</td>\n      <td>0.159667</td>\n      <td>1.0</td>\n      <td>97075.125815</td>\n    </tr>\n    <tr>\n      <th>3061060</th>\n      <td>1400926.0</td>\n      <td>3.0</td>\n      <td>112.0</td>\n      <td>42.0</td>\n      <td>1.400926e+09</td>\n      <td>25706.194000</td>\n      <td>97274.729642</td>\n      <td>3</td>\n      <td>86.40</td>\n      <td>39.80</td>\n      <td>0.4790</td>\n      <td>28.800</td>\n      <td>13.266667</td>\n      <td>0.159667</td>\n      <td>1.0</td>\n      <td>97075.125815</td>\n    </tr>\n    <tr>\n      <th>3061061</th>\n      <td>1400927.0</td>\n      <td>1.0</td>\n      <td>93.0</td>\n      <td>27.0</td>\n      <td>1.400927e+09</td>\n      <td>34619.753000</td>\n      <td>44792.800734</td>\n      <td>3</td>\n      <td>37.35</td>\n      <td>7.78</td>\n      <td>0.1124</td>\n      <td>12.450</td>\n      <td>2.593333</td>\n      <td>0.037467</td>\n      <td>1.0</td>\n      <td>45328.946907</td>\n    </tr>\n    <tr>\n      <th>3061062</th>\n      <td>1400927.0</td>\n      <td>2.0</td>\n      <td>69.0</td>\n      <td>56.0</td>\n      <td>1.400927e+09</td>\n      <td>34619.753000</td>\n      <td>44792.800734</td>\n      <td>3</td>\n      <td>37.35</td>\n      <td>7.78</td>\n      <td>0.1124</td>\n      <td>12.450</td>\n      <td>2.593333</td>\n      <td>0.037467</td>\n      <td>1.0</td>\n      <td>45328.946907</td>\n    </tr>\n    <tr>\n      <th>3061063</th>\n      <td>1400927.0</td>\n      <td>3.0</td>\n      <td>80.0</td>\n      <td>54.0</td>\n      <td>1.400927e+09</td>\n      <td>34619.753000</td>\n      <td>44792.800734</td>\n      <td>3</td>\n      <td>37.35</td>\n      <td>7.78</td>\n      <td>0.1124</td>\n      <td>12.450</td>\n      <td>2.593333</td>\n      <td>0.037467</td>\n      <td>1.0</td>\n      <td>45328.946907</td>\n    </tr>\n  </tbody>\n</table>\n<p>3061064 rows × 16 columns</p>\n</div>"
     },
     "metadata": {},
     "execution_count": 6
    }
   ],
   "source": [
    "p"
   ]
  },
  {
   "source": [
    "## Analysis"
   ],
   "cell_type": "markdown",
   "metadata": {}
  },
  {
   "source": [
    "Total CO2\n",
    "\n",
    "Compare to 6.6 billion tons CO2 equivalent ([EPA](https://www.epa.gov/ghgemissions/inventory-us-greenhouse-gas-emissions-and-sinks)), though includes other GHGs."
   ],
   "cell_type": "markdown",
   "metadata": {}
  },
  {
   "cell_type": "code",
   "execution_count": 4,
   "metadata": {},
   "outputs": [
    {
     "output_type": "execute_result",
     "data": {
      "text/plain": [
       "6.884031485652741"
      ]
     },
     "metadata": {},
     "execution_count": 4
    }
   ],
   "source": [
    "total_co2 / 1e9"
   ]
  },
  {
   "cell_type": "code",
   "execution_count": 5,
   "metadata": {},
   "outputs": [
    {
     "output_type": "execute_result",
     "data": {
      "text/plain": [
       "0.1532896866553634"
      ]
     },
     "metadata": {},
     "execution_count": 5
    }
   ],
   "source": [
    "mdf.poverty_rate(p, \"spm_resources\", \"spm_povthreshold\", \"wt\")"
   ]
  },
  {
   "cell_type": "code",
   "execution_count": 6,
   "metadata": {},
   "outputs": [
    {
     "output_type": "execute_result",
     "data": {
      "text/plain": [
       "0.15018853668734483"
      ]
     },
     "metadata": {},
     "execution_count": 6
    }
   ],
   "source": [
    "mdf.poverty_rate(p, \"spm_resources_new\", \"spm_povthreshold\", \"wt\")"
   ]
  },
  {
   "cell_type": "code",
   "execution_count": 10,
   "metadata": {},
   "outputs": [
    {
     "output_type": "execute_result",
     "data": {
      "text/plain": [
       "0.020230649795708655"
      ]
     },
     "metadata": {},
     "execution_count": 10
    }
   ],
   "source": [
    "1 - mdf.poverty_rate(p, \"spm_resources_new\", \"spm_povthreshold\", \"wt\") / mdf.poverty_rate(p, \"spm_resources\", \"spm_povthreshold\", \"wt\")"
   ]
  },
  {
   "cell_type": "code",
   "execution_count": 11,
   "metadata": {},
   "outputs": [
    {
     "output_type": "execute_result",
     "data": {
      "text/plain": [
       "0.024789704725417305"
      ]
     },
     "metadata": {},
     "execution_count": 11
    }
   ],
   "source": [
    "1 - mdf.deep_poverty_rate(p, \"spm_resources_new\", \"spm_povthreshold\", \"wt\") / mdf.deep_poverty_rate(p, \"spm_resources\", \"spm_povthreshold\", \"wt\")"
   ]
  }
 ],
 "metadata": {
  "interpreter": {
   "hash": "4a68920d8e8856d089b03c157a7384bba62e0986489c1fa381bbe538cda0922c"
  },
  "kernelspec": {
   "name": "python3",
   "display_name": "Python 3.7.7 64-bit ('base': conda)"
  },
  "language_info": {
   "codemirror_mode": {
    "name": "ipython",
    "version": 3
   },
   "file_extension": ".py",
   "mimetype": "text/x-python",
   "name": "python",
   "nbconvert_exporter": "python",
   "pygments_lexer": "ipython3",
   "version": "3.7.7"
  }
 },
 "nbformat": 4,
 "nbformat_minor": 4
}