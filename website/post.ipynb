{
 "cells": [
  {
   "cell_type": "markdown",
   "source": [
    "Using data from Kevin Ummel and the American Community Survey Supplemental Poverty Measure research file."
   ],
   "metadata": {}
  },
  {
   "cell_type": "code",
   "execution_count": 4,
   "source": [
    "import numpy as np\n",
    "import pandas as pd\n",
    "import plotly.express as px\n",
    "import microdf as mdf\n",
    "from ubicenter import format_fig\n",
    "import pyreadr\n",
    "\n",
    "cu = pd.read_csv(\"../data/carbon_footprint_2018.csv\")\n",
    "cuid_sporder = pd.DataFrame(\n",
    "    list(pyreadr.read_r(\"../data/CUID-SPORDER.rds\").values())[0]\n",
    ")\n",
    "p = pd.read_csv(\"../data/acs_poverty.csv.gz\")\n"
   ],
   "outputs": [],
   "metadata": {}
  },
  {
   "cell_type": "code",
   "execution_count": 5,
   "source": [
    "# Per Kevin Ummel, serialno is first 13 characters of CUID\n",
    "def cuid2serialno(cuid):\n",
    "    return cuid.str[6:13].astype(int)\n",
    "\n",
    "\n",
    "cuid_sporder[\"serialno\"] = cuid2serialno(cuid_sporder.CUID)\n",
    "cu[\"serialno\"] = cuid2serialno(cu.CUID)\n",
    "# Household dataset formed from the CU dataset.\n",
    "h_co2 = cu.drop(columns=\"CUID\").groupby(\"serialno\").sum().reset_index()\n",
    "# Columns to rename as they're aggregated to household.\n",
    "h_co2_cols = h_co2.columns.drop(\"serialno\")\n",
    "h_co2.rename(\n",
    "    columns=dict(zip(h_co2_cols, [i + \"_hh\" for i in h_co2_cols])),\n",
    "    inplace=True,\n",
    ")\n",
    "# Assign emissions equally across household members.\n",
    "p_per_h = (\n",
    "    p.groupby(\"serialno\")\n",
    "    .size()\n",
    "    .reset_index()\n",
    "    .rename(columns={0: \"people_in_hh\"})\n",
    ")\n",
    "p = p.merge(p_per_h, on=\"serialno\").merge(ch, on=\"serialno\")\n",
    "for i in h_co2:\n",
    "    p[i] = p[i + \"_hh\"] / p.people_in_hh\n",
    "\n",
    "SPMU_COLS = [\"id\", \"povthreshold\", \"resources\"]\n",
    "p[\"person\"] = 1\n",
    "s = (\n",
    "    p.groupby([\"spm_\" + i for i in SPMU_COLS])[[\"person\", \"tco2\"]]\n",
    "    .sum()\n",
    "    .reset_index()\n",
    ")\n",
    "\n",
    "total_co2 = mdf.weighted_sum(p, \"tco2\", \"wt\")\n",
    "total_pop = p.wt.sum()\n",
    "co2_pp = total_co2 / total_pop\n",
    "# s[\"co2\"] =\n",
    "# s[\"dividend\"] = s.credits * co2_per_credit * PRICE\n",
    "# s[\"spm_resources_new\"] = s.spm_resources + s.dividend - s.co2_tax\n",
    "# # Merge back to person.\n",
    "# p = p.merge(s[[\"spm_id\", \"spm_resources_new\"]], on=\"spm_id\")\n"
   ],
   "outputs": [],
   "metadata": {}
  },
  {
   "cell_type": "code",
   "execution_count": 31,
   "source": [
    "p[\"age_group\"] = np.where(p.age < 18, \"Child\", \"Adult\")"
   ],
   "outputs": [],
   "metadata": {}
  },
  {
   "cell_type": "code",
   "execution_count": 45,
   "source": [
    "def carbon_dividend(price):\n",
    "    def pov_metrics(p):\n",
    "        poverty = mdf.poverty_rate(\n",
    "            p, \"spm_resources_new\", \"spm_povthreshold\", \"wt\",\n",
    "        )\n",
    "        deep_poverty = mdf.deep_poverty_rate(\n",
    "            p, \"spm_resources_new\", \"spm_povthreshold\", \"wt\",\n",
    "        )\n",
    "        return pd.Series(dict(poverty=poverty, deep_poverty=deep_poverty))\n",
    "\n",
    "    dividend = co2_pp * price\n",
    "    s[\"dividend\"] = s.person * dividend\n",
    "    s[\"co2_tax\"] = s.tco2 * price\n",
    "    s[\"spm_resources_new\"] = s.spm_resources + s.dividend - s.co2_tax\n",
    "    p2 = p.merge(s[[\"spm_id\", \"spm_resources_new\"]], on=\"spm_id\")\n",
    "    pov_overall = pd.DataFrame(pov_metrics(p2)).T\n",
    "    pov_overall[\"age_group\"] = \"All\"\n",
    "    pov_age = p2.groupby(\"age_group\").apply(pov_metrics).reset_index()\n",
    "    res = pd.concat([pov_overall, pov_age], axis=0)\n",
    "    res[\"price\"] = price\n",
    "    return res\n"
   ],
   "outputs": [],
   "metadata": {}
  },
  {
   "cell_type": "code",
   "execution_count": 49,
   "source": [
    "carbon_price = pd.concat(\n",
    "    [carbon_dividend(i) for i in np.arange(0, 15, 5)]\n",
    ").reset_index(drop=True)\n",
    "base_poverty = carbon_price[carbon_price.price == 0].rename(\n",
    "    columns={\"poverty\": \"base_poverty\", \"deep_poverty\": \"base_deep_poverty\"}\n",
    ")\n",
    "carbon_price = carbon_price.merge(base_poverty, on=\"age_group\")\n",
    "carbon_price[\"poverty_chg\"] = (\n",
    "    carbon_price.poverty / carbon_price.base_poverty - 1\n",
    ")\n",
    "carbon_price[\"deep_poverty_chg\"] = (\n",
    "    carbon_price.deep_poverty / carbon_price.base_deep_poverty - 1\n",
    ")\n",
    "carbon_price\n"
   ],
   "outputs": [],
   "metadata": {}
  },
  {
   "cell_type": "code",
   "execution_count": 18,
   "source": [
    "fig = px.line(\n",
    "    carbon_price,\n",
    "    \"price\",\n",
    "    \"poverty_rate_chg\",\n",
    "    title=\"Carbon dividend poverty impact\",\n",
    "    labels=dict(price=\"Carbon price\", poverty_rate_chg=\"Change to poverty rate\"),\n",
    ")\n",
    "fig.update_layout(xaxis_tickformat=\"$\", yaxis_tickformat=\"%\")\n",
    "format_fig(fig)\n"
   ],
   "outputs": [
    {
     "output_type": "display_data",
     "data": {
      "application/vnd.plotly.v1+json": {
       "config": {
        "displayModeBar": false,
        "plotlyServerURL": "https://plot.ly"
       },
       "data": [
        {
         "hovertemplate": "Carbon price=%{x}<br>Change to poverty rate=%{y}<extra></extra>",
         "legendgroup": "",
         "line": {
          "color": "#636efa",
          "dash": "solid"
         },
         "mode": "lines",
         "name": "",
         "orientation": "v",
         "showlegend": false,
         "type": "scatter",
         "x": [
          0,
          5,
          10,
          15,
          20,
          25,
          30,
          35,
          40,
          45,
          50,
          55,
          60,
          65,
          70,
          75,
          80,
          85,
          90,
          95
         ],
         "xaxis": "x",
         "y": [
          0,
          -0.00792152543738911,
          -0.016090541042334316,
          -0.024983360605298266,
          -0.03332996395046561,
          -0.04088447608774759,
          -0.04845258433914945,
          -0.05654131131229012,
          -0.06436831819993838,
          -0.0721844277510062,
          -0.0799607098880798,
          -0.08772413194127116,
          -0.09491310283892185,
          -0.10236587924107288,
          -0.10969199710641986,
          -0.1173219932336741,
          -0.12408273764974997,
          -0.1313473560996482,
          -0.1380406310772332,
          -0.14509355905254429
         ],
         "yaxis": "y"
        }
       ],
       "layout": {
        "font": {
         "family": "Roboto"
        },
        "height": 600,
        "hoverlabel": {
         "align": "right"
        },
        "images": [
         {
          "sizex": 0.12,
          "sizey": 0.12,
          "source": "https://raw.githubusercontent.com/UBICenter/blog/master/jb/_static/ubi_center_logo_wide_blue.png",
          "x": 0.98,
          "xanchor": "right",
          "xref": "paper",
          "y": -0.12,
          "yanchor": "bottom",
          "yref": "paper"
         }
        ],
        "legend": {
         "tracegroupgap": 0
        },
        "paper_bgcolor": "white",
        "plot_bgcolor": "white",
        "template": {
         "data": {
          "bar": [
           {
            "error_x": {
             "color": "#2a3f5f"
            },
            "error_y": {
             "color": "#2a3f5f"
            },
            "marker": {
             "line": {
              "color": "#E5ECF6",
              "width": 0.5
             }
            },
            "type": "bar"
           }
          ],
          "barpolar": [
           {
            "marker": {
             "line": {
              "color": "#E5ECF6",
              "width": 0.5
             }
            },
            "type": "barpolar"
           }
          ],
          "carpet": [
           {
            "aaxis": {
             "endlinecolor": "#2a3f5f",
             "gridcolor": "white",
             "linecolor": "white",
             "minorgridcolor": "white",
             "startlinecolor": "#2a3f5f"
            },
            "baxis": {
             "endlinecolor": "#2a3f5f",
             "gridcolor": "white",
             "linecolor": "white",
             "minorgridcolor": "white",
             "startlinecolor": "#2a3f5f"
            },
            "type": "carpet"
           }
          ],
          "choropleth": [
           {
            "colorbar": {
             "outlinewidth": 0,
             "ticks": ""
            },
            "type": "choropleth"
           }
          ],
          "contour": [
           {
            "colorbar": {
             "outlinewidth": 0,
             "ticks": ""
            },
            "colorscale": [
             [
              0,
              "#0d0887"
             ],
             [
              0.1111111111111111,
              "#46039f"
             ],
             [
              0.2222222222222222,
              "#7201a8"
             ],
             [
              0.3333333333333333,
              "#9c179e"
             ],
             [
              0.4444444444444444,
              "#bd3786"
             ],
             [
              0.5555555555555556,
              "#d8576b"
             ],
             [
              0.6666666666666666,
              "#ed7953"
             ],
             [
              0.7777777777777778,
              "#fb9f3a"
             ],
             [
              0.8888888888888888,
              "#fdca26"
             ],
             [
              1,
              "#f0f921"
             ]
            ],
            "type": "contour"
           }
          ],
          "contourcarpet": [
           {
            "colorbar": {
             "outlinewidth": 0,
             "ticks": ""
            },
            "type": "contourcarpet"
           }
          ],
          "heatmap": [
           {
            "colorbar": {
             "outlinewidth": 0,
             "ticks": ""
            },
            "colorscale": [
             [
              0,
              "#0d0887"
             ],
             [
              0.1111111111111111,
              "#46039f"
             ],
             [
              0.2222222222222222,
              "#7201a8"
             ],
             [
              0.3333333333333333,
              "#9c179e"
             ],
             [
              0.4444444444444444,
              "#bd3786"
             ],
             [
              0.5555555555555556,
              "#d8576b"
             ],
             [
              0.6666666666666666,
              "#ed7953"
             ],
             [
              0.7777777777777778,
              "#fb9f3a"
             ],
             [
              0.8888888888888888,
              "#fdca26"
             ],
             [
              1,
              "#f0f921"
             ]
            ],
            "type": "heatmap"
           }
          ],
          "heatmapgl": [
           {
            "colorbar": {
             "outlinewidth": 0,
             "ticks": ""
            },
            "colorscale": [
             [
              0,
              "#0d0887"
             ],
             [
              0.1111111111111111,
              "#46039f"
             ],
             [
              0.2222222222222222,
              "#7201a8"
             ],
             [
              0.3333333333333333,
              "#9c179e"
             ],
             [
              0.4444444444444444,
              "#bd3786"
             ],
             [
              0.5555555555555556,
              "#d8576b"
             ],
             [
              0.6666666666666666,
              "#ed7953"
             ],
             [
              0.7777777777777778,
              "#fb9f3a"
             ],
             [
              0.8888888888888888,
              "#fdca26"
             ],
             [
              1,
              "#f0f921"
             ]
            ],
            "type": "heatmapgl"
           }
          ],
          "histogram": [
           {
            "marker": {
             "colorbar": {
              "outlinewidth": 0,
              "ticks": ""
             }
            },
            "type": "histogram"
           }
          ],
          "histogram2d": [
           {
            "colorbar": {
             "outlinewidth": 0,
             "ticks": ""
            },
            "colorscale": [
             [
              0,
              "#0d0887"
             ],
             [
              0.1111111111111111,
              "#46039f"
             ],
             [
              0.2222222222222222,
              "#7201a8"
             ],
             [
              0.3333333333333333,
              "#9c179e"
             ],
             [
              0.4444444444444444,
              "#bd3786"
             ],
             [
              0.5555555555555556,
              "#d8576b"
             ],
             [
              0.6666666666666666,
              "#ed7953"
             ],
             [
              0.7777777777777778,
              "#fb9f3a"
             ],
             [
              0.8888888888888888,
              "#fdca26"
             ],
             [
              1,
              "#f0f921"
             ]
            ],
            "type": "histogram2d"
           }
          ],
          "histogram2dcontour": [
           {
            "colorbar": {
             "outlinewidth": 0,
             "ticks": ""
            },
            "colorscale": [
             [
              0,
              "#0d0887"
             ],
             [
              0.1111111111111111,
              "#46039f"
             ],
             [
              0.2222222222222222,
              "#7201a8"
             ],
             [
              0.3333333333333333,
              "#9c179e"
             ],
             [
              0.4444444444444444,
              "#bd3786"
             ],
             [
              0.5555555555555556,
              "#d8576b"
             ],
             [
              0.6666666666666666,
              "#ed7953"
             ],
             [
              0.7777777777777778,
              "#fb9f3a"
             ],
             [
              0.8888888888888888,
              "#fdca26"
             ],
             [
              1,
              "#f0f921"
             ]
            ],
            "type": "histogram2dcontour"
           }
          ],
          "mesh3d": [
           {
            "colorbar": {
             "outlinewidth": 0,
             "ticks": ""
            },
            "type": "mesh3d"
           }
          ],
          "parcoords": [
           {
            "line": {
             "colorbar": {
              "outlinewidth": 0,
              "ticks": ""
             }
            },
            "type": "parcoords"
           }
          ],
          "pie": [
           {
            "automargin": true,
            "type": "pie"
           }
          ],
          "scatter": [
           {
            "marker": {
             "colorbar": {
              "outlinewidth": 0,
              "ticks": ""
             }
            },
            "type": "scatter"
           }
          ],
          "scatter3d": [
           {
            "line": {
             "colorbar": {
              "outlinewidth": 0,
              "ticks": ""
             }
            },
            "marker": {
             "colorbar": {
              "outlinewidth": 0,
              "ticks": ""
             }
            },
            "type": "scatter3d"
           }
          ],
          "scattercarpet": [
           {
            "marker": {
             "colorbar": {
              "outlinewidth": 0,
              "ticks": ""
             }
            },
            "type": "scattercarpet"
           }
          ],
          "scattergeo": [
           {
            "marker": {
             "colorbar": {
              "outlinewidth": 0,
              "ticks": ""
             }
            },
            "type": "scattergeo"
           }
          ],
          "scattergl": [
           {
            "marker": {
             "colorbar": {
              "outlinewidth": 0,
              "ticks": ""
             }
            },
            "type": "scattergl"
           }
          ],
          "scattermapbox": [
           {
            "marker": {
             "colorbar": {
              "outlinewidth": 0,
              "ticks": ""
             }
            },
            "type": "scattermapbox"
           }
          ],
          "scatterpolar": [
           {
            "marker": {
             "colorbar": {
              "outlinewidth": 0,
              "ticks": ""
             }
            },
            "type": "scatterpolar"
           }
          ],
          "scatterpolargl": [
           {
            "marker": {
             "colorbar": {
              "outlinewidth": 0,
              "ticks": ""
             }
            },
            "type": "scatterpolargl"
           }
          ],
          "scatterternary": [
           {
            "marker": {
             "colorbar": {
              "outlinewidth": 0,
              "ticks": ""
             }
            },
            "type": "scatterternary"
           }
          ],
          "surface": [
           {
            "colorbar": {
             "outlinewidth": 0,
             "ticks": ""
            },
            "colorscale": [
             [
              0,
              "#0d0887"
             ],
             [
              0.1111111111111111,
              "#46039f"
             ],
             [
              0.2222222222222222,
              "#7201a8"
             ],
             [
              0.3333333333333333,
              "#9c179e"
             ],
             [
              0.4444444444444444,
              "#bd3786"
             ],
             [
              0.5555555555555556,
              "#d8576b"
             ],
             [
              0.6666666666666666,
              "#ed7953"
             ],
             [
              0.7777777777777778,
              "#fb9f3a"
             ],
             [
              0.8888888888888888,
              "#fdca26"
             ],
             [
              1,
              "#f0f921"
             ]
            ],
            "type": "surface"
           }
          ],
          "table": [
           {
            "cells": {
             "fill": {
              "color": "#EBF0F8"
             },
             "line": {
              "color": "white"
             }
            },
            "header": {
             "fill": {
              "color": "#C8D4E3"
             },
             "line": {
              "color": "white"
             }
            },
            "type": "table"
           }
          ]
         },
         "layout": {
          "annotationdefaults": {
           "arrowcolor": "#2a3f5f",
           "arrowhead": 0,
           "arrowwidth": 1
          },
          "autotypenumbers": "strict",
          "coloraxis": {
           "colorbar": {
            "outlinewidth": 0,
            "ticks": ""
           }
          },
          "colorscale": {
           "diverging": [
            [
             0,
             "#8e0152"
            ],
            [
             0.1,
             "#c51b7d"
            ],
            [
             0.2,
             "#de77ae"
            ],
            [
             0.3,
             "#f1b6da"
            ],
            [
             0.4,
             "#fde0ef"
            ],
            [
             0.5,
             "#f7f7f7"
            ],
            [
             0.6,
             "#e6f5d0"
            ],
            [
             0.7,
             "#b8e186"
            ],
            [
             0.8,
             "#7fbc41"
            ],
            [
             0.9,
             "#4d9221"
            ],
            [
             1,
             "#276419"
            ]
           ],
           "sequential": [
            [
             0,
             "#0d0887"
            ],
            [
             0.1111111111111111,
             "#46039f"
            ],
            [
             0.2222222222222222,
             "#7201a8"
            ],
            [
             0.3333333333333333,
             "#9c179e"
            ],
            [
             0.4444444444444444,
             "#bd3786"
            ],
            [
             0.5555555555555556,
             "#d8576b"
            ],
            [
             0.6666666666666666,
             "#ed7953"
            ],
            [
             0.7777777777777778,
             "#fb9f3a"
            ],
            [
             0.8888888888888888,
             "#fdca26"
            ],
            [
             1,
             "#f0f921"
            ]
           ],
           "sequentialminus": [
            [
             0,
             "#0d0887"
            ],
            [
             0.1111111111111111,
             "#46039f"
            ],
            [
             0.2222222222222222,
             "#7201a8"
            ],
            [
             0.3333333333333333,
             "#9c179e"
            ],
            [
             0.4444444444444444,
             "#bd3786"
            ],
            [
             0.5555555555555556,
             "#d8576b"
            ],
            [
             0.6666666666666666,
             "#ed7953"
            ],
            [
             0.7777777777777778,
             "#fb9f3a"
            ],
            [
             0.8888888888888888,
             "#fdca26"
            ],
            [
             1,
             "#f0f921"
            ]
           ]
          },
          "colorway": [
           "#636efa",
           "#EF553B",
           "#00cc96",
           "#ab63fa",
           "#FFA15A",
           "#19d3f3",
           "#FF6692",
           "#B6E880",
           "#FF97FF",
           "#FECB52"
          ],
          "font": {
           "color": "#2a3f5f"
          },
          "geo": {
           "bgcolor": "white",
           "lakecolor": "white",
           "landcolor": "#E5ECF6",
           "showlakes": true,
           "showland": true,
           "subunitcolor": "white"
          },
          "hoverlabel": {
           "align": "left"
          },
          "hovermode": "closest",
          "mapbox": {
           "style": "light"
          },
          "paper_bgcolor": "white",
          "plot_bgcolor": "#E5ECF6",
          "polar": {
           "angularaxis": {
            "gridcolor": "white",
            "linecolor": "white",
            "ticks": ""
           },
           "bgcolor": "#E5ECF6",
           "radialaxis": {
            "gridcolor": "white",
            "linecolor": "white",
            "ticks": ""
           }
          },
          "scene": {
           "xaxis": {
            "backgroundcolor": "#E5ECF6",
            "gridcolor": "white",
            "gridwidth": 2,
            "linecolor": "white",
            "showbackground": true,
            "ticks": "",
            "zerolinecolor": "white"
           },
           "yaxis": {
            "backgroundcolor": "#E5ECF6",
            "gridcolor": "white",
            "gridwidth": 2,
            "linecolor": "white",
            "showbackground": true,
            "ticks": "",
            "zerolinecolor": "white"
           },
           "zaxis": {
            "backgroundcolor": "#E5ECF6",
            "gridcolor": "white",
            "gridwidth": 2,
            "linecolor": "white",
            "showbackground": true,
            "ticks": "",
            "zerolinecolor": "white"
           }
          },
          "shapedefaults": {
           "line": {
            "color": "#2a3f5f"
           }
          },
          "ternary": {
           "aaxis": {
            "gridcolor": "white",
            "linecolor": "white",
            "ticks": ""
           },
           "baxis": {
            "gridcolor": "white",
            "linecolor": "white",
            "ticks": ""
           },
           "bgcolor": "#E5ECF6",
           "caxis": {
            "gridcolor": "white",
            "linecolor": "white",
            "ticks": ""
           }
          },
          "title": {
           "x": 0.05
          },
          "xaxis": {
           "automargin": true,
           "gridcolor": "white",
           "linecolor": "white",
           "ticks": "",
           "title": {
            "standoff": 15
           },
           "zerolinecolor": "white",
           "zerolinewidth": 2
          },
          "yaxis": {
           "automargin": true,
           "gridcolor": "white",
           "linecolor": "white",
           "ticks": "",
           "title": {
            "standoff": 15
           },
           "zerolinecolor": "white",
           "zerolinewidth": 2
          }
         }
        },
        "title": {
         "font": {
          "size": 20
         },
         "text": "Carbon dividend poverty impact"
        },
        "width": 800,
        "xaxis": {
         "anchor": "y",
         "domain": [
          0,
          1
         ],
         "tickfont": {
          "size": 14
         },
         "tickformat": "$",
         "title": {
          "font": {
           "color": "black",
           "size": 16
          },
          "text": "Carbon price"
         }
        },
        "yaxis": {
         "anchor": "x",
         "domain": [
          0,
          1
         ],
         "tickfont": {
          "size": 14
         },
         "tickformat": "%",
         "title": {
          "font": {
           "color": "black",
           "size": 16
          },
          "text": "Change to poverty rate"
         }
        }
       }
      }
     },
     "metadata": {}
    }
   ],
   "metadata": {}
  },
  {
   "cell_type": "code",
   "execution_count": 8,
   "source": [
    "mdf.poverty_rate(p, \"spm_resources\", \"spm_povthreshold\", \"wt\")"
   ],
   "outputs": [
    {
     "output_type": "execute_result",
     "data": {
      "text/plain": [
       "0.1532896866553634"
      ]
     },
     "metadata": {},
     "execution_count": 8
    }
   ],
   "metadata": {}
  },
  {
   "cell_type": "code",
   "execution_count": 6,
   "source": [
    "p"
   ],
   "outputs": [
    {
     "output_type": "execute_result",
     "data": {
      "text/plain": [
       "          serialno  sporder     wt   age        spm_id  spm_povthreshold  \\\n",
       "0              1.0      1.0   95.0  31.0  1.001000e+03      13257.998717   \n",
       "1              2.0      1.0   64.0  69.0  2.001000e+03      15260.377969   \n",
       "2              2.0      2.0   65.0  71.0  2.001000e+03      15260.377969   \n",
       "3              3.0      1.0   19.0  58.0  3.001000e+03      15946.591880   \n",
       "4              3.0      2.0   17.0  59.0  3.001000e+03      15946.591880   \n",
       "...            ...      ...    ...   ...           ...               ...   \n",
       "3061059  1400926.0      2.0  126.0  66.0  1.400926e+09      25706.194000   \n",
       "3061060  1400926.0      3.0  112.0  42.0  1.400926e+09      25706.194000   \n",
       "3061061  1400927.0      1.0   93.0  27.0  1.400927e+09      34619.753000   \n",
       "3061062  1400927.0      2.0   69.0  56.0  1.400927e+09      34619.753000   \n",
       "3061063  1400927.0      3.0   80.0  54.0  1.400927e+09      34619.753000   \n",
       "\n",
       "         spm_resources  people_in_hh  tco2_hh  tco2_direct_hh  \\\n",
       "0         84922.922400             1    55.80           15.08   \n",
       "1         98005.314955             2    68.60           23.55   \n",
       "2         98005.314955             2    68.60           23.55   \n",
       "3         41795.643698             2    30.23           16.52   \n",
       "4         41795.643698             2    30.23           16.52   \n",
       "...                ...           ...      ...             ...   \n",
       "3061059   97274.729642             3    86.40           39.80   \n",
       "3061060   97274.729642             3    86.40           39.80   \n",
       "3061061   44792.800734             3    37.35            7.78   \n",
       "3061062   44792.800734             3    37.35            7.78   \n",
       "3061063   44792.800734             3    37.35            7.78   \n",
       "\n",
       "         invest_assets_hh    tco2  tco2_direct  invest_assets  credits  \\\n",
       "0                  0.4840  55.800    15.080000       0.484000      1.0   \n",
       "1                  1.0080  34.300    11.775000       0.504000      1.0   \n",
       "2                  1.0080  34.300    11.775000       0.504000      1.0   \n",
       "3                  0.7650  15.115     8.260000       0.382500      1.0   \n",
       "4                  0.7650  15.115     8.260000       0.382500      1.0   \n",
       "...                   ...     ...          ...            ...      ...   \n",
       "3061059            0.4790  28.800    13.266667       0.159667      1.0   \n",
       "3061060            0.4790  28.800    13.266667       0.159667      1.0   \n",
       "3061061            0.1124  12.450     2.593333       0.037467      1.0   \n",
       "3061062            0.1124  12.450     2.593333       0.037467      1.0   \n",
       "3061063            0.1124  12.450     2.593333       0.037467      1.0   \n",
       "\n",
       "         spm_resources_new  \n",
       "0             84451.387791  \n",
       "1             97707.245737  \n",
       "2             97707.245737  \n",
       "3             42073.124480  \n",
       "4             42073.124480  \n",
       "...                    ...  \n",
       "3061059       97075.125815  \n",
       "3061060       97075.125815  \n",
       "3061061       45328.946907  \n",
       "3061062       45328.946907  \n",
       "3061063       45328.946907  \n",
       "\n",
       "[3061064 rows x 16 columns]"
      ],
      "text/html": [
       "<div>\n",
       "<style scoped>\n",
       "    .dataframe tbody tr th:only-of-type {\n",
       "        vertical-align: middle;\n",
       "    }\n",
       "\n",
       "    .dataframe tbody tr th {\n",
       "        vertical-align: top;\n",
       "    }\n",
       "\n",
       "    .dataframe thead th {\n",
       "        text-align: right;\n",
       "    }\n",
       "</style>\n",
       "<table border=\"1\" class=\"dataframe\">\n",
       "  <thead>\n",
       "    <tr style=\"text-align: right;\">\n",
       "      <th></th>\n",
       "      <th>serialno</th>\n",
       "      <th>sporder</th>\n",
       "      <th>wt</th>\n",
       "      <th>age</th>\n",
       "      <th>spm_id</th>\n",
       "      <th>spm_povthreshold</th>\n",
       "      <th>spm_resources</th>\n",
       "      <th>people_in_hh</th>\n",
       "      <th>tco2_hh</th>\n",
       "      <th>tco2_direct_hh</th>\n",
       "      <th>invest_assets_hh</th>\n",
       "      <th>tco2</th>\n",
       "      <th>tco2_direct</th>\n",
       "      <th>invest_assets</th>\n",
       "      <th>credits</th>\n",
       "      <th>spm_resources_new</th>\n",
       "    </tr>\n",
       "  </thead>\n",
       "  <tbody>\n",
       "    <tr>\n",
       "      <th>0</th>\n",
       "      <td>1.0</td>\n",
       "      <td>1.0</td>\n",
       "      <td>95.0</td>\n",
       "      <td>31.0</td>\n",
       "      <td>1.001000e+03</td>\n",
       "      <td>13257.998717</td>\n",
       "      <td>84922.922400</td>\n",
       "      <td>1</td>\n",
       "      <td>55.80</td>\n",
       "      <td>15.08</td>\n",
       "      <td>0.4840</td>\n",
       "      <td>55.800</td>\n",
       "      <td>15.080000</td>\n",
       "      <td>0.484000</td>\n",
       "      <td>1.0</td>\n",
       "      <td>84451.387791</td>\n",
       "    </tr>\n",
       "    <tr>\n",
       "      <th>1</th>\n",
       "      <td>2.0</td>\n",
       "      <td>1.0</td>\n",
       "      <td>64.0</td>\n",
       "      <td>69.0</td>\n",
       "      <td>2.001000e+03</td>\n",
       "      <td>15260.377969</td>\n",
       "      <td>98005.314955</td>\n",
       "      <td>2</td>\n",
       "      <td>68.60</td>\n",
       "      <td>23.55</td>\n",
       "      <td>1.0080</td>\n",
       "      <td>34.300</td>\n",
       "      <td>11.775000</td>\n",
       "      <td>0.504000</td>\n",
       "      <td>1.0</td>\n",
       "      <td>97707.245737</td>\n",
       "    </tr>\n",
       "    <tr>\n",
       "      <th>2</th>\n",
       "      <td>2.0</td>\n",
       "      <td>2.0</td>\n",
       "      <td>65.0</td>\n",
       "      <td>71.0</td>\n",
       "      <td>2.001000e+03</td>\n",
       "      <td>15260.377969</td>\n",
       "      <td>98005.314955</td>\n",
       "      <td>2</td>\n",
       "      <td>68.60</td>\n",
       "      <td>23.55</td>\n",
       "      <td>1.0080</td>\n",
       "      <td>34.300</td>\n",
       "      <td>11.775000</td>\n",
       "      <td>0.504000</td>\n",
       "      <td>1.0</td>\n",
       "      <td>97707.245737</td>\n",
       "    </tr>\n",
       "    <tr>\n",
       "      <th>3</th>\n",
       "      <td>3.0</td>\n",
       "      <td>1.0</td>\n",
       "      <td>19.0</td>\n",
       "      <td>58.0</td>\n",
       "      <td>3.001000e+03</td>\n",
       "      <td>15946.591880</td>\n",
       "      <td>41795.643698</td>\n",
       "      <td>2</td>\n",
       "      <td>30.23</td>\n",
       "      <td>16.52</td>\n",
       "      <td>0.7650</td>\n",
       "      <td>15.115</td>\n",
       "      <td>8.260000</td>\n",
       "      <td>0.382500</td>\n",
       "      <td>1.0</td>\n",
       "      <td>42073.124480</td>\n",
       "    </tr>\n",
       "    <tr>\n",
       "      <th>4</th>\n",
       "      <td>3.0</td>\n",
       "      <td>2.0</td>\n",
       "      <td>17.0</td>\n",
       "      <td>59.0</td>\n",
       "      <td>3.001000e+03</td>\n",
       "      <td>15946.591880</td>\n",
       "      <td>41795.643698</td>\n",
       "      <td>2</td>\n",
       "      <td>30.23</td>\n",
       "      <td>16.52</td>\n",
       "      <td>0.7650</td>\n",
       "      <td>15.115</td>\n",
       "      <td>8.260000</td>\n",
       "      <td>0.382500</td>\n",
       "      <td>1.0</td>\n",
       "      <td>42073.124480</td>\n",
       "    </tr>\n",
       "    <tr>\n",
       "      <th>...</th>\n",
       "      <td>...</td>\n",
       "      <td>...</td>\n",
       "      <td>...</td>\n",
       "      <td>...</td>\n",
       "      <td>...</td>\n",
       "      <td>...</td>\n",
       "      <td>...</td>\n",
       "      <td>...</td>\n",
       "      <td>...</td>\n",
       "      <td>...</td>\n",
       "      <td>...</td>\n",
       "      <td>...</td>\n",
       "      <td>...</td>\n",
       "      <td>...</td>\n",
       "      <td>...</td>\n",
       "      <td>...</td>\n",
       "    </tr>\n",
       "    <tr>\n",
       "      <th>3061059</th>\n",
       "      <td>1400926.0</td>\n",
       "      <td>2.0</td>\n",
       "      <td>126.0</td>\n",
       "      <td>66.0</td>\n",
       "      <td>1.400926e+09</td>\n",
       "      <td>25706.194000</td>\n",
       "      <td>97274.729642</td>\n",
       "      <td>3</td>\n",
       "      <td>86.40</td>\n",
       "      <td>39.80</td>\n",
       "      <td>0.4790</td>\n",
       "      <td>28.800</td>\n",
       "      <td>13.266667</td>\n",
       "      <td>0.159667</td>\n",
       "      <td>1.0</td>\n",
       "      <td>97075.125815</td>\n",
       "    </tr>\n",
       "    <tr>\n",
       "      <th>3061060</th>\n",
       "      <td>1400926.0</td>\n",
       "      <td>3.0</td>\n",
       "      <td>112.0</td>\n",
       "      <td>42.0</td>\n",
       "      <td>1.400926e+09</td>\n",
       "      <td>25706.194000</td>\n",
       "      <td>97274.729642</td>\n",
       "      <td>3</td>\n",
       "      <td>86.40</td>\n",
       "      <td>39.80</td>\n",
       "      <td>0.4790</td>\n",
       "      <td>28.800</td>\n",
       "      <td>13.266667</td>\n",
       "      <td>0.159667</td>\n",
       "      <td>1.0</td>\n",
       "      <td>97075.125815</td>\n",
       "    </tr>\n",
       "    <tr>\n",
       "      <th>3061061</th>\n",
       "      <td>1400927.0</td>\n",
       "      <td>1.0</td>\n",
       "      <td>93.0</td>\n",
       "      <td>27.0</td>\n",
       "      <td>1.400927e+09</td>\n",
       "      <td>34619.753000</td>\n",
       "      <td>44792.800734</td>\n",
       "      <td>3</td>\n",
       "      <td>37.35</td>\n",
       "      <td>7.78</td>\n",
       "      <td>0.1124</td>\n",
       "      <td>12.450</td>\n",
       "      <td>2.593333</td>\n",
       "      <td>0.037467</td>\n",
       "      <td>1.0</td>\n",
       "      <td>45328.946907</td>\n",
       "    </tr>\n",
       "    <tr>\n",
       "      <th>3061062</th>\n",
       "      <td>1400927.0</td>\n",
       "      <td>2.0</td>\n",
       "      <td>69.0</td>\n",
       "      <td>56.0</td>\n",
       "      <td>1.400927e+09</td>\n",
       "      <td>34619.753000</td>\n",
       "      <td>44792.800734</td>\n",
       "      <td>3</td>\n",
       "      <td>37.35</td>\n",
       "      <td>7.78</td>\n",
       "      <td>0.1124</td>\n",
       "      <td>12.450</td>\n",
       "      <td>2.593333</td>\n",
       "      <td>0.037467</td>\n",
       "      <td>1.0</td>\n",
       "      <td>45328.946907</td>\n",
       "    </tr>\n",
       "    <tr>\n",
       "      <th>3061063</th>\n",
       "      <td>1400927.0</td>\n",
       "      <td>3.0</td>\n",
       "      <td>80.0</td>\n",
       "      <td>54.0</td>\n",
       "      <td>1.400927e+09</td>\n",
       "      <td>34619.753000</td>\n",
       "      <td>44792.800734</td>\n",
       "      <td>3</td>\n",
       "      <td>37.35</td>\n",
       "      <td>7.78</td>\n",
       "      <td>0.1124</td>\n",
       "      <td>12.450</td>\n",
       "      <td>2.593333</td>\n",
       "      <td>0.037467</td>\n",
       "      <td>1.0</td>\n",
       "      <td>45328.946907</td>\n",
       "    </tr>\n",
       "  </tbody>\n",
       "</table>\n",
       "<p>3061064 rows × 16 columns</p>\n",
       "</div>"
      ]
     },
     "metadata": {},
     "execution_count": 6
    }
   ],
   "metadata": {}
  },
  {
   "cell_type": "markdown",
   "source": [
    "## Analysis"
   ],
   "metadata": {}
  },
  {
   "cell_type": "markdown",
   "source": [
    "Total CO2\n",
    "\n",
    "Compare to 6.6 billion tons CO2 equivalent ([EPA](https://www.epa.gov/ghgemissions/inventory-us-greenhouse-gas-emissions-and-sinks)), though includes other GHGs."
   ],
   "metadata": {}
  },
  {
   "cell_type": "code",
   "execution_count": 4,
   "source": [
    "total_co2 / 1e9"
   ],
   "outputs": [
    {
     "output_type": "execute_result",
     "data": {
      "text/plain": [
       "6.884031485652741"
      ]
     },
     "metadata": {},
     "execution_count": 4
    }
   ],
   "metadata": {}
  },
  {
   "cell_type": "code",
   "execution_count": 5,
   "source": [
    "mdf.poverty_rate(p, \"spm_resources\", \"spm_povthreshold\", \"wt\")"
   ],
   "outputs": [
    {
     "output_type": "execute_result",
     "data": {
      "text/plain": [
       "0.1532896866553634"
      ]
     },
     "metadata": {},
     "execution_count": 5
    }
   ],
   "metadata": {}
  },
  {
   "cell_type": "code",
   "execution_count": 6,
   "source": [
    "mdf.poverty_rate(p, \"spm_resources_new\", \"spm_povthreshold\", \"wt\")"
   ],
   "outputs": [
    {
     "output_type": "execute_result",
     "data": {
      "text/plain": [
       "0.15018853668734483"
      ]
     },
     "metadata": {},
     "execution_count": 6
    }
   ],
   "metadata": {}
  },
  {
   "cell_type": "code",
   "execution_count": 10,
   "source": [
    "1 - mdf.poverty_rate(p, \"spm_resources_new\", \"spm_povthreshold\", \"wt\") / mdf.poverty_rate(p, \"spm_resources\", \"spm_povthreshold\", \"wt\")"
   ],
   "outputs": [
    {
     "output_type": "execute_result",
     "data": {
      "text/plain": [
       "0.020230649795708655"
      ]
     },
     "metadata": {},
     "execution_count": 10
    }
   ],
   "metadata": {}
  },
  {
   "cell_type": "code",
   "execution_count": 11,
   "source": [
    "1 - mdf.deep_poverty_rate(p, \"spm_resources_new\", \"spm_povthreshold\", \"wt\") / mdf.deep_poverty_rate(p, \"spm_resources\", \"spm_povthreshold\", \"wt\")"
   ],
   "outputs": [
    {
     "output_type": "execute_result",
     "data": {
      "text/plain": [
       "0.024789704725417305"
      ]
     },
     "metadata": {},
     "execution_count": 11
    }
   ],
   "metadata": {}
  }
 ],
 "metadata": {
  "interpreter": {
   "hash": "4a68920d8e8856d089b03c157a7384bba62e0986489c1fa381bbe538cda0922c"
  },
  "kernelspec": {
   "name": "python3",
   "display_name": "Python 3.7.7 64-bit ('base': conda)"
  },
  "language_info": {
   "codemirror_mode": {
    "name": "ipython",
    "version": 3
   },
   "file_extension": ".py",
   "mimetype": "text/x-python",
   "name": "python",
   "nbconvert_exporter": "python",
   "pygments_lexer": "ipython3",
   "version": "3.7.7"
  }
 },
 "nbformat": 4,
 "nbformat_minor": 4
}